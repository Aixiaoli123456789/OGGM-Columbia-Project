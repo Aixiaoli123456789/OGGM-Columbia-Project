{
 "cells": [
  {
   "cell_type": "markdown",
   "metadata": {},
   "source": [
    "##### This notebook allows Glen's A to vary to optimize modeled ice thickness by minimizing the quadratic error between observed and modeled ice thickness (following height change corrections and in situ mass balance inversion)\n",
    "\n",
    "### named MONSTER by M. Zeuner (Mega Organized Numerical Script Transformation Executing Rapidly)\n",
    "\n",
    "## Imports"
   ]
  },
  {
   "cell_type": "code",
   "execution_count": 11,
   "metadata": {},
   "outputs": [],
   "source": [
    "%matplotlib inline\n",
    "import numpy as np\n",
    "import xarray as xr\n",
    "import geopandas as gpd\n",
    "import matplotlib.pyplot as plt\n",
    "from oggm import utils, workflow, tasks, graphics\n",
    "\n",
    "import os\n",
    "import pandas as pd\n",
    "import salem\n",
    "import xarray as xr\n",
    "import oggm\n",
    "from oggm.workflow import execute_entity_task, gis_prepro_tasks, climate_tasks\n",
    "\n",
    "import oggm.cfg as cfg # could that cause problems?\n",
    "import gdal\n",
    "from PIL import Image as imagery\n",
    "import datetime"
   ]
  },
  {
   "cell_type": "markdown",
   "metadata": {},
   "source": [
    "## Select the glacier by setting num to:\n",
    "\n",
    "- 0 for Kokanee\n",
    "- 1 for Haig\n",
    "- 2 for Conrad\n",
    "- 3 for W. Washmawapta (no DEM correction available)\n",
    "- 4 for Illecillewaet (not supported in this version of the script due to shapefile reasons)\n",
    "- 5 for Nordic (not supported in this version of the script due to shapefile reasons)\n",
    "- 6 for Zillmer\n"
   ]
  },
  {
   "cell_type": "code",
   "execution_count": 12,
   "metadata": {},
   "outputs": [
    {
     "name": "stdout",
     "output_type": "stream",
     "text": [
      "You selected:  Zillmer\n"
     ]
    }
   ],
   "source": [
    "# Here the num variable is set:\n",
    "num=6\n",
    "errors_list = []\n",
    "# A list with all the glacier names\n",
    "glacier = ['Kokanee', 'Haig', 'Conrad', 'Washmawapta', 'Illecillewaet', 'Nordic', 'Zillmer']\n",
    "glacier_lower = ['kokanee', 'haig', 'conrad', 'washmawapta', 'illecillewaet', 'nordic', 'zillmer']\n",
    "obs_num = [442,387,824,187,820,461,483] #number of grid cells with obs\n",
    "thick = [48.1, 115.4, 99.7, 69.3, 101.4, 47.6, 67.5]\n",
    "\n",
    "# Just confirm that the correct one is selected for this run of the script\n",
    "print('You selected: ' , glacier[num])"
   ]
  },
  {
   "cell_type": "markdown",
   "metadata": {},
   "source": [
    "### File names settings"
   ]
  },
  {
   "cell_type": "code",
   "execution_count": 13,
   "metadata": {},
   "outputs": [
    {
     "data": {
      "text/plain": [
       "6"
      ]
     },
     "execution_count": 13,
     "metadata": {},
     "output_type": "execute_result"
    }
   ],
   "source": [
    "# list with the names in the Randolf Glacier invetory (according to the glacier names above)\n",
    "rgi_list = ['RGI60-02.00147', 'RGI60-02.01857', 'RGI60-02.02171', 'RGI60-02.03688', 'RGI60-02.04264', 'RGI60-02.07780']\n",
    "\n",
    "# list with the names Lidar data (according to the glacier names above)\n",
    "dem = ['kokanee/20160913_kokanee_dem1_clip_slave.tif', 'haig/20150912_haig_dem_master_clip.tif', 'conrad/20160912_conrad_dem1_clip_slave.tif', 'not_assigned', \n",
    "       'illecillewaet/170917_illecillewaet_dem1_clip_slave.tif', 'nordic/20170927_nordic_dem1_clip_slave.tif', 'zillmer/160914_zillmer_dem2.tif']\n",
    "\n",
    "#products_directory (where the graphs and some numbers are saved for later usage)\n",
    "products= '/home/pelto/oggm_runs/products_opt/' + glacier[num] + '/'\n",
    "\n",
    "# moved best value here to avoid iterating over multiple glen's A values \n",
    "best_value = 6.740e-24, 0.774e-24, 8.095e-24, 0.142e-24, 4.050e-24, 0.130e-24, 3.810e-24  \n",
    "best_value = best_value[num]\n",
    "# best_value = 5.08e-24  #2.4e-24\n",
    "\n",
    "count=0\n",
    "\n",
    "sr = 47., 71., 101., 151., 201., 251. #31., 51., \n",
    "\n",
    "dfb = 0.25 #np.arange(0.0, 1.0, 0.05) # the exponent of the distance from border mask default=0.25\n",
    "len(sr)"
   ]
  },
  {
   "cell_type": "markdown",
   "metadata": {},
   "source": [
    "## A function to run the OGGM using mass-balance correction and (if wished) the Lidar-DEM \n",
    "\n",
    "This is also a function that runs the OGGM on the selected glacier and returns a thickness map for it. It uses the mass-balance correction.\n",
    "\n",
    "In difference to the function above, this version does not use the SRTM DEM to run it but the more precise Lidar DEM which yields results closer to reality.\n"
   ]
  },
  {
   "cell_type": "code",
   "execution_count": 14,
   "metadata": {},
   "outputs": [
    {
     "name": "stderr",
     "output_type": "stream",
     "text": [
      "2019-11-23 14:16:01: oggm.cfg: Using configuration file: /home/pelto/anaconda2/envs/oggm_env/lib/python3.6/site-packages/oggm/params.cfg\n",
      "2019-11-23 14:16:02: oggm.workflow: Execute entity task define_glacier_region on 1 glaciers\n",
      "2019-11-23 14:16:03: oggm.workflow: Multiprocessing: using all available processors (N=8)\n",
      "/home/pelto/anaconda2/envs/oggm_env/lib/python3.6/site-packages/geopandas/io/file.py:108: FionaDeprecationWarning: Use fiona.Env() instead.\n",
      "  with fiona.drivers():\n",
      "2019-11-23 14:16:03: oggm.workflow: Execute entity task glacier_masks on 1 glaciers\n",
      "2019-11-23 14:16:03: oggm.workflow: Execute entity task compute_centerlines on 1 glaciers\n",
      "2019-11-23 14:16:03: oggm.workflow: Execute entity task initialize_flowlines on 1 glaciers\n",
      "2019-11-23 14:16:03: oggm.workflow: Execute entity task compute_downstream_line on 1 glaciers\n",
      "2019-11-23 14:16:03: oggm.workflow: Execute entity task compute_downstream_bedshape on 1 glaciers\n",
      "2019-11-23 14:16:03: oggm.workflow: Execute entity task catchment_area on 1 glaciers\n",
      "2019-11-23 14:16:03: oggm.workflow: Execute entity task catchment_intersections on 1 glaciers\n",
      "/home/pelto/anaconda2/envs/oggm_env/lib/python3.6/site-packages/geopandas/io/file.py:108: FionaDeprecationWarning: Use fiona.Env() instead.\n",
      "  with fiona.drivers():\n",
      "2019-11-23 14:16:04: oggm.workflow: Execute entity task catchment_width_geom on 1 glaciers\n",
      "2019-11-23 14:16:04: oggm.workflow: Execute entity task catchment_width_correction on 1 glaciers\n",
      "2019-11-23 14:16:04: oggm.workflow: Execute entity task process_cru_data on 1 glaciers\n",
      "2019-11-23 14:16:04: oggm.workflow: Execute entity task local_t_star on 1 glaciers\n",
      "2019-11-23 14:16:05: oggm.workflow: Execute entity task mu_star_calibration on 1 glaciers\n",
      "2019-11-23 14:16:05: oggm.workflow: Execute entity task prepare_for_inversion on 1 glaciers\n",
      "2019-11-23 14:16:05: oggm.workflow: Execute entity task mass_conservation_inversion on 1 glaciers\n",
      "2019-11-23 14:16:05: oggm.workflow: Execute entity task filter_inversion_output on 1 glaciers\n",
      "2019-11-23 14:16:05: oggm.workflow: Execute entity task distribute_thickness_per_altitude on 1 glaciers\n",
      "2019-11-23 14:16:05: oggm.workflow: Execute entity task distribute_thickness_per_altitude on 1 glaciers\n"
     ]
    },
    {
     "name": "stdout",
     "output_type": "stream",
     "text": [
      "slope: 0.363928    intercept: 2460.945896   R-squared: 0.995941\n"
     ]
    },
    {
     "name": "stderr",
     "output_type": "stream",
     "text": [
      "2019-11-23 14:16:05: oggm.workflow: Execute entity task apparent_mb_from_linear_mb on 1 glaciers\n",
      "2019-11-23 14:16:05: oggm.workflow: Execute entity task glacier_statistics on 1 glaciers\n",
      "2019-11-23 14:16:06: oggm.cfg: Using configuration file: /home/pelto/anaconda2/envs/oggm_env/lib/python3.6/site-packages/oggm/params.cfg\n"
     ]
    },
    {
     "name": "stdout",
     "output_type": "stream",
     "text": [
      "{'ela_h': 2333.9206261155123, 'grad': 7.92}\n",
      "slope default: 0.363928    intercept: 2460.945896   R-squared: 0.995941\n",
      "slope: 0.126263    intercept: 2333.920626   R-squared: 1.000000\n",
      "<oggm.GlacierDirectory>\n",
      "  RGI id: RGI60-02.07780\n",
      "  Region: 02: Western Canada and US\n",
      "  Subregion: 02-03: N Rocky Mtns                    \n",
      "  Glacier type: Glacier\n",
      "  Terminus type: Land-terminating\n",
      "  Area: 6.485 km2\n",
      "  Lon, Lat: (-119.580934267502, 52.67048480925819)\n",
      "  Grid (nx, ny): (107, 107)\n",
      "  Grid (dx, dy): (46.0, -46.0)\n",
      "\n"
     ]
    },
    {
     "name": "stderr",
     "output_type": "stream",
     "text": [
      "2019-11-23 14:16:07: oggm.cfg: Using configuration file: /home/pelto/anaconda2/envs/oggm_env/lib/python3.6/site-packages/oggm/params.cfg\n",
      "2019-11-23 14:16:07: oggm.workflow: Execute entity task define_glacier_region on 1 glaciers\n"
     ]
    },
    {
     "name": "stdout",
     "output_type": "stream",
     "text": [
      "/home/pelto/Desktop/lidar_cbt_analysis/zillmer/160914_zillmer_dem2.tif\n"
     ]
    },
    {
     "name": "stderr",
     "output_type": "stream",
     "text": [
      "2019-11-23 14:16:07: oggm.workflow: Multiprocessing: using all available processors (N=8)\n",
      "/home/pelto/anaconda2/envs/oggm_env/lib/python3.6/site-packages/geopandas/io/file.py:108: FionaDeprecationWarning: Use fiona.Env() instead.\n",
      "  with fiona.drivers():\n",
      "2019-11-23 14:16:08: oggm.workflow: Execute entity task glacier_masks on 1 glaciers\n",
      "2019-11-23 14:16:09: oggm.workflow: Execute entity task compute_centerlines on 1 glaciers\n",
      "2019-11-23 14:16:09: oggm.workflow: Execute entity task initialize_flowlines on 1 glaciers\n",
      "2019-11-23 14:16:09: oggm.workflow: Execute entity task compute_downstream_line on 1 glaciers\n",
      "2019-11-23 14:16:09: oggm.workflow: Execute entity task compute_downstream_bedshape on 1 glaciers\n",
      "2019-11-23 14:16:09: oggm.workflow: Execute entity task catchment_area on 1 glaciers\n",
      "2019-11-23 14:16:10: oggm.workflow: Execute entity task catchment_intersections on 1 glaciers\n",
      "/home/pelto/anaconda2/envs/oggm_env/lib/python3.6/site-packages/geopandas/io/file.py:108: FionaDeprecationWarning: Use fiona.Env() instead.\n",
      "  with fiona.drivers():\n",
      "2019-11-23 14:16:10: oggm.workflow: Execute entity task catchment_width_geom on 1 glaciers\n",
      "2019-11-23 14:16:10: oggm.workflow: Execute entity task catchment_width_correction on 1 glaciers\n",
      "2019-11-23 14:16:10: oggm.workflow: Execute entity task process_cru_data on 1 glaciers\n",
      "2019-11-23 14:16:11: oggm.workflow: Execute entity task local_t_star on 1 glaciers\n",
      "2019-11-23 14:16:11: oggm.workflow: Execute entity task mu_star_calibration on 1 glaciers\n",
      "2019-11-23 14:16:11: oggm.workflow: Execute entity task prepare_for_inversion on 1 glaciers\n",
      "2019-11-23 14:16:11: oggm.workflow: Execute entity task mass_conservation_inversion on 1 glaciers\n",
      "2019-11-23 14:16:11: oggm.workflow: Execute entity task filter_inversion_output on 1 glaciers\n",
      "2019-11-23 14:16:11: oggm.workflow: Execute entity task distribute_thickness_per_altitude on 1 glaciers\n",
      "2019-11-23 14:16:11: oggm.workflow: Execute entity task distribute_thickness_per_altitude on 1 glaciers\n"
     ]
    },
    {
     "name": "stdout",
     "output_type": "stream",
     "text": [
      "slope: 0.364257    intercept: 2467.868579   R-squared: 0.997989\n"
     ]
    },
    {
     "name": "stderr",
     "output_type": "stream",
     "text": [
      "2019-11-23 14:16:11: oggm.workflow: Execute entity task apparent_mb_from_linear_mb on 1 glaciers\n",
      "2019-11-23 14:16:11: oggm.workflow: Execute entity task glacier_statistics on 1 glaciers\n"
     ]
    },
    {
     "name": "stdout",
     "output_type": "stream",
     "text": [
      "{'ela_h': 2337.4625422182744, 'grad': 7.92}\n",
      "slope default: 0.364257    intercept: 2467.868579   R-squared: 0.997989\n",
      "slope: 0.126263    intercept: 2337.462542   R-squared: 1.000000\n",
      "<oggm.GlacierDirectory>\n",
      "  RGI id: RGI60-02.07780\n",
      "  Region: 02: Western Canada and US\n",
      "  Subregion: 02-03: N Rocky Mtns                    \n",
      "  Glacier type: Glacier\n",
      "  Terminus type: Land-terminating\n",
      "  Area: 6.485 km2\n",
      "  Lon, Lat: (-119.580934267502, 52.67048480925819)\n",
      "  Grid (nx, ny): (107, 107)\n",
      "  Grid (dx, dy): (46.0, -46.0)\n",
      "\n"
     ]
    },
    {
     "name": "stderr",
     "output_type": "stream",
     "text": [
      "2019-11-23 14:16:12: oggm.cfg: Using configuration file: /home/pelto/anaconda2/envs/oggm_env/lib/python3.6/site-packages/oggm/params.cfg\n"
     ]
    },
    {
     "name": "stdout",
     "output_type": "stream",
     "text": [
      "Fantanstic, both arrays have the same shape of:  (88, 88)\n"
     ]
    },
    {
     "name": "stderr",
     "output_type": "stream",
     "text": [
      "2019-11-23 14:16:13: oggm.cfg: Using configuration file: /home/pelto/anaconda2/envs/oggm_env/lib/python3.6/site-packages/oggm/params.cfg\n",
      "2019-11-23 14:16:13: oggm.workflow: Execute entity task define_glacier_region on 1 glaciers\n"
     ]
    },
    {
     "name": "stdout",
     "output_type": "stream",
     "text": [
      "/home/pelto/Desktop/lidar_cbt_analysis/zillmer/160914_zillmer_dem2.tif\n"
     ]
    },
    {
     "name": "stderr",
     "output_type": "stream",
     "text": [
      "2019-11-23 14:16:13: oggm.workflow: Multiprocessing: using all available processors (N=8)\n",
      "/home/pelto/anaconda2/envs/oggm_env/lib/python3.6/site-packages/geopandas/io/file.py:108: FionaDeprecationWarning: Use fiona.Env() instead.\n",
      "  with fiona.drivers():\n",
      "2019-11-23 14:16:15: oggm.workflow: Execute entity task glacier_masks on 1 glaciers\n",
      "2019-11-23 14:16:15: oggm.workflow: Execute entity task compute_centerlines on 1 glaciers\n",
      "2019-11-23 14:16:15: oggm.workflow: Execute entity task initialize_flowlines on 1 glaciers\n",
      "2019-11-23 14:16:15: oggm.workflow: Execute entity task compute_downstream_line on 1 glaciers\n",
      "2019-11-23 14:16:15: oggm.workflow: Execute entity task compute_downstream_bedshape on 1 glaciers\n",
      "2019-11-23 14:16:15: oggm.workflow: Execute entity task catchment_area on 1 glaciers\n",
      "2019-11-23 14:16:16: oggm.workflow: Execute entity task catchment_intersections on 1 glaciers\n",
      "/home/pelto/anaconda2/envs/oggm_env/lib/python3.6/site-packages/geopandas/io/file.py:108: FionaDeprecationWarning: Use fiona.Env() instead.\n",
      "  with fiona.drivers():\n",
      "2019-11-23 14:16:16: oggm.workflow: Execute entity task catchment_width_geom on 1 glaciers\n",
      "2019-11-23 14:16:16: oggm.workflow: Execute entity task catchment_width_correction on 1 glaciers\n",
      "2019-11-23 14:16:16: oggm.workflow: Execute entity task process_cru_data on 1 glaciers\n",
      "2019-11-23 14:16:17: oggm.workflow: Execute entity task local_t_star on 1 glaciers\n",
      "2019-11-23 14:16:17: oggm.workflow: Execute entity task mu_star_calibration on 1 glaciers\n",
      "2019-11-23 14:16:17: oggm.workflow: Execute entity task prepare_for_inversion on 1 glaciers\n",
      "2019-11-23 14:16:17: oggm.workflow: Execute entity task mass_conservation_inversion on 1 glaciers\n",
      "2019-11-23 14:16:17: oggm.workflow: Execute entity task filter_inversion_output on 1 glaciers\n",
      "2019-11-23 14:16:17: oggm.workflow: Execute entity task distribute_thickness_per_altitude on 1 glaciers\n",
      "2019-11-23 14:16:17: oggm.workflow: Execute entity task distribute_thickness_per_altitude on 1 glaciers\n"
     ]
    },
    {
     "name": "stdout",
     "output_type": "stream",
     "text": [
      "slope: 0.364257    intercept: 2467.868579   R-squared: 0.997989\n"
     ]
    },
    {
     "name": "stderr",
     "output_type": "stream",
     "text": [
      "2019-11-23 14:16:18: oggm.workflow: Execute entity task apparent_mb_from_linear_mb on 1 glaciers\n",
      "2019-11-23 14:16:18: oggm.workflow: Execute entity task glacier_statistics on 1 glaciers\n"
     ]
    },
    {
     "name": "stdout",
     "output_type": "stream",
     "text": [
      "{'ela_h': 2337.4625422182744, 'grad': 7.92}\n",
      "slope default: 0.364257    intercept: 2467.868579   R-squared: 0.997989\n",
      "slope: 0.126263    intercept: 2337.462542   R-squared: 1.000000\n",
      "<oggm.GlacierDirectory>\n",
      "  RGI id: RGI60-02.07780\n",
      "  Region: 02: Western Canada and US\n",
      "  Subregion: 02-03: N Rocky Mtns                    \n",
      "  Glacier type: Glacier\n",
      "  Terminus type: Land-terminating\n",
      "  Area: 6.485 km2\n",
      "  Lon, Lat: (-119.580934267502, 52.67048480925819)\n",
      "  Grid (nx, ny): (107, 107)\n",
      "  Grid (dx, dy): (46.0, -46.0)\n",
      "\n",
      "found  1  problem(s) within a total number of data point of:  483  problem share  0.01029109148985388\n",
      "corrected quadratic error is:  826607.2190763424\n"
     ]
    },
    {
     "data": {
      "image/png": "[encoded data removed]",
      "text/plain": [
       "<Figure size 432x288 with 4 Axes>"
      ]
     },
     "metadata": {
      "needs_background": "light"
     },
     "output_type": "display_data"
    },
    {
     "name": "stderr",
     "output_type": "stream",
     "text": [
      "2019-11-23 14:16:18: oggm.cfg: Using configuration file: /home/pelto/anaconda2/envs/oggm_env/lib/python3.6/site-packages/oggm/params.cfg\n"
     ]
    },
    {
     "name": "stdout",
     "output_type": "stream",
     "text": [
      "Minimal value is 826607.2190763424 at inversion_glen_a = 3.81e-24\n",
      "obs grid cells count: 483\n",
      "dfb exponent:         0.25\n",
      "smoothing window (m): 47.0\n",
      "smoothing radius (m): 47.0\n"
     ]
    },
    {
     "name": "stderr",
     "output_type": "stream",
     "text": [
      "2019-11-23 14:16:19: oggm.workflow: Execute entity task glacier_masks on 1 glaciers\n",
      "2019-11-23 14:16:19: oggm.workflow: Multiprocessing: using all available processors (N=8)\n",
      "2019-11-23 14:16:19: oggm.workflow: Execute entity task compute_centerlines on 1 glaciers\n",
      "2019-11-23 14:16:19: oggm.workflow: Execute entity task initialize_flowlines on 1 glaciers\n",
      "2019-11-23 14:16:20: oggm.workflow: Execute entity task compute_downstream_line on 1 glaciers\n",
      "2019-11-23 14:16:20: oggm.workflow: Execute entity task compute_downstream_bedshape on 1 glaciers\n",
      "2019-11-23 14:16:20: oggm.workflow: Execute entity task catchment_area on 1 glaciers\n",
      "2019-11-23 14:16:20: oggm.workflow: Execute entity task catchment_intersections on 1 glaciers\n",
      "/home/pelto/anaconda2/envs/oggm_env/lib/python3.6/site-packages/geopandas/io/file.py:108: FionaDeprecationWarning: Use fiona.Env() instead.\n",
      "  with fiona.drivers():\n",
      "2019-11-23 14:16:20: oggm.workflow: Execute entity task catchment_width_geom on 1 glaciers\n",
      "2019-11-23 14:16:21: oggm.workflow: Execute entity task catchment_width_correction on 1 glaciers\n",
      "2019-11-23 14:16:21: oggm.workflow: Execute entity task process_cru_data on 1 glaciers\n",
      "2019-11-23 14:16:21: oggm.workflow: Execute entity task local_t_star on 1 glaciers\n",
      "2019-11-23 14:16:21: oggm.workflow: Execute entity task mu_star_calibration on 1 glaciers\n",
      "2019-11-23 14:16:21: oggm.workflow: Execute entity task prepare_for_inversion on 1 glaciers\n",
      "2019-11-23 14:16:21: oggm.workflow: Execute entity task mass_conservation_inversion on 1 glaciers\n",
      "2019-11-23 14:16:21: oggm.workflow: Execute entity task filter_inversion_output on 1 glaciers\n",
      "2019-11-23 14:16:21: oggm.workflow: Execute entity task distribute_thickness_per_altitude on 1 glaciers\n",
      "2019-11-23 14:16:22: oggm.workflow: Execute entity task distribute_thickness_per_altitude on 1 glaciers\n"
     ]
    },
    {
     "name": "stdout",
     "output_type": "stream",
     "text": [
      "slope: 0.363928    intercept: 2460.945896   R-squared: 0.995941\n"
     ]
    },
    {
     "name": "stderr",
     "output_type": "stream",
     "text": [
      "2019-11-23 14:16:22: oggm.workflow: Execute entity task apparent_mb_from_linear_mb on 1 glaciers\n",
      "2019-11-23 14:16:22: oggm.workflow: Execute entity task glacier_statistics on 1 glaciers\n"
     ]
    },
    {
     "name": "stdout",
     "output_type": "stream",
     "text": [
      "{'ela_h': 2333.9206261155123, 'grad': 7.92}\n",
      "slope default: 0.363928    intercept: 2460.945896   R-squared: 0.995941\n",
      "slope: 0.126263    intercept: 2333.920626   R-squared: 1.000000\n",
      "parameter value: 3.81e-24\n",
      "\n",
      "glacier total volume: rgi_id\n",
      "RGI60-02.07780    0.395619\n",
      "Name: inv_volume_km3, dtype: float64 km^3 \n",
      " \n",
      " \n",
      "\n",
      "mean thickness value: 64.05931353375314 m \n",
      "\n",
      "<oggm.GlacierDirectory>\n",
      "  RGI id: RGI60-02.07780\n",
      "  Region: 02: Western Canada and US\n",
      "  Subregion: 02-03: N Rocky Mtns                    \n",
      "  Glacier type: Glacier\n",
      "  Terminus type: Land-terminating\n",
      "  Area: 6.485 km2\n",
      "  Lon, Lat: (-119.580934267502, 52.67048480925819)\n",
      "  Grid (nx, ny): (107, 107)\n",
      "  Grid (dx, dy): (46.0, -46.0)\n",
      "\n"
     ]
    },
    {
     "name": "stderr",
     "output_type": "stream",
     "text": [
      "2019-11-23 14:16:22: oggm.cfg: Using configuration file: /home/pelto/anaconda2/envs/oggm_env/lib/python3.6/site-packages/oggm/params.cfg\n",
      "2019-11-23 14:16:23: oggm.workflow: Execute entity task glacier_masks on 1 glaciers\n",
      "2019-11-23 14:16:23: oggm.workflow: Multiprocessing: using all available processors (N=8)\n",
      "2019-11-23 14:16:24: oggm.workflow: Execute entity task compute_centerlines on 1 glaciers\n",
      "2019-11-23 14:16:24: oggm.workflow: Execute entity task initialize_flowlines on 1 glaciers\n",
      "2019-11-23 14:16:24: oggm.workflow: Execute entity task compute_downstream_line on 1 glaciers\n",
      "2019-11-23 14:16:24: oggm.workflow: Execute entity task compute_downstream_bedshape on 1 glaciers\n",
      "2019-11-23 14:16:24: oggm.workflow: Execute entity task catchment_area on 1 glaciers\n",
      "2019-11-23 14:16:24: oggm.workflow: Execute entity task catchment_intersections on 1 glaciers\n",
      "/home/pelto/anaconda2/envs/oggm_env/lib/python3.6/site-packages/geopandas/io/file.py:108: FionaDeprecationWarning: Use fiona.Env() instead.\n",
      "  with fiona.drivers():\n",
      "2019-11-23 14:16:24: oggm.workflow: Execute entity task catchment_width_geom on 1 glaciers\n",
      "2019-11-23 14:16:25: oggm.workflow: Execute entity task catchment_width_correction on 1 glaciers\n",
      "2019-11-23 14:16:25: oggm.workflow: Execute entity task process_cru_data on 1 glaciers\n",
      "2019-11-23 14:16:25: oggm.workflow: Execute entity task local_t_star on 1 glaciers\n",
      "2019-11-23 14:16:25: oggm.workflow: Execute entity task mu_star_calibration on 1 glaciers\n",
      "2019-11-23 14:16:25: oggm.workflow: Execute entity task prepare_for_inversion on 1 glaciers\n",
      "2019-11-23 14:16:25: oggm.workflow: Execute entity task mass_conservation_inversion on 1 glaciers\n",
      "2019-11-23 14:16:25: oggm.workflow: Execute entity task filter_inversion_output on 1 glaciers\n",
      "2019-11-23 14:16:25: oggm.workflow: Execute entity task distribute_thickness_per_altitude on 1 glaciers\n",
      "2019-11-23 14:16:26: oggm.workflow: Execute entity task distribute_thickness_per_altitude on 1 glaciers\n"
     ]
    },
    {
     "name": "stdout",
     "output_type": "stream",
     "text": [
      "slope: 0.363928    intercept: 2460.945896   R-squared: 0.995941\n"
     ]
    },
    {
     "name": "stderr",
     "output_type": "stream",
     "text": [
      "2019-11-23 14:16:26: oggm.workflow: Execute entity task apparent_mb_from_linear_mb on 1 glaciers\n",
      "2019-11-23 14:16:26: oggm.workflow: Execute entity task glacier_statistics on 1 glaciers\n",
      "2019-11-23 14:16:26: oggm.cfg: Using configuration file: /home/pelto/anaconda2/envs/oggm_env/lib/python3.6/site-packages/oggm/params.cfg\n"
     ]
    },
    {
     "name": "stdout",
     "output_type": "stream",
     "text": [
      "{'ela_h': 2333.9206261155123, 'grad': 7.92}\n",
      "slope default: 0.363928    intercept: 2460.945896   R-squared: 0.995941\n",
      "slope: 0.126263    intercept: 2333.920626   R-squared: 1.000000\n",
      "<oggm.GlacierDirectory>\n",
      "  RGI id: RGI60-02.07780\n",
      "  Region: 02: Western Canada and US\n",
      "  Subregion: 02-03: N Rocky Mtns                    \n",
      "  Glacier type: Glacier\n",
      "  Terminus type: Land-terminating\n",
      "  Area: 6.485 km2\n",
      "  Lon, Lat: (-119.580934267502, 52.67048480925819)\n",
      "  Grid (nx, ny): (107, 107)\n",
      "  Grid (dx, dy): (46.0, -46.0)\n",
      "\n"
     ]
    },
    {
     "name": "stderr",
     "output_type": "stream",
     "text": [
      "2019-11-23 14:16:27: oggm.cfg: Using configuration file: /home/pelto/anaconda2/envs/oggm_env/lib/python3.6/site-packages/oggm/params.cfg\n",
      "2019-11-23 14:16:27: oggm.workflow: Execute entity task define_glacier_region on 1 glaciers\n"
     ]
    },
    {
     "name": "stdout",
     "output_type": "stream",
     "text": [
      "/home/pelto/Desktop/lidar_cbt_analysis/zillmer/160914_zillmer_dem2.tif\n"
     ]
    },
    {
     "name": "stderr",
     "output_type": "stream",
     "text": [
      "2019-11-23 14:16:28: oggm.workflow: Multiprocessing: using all available processors (N=8)\n",
      "/home/pelto/anaconda2/envs/oggm_env/lib/python3.6/site-packages/geopandas/io/file.py:108: FionaDeprecationWarning: Use fiona.Env() instead.\n",
      "  with fiona.drivers():\n",
      "2019-11-23 14:16:29: oggm.workflow: Execute entity task glacier_masks on 1 glaciers\n",
      "2019-11-23 14:16:29: oggm.workflow: Execute entity task compute_centerlines on 1 glaciers\n",
      "2019-11-23 14:16:29: oggm.workflow: Execute entity task initialize_flowlines on 1 glaciers\n",
      "2019-11-23 14:16:29: oggm.workflow: Execute entity task compute_downstream_line on 1 glaciers\n",
      "2019-11-23 14:16:29: oggm.workflow: Execute entity task compute_downstream_bedshape on 1 glaciers\n",
      "2019-11-23 14:16:29: oggm.workflow: Execute entity task catchment_area on 1 glaciers\n",
      "2019-11-23 14:16:30: oggm.workflow: Execute entity task catchment_intersections on 1 glaciers\n",
      "/home/pelto/anaconda2/envs/oggm_env/lib/python3.6/site-packages/geopandas/io/file.py:108: FionaDeprecationWarning: Use fiona.Env() instead.\n",
      "  with fiona.drivers():\n",
      "2019-11-23 14:16:30: oggm.workflow: Execute entity task catchment_width_geom on 1 glaciers\n",
      "2019-11-23 14:16:31: oggm.workflow: Execute entity task catchment_width_correction on 1 glaciers\n",
      "2019-11-23 14:16:31: oggm.workflow: Execute entity task process_cru_data on 1 glaciers\n",
      "2019-11-23 14:16:31: oggm.workflow: Execute entity task local_t_star on 1 glaciers\n",
      "2019-11-23 14:16:31: oggm.workflow: Execute entity task mu_star_calibration on 1 glaciers\n",
      "2019-11-23 14:16:31: oggm.workflow: Execute entity task prepare_for_inversion on 1 glaciers\n",
      "2019-11-23 14:16:31: oggm.workflow: Execute entity task mass_conservation_inversion on 1 glaciers\n",
      "2019-11-23 14:16:31: oggm.workflow: Execute entity task filter_inversion_output on 1 glaciers\n",
      "2019-11-23 14:16:31: oggm.workflow: Execute entity task distribute_thickness_per_altitude on 1 glaciers\n",
      "2019-11-23 14:16:32: oggm.workflow: Execute entity task distribute_thickness_per_altitude on 1 glaciers\n"
     ]
    },
    {
     "name": "stdout",
     "output_type": "stream",
     "text": [
      "slope: 0.364873    intercept: 2466.917308   R-squared: 0.998025\n"
     ]
    },
    {
     "name": "stderr",
     "output_type": "stream",
     "text": [
      "2019-11-23 14:16:32: oggm.workflow: Execute entity task apparent_mb_from_linear_mb on 1 glaciers\n",
      "2019-11-23 14:16:32: oggm.workflow: Execute entity task glacier_statistics on 1 glaciers\n"
     ]
    },
    {
     "name": "stdout",
     "output_type": "stream",
     "text": [
      "{'ela_h': 2336.325310361338, 'grad': 7.92}\n",
      "slope default: 0.364873    intercept: 2466.917308   R-squared: 0.998025\n",
      "slope: 0.126263    intercept: 2336.325310   R-squared: 1.000000\n",
      "<oggm.GlacierDirectory>\n",
      "  RGI id: RGI60-02.07780\n",
      "  Region: 02: Western Canada and US\n",
      "  Subregion: 02-03: N Rocky Mtns                    \n",
      "  Glacier type: Glacier\n",
      "  Terminus type: Land-terminating\n",
      "  Area: 6.485 km2\n",
      "  Lon, Lat: (-119.580934267502, 52.67048480925819)\n",
      "  Grid (nx, ny): (107, 107)\n",
      "  Grid (dx, dy): (46.0, -46.0)\n",
      "\n"
     ]
    },
    {
     "name": "stderr",
     "output_type": "stream",
     "text": [
      "2019-11-23 14:16:32: oggm.cfg: Using configuration file: /home/pelto/anaconda2/envs/oggm_env/lib/python3.6/site-packages/oggm/params.cfg\n"
     ]
    },
    {
     "name": "stdout",
     "output_type": "stream",
     "text": [
      "Fantanstic, both arrays have the same shape of:  (88, 88)\n"
     ]
    },
    {
     "name": "stderr",
     "output_type": "stream",
     "text": [
      "2019-11-23 14:16:34: oggm.cfg: Using configuration file: /home/pelto/anaconda2/envs/oggm_env/lib/python3.6/site-packages/oggm/params.cfg\n",
      "2019-11-23 14:16:34: oggm.workflow: Execute entity task define_glacier_region on 1 glaciers\n"
     ]
    },
    {
     "name": "stdout",
     "output_type": "stream",
     "text": [
      "/home/pelto/Desktop/lidar_cbt_analysis/zillmer/160914_zillmer_dem2.tif\n"
     ]
    },
    {
     "name": "stderr",
     "output_type": "stream",
     "text": [
      "2019-11-23 14:16:34: oggm.workflow: Multiprocessing: using all available processors (N=8)\n",
      "/home/pelto/anaconda2/envs/oggm_env/lib/python3.6/site-packages/geopandas/io/file.py:108: FionaDeprecationWarning: Use fiona.Env() instead.\n",
      "  with fiona.drivers():\n",
      "2019-11-23 14:16:35: oggm.workflow: Execute entity task glacier_masks on 1 glaciers\n",
      "2019-11-23 14:16:36: oggm.workflow: Execute entity task compute_centerlines on 1 glaciers\n",
      "2019-11-23 14:16:36: oggm.workflow: Execute entity task initialize_flowlines on 1 glaciers\n",
      "2019-11-23 14:16:36: oggm.workflow: Execute entity task compute_downstream_line on 1 glaciers\n",
      "2019-11-23 14:16:36: oggm.workflow: Execute entity task compute_downstream_bedshape on 1 glaciers\n",
      "2019-11-23 14:16:36: oggm.workflow: Execute entity task catchment_area on 1 glaciers\n",
      "2019-11-23 14:16:36: oggm.workflow: Execute entity task catchment_intersections on 1 glaciers\n",
      "/home/pelto/anaconda2/envs/oggm_env/lib/python3.6/site-packages/geopandas/io/file.py:108: FionaDeprecationWarning: Use fiona.Env() instead.\n",
      "  with fiona.drivers():\n",
      "2019-11-23 14:16:36: oggm.workflow: Execute entity task catchment_width_geom on 1 glaciers\n",
      "2019-11-23 14:16:37: oggm.workflow: Execute entity task catchment_width_correction on 1 glaciers\n",
      "2019-11-23 14:16:37: oggm.workflow: Execute entity task process_cru_data on 1 glaciers\n",
      "2019-11-23 14:16:37: oggm.workflow: Execute entity task local_t_star on 1 glaciers\n",
      "2019-11-23 14:16:37: oggm.workflow: Execute entity task mu_star_calibration on 1 glaciers\n",
      "2019-11-23 14:16:38: oggm.workflow: Execute entity task prepare_for_inversion on 1 glaciers\n",
      "2019-11-23 14:16:38: oggm.workflow: Execute entity task mass_conservation_inversion on 1 glaciers\n",
      "2019-11-23 14:16:38: oggm.workflow: Execute entity task filter_inversion_output on 1 glaciers\n",
      "2019-11-23 14:16:38: oggm.workflow: Execute entity task distribute_thickness_per_altitude on 1 glaciers\n",
      "2019-11-23 14:16:38: oggm.workflow: Execute entity task distribute_thickness_per_altitude on 1 glaciers\n"
     ]
    },
    {
     "name": "stdout",
     "output_type": "stream",
     "text": [
      "slope: 0.364873    intercept: 2466.917308   R-squared: 0.998025\n"
     ]
    },
    {
     "name": "stderr",
     "output_type": "stream",
     "text": [
      "2019-11-23 14:16:38: oggm.workflow: Execute entity task apparent_mb_from_linear_mb on 1 glaciers\n",
      "2019-11-23 14:16:38: oggm.workflow: Execute entity task glacier_statistics on 1 glaciers\n"
     ]
    },
    {
     "name": "stdout",
     "output_type": "stream",
     "text": [
      "{'ela_h': 2336.325310361338, 'grad': 7.92}\n",
      "slope default: 0.364873    intercept: 2466.917308   R-squared: 0.998025\n",
      "slope: 0.126263    intercept: 2336.325310   R-squared: 1.000000\n",
      "<oggm.GlacierDirectory>\n",
      "  RGI id: RGI60-02.07780\n",
      "  Region: 02: Western Canada and US\n",
      "  Subregion: 02-03: N Rocky Mtns                    \n",
      "  Glacier type: Glacier\n",
      "  Terminus type: Land-terminating\n",
      "  Area: 6.485 km2\n",
      "  Lon, Lat: (-119.580934267502, 52.67048480925819)\n",
      "  Grid (nx, ny): (107, 107)\n",
      "  Grid (dx, dy): (46.0, -46.0)\n",
      "\n",
      "found  1  problem(s) within a total number of data point of:  483  problem share  0.009813377664937015\n",
      "corrected quadratic error is:  867264.7509715077\n"
     ]
    },
    {
     "data": {
      "image/png": "[encoded data removed]",
      "text/plain": [
       "<Figure size 432x288 with 6 Axes>"
      ]
     },
     "metadata": {
      "needs_background": "light"
     },
     "output_type": "display_data"
    },
    {
     "name": "stderr",
     "output_type": "stream",
     "text": [
      "2019-11-23 14:16:39: oggm.cfg: Using configuration file: /home/pelto/anaconda2/envs/oggm_env/lib/python3.6/site-packages/oggm/params.cfg\n"
     ]
    },
    {
     "name": "stdout",
     "output_type": "stream",
     "text": [
      "Minimal value is 867264.7509715077 at inversion_glen_a = 3.81e-24\n",
      "obs grid cells count: 483\n",
      "dfb exponent:         0.25\n",
      "smoothing window (m): 71.0\n",
      "smoothing radius (m): 71.0\n"
     ]
    },
    {
     "name": "stderr",
     "output_type": "stream",
     "text": [
      "2019-11-23 14:16:40: oggm.workflow: Execute entity task glacier_masks on 1 glaciers\n",
      "2019-11-23 14:16:40: oggm.workflow: Multiprocessing: using all available processors (N=8)\n",
      "2019-11-23 14:16:40: oggm.workflow: Execute entity task compute_centerlines on 1 glaciers\n",
      "2019-11-23 14:16:40: oggm.workflow: Execute entity task initialize_flowlines on 1 glaciers\n",
      "2019-11-23 14:16:40: oggm.workflow: Execute entity task compute_downstream_line on 1 glaciers\n",
      "2019-11-23 14:16:40: oggm.workflow: Execute entity task compute_downstream_bedshape on 1 glaciers\n",
      "2019-11-23 14:16:40: oggm.workflow: Execute entity task catchment_area on 1 glaciers\n",
      "2019-11-23 14:16:41: oggm.workflow: Execute entity task catchment_intersections on 1 glaciers\n",
      "/home/pelto/anaconda2/envs/oggm_env/lib/python3.6/site-packages/geopandas/io/file.py:108: FionaDeprecationWarning: Use fiona.Env() instead.\n",
      "  with fiona.drivers():\n",
      "2019-11-23 14:16:41: oggm.workflow: Execute entity task catchment_width_geom on 1 glaciers\n",
      "2019-11-23 14:16:41: oggm.workflow: Execute entity task catchment_width_correction on 1 glaciers\n",
      "2019-11-23 14:16:41: oggm.workflow: Execute entity task process_cru_data on 1 glaciers\n",
      "2019-11-23 14:16:42: oggm.workflow: Execute entity task local_t_star on 1 glaciers\n",
      "2019-11-23 14:16:42: oggm.workflow: Execute entity task mu_star_calibration on 1 glaciers\n",
      "2019-11-23 14:16:42: oggm.workflow: Execute entity task prepare_for_inversion on 1 glaciers\n",
      "2019-11-23 14:16:42: oggm.workflow: Execute entity task mass_conservation_inversion on 1 glaciers\n",
      "2019-11-23 14:16:42: oggm.workflow: Execute entity task filter_inversion_output on 1 glaciers\n",
      "2019-11-23 14:16:42: oggm.workflow: Execute entity task distribute_thickness_per_altitude on 1 glaciers\n",
      "2019-11-23 14:16:42: oggm.workflow: Execute entity task distribute_thickness_per_altitude on 1 glaciers\n"
     ]
    },
    {
     "name": "stdout",
     "output_type": "stream",
     "text": [
      "slope: 0.363928    intercept: 2460.945896   R-squared: 0.995941\n"
     ]
    },
    {
     "name": "stderr",
     "output_type": "stream",
     "text": [
      "2019-11-23 14:16:42: oggm.workflow: Execute entity task apparent_mb_from_linear_mb on 1 glaciers\n",
      "2019-11-23 14:16:42: oggm.workflow: Execute entity task glacier_statistics on 1 glaciers\n"
     ]
    },
    {
     "name": "stdout",
     "output_type": "stream",
     "text": [
      "{'ela_h': 2333.9206261155123, 'grad': 7.92}\n",
      "slope default: 0.363928    intercept: 2460.945896   R-squared: 0.995941\n",
      "slope: 0.126263    intercept: 2333.920626   R-squared: 1.000000\n",
      "parameter value: 3.81e-24\n",
      "\n",
      "glacier total volume: rgi_id\n",
      "RGI60-02.07780    0.395619\n",
      "Name: inv_volume_km3, dtype: float64 km^3 \n",
      " \n",
      " \n",
      "\n",
      "mean thickness value: 64.05931353375314 m \n",
      "\n",
      "<oggm.GlacierDirectory>\n",
      "  RGI id: RGI60-02.07780\n",
      "  Region: 02: Western Canada and US\n",
      "  Subregion: 02-03: N Rocky Mtns                    \n",
      "  Glacier type: Glacier\n",
      "  Terminus type: Land-terminating\n",
      "  Area: 6.485 km2\n",
      "  Lon, Lat: (-119.580934267502, 52.67048480925819)\n",
      "  Grid (nx, ny): (107, 107)\n",
      "  Grid (dx, dy): (46.0, -46.0)\n",
      "\n"
     ]
    },
    {
     "name": "stderr",
     "output_type": "stream",
     "text": [
      "2019-11-23 14:16:43: oggm.cfg: Using configuration file: /home/pelto/anaconda2/envs/oggm_env/lib/python3.6/site-packages/oggm/params.cfg\n",
      "2019-11-23 14:16:44: oggm.workflow: Execute entity task glacier_masks on 1 glaciers\n",
      "2019-11-23 14:16:44: oggm.workflow: Multiprocessing: using all available processors (N=8)\n",
      "2019-11-23 14:16:44: oggm.workflow: Execute entity task compute_centerlines on 1 glaciers\n",
      "2019-11-23 14:16:44: oggm.workflow: Execute entity task initialize_flowlines on 1 glaciers\n",
      "2019-11-23 14:16:44: oggm.workflow: Execute entity task compute_downstream_line on 1 glaciers\n",
      "2019-11-23 14:16:44: oggm.workflow: Execute entity task compute_downstream_bedshape on 1 glaciers\n",
      "2019-11-23 14:16:44: oggm.workflow: Execute entity task catchment_area on 1 glaciers\n",
      "2019-11-23 14:16:45: oggm.workflow: Execute entity task catchment_intersections on 1 glaciers\n",
      "/home/pelto/anaconda2/envs/oggm_env/lib/python3.6/site-packages/geopandas/io/file.py:108: FionaDeprecationWarning: Use fiona.Env() instead.\n",
      "  with fiona.drivers():\n",
      "2019-11-23 14:16:45: oggm.workflow: Execute entity task catchment_width_geom on 1 glaciers\n",
      "2019-11-23 14:16:45: oggm.workflow: Execute entity task catchment_width_correction on 1 glaciers\n",
      "2019-11-23 14:16:45: oggm.workflow: Execute entity task process_cru_data on 1 glaciers\n",
      "2019-11-23 14:16:46: oggm.workflow: Execute entity task local_t_star on 1 glaciers\n",
      "2019-11-23 14:16:46: oggm.workflow: Execute entity task mu_star_calibration on 1 glaciers\n",
      "2019-11-23 14:16:46: oggm.workflow: Execute entity task prepare_for_inversion on 1 glaciers\n",
      "2019-11-23 14:16:46: oggm.workflow: Execute entity task mass_conservation_inversion on 1 glaciers\n",
      "2019-11-23 14:16:46: oggm.workflow: Execute entity task filter_inversion_output on 1 glaciers\n",
      "2019-11-23 14:16:46: oggm.workflow: Execute entity task distribute_thickness_per_altitude on 1 glaciers\n",
      "2019-11-23 14:16:46: oggm.workflow: Execute entity task distribute_thickness_per_altitude on 1 glaciers\n"
     ]
    },
    {
     "name": "stdout",
     "output_type": "stream",
     "text": [
      "slope: 0.363928    intercept: 2460.945896   R-squared: 0.995941\n"
     ]
    },
    {
     "name": "stderr",
     "output_type": "stream",
     "text": [
      "2019-11-23 14:16:47: oggm.workflow: Execute entity task apparent_mb_from_linear_mb on 1 glaciers\n",
      "2019-11-23 14:16:47: oggm.workflow: Execute entity task glacier_statistics on 1 glaciers\n",
      "2019-11-23 14:16:47: oggm.cfg: Using configuration file: /home/pelto/anaconda2/envs/oggm_env/lib/python3.6/site-packages/oggm/params.cfg\n"
     ]
    },
    {
     "name": "stdout",
     "output_type": "stream",
     "text": [
      "{'ela_h': 2333.9206261155123, 'grad': 7.92}\n",
      "slope default: 0.363928    intercept: 2460.945896   R-squared: 0.995941\n",
      "slope: 0.126263    intercept: 2333.920626   R-squared: 1.000000\n",
      "<oggm.GlacierDirectory>\n",
      "  RGI id: RGI60-02.07780\n",
      "  Region: 02: Western Canada and US\n",
      "  Subregion: 02-03: N Rocky Mtns                    \n",
      "  Glacier type: Glacier\n",
      "  Terminus type: Land-terminating\n",
      "  Area: 6.485 km2\n",
      "  Lon, Lat: (-119.580934267502, 52.67048480925819)\n",
      "  Grid (nx, ny): (107, 107)\n",
      "  Grid (dx, dy): (46.0, -46.0)\n",
      "\n"
     ]
    },
    {
     "name": "stderr",
     "output_type": "stream",
     "text": [
      "2019-11-23 14:16:48: oggm.cfg: Using configuration file: /home/pelto/anaconda2/envs/oggm_env/lib/python3.6/site-packages/oggm/params.cfg\n",
      "2019-11-23 14:16:48: oggm.workflow: Execute entity task define_glacier_region on 1 glaciers\n"
     ]
    },
    {
     "name": "stdout",
     "output_type": "stream",
     "text": [
      "/home/pelto/Desktop/lidar_cbt_analysis/zillmer/160914_zillmer_dem2.tif\n"
     ]
    },
    {
     "name": "stderr",
     "output_type": "stream",
     "text": [
      "2019-11-23 14:16:48: oggm.workflow: Multiprocessing: using all available processors (N=8)\n",
      "/home/pelto/anaconda2/envs/oggm_env/lib/python3.6/site-packages/geopandas/io/file.py:108: FionaDeprecationWarning: Use fiona.Env() instead.\n",
      "  with fiona.drivers():\n",
      "2019-11-23 14:16:50: oggm.workflow: Execute entity task glacier_masks on 1 glaciers\n",
      "2019-11-23 14:16:50: oggm.workflow: Execute entity task compute_centerlines on 1 glaciers\n",
      "2019-11-23 14:16:50: oggm.workflow: Execute entity task initialize_flowlines on 1 glaciers\n",
      "2019-11-23 14:16:50: oggm.workflow: Execute entity task compute_downstream_line on 1 glaciers\n",
      "2019-11-23 14:16:50: oggm.workflow: Execute entity task compute_downstream_bedshape on 1 glaciers\n",
      "2019-11-23 14:16:50: oggm.workflow: Execute entity task catchment_area on 1 glaciers\n",
      "2019-11-23 14:16:51: oggm.workflow: Execute entity task catchment_intersections on 1 glaciers\n",
      "/home/pelto/anaconda2/envs/oggm_env/lib/python3.6/site-packages/geopandas/io/file.py:108: FionaDeprecationWarning: Use fiona.Env() instead.\n",
      "  with fiona.drivers():\n",
      "2019-11-23 14:16:51: oggm.workflow: Execute entity task catchment_width_geom on 1 glaciers\n",
      "2019-11-23 14:16:51: oggm.workflow: Execute entity task catchment_width_correction on 1 glaciers\n",
      "2019-11-23 14:16:51: oggm.workflow: Execute entity task process_cru_data on 1 glaciers\n",
      "2019-11-23 14:16:52: oggm.workflow: Execute entity task local_t_star on 1 glaciers\n",
      "2019-11-23 14:16:52: oggm.workflow: Execute entity task mu_star_calibration on 1 glaciers\n",
      "2019-11-23 14:16:52: oggm.workflow: Execute entity task prepare_for_inversion on 1 glaciers\n",
      "2019-11-23 14:16:52: oggm.workflow: Execute entity task mass_conservation_inversion on 1 glaciers\n",
      "2019-11-23 14:16:52: oggm.workflow: Execute entity task filter_inversion_output on 1 glaciers\n",
      "2019-11-23 14:16:52: oggm.workflow: Execute entity task distribute_thickness_per_altitude on 1 glaciers\n",
      "2019-11-23 14:16:52: oggm.workflow: Execute entity task distribute_thickness_per_altitude on 1 glaciers\n"
     ]
    },
    {
     "name": "stdout",
     "output_type": "stream",
     "text": [
      "slope: 0.364873    intercept: 2466.917308   R-squared: 0.998025\n"
     ]
    },
    {
     "name": "stderr",
     "output_type": "stream",
     "text": [
      "2019-11-23 14:16:53: oggm.workflow: Execute entity task apparent_mb_from_linear_mb on 1 glaciers\n",
      "2019-11-23 14:16:53: oggm.workflow: Execute entity task glacier_statistics on 1 glaciers\n"
     ]
    },
    {
     "name": "stdout",
     "output_type": "stream",
     "text": [
      "{'ela_h': 2336.325310361338, 'grad': 7.92}\n",
      "slope default: 0.364873    intercept: 2466.917308   R-squared: 0.998025\n",
      "slope: 0.126263    intercept: 2336.325310   R-squared: 1.000000\n",
      "<oggm.GlacierDirectory>\n",
      "  RGI id: RGI60-02.07780\n",
      "  Region: 02: Western Canada and US\n",
      "  Subregion: 02-03: N Rocky Mtns                    \n",
      "  Glacier type: Glacier\n",
      "  Terminus type: Land-terminating\n",
      "  Area: 6.485 km2\n",
      "  Lon, Lat: (-119.580934267502, 52.67048480925819)\n",
      "  Grid (nx, ny): (107, 107)\n",
      "  Grid (dx, dy): (46.0, -46.0)\n",
      "\n"
     ]
    },
    {
     "name": "stderr",
     "output_type": "stream",
     "text": [
      "2019-11-23 14:16:53: oggm.cfg: Using configuration file: /home/pelto/anaconda2/envs/oggm_env/lib/python3.6/site-packages/oggm/params.cfg\n"
     ]
    },
    {
     "name": "stdout",
     "output_type": "stream",
     "text": [
      "Fantanstic, both arrays have the same shape of:  (88, 88)\n"
     ]
    },
    {
     "name": "stderr",
     "output_type": "stream",
     "text": [
      "2019-11-23 14:16:54: oggm.cfg: Using configuration file: /home/pelto/anaconda2/envs/oggm_env/lib/python3.6/site-packages/oggm/params.cfg\n",
      "2019-11-23 14:16:54: oggm.workflow: Execute entity task define_glacier_region on 1 glaciers\n"
     ]
    },
    {
     "name": "stdout",
     "output_type": "stream",
     "text": [
      "/home/pelto/Desktop/lidar_cbt_analysis/zillmer/160914_zillmer_dem2.tif\n"
     ]
    },
    {
     "name": "stderr",
     "output_type": "stream",
     "text": [
      "2019-11-23 14:16:54: oggm.workflow: Multiprocessing: using all available processors (N=8)\n",
      "/home/pelto/anaconda2/envs/oggm_env/lib/python3.6/site-packages/geopandas/io/file.py:108: FionaDeprecationWarning: Use fiona.Env() instead.\n",
      "  with fiona.drivers():\n",
      "2019-11-23 14:16:56: oggm.workflow: Execute entity task glacier_masks on 1 glaciers\n",
      "2019-11-23 14:16:56: oggm.workflow: Execute entity task compute_centerlines on 1 glaciers\n",
      "2019-11-23 14:16:56: oggm.workflow: Execute entity task initialize_flowlines on 1 glaciers\n",
      "2019-11-23 14:16:56: oggm.workflow: Execute entity task compute_downstream_line on 1 glaciers\n",
      "2019-11-23 14:16:56: oggm.workflow: Execute entity task compute_downstream_bedshape on 1 glaciers\n",
      "2019-11-23 14:16:56: oggm.workflow: Execute entity task catchment_area on 1 glaciers\n",
      "2019-11-23 14:16:57: oggm.workflow: Execute entity task catchment_intersections on 1 glaciers\n",
      "/home/pelto/anaconda2/envs/oggm_env/lib/python3.6/site-packages/geopandas/io/file.py:108: FionaDeprecationWarning: Use fiona.Env() instead.\n",
      "  with fiona.drivers():\n",
      "2019-11-23 14:16:57: oggm.workflow: Execute entity task catchment_width_geom on 1 glaciers\n",
      "2019-11-23 14:16:57: oggm.workflow: Execute entity task catchment_width_correction on 1 glaciers\n",
      "2019-11-23 14:16:57: oggm.workflow: Execute entity task process_cru_data on 1 glaciers\n",
      "2019-11-23 14:16:58: oggm.workflow: Execute entity task local_t_star on 1 glaciers\n",
      "2019-11-23 14:16:58: oggm.workflow: Execute entity task mu_star_calibration on 1 glaciers\n",
      "2019-11-23 14:16:58: oggm.workflow: Execute entity task prepare_for_inversion on 1 glaciers\n",
      "2019-11-23 14:16:58: oggm.workflow: Execute entity task mass_conservation_inversion on 1 glaciers\n",
      "2019-11-23 14:16:58: oggm.workflow: Execute entity task filter_inversion_output on 1 glaciers\n",
      "2019-11-23 14:16:58: oggm.workflow: Execute entity task distribute_thickness_per_altitude on 1 glaciers\n",
      "2019-11-23 14:16:59: oggm.workflow: Execute entity task distribute_thickness_per_altitude on 1 glaciers\n"
     ]
    },
    {
     "name": "stdout",
     "output_type": "stream",
     "text": [
      "slope: 0.364873    intercept: 2466.917308   R-squared: 0.998025\n"
     ]
    },
    {
     "name": "stderr",
     "output_type": "stream",
     "text": [
      "2019-11-23 14:16:59: oggm.workflow: Execute entity task apparent_mb_from_linear_mb on 1 glaciers\n",
      "2019-11-23 14:16:59: oggm.workflow: Execute entity task glacier_statistics on 1 glaciers\n"
     ]
    },
    {
     "name": "stdout",
     "output_type": "stream",
     "text": [
      "{'ela_h': 2336.325310361338, 'grad': 7.92}\n",
      "slope default: 0.364873    intercept: 2466.917308   R-squared: 0.998025\n",
      "slope: 0.126263    intercept: 2336.325310   R-squared: 1.000000\n",
      "<oggm.GlacierDirectory>\n",
      "  RGI id: RGI60-02.07780\n",
      "  Region: 02: Western Canada and US\n",
      "  Subregion: 02-03: N Rocky Mtns                    \n",
      "  Glacier type: Glacier\n",
      "  Terminus type: Land-terminating\n",
      "  Area: 6.485 km2\n",
      "  Lon, Lat: (-119.580934267502, 52.67048480925819)\n",
      "  Grid (nx, ny): (107, 107)\n",
      "  Grid (dx, dy): (46.0, -46.0)\n",
      "\n",
      "found  1  problem(s) within a total number of data point of:  483  problem share  0.009458449054842954\n",
      "corrected quadratic error is:  900131.4221701475\n"
     ]
    },
    {
     "data": {
      "image/png": "[encoded data removed]",
      "text/plain": [
       "<Figure size 432x288 with 6 Axes>"
      ]
     },
     "metadata": {
      "needs_background": "light"
     },
     "output_type": "display_data"
    },
    {
     "name": "stderr",
     "output_type": "stream",
     "text": [
      "2019-11-23 14:16:59: oggm.cfg: Using configuration file: /home/pelto/anaconda2/envs/oggm_env/lib/python3.6/site-packages/oggm/params.cfg\n"
     ]
    },
    {
     "name": "stdout",
     "output_type": "stream",
     "text": [
      "Minimal value is 900131.4221701475 at inversion_glen_a = 3.81e-24\n",
      "obs grid cells count: 483\n",
      "dfb exponent:         0.25\n",
      "smoothing window (m): 101.0\n",
      "smoothing radius (m): 101.0\n"
     ]
    },
    {
     "name": "stderr",
     "output_type": "stream",
     "text": [
      "2019-11-23 14:17:00: oggm.workflow: Execute entity task glacier_masks on 1 glaciers\n",
      "2019-11-23 14:17:00: oggm.workflow: Multiprocessing: using all available processors (N=8)\n",
      "2019-11-23 14:17:01: oggm.workflow: Execute entity task compute_centerlines on 1 glaciers\n",
      "2019-11-23 14:17:01: oggm.workflow: Execute entity task initialize_flowlines on 1 glaciers\n",
      "2019-11-23 14:17:01: oggm.workflow: Execute entity task compute_downstream_line on 1 glaciers\n",
      "2019-11-23 14:17:01: oggm.workflow: Execute entity task compute_downstream_bedshape on 1 glaciers\n",
      "2019-11-23 14:17:01: oggm.workflow: Execute entity task catchment_area on 1 glaciers\n",
      "2019-11-23 14:17:01: oggm.workflow: Execute entity task catchment_intersections on 1 glaciers\n",
      "/home/pelto/anaconda2/envs/oggm_env/lib/python3.6/site-packages/geopandas/io/file.py:108: FionaDeprecationWarning: Use fiona.Env() instead.\n",
      "  with fiona.drivers():\n",
      "2019-11-23 14:17:01: oggm.workflow: Execute entity task catchment_width_geom on 1 glaciers\n",
      "2019-11-23 14:17:02: oggm.workflow: Execute entity task catchment_width_correction on 1 glaciers\n",
      "2019-11-23 14:17:02: oggm.workflow: Execute entity task process_cru_data on 1 glaciers\n",
      "2019-11-23 14:17:02: oggm.workflow: Execute entity task local_t_star on 1 glaciers\n",
      "2019-11-23 14:17:02: oggm.workflow: Execute entity task mu_star_calibration on 1 glaciers\n",
      "2019-11-23 14:17:03: oggm.workflow: Execute entity task prepare_for_inversion on 1 glaciers\n",
      "2019-11-23 14:17:03: oggm.workflow: Execute entity task mass_conservation_inversion on 1 glaciers\n",
      "2019-11-23 14:17:03: oggm.workflow: Execute entity task filter_inversion_output on 1 glaciers\n",
      "2019-11-23 14:17:03: oggm.workflow: Execute entity task distribute_thickness_per_altitude on 1 glaciers\n",
      "2019-11-23 14:17:03: oggm.workflow: Execute entity task distribute_thickness_per_altitude on 1 glaciers\n"
     ]
    },
    {
     "name": "stdout",
     "output_type": "stream",
     "text": [
      "slope: 0.363928    intercept: 2460.945896   R-squared: 0.995941\n"
     ]
    },
    {
     "name": "stderr",
     "output_type": "stream",
     "text": [
      "2019-11-23 14:17:03: oggm.workflow: Execute entity task apparent_mb_from_linear_mb on 1 glaciers\n",
      "2019-11-23 14:17:03: oggm.workflow: Execute entity task glacier_statistics on 1 glaciers\n"
     ]
    },
    {
     "name": "stdout",
     "output_type": "stream",
     "text": [
      "{'ela_h': 2333.9206261155123, 'grad': 7.92}\n",
      "slope default: 0.363928    intercept: 2460.945896   R-squared: 0.995941\n",
      "slope: 0.126263    intercept: 2333.920626   R-squared: 1.000000\n",
      "parameter value: 3.81e-24\n",
      "\n",
      "glacier total volume: rgi_id\n",
      "RGI60-02.07780    0.395619\n",
      "Name: inv_volume_km3, dtype: float64 km^3 \n",
      " \n",
      " \n",
      "\n",
      "mean thickness value: 64.05931353375314 m \n",
      "\n",
      "<oggm.GlacierDirectory>\n",
      "  RGI id: RGI60-02.07780\n",
      "  Region: 02: Western Canada and US\n",
      "  Subregion: 02-03: N Rocky Mtns                    \n",
      "  Glacier type: Glacier\n",
      "  Terminus type: Land-terminating\n",
      "  Area: 6.485 km2\n",
      "  Lon, Lat: (-119.580934267502, 52.67048480925819)\n",
      "  Grid (nx, ny): (107, 107)\n",
      "  Grid (dx, dy): (46.0, -46.0)\n",
      "\n"
     ]
    },
    {
     "name": "stderr",
     "output_type": "stream",
     "text": [
      "2019-11-23 14:17:03: oggm.cfg: Using configuration file: /home/pelto/anaconda2/envs/oggm_env/lib/python3.6/site-packages/oggm/params.cfg\n",
      "2019-11-23 14:17:05: oggm.workflow: Execute entity task glacier_masks on 1 glaciers\n",
      "2019-11-23 14:17:05: oggm.workflow: Multiprocessing: using all available processors (N=8)\n",
      "2019-11-23 14:17:05: oggm.workflow: Execute entity task compute_centerlines on 1 glaciers\n",
      "2019-11-23 14:17:05: oggm.workflow: Execute entity task initialize_flowlines on 1 glaciers\n",
      "2019-11-23 14:17:05: oggm.workflow: Execute entity task compute_downstream_line on 1 glaciers\n",
      "2019-11-23 14:17:05: oggm.workflow: Execute entity task compute_downstream_bedshape on 1 glaciers\n",
      "2019-11-23 14:17:05: oggm.workflow: Execute entity task catchment_area on 1 glaciers\n",
      "2019-11-23 14:17:05: oggm.workflow: Execute entity task catchment_intersections on 1 glaciers\n",
      "/home/pelto/anaconda2/envs/oggm_env/lib/python3.6/site-packages/geopandas/io/file.py:108: FionaDeprecationWarning: Use fiona.Env() instead.\n",
      "  with fiona.drivers():\n",
      "2019-11-23 14:17:06: oggm.workflow: Execute entity task catchment_width_geom on 1 glaciers\n",
      "2019-11-23 14:17:06: oggm.workflow: Execute entity task catchment_width_correction on 1 glaciers\n",
      "2019-11-23 14:17:06: oggm.workflow: Execute entity task process_cru_data on 1 glaciers\n",
      "2019-11-23 14:17:06: oggm.workflow: Execute entity task local_t_star on 1 glaciers\n",
      "2019-11-23 14:17:06: oggm.workflow: Execute entity task mu_star_calibration on 1 glaciers\n",
      "2019-11-23 14:17:07: oggm.workflow: Execute entity task prepare_for_inversion on 1 glaciers\n",
      "2019-11-23 14:17:07: oggm.workflow: Execute entity task mass_conservation_inversion on 1 glaciers\n",
      "2019-11-23 14:17:07: oggm.workflow: Execute entity task filter_inversion_output on 1 glaciers\n",
      "2019-11-23 14:17:07: oggm.workflow: Execute entity task distribute_thickness_per_altitude on 1 glaciers\n",
      "2019-11-23 14:17:07: oggm.workflow: Execute entity task distribute_thickness_per_altitude on 1 glaciers\n"
     ]
    },
    {
     "name": "stdout",
     "output_type": "stream",
     "text": [
      "slope: 0.363928    intercept: 2460.945896   R-squared: 0.995941\n"
     ]
    },
    {
     "name": "stderr",
     "output_type": "stream",
     "text": [
      "2019-11-23 14:17:07: oggm.workflow: Execute entity task apparent_mb_from_linear_mb on 1 glaciers\n",
      "2019-11-23 14:17:07: oggm.workflow: Execute entity task glacier_statistics on 1 glaciers\n",
      "2019-11-23 14:17:07: oggm.cfg: Using configuration file: /home/pelto/anaconda2/envs/oggm_env/lib/python3.6/site-packages/oggm/params.cfg\n"
     ]
    },
    {
     "name": "stdout",
     "output_type": "stream",
     "text": [
      "{'ela_h': 2333.9206261155123, 'grad': 7.92}\n",
      "slope default: 0.363928    intercept: 2460.945896   R-squared: 0.995941\n",
      "slope: 0.126263    intercept: 2333.920626   R-squared: 1.000000\n",
      "<oggm.GlacierDirectory>\n",
      "  RGI id: RGI60-02.07780\n",
      "  Region: 02: Western Canada and US\n",
      "  Subregion: 02-03: N Rocky Mtns                    \n",
      "  Glacier type: Glacier\n",
      "  Terminus type: Land-terminating\n",
      "  Area: 6.485 km2\n",
      "  Lon, Lat: (-119.580934267502, 52.67048480925819)\n",
      "  Grid (nx, ny): (107, 107)\n",
      "  Grid (dx, dy): (46.0, -46.0)\n",
      "\n"
     ]
    },
    {
     "name": "stderr",
     "output_type": "stream",
     "text": [
      "2019-11-23 14:17:08: oggm.cfg: Using configuration file: /home/pelto/anaconda2/envs/oggm_env/lib/python3.6/site-packages/oggm/params.cfg\n",
      "2019-11-23 14:17:09: oggm.workflow: Execute entity task define_glacier_region on 1 glaciers\n"
     ]
    },
    {
     "name": "stdout",
     "output_type": "stream",
     "text": [
      "/home/pelto/Desktop/lidar_cbt_analysis/zillmer/160914_zillmer_dem2.tif\n"
     ]
    },
    {
     "name": "stderr",
     "output_type": "stream",
     "text": [
      "2019-11-23 14:17:09: oggm.workflow: Multiprocessing: using all available processors (N=8)\n",
      "/home/pelto/anaconda2/envs/oggm_env/lib/python3.6/site-packages/geopandas/io/file.py:108: FionaDeprecationWarning: Use fiona.Env() instead.\n",
      "  with fiona.drivers():\n",
      "2019-11-23 14:17:10: oggm.workflow: Execute entity task glacier_masks on 1 glaciers\n",
      "2019-11-23 14:17:10: oggm.workflow: Execute entity task compute_centerlines on 1 glaciers\n",
      "2019-11-23 14:17:10: oggm.workflow: Execute entity task initialize_flowlines on 1 glaciers\n",
      "2019-11-23 14:17:10: oggm.workflow: Execute entity task compute_downstream_line on 1 glaciers\n",
      "2019-11-23 14:17:10: oggm.workflow: Execute entity task compute_downstream_bedshape on 1 glaciers\n",
      "2019-11-23 14:17:11: oggm.workflow: Execute entity task catchment_area on 1 glaciers\n",
      "2019-11-23 14:17:11: oggm.workflow: Execute entity task catchment_intersections on 1 glaciers\n",
      "/home/pelto/anaconda2/envs/oggm_env/lib/python3.6/site-packages/geopandas/io/file.py:108: FionaDeprecationWarning: Use fiona.Env() instead.\n",
      "  with fiona.drivers():\n",
      "2019-11-23 14:17:11: oggm.workflow: Execute entity task catchment_width_geom on 1 glaciers\n",
      "2019-11-23 14:17:12: oggm.workflow: Execute entity task catchment_width_correction on 1 glaciers\n",
      "2019-11-23 14:17:12: oggm.workflow: Execute entity task process_cru_data on 1 glaciers\n",
      "2019-11-23 14:17:12: oggm.workflow: Execute entity task local_t_star on 1 glaciers\n",
      "2019-11-23 14:17:12: oggm.workflow: Execute entity task mu_star_calibration on 1 glaciers\n",
      "2019-11-23 14:17:12: oggm.workflow: Execute entity task prepare_for_inversion on 1 glaciers\n",
      "2019-11-23 14:17:12: oggm.workflow: Execute entity task mass_conservation_inversion on 1 glaciers\n",
      "2019-11-23 14:17:12: oggm.workflow: Execute entity task filter_inversion_output on 1 glaciers\n",
      "2019-11-23 14:17:12: oggm.workflow: Execute entity task distribute_thickness_per_altitude on 1 glaciers\n",
      "2019-11-23 14:17:13: oggm.workflow: Execute entity task distribute_thickness_per_altitude on 1 glaciers\n"
     ]
    },
    {
     "name": "stdout",
     "output_type": "stream",
     "text": [
      "slope: 0.363620    intercept: 2468.614991   R-squared: 0.996879\n"
     ]
    },
    {
     "name": "stderr",
     "output_type": "stream",
     "text": [
      "2019-11-23 14:17:13: oggm.workflow: Execute entity task apparent_mb_from_linear_mb on 1 glaciers\n",
      "2019-11-23 14:17:13: oggm.workflow: Execute entity task glacier_statistics on 1 glaciers\n"
     ]
    },
    {
     "name": "stdout",
     "output_type": "stream",
     "text": [
      "{'ela_h': 2339.645530939786, 'grad': 7.92}\n",
      "slope default: 0.363620    intercept: 2468.614991   R-squared: 0.996879\n",
      "slope: 0.126263    intercept: 2339.645531   R-squared: 1.000000\n",
      "<oggm.GlacierDirectory>\n",
      "  RGI id: RGI60-02.07780\n",
      "  Region: 02: Western Canada and US\n",
      "  Subregion: 02-03: N Rocky Mtns                    \n",
      "  Glacier type: Glacier\n",
      "  Terminus type: Land-terminating\n",
      "  Area: 6.485 km2\n",
      "  Lon, Lat: (-119.580934267502, 52.67048480925819)\n",
      "  Grid (nx, ny): (107, 107)\n",
      "  Grid (dx, dy): (46.0, -46.0)\n",
      "\n"
     ]
    },
    {
     "name": "stderr",
     "output_type": "stream",
     "text": [
      "2019-11-23 14:17:14: oggm.cfg: Using configuration file: /home/pelto/anaconda2/envs/oggm_env/lib/python3.6/site-packages/oggm/params.cfg\n"
     ]
    },
    {
     "name": "stdout",
     "output_type": "stream",
     "text": [
      "Fantanstic, both arrays have the same shape of:  (88, 88)\n"
     ]
    },
    {
     "name": "stderr",
     "output_type": "stream",
     "text": [
      "2019-11-23 14:17:15: oggm.cfg: Using configuration file: /home/pelto/anaconda2/envs/oggm_env/lib/python3.6/site-packages/oggm/params.cfg\n",
      "2019-11-23 14:17:15: oggm.workflow: Execute entity task define_glacier_region on 1 glaciers\n"
     ]
    },
    {
     "name": "stdout",
     "output_type": "stream",
     "text": [
      "/home/pelto/Desktop/lidar_cbt_analysis/zillmer/160914_zillmer_dem2.tif\n"
     ]
    },
    {
     "name": "stderr",
     "output_type": "stream",
     "text": [
      "2019-11-23 14:17:15: oggm.workflow: Multiprocessing: using all available processors (N=8)\n",
      "/home/pelto/anaconda2/envs/oggm_env/lib/python3.6/site-packages/geopandas/io/file.py:108: FionaDeprecationWarning: Use fiona.Env() instead.\n",
      "  with fiona.drivers():\n",
      "2019-11-23 14:17:17: oggm.workflow: Execute entity task glacier_masks on 1 glaciers\n",
      "2019-11-23 14:17:17: oggm.workflow: Execute entity task compute_centerlines on 1 glaciers\n",
      "2019-11-23 14:17:17: oggm.workflow: Execute entity task initialize_flowlines on 1 glaciers\n",
      "2019-11-23 14:17:17: oggm.workflow: Execute entity task compute_downstream_line on 1 glaciers\n",
      "2019-11-23 14:17:17: oggm.workflow: Execute entity task compute_downstream_bedshape on 1 glaciers\n",
      "2019-11-23 14:17:17: oggm.workflow: Execute entity task catchment_area on 1 glaciers\n",
      "2019-11-23 14:17:18: oggm.workflow: Execute entity task catchment_intersections on 1 glaciers\n",
      "/home/pelto/anaconda2/envs/oggm_env/lib/python3.6/site-packages/geopandas/io/file.py:108: FionaDeprecationWarning: Use fiona.Env() instead.\n",
      "  with fiona.drivers():\n",
      "2019-11-23 14:17:18: oggm.workflow: Execute entity task catchment_width_geom on 1 glaciers\n",
      "2019-11-23 14:17:18: oggm.workflow: Execute entity task catchment_width_correction on 1 glaciers\n",
      "2019-11-23 14:17:18: oggm.workflow: Execute entity task process_cru_data on 1 glaciers\n",
      "2019-11-23 14:17:19: oggm.workflow: Execute entity task local_t_star on 1 glaciers\n",
      "2019-11-23 14:17:19: oggm.workflow: Execute entity task mu_star_calibration on 1 glaciers\n",
      "2019-11-23 14:17:19: oggm.workflow: Execute entity task prepare_for_inversion on 1 glaciers\n",
      "2019-11-23 14:17:19: oggm.workflow: Execute entity task mass_conservation_inversion on 1 glaciers\n",
      "2019-11-23 14:17:19: oggm.workflow: Execute entity task filter_inversion_output on 1 glaciers\n",
      "2019-11-23 14:17:19: oggm.workflow: Execute entity task distribute_thickness_per_altitude on 1 glaciers\n",
      "2019-11-23 14:17:19: oggm.workflow: Execute entity task distribute_thickness_per_altitude on 1 glaciers\n"
     ]
    },
    {
     "name": "stdout",
     "output_type": "stream",
     "text": [
      "slope: 0.363620    intercept: 2468.614991   R-squared: 0.996879\n"
     ]
    },
    {
     "name": "stderr",
     "output_type": "stream",
     "text": [
      "2019-11-23 14:17:20: oggm.workflow: Execute entity task apparent_mb_from_linear_mb on 1 glaciers\n",
      "2019-11-23 14:17:20: oggm.workflow: Execute entity task glacier_statistics on 1 glaciers\n"
     ]
    },
    {
     "name": "stdout",
     "output_type": "stream",
     "text": [
      "{'ela_h': 2339.645530939786, 'grad': 7.92}\n",
      "slope default: 0.363620    intercept: 2468.614991   R-squared: 0.996879\n",
      "slope: 0.126263    intercept: 2339.645531   R-squared: 1.000000\n",
      "<oggm.GlacierDirectory>\n",
      "  RGI id: RGI60-02.07780\n",
      "  Region: 02: Western Canada and US\n",
      "  Subregion: 02-03: N Rocky Mtns                    \n",
      "  Glacier type: Glacier\n",
      "  Terminus type: Land-terminating\n",
      "  Area: 6.485 km2\n",
      "  Lon, Lat: (-119.580934267502, 52.67048480925819)\n",
      "  Grid (nx, ny): (107, 107)\n",
      "  Grid (dx, dy): (46.0, -46.0)\n",
      "\n",
      "found  1  problem(s) within a total number of data point of:  483  problem share  0.009213921777598534\n",
      "corrected quadratic error is:  924248.0185914941\n"
     ]
    },
    {
     "data": {
      "image/png": "[encoded data removed]",
      "text/plain": [
       "<Figure size 432x288 with 6 Axes>"
      ]
     },
     "metadata": {
      "needs_background": "light"
     },
     "output_type": "display_data"
    },
    {
     "name": "stderr",
     "output_type": "stream",
     "text": [
      "2019-11-23 14:17:20: oggm.cfg: Using configuration file: /home/pelto/anaconda2/envs/oggm_env/lib/python3.6/site-packages/oggm/params.cfg\n"
     ]
    },
    {
     "name": "stdout",
     "output_type": "stream",
     "text": [
      "Minimal value is 924248.0185914941 at inversion_glen_a = 3.81e-24\n",
      "obs grid cells count: 483\n",
      "dfb exponent:         0.25\n",
      "smoothing window (m): 151.0\n",
      "smoothing radius (m): 151.0\n"
     ]
    },
    {
     "name": "stderr",
     "output_type": "stream",
     "text": [
      "2019-11-23 14:17:21: oggm.workflow: Execute entity task glacier_masks on 1 glaciers\n",
      "2019-11-23 14:17:21: oggm.workflow: Multiprocessing: using all available processors (N=8)\n",
      "2019-11-23 14:17:21: oggm.workflow: Execute entity task compute_centerlines on 1 glaciers\n",
      "2019-11-23 14:17:21: oggm.workflow: Execute entity task initialize_flowlines on 1 glaciers\n",
      "2019-11-23 14:17:21: oggm.workflow: Execute entity task compute_downstream_line on 1 glaciers\n",
      "2019-11-23 14:17:21: oggm.workflow: Execute entity task compute_downstream_bedshape on 1 glaciers\n",
      "2019-11-23 14:17:22: oggm.workflow: Execute entity task catchment_area on 1 glaciers\n",
      "2019-11-23 14:17:22: oggm.workflow: Execute entity task catchment_intersections on 1 glaciers\n",
      "/home/pelto/anaconda2/envs/oggm_env/lib/python3.6/site-packages/geopandas/io/file.py:108: FionaDeprecationWarning: Use fiona.Env() instead.\n",
      "  with fiona.drivers():\n",
      "2019-11-23 14:17:22: oggm.workflow: Execute entity task catchment_width_geom on 1 glaciers\n",
      "2019-11-23 14:17:22: oggm.workflow: Execute entity task catchment_width_correction on 1 glaciers\n",
      "2019-11-23 14:17:22: oggm.workflow: Execute entity task process_cru_data on 1 glaciers\n",
      "2019-11-23 14:17:23: oggm.workflow: Execute entity task local_t_star on 1 glaciers\n",
      "2019-11-23 14:17:23: oggm.workflow: Execute entity task mu_star_calibration on 1 glaciers\n",
      "2019-11-23 14:17:23: oggm.workflow: Execute entity task prepare_for_inversion on 1 glaciers\n",
      "2019-11-23 14:17:23: oggm.workflow: Execute entity task mass_conservation_inversion on 1 glaciers\n",
      "2019-11-23 14:17:23: oggm.workflow: Execute entity task filter_inversion_output on 1 glaciers\n",
      "2019-11-23 14:17:23: oggm.workflow: Execute entity task distribute_thickness_per_altitude on 1 glaciers\n",
      "2019-11-23 14:17:24: oggm.workflow: Execute entity task distribute_thickness_per_altitude on 1 glaciers\n"
     ]
    },
    {
     "name": "stdout",
     "output_type": "stream",
     "text": [
      "slope: 0.363928    intercept: 2460.945896   R-squared: 0.995941\n"
     ]
    },
    {
     "name": "stderr",
     "output_type": "stream",
     "text": [
      "2019-11-23 14:17:24: oggm.workflow: Execute entity task apparent_mb_from_linear_mb on 1 glaciers\n",
      "2019-11-23 14:17:24: oggm.workflow: Execute entity task glacier_statistics on 1 glaciers\n"
     ]
    },
    {
     "name": "stdout",
     "output_type": "stream",
     "text": [
      "{'ela_h': 2333.9206261155123, 'grad': 7.92}\n",
      "slope default: 0.363928    intercept: 2460.945896   R-squared: 0.995941\n",
      "slope: 0.126263    intercept: 2333.920626   R-squared: 1.000000\n",
      "parameter value: 3.81e-24\n",
      "\n",
      "glacier total volume: rgi_id\n",
      "RGI60-02.07780    0.395619\n",
      "Name: inv_volume_km3, dtype: float64 km^3 \n",
      " \n",
      " \n",
      "\n",
      "mean thickness value: 64.05931353375314 m \n",
      "\n",
      "<oggm.GlacierDirectory>\n",
      "  RGI id: RGI60-02.07780\n",
      "  Region: 02: Western Canada and US\n",
      "  Subregion: 02-03: N Rocky Mtns                    \n",
      "  Glacier type: Glacier\n",
      "  Terminus type: Land-terminating\n",
      "  Area: 6.485 km2\n",
      "  Lon, Lat: (-119.580934267502, 52.67048480925819)\n",
      "  Grid (nx, ny): (107, 107)\n",
      "  Grid (dx, dy): (46.0, -46.0)\n",
      "\n"
     ]
    },
    {
     "name": "stderr",
     "output_type": "stream",
     "text": [
      "2019-11-23 14:17:24: oggm.cfg: Using configuration file: /home/pelto/anaconda2/envs/oggm_env/lib/python3.6/site-packages/oggm/params.cfg\n",
      "2019-11-23 14:17:25: oggm.workflow: Execute entity task glacier_masks on 1 glaciers\n",
      "2019-11-23 14:17:25: oggm.workflow: Multiprocessing: using all available processors (N=8)\n",
      "2019-11-23 14:17:25: oggm.workflow: Execute entity task compute_centerlines on 1 glaciers\n",
      "2019-11-23 14:17:26: oggm.workflow: Execute entity task initialize_flowlines on 1 glaciers\n",
      "2019-11-23 14:17:26: oggm.workflow: Execute entity task compute_downstream_line on 1 glaciers\n",
      "2019-11-23 14:17:26: oggm.workflow: Execute entity task compute_downstream_bedshape on 1 glaciers\n",
      "2019-11-23 14:17:26: oggm.workflow: Execute entity task catchment_area on 1 glaciers\n",
      "2019-11-23 14:17:26: oggm.workflow: Execute entity task catchment_intersections on 1 glaciers\n",
      "/home/pelto/anaconda2/envs/oggm_env/lib/python3.6/site-packages/geopandas/io/file.py:108: FionaDeprecationWarning: Use fiona.Env() instead.\n",
      "  with fiona.drivers():\n",
      "2019-11-23 14:17:26: oggm.workflow: Execute entity task catchment_width_geom on 1 glaciers\n",
      "2019-11-23 14:17:27: oggm.workflow: Execute entity task catchment_width_correction on 1 glaciers\n",
      "2019-11-23 14:17:27: oggm.workflow: Execute entity task process_cru_data on 1 glaciers\n",
      "2019-11-23 14:17:27: oggm.workflow: Execute entity task local_t_star on 1 glaciers\n",
      "2019-11-23 14:17:27: oggm.workflow: Execute entity task mu_star_calibration on 1 glaciers\n",
      "2019-11-23 14:17:27: oggm.workflow: Execute entity task prepare_for_inversion on 1 glaciers\n",
      "2019-11-23 14:17:27: oggm.workflow: Execute entity task mass_conservation_inversion on 1 glaciers\n",
      "2019-11-23 14:17:27: oggm.workflow: Execute entity task filter_inversion_output on 1 glaciers\n",
      "2019-11-23 14:17:27: oggm.workflow: Execute entity task distribute_thickness_per_altitude on 1 glaciers\n",
      "2019-11-23 14:17:28: oggm.workflow: Execute entity task distribute_thickness_per_altitude on 1 glaciers\n"
     ]
    },
    {
     "name": "stdout",
     "output_type": "stream",
     "text": [
      "slope: 0.363928    intercept: 2460.945896   R-squared: 0.995941\n"
     ]
    },
    {
     "name": "stderr",
     "output_type": "stream",
     "text": [
      "2019-11-23 14:17:28: oggm.workflow: Execute entity task apparent_mb_from_linear_mb on 1 glaciers\n",
      "2019-11-23 14:17:28: oggm.workflow: Execute entity task glacier_statistics on 1 glaciers\n",
      "2019-11-23 14:17:28: oggm.cfg: Using configuration file: /home/pelto/anaconda2/envs/oggm_env/lib/python3.6/site-packages/oggm/params.cfg\n"
     ]
    },
    {
     "name": "stdout",
     "output_type": "stream",
     "text": [
      "{'ela_h': 2333.9206261155123, 'grad': 7.92}\n",
      "slope default: 0.363928    intercept: 2460.945896   R-squared: 0.995941\n",
      "slope: 0.126263    intercept: 2333.920626   R-squared: 1.000000\n",
      "<oggm.GlacierDirectory>\n",
      "  RGI id: RGI60-02.07780\n",
      "  Region: 02: Western Canada and US\n",
      "  Subregion: 02-03: N Rocky Mtns                    \n",
      "  Glacier type: Glacier\n",
      "  Terminus type: Land-terminating\n",
      "  Area: 6.485 km2\n",
      "  Lon, Lat: (-119.580934267502, 52.67048480925819)\n",
      "  Grid (nx, ny): (107, 107)\n",
      "  Grid (dx, dy): (46.0, -46.0)\n",
      "\n"
     ]
    },
    {
     "name": "stderr",
     "output_type": "stream",
     "text": [
      "2019-11-23 14:17:29: oggm.cfg: Using configuration file: /home/pelto/anaconda2/envs/oggm_env/lib/python3.6/site-packages/oggm/params.cfg\n",
      "2019-11-23 14:17:29: oggm.workflow: Execute entity task define_glacier_region on 1 glaciers\n"
     ]
    },
    {
     "name": "stdout",
     "output_type": "stream",
     "text": [
      "/home/pelto/Desktop/lidar_cbt_analysis/zillmer/160914_zillmer_dem2.tif\n"
     ]
    },
    {
     "name": "stderr",
     "output_type": "stream",
     "text": [
      "2019-11-23 14:17:30: oggm.workflow: Multiprocessing: using all available processors (N=8)\n",
      "/home/pelto/anaconda2/envs/oggm_env/lib/python3.6/site-packages/geopandas/io/file.py:108: FionaDeprecationWarning: Use fiona.Env() instead.\n",
      "  with fiona.drivers():\n",
      "2019-11-23 14:17:31: oggm.workflow: Execute entity task glacier_masks on 1 glaciers\n",
      "2019-11-23 14:17:31: oggm.workflow: Execute entity task compute_centerlines on 1 glaciers\n",
      "2019-11-23 14:17:31: oggm.workflow: Execute entity task initialize_flowlines on 1 glaciers\n",
      "2019-11-23 14:17:31: oggm.workflow: Execute entity task compute_downstream_line on 1 glaciers\n",
      "2019-11-23 14:17:31: oggm.workflow: Execute entity task compute_downstream_bedshape on 1 glaciers\n",
      "2019-11-23 14:17:32: oggm.workflow: Execute entity task catchment_area on 1 glaciers\n",
      "2019-11-23 14:17:32: oggm.workflow: Execute entity task catchment_intersections on 1 glaciers\n",
      "/home/pelto/anaconda2/envs/oggm_env/lib/python3.6/site-packages/geopandas/io/file.py:108: FionaDeprecationWarning: Use fiona.Env() instead.\n",
      "  with fiona.drivers():\n",
      "2019-11-23 14:17:32: oggm.workflow: Execute entity task catchment_width_geom on 1 glaciers\n",
      "2019-11-23 14:17:33: oggm.workflow: Execute entity task catchment_width_correction on 1 glaciers\n",
      "2019-11-23 14:17:33: oggm.workflow: Execute entity task process_cru_data on 1 glaciers\n",
      "2019-11-23 14:17:33: oggm.workflow: Execute entity task local_t_star on 1 glaciers\n",
      "2019-11-23 14:17:33: oggm.workflow: Execute entity task mu_star_calibration on 1 glaciers\n",
      "2019-11-23 14:17:33: oggm.workflow: Execute entity task prepare_for_inversion on 1 glaciers\n",
      "2019-11-23 14:17:33: oggm.workflow: Execute entity task mass_conservation_inversion on 1 glaciers\n",
      "2019-11-23 14:17:33: oggm.workflow: Execute entity task filter_inversion_output on 1 glaciers\n",
      "2019-11-23 14:17:33: oggm.workflow: Execute entity task distribute_thickness_per_altitude on 1 glaciers\n",
      "2019-11-23 14:17:34: oggm.workflow: Execute entity task distribute_thickness_per_altitude on 1 glaciers\n"
     ]
    },
    {
     "name": "stdout",
     "output_type": "stream",
     "text": [
      "slope: 0.364281    intercept: 2468.194754   R-squared: 0.998050\n"
     ]
    },
    {
     "name": "stderr",
     "output_type": "stream",
     "text": [
      "2019-11-23 14:17:34: oggm.workflow: Execute entity task apparent_mb_from_linear_mb on 1 glaciers\n",
      "2019-11-23 14:17:34: oggm.workflow: Execute entity task glacier_statistics on 1 glaciers\n"
     ]
    },
    {
     "name": "stdout",
     "output_type": "stream",
     "text": [
      "{'ela_h': 2337.7084506392607, 'grad': 7.92}\n",
      "slope default: 0.364281    intercept: 2468.194754   R-squared: 0.998050\n",
      "slope: 0.126263    intercept: 2337.708451   R-squared: 1.000000\n",
      "<oggm.GlacierDirectory>\n",
      "  RGI id: RGI60-02.07780\n",
      "  Region: 02: Western Canada and US\n",
      "  Subregion: 02-03: N Rocky Mtns                    \n",
      "  Glacier type: Glacier\n",
      "  Terminus type: Land-terminating\n",
      "  Area: 6.485 km2\n",
      "  Lon, Lat: (-119.580934267502, 52.67048480925819)\n",
      "  Grid (nx, ny): (107, 107)\n",
      "  Grid (dx, dy): (46.0, -46.0)\n",
      "\n"
     ]
    },
    {
     "name": "stderr",
     "output_type": "stream",
     "text": [
      "2019-11-23 14:17:35: oggm.cfg: Using configuration file: /home/pelto/anaconda2/envs/oggm_env/lib/python3.6/site-packages/oggm/params.cfg\n"
     ]
    },
    {
     "name": "stdout",
     "output_type": "stream",
     "text": [
      "Fantanstic, both arrays have the same shape of:  (88, 88)\n"
     ]
    },
    {
     "name": "stderr",
     "output_type": "stream",
     "text": [
      "2019-11-23 14:17:36: oggm.cfg: Using configuration file: /home/pelto/anaconda2/envs/oggm_env/lib/python3.6/site-packages/oggm/params.cfg\n",
      "2019-11-23 14:17:36: oggm.workflow: Execute entity task define_glacier_region on 1 glaciers\n"
     ]
    },
    {
     "name": "stdout",
     "output_type": "stream",
     "text": [
      "/home/pelto/Desktop/lidar_cbt_analysis/zillmer/160914_zillmer_dem2.tif\n"
     ]
    },
    {
     "name": "stderr",
     "output_type": "stream",
     "text": [
      "2019-11-23 14:17:36: oggm.workflow: Multiprocessing: using all available processors (N=8)\n",
      "/home/pelto/anaconda2/envs/oggm_env/lib/python3.6/site-packages/geopandas/io/file.py:108: FionaDeprecationWarning: Use fiona.Env() instead.\n",
      "  with fiona.drivers():\n",
      "2019-11-23 14:17:37: oggm.workflow: Execute entity task glacier_masks on 1 glaciers\n",
      "2019-11-23 14:17:38: oggm.workflow: Execute entity task compute_centerlines on 1 glaciers\n",
      "2019-11-23 14:17:38: oggm.workflow: Execute entity task initialize_flowlines on 1 glaciers\n",
      "2019-11-23 14:17:38: oggm.workflow: Execute entity task compute_downstream_line on 1 glaciers\n",
      "2019-11-23 14:17:38: oggm.workflow: Execute entity task compute_downstream_bedshape on 1 glaciers\n",
      "2019-11-23 14:17:38: oggm.workflow: Execute entity task catchment_area on 1 glaciers\n",
      "2019-11-23 14:17:39: oggm.workflow: Execute entity task catchment_intersections on 1 glaciers\n",
      "/home/pelto/anaconda2/envs/oggm_env/lib/python3.6/site-packages/geopandas/io/file.py:108: FionaDeprecationWarning: Use fiona.Env() instead.\n",
      "  with fiona.drivers():\n",
      "2019-11-23 14:17:39: oggm.workflow: Execute entity task catchment_width_geom on 1 glaciers\n",
      "2019-11-23 14:17:39: oggm.workflow: Execute entity task catchment_width_correction on 1 glaciers\n",
      "2019-11-23 14:17:39: oggm.workflow: Execute entity task process_cru_data on 1 glaciers\n",
      "2019-11-23 14:17:40: oggm.workflow: Execute entity task local_t_star on 1 glaciers\n",
      "2019-11-23 14:17:40: oggm.workflow: Execute entity task mu_star_calibration on 1 glaciers\n",
      "2019-11-23 14:17:40: oggm.workflow: Execute entity task prepare_for_inversion on 1 glaciers\n",
      "2019-11-23 14:17:40: oggm.workflow: Execute entity task mass_conservation_inversion on 1 glaciers\n",
      "2019-11-23 14:17:40: oggm.workflow: Execute entity task filter_inversion_output on 1 glaciers\n",
      "2019-11-23 14:17:40: oggm.workflow: Execute entity task distribute_thickness_per_altitude on 1 glaciers\n",
      "2019-11-23 14:17:40: oggm.workflow: Execute entity task distribute_thickness_per_altitude on 1 glaciers\n"
     ]
    },
    {
     "name": "stdout",
     "output_type": "stream",
     "text": [
      "slope: 0.364281    intercept: 2468.194754   R-squared: 0.998050\n"
     ]
    },
    {
     "name": "stderr",
     "output_type": "stream",
     "text": [
      "2019-11-23 14:17:40: oggm.workflow: Execute entity task apparent_mb_from_linear_mb on 1 glaciers\n",
      "2019-11-23 14:17:40: oggm.workflow: Execute entity task glacier_statistics on 1 glaciers\n"
     ]
    },
    {
     "name": "stdout",
     "output_type": "stream",
     "text": [
      "{'ela_h': 2337.7084506392607, 'grad': 7.92}\n",
      "slope default: 0.364281    intercept: 2468.194754   R-squared: 0.998050\n",
      "slope: 0.126263    intercept: 2337.708451   R-squared: 1.000000\n",
      "<oggm.GlacierDirectory>\n",
      "  RGI id: RGI60-02.07780\n",
      "  Region: 02: Western Canada and US\n",
      "  Subregion: 02-03: N Rocky Mtns                    \n",
      "  Glacier type: Glacier\n",
      "  Terminus type: Land-terminating\n",
      "  Area: 6.485 km2\n",
      "  Lon, Lat: (-119.580934267502, 52.67048480925819)\n",
      "  Grid (nx, ny): (107, 107)\n",
      "  Grid (dx, dy): (46.0, -46.0)\n",
      "\n",
      "found  1  problem(s) within a total number of data point of:  483  problem share  0.00881264915195039\n",
      "corrected quadratic error is:  966723.8301991955\n"
     ]
    },
    {
     "data": {
      "image/png": "[encoded data removed]",
      "text/plain": [
       "<Figure size 432x288 with 6 Axes>"
      ]
     },
     "metadata": {
      "needs_background": "light"
     },
     "output_type": "display_data"
    },
    {
     "name": "stderr",
     "output_type": "stream",
     "text": [
      "2019-11-23 14:17:41: oggm.cfg: Using configuration file: /home/pelto/anaconda2/envs/oggm_env/lib/python3.6/site-packages/oggm/params.cfg\n"
     ]
    },
    {
     "name": "stdout",
     "output_type": "stream",
     "text": [
      "Minimal value is 966723.8301991955 at inversion_glen_a = 3.81e-24\n",
      "obs grid cells count: 483\n",
      "dfb exponent:         0.25\n",
      "smoothing window (m): 201.0\n",
      "smoothing radius (m): 201.0\n"
     ]
    },
    {
     "name": "stderr",
     "output_type": "stream",
     "text": [
      "2019-11-23 14:17:42: oggm.workflow: Execute entity task glacier_masks on 1 glaciers\n",
      "2019-11-23 14:17:42: oggm.workflow: Multiprocessing: using all available processors (N=8)\n",
      "2019-11-23 14:17:42: oggm.workflow: Execute entity task compute_centerlines on 1 glaciers\n",
      "2019-11-23 14:17:42: oggm.workflow: Execute entity task initialize_flowlines on 1 glaciers\n",
      "2019-11-23 14:17:42: oggm.workflow: Execute entity task compute_downstream_line on 1 glaciers\n",
      "2019-11-23 14:17:42: oggm.workflow: Execute entity task compute_downstream_bedshape on 1 glaciers\n",
      "2019-11-23 14:17:42: oggm.workflow: Execute entity task catchment_area on 1 glaciers\n",
      "2019-11-23 14:17:43: oggm.workflow: Execute entity task catchment_intersections on 1 glaciers\n",
      "/home/pelto/anaconda2/envs/oggm_env/lib/python3.6/site-packages/geopandas/io/file.py:108: FionaDeprecationWarning: Use fiona.Env() instead.\n",
      "  with fiona.drivers():\n",
      "2019-11-23 14:17:43: oggm.workflow: Execute entity task catchment_width_geom on 1 glaciers\n",
      "2019-11-23 14:17:43: oggm.workflow: Execute entity task catchment_width_correction on 1 glaciers\n",
      "2019-11-23 14:17:43: oggm.workflow: Execute entity task process_cru_data on 1 glaciers\n",
      "2019-11-23 14:17:44: oggm.workflow: Execute entity task local_t_star on 1 glaciers\n",
      "2019-11-23 14:17:44: oggm.workflow: Execute entity task mu_star_calibration on 1 glaciers\n",
      "2019-11-23 14:17:44: oggm.workflow: Execute entity task prepare_for_inversion on 1 glaciers\n",
      "2019-11-23 14:17:44: oggm.workflow: Execute entity task mass_conservation_inversion on 1 glaciers\n",
      "2019-11-23 14:17:44: oggm.workflow: Execute entity task filter_inversion_output on 1 glaciers\n",
      "2019-11-23 14:17:44: oggm.workflow: Execute entity task distribute_thickness_per_altitude on 1 glaciers\n",
      "2019-11-23 14:17:45: oggm.workflow: Execute entity task distribute_thickness_per_altitude on 1 glaciers\n"
     ]
    },
    {
     "name": "stdout",
     "output_type": "stream",
     "text": [
      "slope: 0.363928    intercept: 2460.945896   R-squared: 0.995941\n"
     ]
    },
    {
     "name": "stderr",
     "output_type": "stream",
     "text": [
      "2019-11-23 14:17:45: oggm.workflow: Execute entity task apparent_mb_from_linear_mb on 1 glaciers\n",
      "2019-11-23 14:17:45: oggm.workflow: Execute entity task glacier_statistics on 1 glaciers\n"
     ]
    },
    {
     "name": "stdout",
     "output_type": "stream",
     "text": [
      "{'ela_h': 2333.9206261155123, 'grad': 7.92}\n",
      "slope default: 0.363928    intercept: 2460.945896   R-squared: 0.995941\n",
      "slope: 0.126263    intercept: 2333.920626   R-squared: 1.000000\n",
      "parameter value: 3.81e-24\n",
      "\n",
      "glacier total volume: rgi_id\n",
      "RGI60-02.07780    0.395619\n",
      "Name: inv_volume_km3, dtype: float64 km^3 \n",
      " \n",
      " \n",
      "\n",
      "mean thickness value: 64.05931353375314 m \n",
      "\n",
      "<oggm.GlacierDirectory>\n",
      "  RGI id: RGI60-02.07780\n",
      "  Region: 02: Western Canada and US\n",
      "  Subregion: 02-03: N Rocky Mtns                    \n",
      "  Glacier type: Glacier\n",
      "  Terminus type: Land-terminating\n",
      "  Area: 6.485 km2\n",
      "  Lon, Lat: (-119.580934267502, 52.67048480925819)\n",
      "  Grid (nx, ny): (107, 107)\n",
      "  Grid (dx, dy): (46.0, -46.0)\n",
      "\n"
     ]
    },
    {
     "name": "stderr",
     "output_type": "stream",
     "text": [
      "2019-11-23 14:17:45: oggm.cfg: Using configuration file: /home/pelto/anaconda2/envs/oggm_env/lib/python3.6/site-packages/oggm/params.cfg\n",
      "2019-11-23 14:17:46: oggm.workflow: Execute entity task glacier_masks on 1 glaciers\n",
      "2019-11-23 14:17:47: oggm.workflow: Multiprocessing: using all available processors (N=8)\n",
      "2019-11-23 14:17:47: oggm.workflow: Execute entity task compute_centerlines on 1 glaciers\n",
      "2019-11-23 14:17:47: oggm.workflow: Execute entity task initialize_flowlines on 1 glaciers\n",
      "2019-11-23 14:17:47: oggm.workflow: Execute entity task compute_downstream_line on 1 glaciers\n",
      "2019-11-23 14:17:47: oggm.workflow: Execute entity task compute_downstream_bedshape on 1 glaciers\n",
      "2019-11-23 14:17:47: oggm.workflow: Execute entity task catchment_area on 1 glaciers\n",
      "2019-11-23 14:17:47: oggm.workflow: Execute entity task catchment_intersections on 1 glaciers\n",
      "/home/pelto/anaconda2/envs/oggm_env/lib/python3.6/site-packages/geopandas/io/file.py:108: FionaDeprecationWarning: Use fiona.Env() instead.\n",
      "  with fiona.drivers():\n",
      "2019-11-23 14:17:48: oggm.workflow: Execute entity task catchment_width_geom on 1 glaciers\n",
      "2019-11-23 14:17:48: oggm.workflow: Execute entity task catchment_width_correction on 1 glaciers\n",
      "2019-11-23 14:17:48: oggm.workflow: Execute entity task process_cru_data on 1 glaciers\n",
      "2019-11-23 14:17:48: oggm.workflow: Execute entity task local_t_star on 1 glaciers\n",
      "2019-11-23 14:17:48: oggm.workflow: Execute entity task mu_star_calibration on 1 glaciers\n",
      "2019-11-23 14:17:49: oggm.workflow: Execute entity task prepare_for_inversion on 1 glaciers\n",
      "2019-11-23 14:17:49: oggm.workflow: Execute entity task mass_conservation_inversion on 1 glaciers\n",
      "2019-11-23 14:17:49: oggm.workflow: Execute entity task filter_inversion_output on 1 glaciers\n",
      "2019-11-23 14:17:49: oggm.workflow: Execute entity task distribute_thickness_per_altitude on 1 glaciers\n",
      "2019-11-23 14:17:49: oggm.workflow: Execute entity task distribute_thickness_per_altitude on 1 glaciers\n"
     ]
    },
    {
     "name": "stdout",
     "output_type": "stream",
     "text": [
      "slope: 0.363928    intercept: 2460.945896   R-squared: 0.995941\n"
     ]
    },
    {
     "name": "stderr",
     "output_type": "stream",
     "text": [
      "2019-11-23 14:17:49: oggm.workflow: Execute entity task apparent_mb_from_linear_mb on 1 glaciers\n",
      "2019-11-23 14:17:49: oggm.workflow: Execute entity task glacier_statistics on 1 glaciers\n",
      "2019-11-23 14:17:50: oggm.cfg: Using configuration file: /home/pelto/anaconda2/envs/oggm_env/lib/python3.6/site-packages/oggm/params.cfg\n"
     ]
    },
    {
     "name": "stdout",
     "output_type": "stream",
     "text": [
      "{'ela_h': 2333.9206261155123, 'grad': 7.92}\n",
      "slope default: 0.363928    intercept: 2460.945896   R-squared: 0.995941\n",
      "slope: 0.126263    intercept: 2333.920626   R-squared: 1.000000\n",
      "<oggm.GlacierDirectory>\n",
      "  RGI id: RGI60-02.07780\n",
      "  Region: 02: Western Canada and US\n",
      "  Subregion: 02-03: N Rocky Mtns                    \n",
      "  Glacier type: Glacier\n",
      "  Terminus type: Land-terminating\n",
      "  Area: 6.485 km2\n",
      "  Lon, Lat: (-119.580934267502, 52.67048480925819)\n",
      "  Grid (nx, ny): (107, 107)\n",
      "  Grid (dx, dy): (46.0, -46.0)\n",
      "\n"
     ]
    },
    {
     "name": "stderr",
     "output_type": "stream",
     "text": [
      "2019-11-23 14:17:51: oggm.cfg: Using configuration file: /home/pelto/anaconda2/envs/oggm_env/lib/python3.6/site-packages/oggm/params.cfg\n",
      "2019-11-23 14:17:51: oggm.workflow: Execute entity task define_glacier_region on 1 glaciers\n"
     ]
    },
    {
     "name": "stdout",
     "output_type": "stream",
     "text": [
      "/home/pelto/Desktop/lidar_cbt_analysis/zillmer/160914_zillmer_dem2.tif\n"
     ]
    },
    {
     "name": "stderr",
     "output_type": "stream",
     "text": [
      "2019-11-23 14:17:51: oggm.workflow: Multiprocessing: using all available processors (N=8)\n",
      "/home/pelto/anaconda2/envs/oggm_env/lib/python3.6/site-packages/geopandas/io/file.py:108: FionaDeprecationWarning: Use fiona.Env() instead.\n",
      "  with fiona.drivers():\n",
      "2019-11-23 14:17:52: oggm.workflow: Execute entity task glacier_masks on 1 glaciers\n",
      "2019-11-23 14:17:53: oggm.workflow: Execute entity task compute_centerlines on 1 glaciers\n",
      "2019-11-23 14:17:53: oggm.workflow: Execute entity task initialize_flowlines on 1 glaciers\n",
      "2019-11-23 14:17:53: oggm.workflow: Execute entity task compute_downstream_line on 1 glaciers\n",
      "2019-11-23 14:17:53: oggm.workflow: Execute entity task compute_downstream_bedshape on 1 glaciers\n",
      "2019-11-23 14:17:53: oggm.workflow: Execute entity task catchment_area on 1 glaciers\n",
      "2019-11-23 14:17:53: oggm.workflow: Execute entity task catchment_intersections on 1 glaciers\n",
      "/home/pelto/anaconda2/envs/oggm_env/lib/python3.6/site-packages/geopandas/io/file.py:108: FionaDeprecationWarning: Use fiona.Env() instead.\n",
      "  with fiona.drivers():\n",
      "2019-11-23 14:17:54: oggm.workflow: Execute entity task catchment_width_geom on 1 glaciers\n",
      "2019-11-23 14:17:54: oggm.workflow: Execute entity task catchment_width_correction on 1 glaciers\n",
      "2019-11-23 14:17:54: oggm.workflow: Execute entity task process_cru_data on 1 glaciers\n",
      "2019-11-23 14:17:55: oggm.workflow: Execute entity task local_t_star on 1 glaciers\n",
      "2019-11-23 14:17:55: oggm.workflow: Execute entity task mu_star_calibration on 1 glaciers\n",
      "2019-11-23 14:17:55: oggm.workflow: Execute entity task prepare_for_inversion on 1 glaciers\n",
      "2019-11-23 14:17:55: oggm.workflow: Execute entity task mass_conservation_inversion on 1 glaciers\n",
      "2019-11-23 14:17:55: oggm.workflow: Execute entity task filter_inversion_output on 1 glaciers\n",
      "2019-11-23 14:17:55: oggm.workflow: Execute entity task distribute_thickness_per_altitude on 1 glaciers\n",
      "2019-11-23 14:17:55: oggm.workflow: Execute entity task distribute_thickness_per_altitude on 1 glaciers\n"
     ]
    },
    {
     "name": "stdout",
     "output_type": "stream",
     "text": [
      "slope: 0.364058    intercept: 2468.129063   R-squared: 0.998027\n"
     ]
    },
    {
     "name": "stderr",
     "output_type": "stream",
     "text": [
      "2019-11-23 14:17:55: oggm.workflow: Execute entity task apparent_mb_from_linear_mb on 1 glaciers\n",
      "2019-11-23 14:17:55: oggm.workflow: Execute entity task glacier_statistics on 1 glaciers\n"
     ]
    },
    {
     "name": "stdout",
     "output_type": "stream",
     "text": [
      "{'ela_h': 2337.6770859726303, 'grad': 7.92}\n",
      "slope default: 0.364058    intercept: 2468.129063   R-squared: 0.998027\n",
      "slope: 0.126263    intercept: 2337.677086   R-squared: 1.000000\n",
      "<oggm.GlacierDirectory>\n",
      "  RGI id: RGI60-02.07780\n",
      "  Region: 02: Western Canada and US\n",
      "  Subregion: 02-03: N Rocky Mtns                    \n",
      "  Glacier type: Glacier\n",
      "  Terminus type: Land-terminating\n",
      "  Area: 6.485 km2\n",
      "  Lon, Lat: (-119.580934267502, 52.67048480925819)\n",
      "  Grid (nx, ny): (107, 107)\n",
      "  Grid (dx, dy): (46.0, -46.0)\n",
      "\n"
     ]
    },
    {
     "name": "stderr",
     "output_type": "stream",
     "text": [
      "2019-11-23 14:17:56: oggm.cfg: Using configuration file: /home/pelto/anaconda2/envs/oggm_env/lib/python3.6/site-packages/oggm/params.cfg\n"
     ]
    },
    {
     "name": "stdout",
     "output_type": "stream",
     "text": [
      "Fantanstic, both arrays have the same shape of:  (88, 88)\n"
     ]
    },
    {
     "name": "stderr",
     "output_type": "stream",
     "text": [
      "2019-11-23 14:17:57: oggm.cfg: Using configuration file: /home/pelto/anaconda2/envs/oggm_env/lib/python3.6/site-packages/oggm/params.cfg\n",
      "2019-11-23 14:17:57: oggm.workflow: Execute entity task define_glacier_region on 1 glaciers\n"
     ]
    },
    {
     "name": "stdout",
     "output_type": "stream",
     "text": [
      "/home/pelto/Desktop/lidar_cbt_analysis/zillmer/160914_zillmer_dem2.tif\n"
     ]
    },
    {
     "name": "stderr",
     "output_type": "stream",
     "text": [
      "2019-11-23 14:17:57: oggm.workflow: Multiprocessing: using all available processors (N=8)\n",
      "/home/pelto/anaconda2/envs/oggm_env/lib/python3.6/site-packages/geopandas/io/file.py:108: FionaDeprecationWarning: Use fiona.Env() instead.\n",
      "  with fiona.drivers():\n",
      "2019-11-23 14:17:59: oggm.workflow: Execute entity task glacier_masks on 1 glaciers\n",
      "2019-11-23 14:17:59: oggm.workflow: Execute entity task compute_centerlines on 1 glaciers\n",
      "2019-11-23 14:17:59: oggm.workflow: Execute entity task initialize_flowlines on 1 glaciers\n",
      "2019-11-23 14:17:59: oggm.workflow: Execute entity task compute_downstream_line on 1 glaciers\n",
      "2019-11-23 14:17:59: oggm.workflow: Execute entity task compute_downstream_bedshape on 1 glaciers\n",
      "2019-11-23 14:17:59: oggm.workflow: Execute entity task catchment_area on 1 glaciers\n",
      "2019-11-23 14:18:00: oggm.workflow: Execute entity task catchment_intersections on 1 glaciers\n",
      "/home/pelto/anaconda2/envs/oggm_env/lib/python3.6/site-packages/geopandas/io/file.py:108: FionaDeprecationWarning: Use fiona.Env() instead.\n",
      "  with fiona.drivers():\n",
      "2019-11-23 14:18:00: oggm.workflow: Execute entity task catchment_width_geom on 1 glaciers\n",
      "2019-11-23 14:18:00: oggm.workflow: Execute entity task catchment_width_correction on 1 glaciers\n",
      "2019-11-23 14:18:00: oggm.workflow: Execute entity task process_cru_data on 1 glaciers\n",
      "2019-11-23 14:18:01: oggm.workflow: Execute entity task local_t_star on 1 glaciers\n",
      "2019-11-23 14:18:01: oggm.workflow: Execute entity task mu_star_calibration on 1 glaciers\n",
      "2019-11-23 14:18:01: oggm.workflow: Execute entity task prepare_for_inversion on 1 glaciers\n",
      "2019-11-23 14:18:01: oggm.workflow: Execute entity task mass_conservation_inversion on 1 glaciers\n",
      "2019-11-23 14:18:01: oggm.workflow: Execute entity task filter_inversion_output on 1 glaciers\n",
      "2019-11-23 14:18:01: oggm.workflow: Execute entity task distribute_thickness_per_altitude on 1 glaciers\n",
      "2019-11-23 14:18:02: oggm.workflow: Execute entity task distribute_thickness_per_altitude on 1 glaciers\n"
     ]
    },
    {
     "name": "stdout",
     "output_type": "stream",
     "text": [
      "slope: 0.364058    intercept: 2468.129063   R-squared: 0.998027\n"
     ]
    },
    {
     "name": "stderr",
     "output_type": "stream",
     "text": [
      "2019-11-23 14:18:02: oggm.workflow: Execute entity task apparent_mb_from_linear_mb on 1 glaciers\n",
      "2019-11-23 14:18:02: oggm.workflow: Execute entity task glacier_statistics on 1 glaciers\n"
     ]
    },
    {
     "name": "stdout",
     "output_type": "stream",
     "text": [
      "{'ela_h': 2337.6770859726303, 'grad': 7.92}\n",
      "slope default: 0.364058    intercept: 2468.129063   R-squared: 0.998027\n",
      "slope: 0.126263    intercept: 2337.677086   R-squared: 1.000000\n",
      "<oggm.GlacierDirectory>\n",
      "  RGI id: RGI60-02.07780\n",
      "  Region: 02: Western Canada and US\n",
      "  Subregion: 02-03: N Rocky Mtns                    \n",
      "  Glacier type: Glacier\n",
      "  Terminus type: Land-terminating\n",
      "  Area: 6.485 km2\n",
      "  Lon, Lat: (-119.580934267502, 52.67048480925819)\n",
      "  Grid (nx, ny): (107, 107)\n",
      "  Grid (dx, dy): (46.0, -46.0)\n",
      "\n",
      "found  1  problem(s) within a total number of data point of:  483  problem share  0.008548368121659912\n",
      "corrected quadratic error is:  996876.7552576838\n"
     ]
    },
    {
     "data": {
      "image/png": "[encoded data removed]",
      "text/plain": [
       "<Figure size 432x288 with 6 Axes>"
      ]
     },
     "metadata": {
      "needs_background": "light"
     },
     "output_type": "display_data"
    },
    {
     "name": "stderr",
     "output_type": "stream",
     "text": [
      "2019-11-23 14:18:02: oggm.cfg: Using configuration file: /home/pelto/anaconda2/envs/oggm_env/lib/python3.6/site-packages/oggm/params.cfg\n"
     ]
    },
    {
     "name": "stdout",
     "output_type": "stream",
     "text": [
      "Minimal value is 996876.7552576838 at inversion_glen_a = 3.81e-24\n",
      "obs grid cells count: 483\n",
      "dfb exponent:         0.25\n",
      "smoothing window (m): 251.0\n",
      "smoothing radius (m): 251.0\n"
     ]
    },
    {
     "name": "stderr",
     "output_type": "stream",
     "text": [
      "2019-11-23 14:18:04: oggm.workflow: Execute entity task glacier_masks on 1 glaciers\n",
      "2019-11-23 14:18:04: oggm.workflow: Multiprocessing: using all available processors (N=8)\n",
      "2019-11-23 14:18:04: oggm.workflow: Execute entity task compute_centerlines on 1 glaciers\n",
      "2019-11-23 14:18:04: oggm.workflow: Execute entity task initialize_flowlines on 1 glaciers\n",
      "2019-11-23 14:18:04: oggm.workflow: Execute entity task compute_downstream_line on 1 glaciers\n",
      "2019-11-23 14:18:04: oggm.workflow: Execute entity task compute_downstream_bedshape on 1 glaciers\n",
      "2019-11-23 14:18:04: oggm.workflow: Execute entity task catchment_area on 1 glaciers\n",
      "2019-11-23 14:18:05: oggm.workflow: Execute entity task catchment_intersections on 1 glaciers\n",
      "/home/pelto/anaconda2/envs/oggm_env/lib/python3.6/site-packages/geopandas/io/file.py:108: FionaDeprecationWarning: Use fiona.Env() instead.\n",
      "  with fiona.drivers():\n",
      "2019-11-23 14:18:05: oggm.workflow: Execute entity task catchment_width_geom on 1 glaciers\n",
      "2019-11-23 14:18:05: oggm.workflow: Execute entity task catchment_width_correction on 1 glaciers\n",
      "2019-11-23 14:18:05: oggm.workflow: Execute entity task process_cru_data on 1 glaciers\n",
      "2019-11-23 14:18:06: oggm.workflow: Execute entity task local_t_star on 1 glaciers\n",
      "2019-11-23 14:18:06: oggm.workflow: Execute entity task mu_star_calibration on 1 glaciers\n",
      "2019-11-23 14:18:06: oggm.workflow: Execute entity task prepare_for_inversion on 1 glaciers\n",
      "2019-11-23 14:18:06: oggm.workflow: Execute entity task mass_conservation_inversion on 1 glaciers\n",
      "2019-11-23 14:18:06: oggm.workflow: Execute entity task filter_inversion_output on 1 glaciers\n",
      "2019-11-23 14:18:06: oggm.workflow: Execute entity task distribute_thickness_per_altitude on 1 glaciers\n",
      "2019-11-23 14:18:06: oggm.workflow: Execute entity task distribute_thickness_per_altitude on 1 glaciers\n"
     ]
    },
    {
     "name": "stdout",
     "output_type": "stream",
     "text": [
      "slope: 0.363928    intercept: 2460.945896   R-squared: 0.995941\n"
     ]
    },
    {
     "name": "stderr",
     "output_type": "stream",
     "text": [
      "2019-11-23 14:18:06: oggm.workflow: Execute entity task apparent_mb_from_linear_mb on 1 glaciers\n",
      "2019-11-23 14:18:06: oggm.workflow: Execute entity task glacier_statistics on 1 glaciers\n"
     ]
    },
    {
     "name": "stdout",
     "output_type": "stream",
     "text": [
      "{'ela_h': 2333.9206261155123, 'grad': 7.92}\n",
      "slope default: 0.363928    intercept: 2460.945896   R-squared: 0.995941\n",
      "slope: 0.126263    intercept: 2333.920626   R-squared: 1.000000\n",
      "parameter value: 3.81e-24\n",
      "\n",
      "glacier total volume: rgi_id\n",
      "RGI60-02.07780    0.395619\n",
      "Name: inv_volume_km3, dtype: float64 km^3 \n",
      " \n",
      " \n",
      "\n",
      "mean thickness value: 64.05931353375314 m \n",
      "\n",
      "<oggm.GlacierDirectory>\n",
      "  RGI id: RGI60-02.07780\n",
      "  Region: 02: Western Canada and US\n",
      "  Subregion: 02-03: N Rocky Mtns                    \n",
      "  Glacier type: Glacier\n",
      "  Terminus type: Land-terminating\n",
      "  Area: 6.485 km2\n",
      "  Lon, Lat: (-119.580934267502, 52.67048480925819)\n",
      "  Grid (nx, ny): (107, 107)\n",
      "  Grid (dx, dy): (46.0, -46.0)\n",
      "\n"
     ]
    },
    {
     "data": {
      "text/plain": [
       "[826607.2190763424,\n",
       " 867264.7509715077,\n",
       " 900131.4221701475,\n",
       " 924248.0185914941,\n",
       " 966723.8301991955,\n",
       " 996876.7552576838]"
      ]
     },
     "execution_count": 14,
     "metadata": {},
     "output_type": "execute_result"
    },
    {
     "data": {
      "image/png": "[encoded data removed]",
      "text/plain": [
       "<Figure size 432x288 with 3 Axes>"
      ]
     },
     "metadata": {
      "needs_background": "light"
     },
     "output_type": "display_data"
    }
   ],
   "source": [
    "for i in sr:\n",
    "    SR=sr[count]\n",
    "    sw=sr[count]\n",
    "    def new_mb_grad_corr_dem(num, dem, glacier, name, parameter, best, use_dem_corr):\n",
    "        \"\"\"\n",
    "        :param num: number of selected glacier\n",
    "        :param dem: list with dem file names\n",
    "        :param glacier: the list with the glacier names\n",
    "        :param name: name of the parameter to be modified\n",
    "        :param parameter: value of the parameter to be modified\n",
    "        :param best: if TRUE, an extra save with prefix 'best' will be created\n",
    "        :param use_dem_correction: if TRUE, a Lidar DEM correction will be used\n",
    "        :type num: int\n",
    "        :type dem: str list\n",
    "        :type glacier: str list\n",
    "        :type name: str \n",
    "        :type parameter: float\n",
    "        :type best: boolean\n",
    "        :type use_dem_correction: boolean\n",
    "        :returns: distributed thickness\n",
    "        :rtype: 2D float array\n",
    "        \"\"\"\n",
    "        # Initialize OGGM and set up the run parameters --> Read the configuration file containing the run’s parameters.\n",
    "        cfg.initialize(logging_level='WORKFLOW')\n",
    "\n",
    "        #num determines which gdir and gradient to use, refer to list below to select desired site\n",
    "        grad = [6.84, 9.8, 7.11, 7.95, 10.84, 6.01, 7.92] # mm w.e. m-1\n",
    "\n",
    "\n",
    "        # Get the RGI glaciers for the run.\n",
    "        rgi_list = ['RGI60-02.00147', 'RGI60-02.01857', 'RGI60-02.02171', 'RGI60-02.03411', 'RGI60-02.03688', 'RGI60-02.04264', 'RGI60-02.07780']\n",
    "        temporarily = [rgi_list[num]]\n",
    "        rgidf = utils.get_rgi_glacier_entities(temporarily)#[rgi_list[num]]) !!!!!!!!!\n",
    "\n",
    "\n",
    "        ############################################################# here the DEM correction happens #########################################################\n",
    "\n",
    "        if(use_dem_corr==True):\n",
    "\n",
    "            custom_dem_path = '/home/pelto/Desktop/lidar_cbt_analysis/' + dem[num] #glacier_lower[num]\n",
    "            print(custom_dem_path)\n",
    "            WORKING_DIR2 = utils.gettempdir(glacier[num] + '_SR_lidar_dem') # Let's make a working directory for this DEM \n",
    "            utils.mkdir(WORKING_DIR2, reset=True)\n",
    "            cfg.initialize(logging_level='WORKFLOW')\n",
    "            cfg.PATHS['working_dir'] = WORKING_DIR2\n",
    "\n",
    "            cfg.PATHS['dem_file'] = custom_dem_path\n",
    "            rgidf['DEM_SOURCE'] = 'USER'\n",
    "            cfg.PARAMS['use_intersects'] = True\n",
    "\n",
    "            cfg.PARAMS['smooth_window'] = sw\n",
    "    #         cfg.PARAMS['grid_dx_method'] = 'fixed'\n",
    "    #         cfg.PARAMS['fixed_dx'] = dx[num]\n",
    "            if glacier[num] == 'Nordic' or 'Washmawapta':\n",
    "                cfg.PARAMS['use_intersects'] = False\n",
    "\n",
    "    #         gdirs = workflow.init_glacier_regions(rgidf)\n",
    "            cfg.PARAMS['use_rgi_area'] = False\n",
    "\n",
    "        else:\n",
    "            cfg.PARAMS['use_intersects'] = True\n",
    "            if glacier[num] == 'Nordic' or 'Washmawapta':\n",
    "                cfg.PARAMS['use_intersects'] = False\n",
    "            cfg.PARAMS['border'] = 10\n",
    "            cfg.PATHS['working_dir'] = utils.get_temp_dir('_SR_thick_srtm' + glacier[num])\n",
    "            cfg.PARAMS['use_rgi_area'] = False\n",
    "            cfg.PARAMS[name] = parameter\n",
    "            cfg.PARAMS['smooth_window'] = sw\n",
    "\n",
    "        ###########################################################################################################################\n",
    "\n",
    "        cfg.PARAMS[name] = parameter\n",
    "        cfg.PARAMS['border'] = 10\n",
    "\n",
    "        gdirs = workflow.init_glacier_regions(rgidf)\n",
    "        workflow.gis_prepro_tasks(gdirs)\n",
    "        workflow.climate_tasks(gdirs)\n",
    "        workflow.inversion_tasks(gdirs)\n",
    "        workflow.execute_entity_task(tasks.distribute_thickness_per_altitude, gdirs, smooth_radius=SR, dis_from_border_exp=dfb);\n",
    "\n",
    "        gdir = gdirs[0]\n",
    "        tasks.init_present_time_glacier(gdir) ##This updates the mode_flowlines file and creates a stand-alone numerical glacier ready to run.\n",
    "\n",
    "        # Print the standard MB gradient from OGGM default\n",
    "        from oggm.core.massbalance import ConstantMassBalance, MultipleFlowlineMassBalance\n",
    "        # gdir = gdirs[num]\n",
    "\n",
    "        mb_mod = MultipleFlowlineMassBalance(gdir, use_inversion_flowlines=True, mb_model_class=ConstantMassBalance)\n",
    "        z, w, mb_on_z = mb_mod.get_annual_mb_on_flowlines()\n",
    "        mb_on_z *=  cfg.PARAMS['ice_density'] * cfg.SEC_IN_YEAR\n",
    "\n",
    "        # grad_line = np.polyfit(mb_on_z,z,2)\n",
    "        from scipy import stats \n",
    "        slope, intercept, r_value, p_value, std_err = stats.linregress(mb_on_z, z)\n",
    "        print(\"slope: %f    intercept: %f\" % (slope, intercept), \"  R-squared: %f\" % r_value**2)\n",
    "\n",
    "        # See the result of the inversion\n",
    "        workflow.execute_entity_task(tasks.distribute_thickness_per_altitude, gdirs, smooth_radius=SR, dis_from_border_exp=dfb);\n",
    "\n",
    "        ds_default = xr.open_dataset(gdir.get_filepath('gridded_data')).load()\n",
    "        ds_default.close() # I have the strange feeling that xarray sometimes won't re-read overwitten files (and we will overwrite it later)\n",
    "\n",
    "        ds_default = xr.open_dataset(gdir.get_filepath('gridded_data')).load()\n",
    "        ds_default.close() # I have the strange feeling that xarray sometimes won't re-read overwitten files (and we will overwrite it later)\n",
    "\n",
    "\n",
    "        # Let's apply a linear MB instead\n",
    "        from oggm.core.climate import apparent_mb_from_linear_mb\n",
    "\n",
    "\n",
    "        workflow.execute_entity_task(tasks.apparent_mb_from_linear_mb, gdir, mb_gradient=grad[num]);\n",
    "\n",
    "        from oggm.core.massbalance import LinearMassBalance\n",
    "\n",
    "        params = gdir.read_pickle('linear_mb_params')\n",
    "        print(params)\n",
    "\n",
    "        l_mb_mod = LinearMassBalance(params['ela_h'], grad=params['grad'])\n",
    "        l_mb_on_z = l_mb_mod.get_annual_mb(z) * cfg.PARAMS['ice_density'] * cfg.SEC_IN_YEAR\n",
    "\n",
    "        slope, intercept, r_value, p_value, std_err = stats.linregress(mb_on_z, z)\n",
    "        print(\"slope default: %f    intercept: %f\" % (slope, intercept), \"  R-squared: %f\" % r_value**2)\n",
    "        slope, intercept, r_value, p_value, std_err = stats.linregress(l_mb_on_z, z)\n",
    "        print(\"slope: %f    intercept: %f\" % (slope, intercept), \"  R-squared: %f\" % r_value**2)\n",
    "\n",
    "        ds_new = xr.open_dataset(gdir.get_filepath('gridded_data')).load()\n",
    "        ds_new.close() \n",
    "\n",
    "\n",
    "        ########### gather more detailed information about the glacier ##############\n",
    "        df  = utils.compile_glacier_statistics(gdirs, inversion_only=True)\n",
    "        volume=df['inv_volume_km3']\n",
    "\n",
    "        mfl=gdir.read_pickle('model_flowlines')\n",
    "        thickness= mfl[-1].surface_h - mfl[-1].bed_h\n",
    "        thickness=thickness[thickness>0].mean()\n",
    "\n",
    "        ############## write it into txt file: #################\n",
    "\n",
    "        if(best):\n",
    "            file= open(products+'best_dem_corr_run_of_'+glacier[num]+'_with_modified_' + name + '.txt', mode='w')\n",
    "            print('parameter value: '+str(parameter)+'\\n')\n",
    "            print('glacier total volume: '+str(volume)+' km^3 \\n \\n \\n')\n",
    "            print('mean thickness value: '+str(thickness)+' m \\n')\n",
    "        else:\n",
    "            file= open(products+'dem_corr_run_of_'+glacier[num]+'_with_modified_' + name+'.txt', mode='w')\n",
    "\n",
    "        file.writelines(['Run of the DEM corrected model on ' + glacier[num]+' on ', str(datetime.datetime.now()), '\\n'])\n",
    "        file.write('parameter modified: '+name+'\\n')\n",
    "        file.write('parameter value: '+str(parameter)+'\\n')\n",
    "        file.write('glacier total volume: '+str(volume)+' km^3 \\n \\n \\n')\n",
    "        file.write('mean thickness value: '+str(thickness)+' m \\n')\n",
    "    #     file.write('Minimal value is '+str(np.min(to_plot[1]))+ ' at ' + parameter_name+' = ' +str(np.round(to_plot[0][x],decimals=28)))\n",
    "        file.close()\n",
    "        ##########################################################\n",
    "        print(gdir)\n",
    "        return ds_new.distributed_thickness\n",
    "\n",
    "    ## Comparing DEM-corrected model with non-DEM-corrected model:\n",
    "\n",
    "#     - first we run the 'new_mb_grad' function\n",
    "#     - then we run the 'new_mb_grad_corr_dem' function\n",
    "#     - and then we subtract the thickness maps and can see where the usage of Lidar data actually impacted the outcome of the model\n",
    "\n",
    "    # run the model without DEM correction\n",
    "    new_mb_gradient= new_mb_grad_corr_dem(num, dem, glacier, 'ice_density', 900, False, False)\n",
    "\n",
    "    # plot it as a map\n",
    "    new_mb_gradient.plot()\n",
    "    plt.title(glacier[num]+' standard settings thickness map')\n",
    "    # and save it\n",
    "    plt.savefig('/home/pelto/Desktop/ice_thick/products'+'standard_map_'+ glacier[num]+'.png', dpi=100)\n",
    "\n",
    "    # replace 'nan' by  0\n",
    "    new_mb_gradient=new_mb_gradient.fillna(0)\n",
    "\n",
    "    if glacier[num]=='Washmawapta':\n",
    "        # make a copy for comparison reasons later on\n",
    "        new_mb_gradient_corr_dem=new_mb_gradient\n",
    "\n",
    "    # run the model with DEM correction\n",
    "    new_mb_gradient_corr_dem = new_mb_grad_corr_dem(num, dem, glacier, 'ice_density', 900, False, True)\n",
    "\n",
    "    # plot it as a map\n",
    "    new_mb_gradient_corr_dem.plot()\n",
    "    plt.title(glacier[num]+' DEM corrected Thickness map')\n",
    "\n",
    "    # and save it\n",
    "    plt.savefig(products+'dem_corr_standard_map_'+ glacier[num]+'.png', dpi=100)\n",
    "\n",
    "    # replace 'nan' by  0\n",
    "    new_mb_gradient_corr_dem=new_mb_gradient_corr_dem.fillna(0)\n",
    "\n",
    "    # make a copy for comparison reasons later on\n",
    "    new_mb_gradient_corr_dem_copy=new_mb_gradient_corr_dem\n",
    "\n",
    "    # the actual differencing and plotting\n",
    "    (new_mb_gradient_corr_dem-new_mb_gradient).plot()\n",
    "\n",
    "    # label it, save it\n",
    "    plt.title(glacier[num]+' Difference DEM corrected tickness less standard DEM')\n",
    "    plt.savefig(products+'difference_dem_correction_'+ glacier[num]+'.png', dpi=100)\n",
    "\n",
    "    ## Parameter optimization\n",
    "\n",
    "#     We want to run the Model with different values for a certain parameter. Therefore we define a few functions that will iterate over a sequenze of paramter values and allow us to compare the outcome to the observation data by displaying their respective squared residuals\n",
    "\n",
    "    def run_with_parameter(num,dem, glacier, name, parameter):\n",
    "        \"\"\"\n",
    "        :param num: number of selected glacier\n",
    "        :param dem: list with dem file names\n",
    "        :param glacier: the list with the glacier names\n",
    "        :param name: name of the parameter to be modified\n",
    "        :param parameter: value of the parameter to be modified\n",
    "        :type num: int\n",
    "        :type dem: str list\n",
    "        :type glacier: str list\n",
    "        :type name: str \n",
    "        :type parameter: float\n",
    "        :returns: distributed thickness\n",
    "        :rtype: 2D float array\n",
    "        \"\"\"\n",
    "\n",
    "        # just to be 100% sure, we are setting the most common parameters to their presettings in order to only vary the desired parameter\n",
    "        cfg.PARAMS['smooth_window'] = sw\n",
    "        cfg.PARAMS['ice_density'] = 900\n",
    "        cfg.PARAMS['trapezoid_lambdas'] = 0.2\n",
    "        cfg.PARAMS['mixed_min_shape'] = 0.001\n",
    "        cfg.PARAMS['downstream_min_shape'] = 0.0001\n",
    "        cfg.PARAMS['mu_star_halfperiod'] = 15\n",
    "        cfg.PARAMS['tstar_search_glacierwide'] = False\n",
    "        cfg.PARAMS['border'] = 10\n",
    "        cfg.PARAMS['glen_a'] = 2.4e-24\n",
    "        cfg.PARAMS['inversion_glen_a'] = 2.4e-24\n",
    "        cfg.PARAMS['default_parabolic_bedshape'] = 0.003\n",
    "        cfg.PARAMS['use_shape_factor_for_fluxbasedmodel'] = ''\n",
    "\n",
    "        #change the parameter (not sure, whether it has any effect here...)\n",
    "        cfg.PARAMS[name] = parameter\n",
    "\n",
    "        # run the model (in this case with DEM correction)\n",
    "        outcome=new_mb_grad_corr_dem(num, dem, glacier, name, parameter, False, True).fillna(0)\n",
    "\n",
    "        #return the thickness distribution\n",
    "        return outcome\n",
    "\n",
    "    ## Definitions\n",
    "\n",
    "\n",
    "    # deletes the rows and lines that do only carry zeros for the sake of getting the right resolution \n",
    "    # in order to rasterize the observation data to the same resolution and getting perfectly fitting arrays\n",
    "    def delete_nodata(data):\n",
    "        \"\"\"\n",
    "        :param data: distributed thickness with 'nan' or '0' in it\n",
    "        :type data: 2D floar array\n",
    "        :returns: distributed thickness\n",
    "        :rtype: 2D float array\n",
    "        \"\"\"\n",
    "\n",
    "        # get a numpy array out of it\n",
    "        data=data.values\n",
    "\n",
    "        #get the spots were actual values are\n",
    "        coordinates=np.nonzero(data)\n",
    "\n",
    "        # create a fresh array of the minimal shape to contain all non-zero values\n",
    "        result=np.zeros(((1+np.max(coordinates[0])-np.min(coordinates[0])) ,(1+np.max(coordinates[1])-np.min(coordinates[1]))))\n",
    "\n",
    "        # fill it with the values\n",
    "        for i in range(0, len(coordinates[0])):\n",
    "            result[coordinates[0][i]-np.min(coordinates[0])][coordinates[1][i]-np.min(coordinates[1])]=data[coordinates[0][i]][coordinates[1][i]]\n",
    "\n",
    "        # flip it and rotate it by pi\n",
    "        return np.flip(np.rot90(result,2))\n",
    "\n",
    "    # a simple function to open the observation data and return it as an array\n",
    "    def read_obs_data(path):\n",
    "        \"\"\"\n",
    "        :param path: distributed thickness with 'nan' or '0' in it\n",
    "        :type path: str\n",
    "        :returns: measurement points as an array\n",
    "        :rtype: 2D float array\n",
    "        \"\"\"\n",
    "        src_obs = gdal.Open(path)\n",
    "        return src_obs.ReadAsArray()\n",
    "\n",
    "    ## Data Import\n",
    "\n",
    "    # We open the observation data for the respective glacier and print out the shape and compare it with the shape of the OGGM:\n",
    "\n",
    "    obs_data = read_obs_data('/home/pelto/oggm_runs/OGGM/MONSTER_project/MONSTER/obs_data_' + glacier[num] + '.tif')\n",
    "\n",
    "    if obs_data.shape == delete_nodata(new_mb_gradient_corr_dem).shape:\n",
    "        print('Fantanstic, both arrays have the same shape of: ' ,obs_data.shape )\n",
    "    else:\n",
    "        print('Uh, Oh! Something went wrong because the observation data has the shape ' ,obs_data.shape , ' and the OGGM out put has a shape of: ' ,delete_nodata(new_mb_gradient_corr_dem).shape )\n",
    "\n",
    "\n",
    "\n",
    "    # Layover-Control\n",
    "\n",
    "#     This is a checking tool for adjusting the orientation of the observation data with respect to the model shapefile (in order to make it fit, we had to flip and rotate it in the 'delete_nodata' function). The resolution is not great but is should give an optical feedback on the fit. \n",
    "\n",
    "    # run the delete_nodata function on one of the recent outputs and save it in a temporay variable\n",
    "    temp=delete_nodata(new_mb_gradient_corr_dem)\n",
    "\n",
    "    # get its shape\n",
    "    h,w = temp.shape\n",
    "\n",
    "    # create a new array with zeros and of same size\n",
    "    data = np.zeros((h, w, 3), dtype=np.uint8)\n",
    "\n",
    "    # and get the data point coordinates\n",
    "    nonzero=np.nonzero(temp)\n",
    "\n",
    "    # run through the OGGM output and write into the array as RED color code\n",
    "    for i in range(0,len(nonzero[0])):\n",
    "        data[nonzero[0][i]][nonzero[1][i]]= [temp[nonzero[0][i]][nonzero[1][i]], 0, 0]\n",
    "\n",
    "    # run through the observation data and write into the array as GREEN color code\n",
    "    for i in range(0,len(np.nonzero(obs_data)[0])):\n",
    "        data[np.nonzero(obs_data)[0][i]][np.nonzero(obs_data)[1][i]]= [0, obs_data[np.nonzero(obs_data)[0][i]][np.nonzero(obs_data)[1][i]], 0]\n",
    "\n",
    "    # save and show\n",
    "    img = imagery.fromarray(data, 'RGB')\n",
    "    img.save(products+ 'overlay_test_'+ glacier[num]+ '.png')\n",
    "\n",
    "    from IPython.display import Image\n",
    "    Image(filename=products+'overlay_test_'+ glacier[num]+ '.png', width=400) \n",
    "\n",
    "    ## Quadratic Error\n",
    "\n",
    "\n",
    "#     We want a function that gives us the accumulated quadratic residuals of the observation data compared to the OGGM output. Because we may have very few points that are assigned a measurement but do not locate on the OGGM glacier, we have to do a little extra: We count those pixels, print their share on the entire quadratic errors and subtract their errors from the result in order not to confuse the optimization process later on. However, their share usually is below 1-2% - their impact therefore limited. This is only done for checking and consistency reasons\n",
    "\n",
    "    def quadratic_errors(obs_data, mesharray):\n",
    "        \"\"\"\n",
    "        :param obs_data: array with measured values on respective spots\n",
    "        :param mesharray: distributed thickness of the model output (should have same shape as obs_data)\n",
    "        :type obs_data: 2D float array\n",
    "        :type mesharray: 2D float array\n",
    "        :returns: quadrativc error (problems corrected)\n",
    "        :rtype: float\n",
    "        \"\"\"\n",
    "\n",
    "        # counts number of \"problematic\" pixels\n",
    "        count=0\n",
    "\n",
    "        # coordinates of the data points\n",
    "        coordinates=np.nonzero(obs_data)\n",
    "\n",
    "        # accumulated 'problematic pixel' quadratic error\n",
    "        problems=0\n",
    "\n",
    "        # total accumulated quadratic error\n",
    "        err=0\n",
    "\n",
    "        # we go through all the measured points and accumulate the squared differences to the OGGM at that point\n",
    "        for i in range(0,len(coordinates[0])):\n",
    "\n",
    "            # if however, the OGGM shows a thickness of zero there, this seems to be a \"problematic\" pixel \n",
    "            if mesharray[coordinates[0][i]][coordinates[1][i]]==0:\n",
    "\n",
    "                # add to problems share\n",
    "                problems=problems+obs_data[coordinates[0][i]][coordinates[1][i]]**2\n",
    "\n",
    "                # increment problem number\n",
    "                count=count+1\n",
    "\n",
    "            # add squared difference\n",
    "            err=err+(obs_data[coordinates[0][i]][coordinates[1][i]]-mesharray[coordinates[0][i]][coordinates[1][i]])**2\n",
    "\n",
    "        # outprint of details on \"problematic\" pixels\n",
    "        print('found ', count , ' problem(s) within a total number of data point of: ', len(coordinates[0]), ' problem share ', problems/err,)\n",
    "\n",
    "        print('corrected quadratic error is: ', err-problems)\n",
    "        return (err-problems)\n",
    "\n",
    "    # a function that runs the (DEM-corrected) OGGM and uses the quadratic_errors function to return the quadratic errors\n",
    "    def master_analysis(name, parameter, obs_data, glacier, num):\n",
    "        \"\"\"\n",
    "        :param name: name of the parameter to be modified\n",
    "        :param parameter: value of the parameter to be modified\n",
    "        :param obs_data: measured data points\n",
    "        :param glacier: the list with the glacier names\n",
    "        :param num: number of selected glacier\n",
    "        :type name: str\n",
    "        :type parameter: float\n",
    "        :type obs_data: 2D float array\n",
    "        :type glacier: str list\n",
    "        :type num: int\n",
    "        :returns: quadratic errors\n",
    "        :rtype: float\n",
    "        \"\"\"\n",
    "        quadmesh= run_with_parameter(num, dem, glacier, name, parameter)\n",
    "        mesharray = delete_nodata(quadmesh)\n",
    "\n",
    "        return quadratic_errors(obs_data, mesharray)\n",
    "\n",
    "    # this function takes in the name of the parameter that is to be modified and a float list of the values for whose the OGGM is \n",
    "    # to be run and the quadratic errors to be calculated. It returns an array with those values and their respective quadratic errors\n",
    "    def optimize(name, values, obs_data, glacier, num):\n",
    "        \"\"\"\n",
    "        :param name: name of the parameter to be modified\n",
    "        :param values: values of the parameter to be modified\n",
    "        :param obs_data: measured data points\n",
    "        :param glacier: the list with the glacier names\n",
    "        :param num: number of selected glacier\n",
    "        :type name: str\n",
    "        :type values: float list\n",
    "        :type obs_data: 2D float array\n",
    "        :type glacier: str list\n",
    "        :type num: int\n",
    "        :returns: [values, quad_errors]\n",
    "        :rtype: float array\n",
    "        \"\"\"\n",
    "\n",
    "        # here we store the original parameter value\n",
    "        temp= cfg.PARAMS[name]\n",
    "\n",
    "        #an array to store the quadratic errors in\n",
    "        quad_errors=[]\n",
    "        for i in range(0,len(values)):\n",
    "            quad_errors.append(master_analysis(name, values[i], obs_data, glacier, num))\n",
    "\n",
    "        # and here we reset it to the default value\n",
    "        cfg.PARAMS[name] = temp\n",
    "\n",
    "        return [values, quad_errors]\n",
    "\n",
    "    ## Enter the parameter, interval and number of points that you want to get the quadratic error from \n",
    "\n",
    "#     The parameter intervall will be a linearly spaced sequence from min_value to max_value with number_of_steps steps.\n",
    "\n",
    "#     Also, choose, whether you prefer to run the iteration with the DEM correction. In the most cases it is strongly recommended to do so.\n",
    "    \n",
    "\n",
    "    \n",
    "    parameter_name='inversion_glen_a'\n",
    "    max_value= best_value\n",
    "    min_value= best_value\n",
    "    number_of_steps=1 #10\n",
    "\n",
    "    use_dem_correction=True\n",
    "\n",
    "    ## The actual iteration takes place here\n",
    "\n",
    "#     %%capture supresses the output, which is quite annoying if the OGGM runs several dozen times. But if you want to watch it work, go for it and delete that line.\n",
    "\n",
    "#     Apart from that, we basically run the optimize function\n",
    "\n",
    "#     %%capture\n",
    "    to_plot=optimize(parameter_name,np.linspace(min_value, max_value, number_of_steps), obs_data ,glacier, num)\n",
    "\n",
    "#     Now, we plot the quadratic errors as a function of the parameter values. We also print out the minimum.\n",
    "\n",
    "    from matplotlib import rcParams\n",
    "    rcParams['axes.titlepad'] = 30\n",
    "    plt.plot(to_plot[0],to_plot[1],linestyle='--', marker='o', color='b')\n",
    "    plt.xlabel('value of '+parameter_name)\n",
    "    plt.ylabel('pointwise accumulated quadratic discrepancies [m²]')\n",
    "    plt.title('Quadratic errors of depth in dependence of ' +parameter_name)\n",
    "\n",
    "    # save it\n",
    "    plt.savefig(products+'quadratic_errors_'+parameter_name+'_from_'+str(min_value)+'_to_'+str(max_value)+'_'+ glacier[num]+'.png', dpi=100)\n",
    "\n",
    "    plt.show()\n",
    "\n",
    "    #small minimum function\n",
    "    x=0\n",
    "    for i in range(0,len(to_plot[1])):\n",
    "        if to_plot[1][i]==np.min(to_plot[1]):\n",
    "            x=i\n",
    "\n",
    "    # print out\n",
    "    print('Minimal value is '+str(np.min(to_plot[1]))+ ' at ' + parameter_name+' = ' +str(np.round(to_plot[0][x],decimals=28)))\n",
    "\n",
    "    file= open(products+'best_dem_corr_run_of_'+glacier[num]+ '_quad_errors' + '_smooth_window_' + str(sw) +'.txt', mode='w') #str(sw)\n",
    "\n",
    "    file.write('Minimal value is '+str(np.min(to_plot[1]))+ ' at ' + parameter_name+' = ' +str(np.round(to_plot[0][x],decimals=28)))\n",
    "    file.close()\n",
    "    \n",
    "    \n",
    "    errors=np.min(to_plot[1])\n",
    "    \n",
    "    errors_list.append(errors)\n",
    "\n",
    "    print('obs grid cells count:', np.count_nonzero(obs_data))\n",
    "    print('dfb exponent:        ', dfb)\n",
    "    print('smoothing window (m):', sw)\n",
    "    print('smoothing radius (m):', sr[count])\n",
    "\n",
    "    ## Deep analysis of best parameter value\n",
    "\n",
    "#     Enter the value of the given Paramter, that yields a minimum in quadratic errors\n",
    "\n",
    "    # take the minimum from above\n",
    "    # best_value=to_plot[0][x]\n",
    "    # best_value\n",
    "    # select it manually\n",
    "\n",
    "\n",
    "#     Now, we run the model with the best parameter value to create seperate saves and a deep analysis\n",
    "\n",
    "    best_model= new_mb_grad_corr_dem(num, dem, glacier, parameter_name, best_value, True, False)\n",
    "\n",
    "    best_model.plot()\n",
    "    plt.title(glacier[num]+' best approximation thickness map ' + parameter_name + ' = ' +str(best_value))\n",
    "    plt.savefig(products+'dem_corr_best_map_'+ glacier[num]+'.png', dpi=100)\n",
    "    #best_model=new_mb_gradient_corr_dem.fillna(0)\n",
    "\n",
    "    # plot and save\n",
    "    (best_model-new_mb_gradient_corr_dem_copy).plot(cmap='RdBu', vmin=-100, vmax=100)\n",
    "    plt.title(glacier[num]+' Difference '+ parameter_name+ ' corrected less uncorrected thickness map (both DEM corrected)')\n",
    "    plt.savefig(products+'difference_'+ parameter_name + '_corrected_vs_uncorrected_'+ glacier[num]+'.png', dpi=100)\n",
    "    count+=1\n",
    "    \n",
    "errors_list"
   ]
  },
  {
   "cell_type": "code",
   "execution_count": 15,
   "metadata": {},
   "outputs": [
    {
     "data": {
      "text/plain": [
       "[826607.2190763424,\n",
       " 867264.7509715077,\n",
       " 900131.4221701475,\n",
       " 924248.0185914941,\n",
       " 966723.8301991955,\n",
       " 996876.7552576838]"
      ]
     },
     "execution_count": 15,
     "metadata": {},
     "output_type": "execute_result"
    }
   ],
   "source": [
    "errors_list[:8]\n"
   ]
  },
  {
   "cell_type": "code",
   "execution_count": 16,
   "metadata": {},
   "outputs": [],
   "source": [
    "out_df = pd.DataFrame()\n",
    "out_df['errors'] = errors_list\n",
    "out_df['sr'] = sr\n",
    "out_df['error_per_point'] = out_df['errors'] / float(obs_num[num])\n",
    "out_df['err_m'] = np.sqrt(out_df['error_per_point'])\n",
    "out_df['perc_err'] = out_df['err_m'] / thick[num] * 100. \n",
    "out_df.to_csv(products + glacier[num] + '_SR_errors' + str(best_value) + '.csv')\n",
    "# out_df"
   ]
  },
  {
   "cell_type": "code",
   "execution_count": 17,
   "metadata": {},
   "outputs": [
    {
     "data": {
      "text/html": [
       "<div>\n",
       "<style scoped>\n",
       "    .dataframe tbody tr th:only-of-type {\n",
       "        vertical-align: middle;\n",
       "    }\n",
       "\n",
       "    .dataframe tbody tr th {\n",
       "        vertical-align: top;\n",
       "    }\n",
       "\n",
       "    .dataframe thead th {\n",
       "        text-align: right;\n",
       "    }\n",
       "</style>\n",
       "<table border=\"1\" class=\"dataframe\">\n",
       "  <thead>\n",
       "    <tr style=\"text-align: right;\">\n",
       "      <th></th>\n",
       "      <th>errors</th>\n",
       "      <th>sr</th>\n",
       "      <th>error_per_point</th>\n",
       "      <th>err_m</th>\n",
       "      <th>perc_err</th>\n",
       "    </tr>\n",
       "  </thead>\n",
       "  <tbody>\n",
       "    <tr>\n",
       "      <th>0</th>\n",
       "      <td>826607.219076</td>\n",
       "      <td>47.0</td>\n",
       "      <td>1711.402110</td>\n",
       "      <td>41.369096</td>\n",
       "      <td>61.287550</td>\n",
       "    </tr>\n",
       "    <tr>\n",
       "      <th>1</th>\n",
       "      <td>867264.750972</td>\n",
       "      <td>71.0</td>\n",
       "      <td>1795.579195</td>\n",
       "      <td>42.374275</td>\n",
       "      <td>62.776704</td>\n",
       "    </tr>\n",
       "    <tr>\n",
       "      <th>2</th>\n",
       "      <td>900131.422170</td>\n",
       "      <td>101.0</td>\n",
       "      <td>1863.626133</td>\n",
       "      <td>43.169736</td>\n",
       "      <td>63.955165</td>\n",
       "    </tr>\n",
       "    <tr>\n",
       "      <th>3</th>\n",
       "      <td>924248.018591</td>\n",
       "      <td>151.0</td>\n",
       "      <td>1913.556974</td>\n",
       "      <td>43.744222</td>\n",
       "      <td>64.806255</td>\n",
       "    </tr>\n",
       "    <tr>\n",
       "      <th>4</th>\n",
       "      <td>966723.830199</td>\n",
       "      <td>201.0</td>\n",
       "      <td>2001.498613</td>\n",
       "      <td>44.738111</td>\n",
       "      <td>66.278684</td>\n",
       "    </tr>\n",
       "  </tbody>\n",
       "</table>\n",
       "</div>"
      ],
      "text/plain": [
       "          errors     sr  error_per_point      err_m   perc_err\n",
       "0  826607.219076   47.0      1711.402110  41.369096  61.287550\n",
       "1  867264.750972   71.0      1795.579195  42.374275  62.776704\n",
       "2  900131.422170  101.0      1863.626133  43.169736  63.955165\n",
       "3  924248.018591  151.0      1913.556974  43.744222  64.806255\n",
       "4  966723.830199  201.0      2001.498613  44.738111  66.278684"
      ]
     },
     "execution_count": 17,
     "metadata": {},
     "output_type": "execute_result"
    }
   ],
   "source": [
    "out_df[:5]"
   ]
  },
  {
   "cell_type": "code",
   "execution_count": 18,
   "metadata": {},
   "outputs": [
    {
     "data": {
      "text/plain": [
       "[<matplotlib.lines.Line2D at 0x7fc084588358>]"
      ]
     },
     "execution_count": 18,
     "metadata": {},
     "output_type": "execute_result"
    },
    {
     "data": {
      "image/png": "[encoded data removed]",
      "text/plain": [
       "<Figure size 432x288 with 1 Axes>"
      ]
     },
     "metadata": {
      "needs_background": "light"
     },
     "output_type": "display_data"
    }
   ],
   "source": [
    "plt.plot(out_df['sr'], out_df['perc_err'], marker='o', color='limegreen')"
   ]
  },
  {
   "cell_type": "code",
   "execution_count": 19,
   "metadata": {},
   "outputs": [],
   "source": [
    "# out_df = pd.read_csv('/home/pelto/oggm_runs/products_opt/Conrad/Conrad_DFB_errors.csv')"
   ]
  },
  {
   "cell_type": "code",
   "execution_count": 20,
   "metadata": {},
   "outputs": [
    {
     "name": "stdout",
     "output_type": "stream",
     "text": [
      "Zillmer Minimal value is 826607.2190763424 at SR = 47.0\n"
     ]
    }
   ],
   "source": [
    "#small minimum function\n",
    "x=0\n",
    "for i in range(0,len(out_df['errors'])):\n",
    "    if out_df['errors'][i]==np.min(out_df['errors']):\n",
    "        x=i\n",
    "print(glacier[num] + ' Minimal value is '+str(np.min(out_df['errors']))+ ' at SR' + ' = ' +str(np.round(out_df['sr'][x],decimals=2)))"
   ]
  },
  {
   "cell_type": "code",
   "execution_count": null,
   "metadata": {},
   "outputs": [],
   "source": []
  }
 ],
 "metadata": {
  "kernelspec": {
   "display_name": "Python 3",
   "language": "python",
   "name": "python3"
  },
  "language_info": {
   "codemirror_mode": {
    "name": "ipython",
    "version": 3
   },
   "file_extension": ".py",
   "mimetype": "text/x-python",
   "name": "python",
   "nbconvert_exporter": "python",
   "pygments_lexer": "ipython3",
   "version": "3.6.8"
  }
 },
 "nbformat": 4,
 "nbformat_minor": 4
}
