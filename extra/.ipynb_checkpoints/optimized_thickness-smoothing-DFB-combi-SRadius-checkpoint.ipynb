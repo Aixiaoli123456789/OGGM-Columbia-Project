{
 "cells": [
  {
   "cell_type": "markdown",
   "metadata": {},
   "source": [
    "##### This notebook allows Glen's A to vary to optimize modeled ice thickness by minimizing the quadratic error between observed and modeled ice thickness (following height change corrections and in situ mass balance inversion)\n",
    "\n",
    "### named MONSTER by M. Zeuner (Mega Organized Numerical Script Transformation Executing Rapidly)\n",
    "\n",
    "## Imports"
   ]
  },
  {
   "cell_type": "code",
   "execution_count": 105,
   "metadata": {},
   "outputs": [],
   "source": [
    "%matplotlib inline\n",
    "import numpy as np\n",
    "import xarray as xr\n",
    "import geopandas as gpd\n",
    "import matplotlib.pyplot as plt\n",
    "from oggm import utils, workflow, tasks, graphics\n",
    "\n",
    "import os\n",
    "import pandas as pd\n",
    "import salem\n",
    "import xarray as xr\n",
    "import oggm\n",
    "from oggm.workflow import execute_entity_task, gis_prepro_tasks, climate_tasks\n",
    "\n",
    "import oggm.cfg as cfg # could that cause problems?\n",
    "import gdal\n",
    "from PIL import Image as imagery\n",
    "import datetime"
   ]
  },
  {
   "cell_type": "markdown",
   "metadata": {},
   "source": [
    "## Select the glacier by setting num to:\n",
    "\n",
    "- 0 for Kokanee\n",
    "- 1 for Haig\n",
    "- 2 for Conrad\n",
    "- 3 for W. Washmawapta (no DEM correction available)\n",
    "- 4 for Illecillewaet (not supported in this version of the script due to shapefile reasons)\n",
    "- 5 for Nordic (not supported in this version of the script due to shapefile reasons)\n",
    "- 6 for Zillmer\n"
   ]
  },
  {
   "cell_type": "code",
   "execution_count": 106,
   "metadata": {},
   "outputs": [
    {
     "name": "stdout",
     "output_type": "stream",
     "text": [
      "You selected:  Conrad\n"
     ]
    }
   ],
   "source": [
    "# Here the num variable is set:\n",
    "num=2\n",
    "errors_list = []\n",
    "# A list with all the glacier names\n",
    "glacier = ['Kokanee', 'Haig', 'Conrad', 'Washmawapta', 'Illecillewaet', 'Nordic', 'Zillmer']\n",
    "glacier_lower = ['kokanee', 'haig', 'conrad', 'washmawapta', 'illecillewaet', 'nordic', 'zillmer']\n",
    "obs_num = [442,387,824,187,820,461,483] #number of grid cells with obs\n",
    "thick = [48.1, 115.4, 99.7, 69.3, 101.4, 47.6, 67.5]\n",
    "\n",
    "# Just confirm that the correct one is selected for this run of the script\n",
    "print('You selected: ' , glacier[num])"
   ]
  },
  {
   "cell_type": "markdown",
   "metadata": {},
   "source": [
    "### File names settings"
   ]
  },
  {
   "cell_type": "code",
   "execution_count": 107,
   "metadata": {},
   "outputs": [
    {
     "data": {
      "text/plain": [
       "7"
      ]
     },
     "execution_count": 107,
     "metadata": {},
     "output_type": "execute_result"
    }
   ],
   "source": [
    "# list with the names in the Randolf Glacier invetory (according to the glacier names above)\n",
    "rgi_list = ['RGI60-02.00147', 'RGI60-02.01857', 'RGI60-02.02171', 'RGI60-02.03688', 'RGI60-02.04264', 'RGI60-02.07780']\n",
    "\n",
    "# list with the names Lidar data (according to the glacier names above)\n",
    "dem = ['kokanee/20160913_kokanee_dem1_clip_slave.tif', 'haig/20150912_haig_dem_master_clip.tif', 'conrad/20160912_conrad_dem1_clip_slave.tif', 'not_assigned', \n",
    "       'illecillewaet/170917_illecillewaet_dem1_clip_slave.tif', 'nordic/20170927_nordic_dem1_clip_slave.tif', 'zillmer/160914_zillmer_dem2.tif']\n",
    "\n",
    "#products_directory (where the graphs and some numbers are saved for later usage)\n",
    "products= '/home/pelto/oggm_runs/products_opt/' + glacier[num] + '/'\n",
    "\n",
    "# moved best value here to avoid iterating over multiple glen's A values \n",
    "# best_value = 6.740e-24, 0.774e-24, 8.095e-24, 0.142e-24, 4.050e-24, 13.0e-24, 3.810e-24  \n",
    "best_value = 4.84e-24, 0.596e-24, 7.381e-24, 0.142e-24, 4.544e-24, 14.627e-24, 3.432e-24 \n",
    "best_value = best_value[num]\n",
    "# best_value = 5.08e-24  #2.4e-24\n",
    "dx = [29., 32., 68., 23., 49., 36., 46.]\n",
    "\n",
    "\n",
    "count=0\n",
    "sw = 101.\n",
    "sr = dx[num]+1., 51., 71., 101., 151., 201., 251. #31., 51., \n",
    "\n",
    "dfb = 0.25 #np.arange(0.0, 1.0, 0.05) # the exponent of the distance from border mask default=0.25\n",
    "len(sr)"
   ]
  },
  {
   "cell_type": "markdown",
   "metadata": {},
   "source": [
    "## A function to run the OGGM using mass-balance correction and (if wished) the Lidar-DEM \n",
    "\n",
    "This is also a function that runs the OGGM on the selected glacier and returns a thickness map for it. It uses the mass-balance correction.\n",
    "\n",
    "In difference to the function above, this version does not use the SRTM DEM to run it but the more precise Lidar DEM which yields results closer to reality.\n"
   ]
  },
  {
   "cell_type": "code",
   "execution_count": 108,
   "metadata": {},
   "outputs": [
    {
     "name": "stderr",
     "output_type": "stream",
     "text": [
      "2019-12-06 15:47:28: oggm.cfg: Using configuration file: /home/pelto/anaconda2/envs/oggm_env/lib/python3.6/site-packages/oggm/params.cfg\n",
      "2019-12-06 15:47:30: oggm.workflow: Execute entity task glacier_masks on 1 glaciers\n",
      "2019-12-06 15:47:30: oggm.workflow: Multiprocessing: using all available processors (N=8)\n",
      "2019-12-06 15:47:30: oggm.workflow: Execute entity task compute_centerlines on 1 glaciers\n",
      "2019-12-06 15:47:30: oggm.workflow: Execute entity task initialize_flowlines on 1 glaciers\n",
      "2019-12-06 15:47:30: oggm.workflow: Execute entity task compute_downstream_line on 1 glaciers\n",
      "2019-12-06 15:47:30: oggm.workflow: Execute entity task compute_downstream_bedshape on 1 glaciers\n",
      "2019-12-06 15:47:30: oggm.workflow: Execute entity task catchment_area on 1 glaciers\n",
      "2019-12-06 15:47:31: oggm.workflow: Execute entity task catchment_intersections on 1 glaciers\n",
      "/home/pelto/anaconda2/envs/oggm_env/lib/python3.6/site-packages/geopandas/io/file.py:108: FionaDeprecationWarning: Use fiona.Env() instead.\n",
      "  with fiona.drivers():\n",
      "2019-12-06 15:47:31: oggm.workflow: Execute entity task catchment_width_geom on 1 glaciers\n",
      "2019-12-06 15:47:32: oggm.workflow: Execute entity task catchment_width_correction on 1 glaciers\n",
      "2019-12-06 15:47:32: oggm.workflow: Execute entity task process_cru_data on 1 glaciers\n",
      "2019-12-06 15:47:32: oggm.workflow: Execute entity task local_t_star on 1 glaciers\n",
      "2019-12-06 15:47:32: oggm.workflow: Execute entity task mu_star_calibration on 1 glaciers\n",
      "2019-12-06 15:47:33: oggm.workflow: Execute entity task prepare_for_inversion on 1 glaciers\n",
      "2019-12-06 15:47:33: oggm.workflow: Execute entity task mass_conservation_inversion on 1 glaciers\n",
      "2019-12-06 15:47:33: oggm.workflow: Execute entity task filter_inversion_output on 1 glaciers\n",
      "2019-12-06 15:47:33: oggm.workflow: Execute entity task distribute_thickness_per_altitude on 1 glaciers\n",
      "2019-12-06 15:47:33: oggm.workflow: Execute entity task distribute_thickness_per_altitude on 1 glaciers\n"
     ]
    },
    {
     "name": "stdout",
     "output_type": "stream",
     "text": [
      "slope: 0.237854    intercept: 2621.998664   R-squared: 0.989877\n"
     ]
    },
    {
     "name": "stderr",
     "output_type": "stream",
     "text": [
      "2019-12-06 15:47:33: oggm.workflow: Execute entity task apparent_mb_from_linear_mb on 1 glaciers\n",
      "2019-12-06 15:47:33: oggm.workflow: Execute entity task glacier_statistics on 1 glaciers\n",
      "2019-12-06 15:47:34: oggm.cfg: Using configuration file: /home/pelto/anaconda2/envs/oggm_env/lib/python3.6/site-packages/oggm/params.cfg\n"
     ]
    },
    {
     "name": "stdout",
     "output_type": "stream",
     "text": [
      "{'ela_h': 2545.680813745039, 'grad': 7.11}\n",
      "slope default: 0.237854    intercept: 2621.998664   R-squared: 0.989877\n",
      "slope: 0.140647    intercept: 2545.680814   R-squared: 1.000000\n",
      "<oggm.GlacierDirectory>\n",
      "  RGI id: RGI60-02.02171\n",
      "  Region: 02: Western Canada and US\n",
      "  Subregion: 02-03: N Rocky Mtns                    \n",
      "  Glacier type: Glacier\n",
      "  Terminus type: Land-terminating\n",
      "  Area: 16.884 km2\n",
      "  Lon, Lat: (-116.92973613761615, 50.80689063881644)\n",
      "  Grid (nx, ny): (106, 125)\n",
      "  Grid (dx, dy): (68.0, -68.0)\n",
      "\n"
     ]
    },
    {
     "name": "stderr",
     "output_type": "stream",
     "text": [
      "2019-12-06 15:47:35: oggm.cfg: Using configuration file: /home/pelto/anaconda2/envs/oggm_env/lib/python3.6/site-packages/oggm/params.cfg\n"
     ]
    },
    {
     "name": "stdout",
     "output_type": "stream",
     "text": [
      "/home/pelto/Desktop/lidar_cbt_analysis/conrad/20160912_conrad_dem1_clip_slave.tif\n"
     ]
    },
    {
     "name": "stderr",
     "output_type": "stream",
     "text": [
      "2019-12-06 15:47:36: oggm.workflow: Execute entity task define_glacier_region on 1 glaciers\n",
      "2019-12-06 15:47:36: oggm.workflow: Multiprocessing: using all available processors (N=8)\n",
      "/home/pelto/anaconda2/envs/oggm_env/lib/python3.6/site-packages/geopandas/io/file.py:108: FionaDeprecationWarning: Use fiona.Env() instead.\n",
      "  with fiona.drivers():\n",
      "2019-12-06 15:47:38: oggm.workflow: Execute entity task glacier_masks on 1 glaciers\n",
      "/home/pelto/anaconda2/envs/oggm_env/lib/python3.6/site-packages/oggm/core/gis.py:505: RuntimeWarning: invalid value encountered in less_equal\n",
      "  topo[topo <= -999.] = np.NaN\n",
      "2019-12-06 15:47:38: oggm.workflow: Execute entity task compute_centerlines on 1 glaciers\n",
      "2019-12-06 15:47:38: oggm.workflow: Execute entity task initialize_flowlines on 1 glaciers\n",
      "2019-12-06 15:47:38: oggm.workflow: Execute entity task compute_downstream_line on 1 glaciers\n",
      "2019-12-06 15:47:38: oggm.workflow: Execute entity task compute_downstream_bedshape on 1 glaciers\n",
      "2019-12-06 15:47:38: oggm.workflow: Execute entity task catchment_area on 1 glaciers\n",
      "2019-12-06 15:47:39: oggm.workflow: Execute entity task catchment_intersections on 1 glaciers\n",
      "/home/pelto/anaconda2/envs/oggm_env/lib/python3.6/site-packages/geopandas/io/file.py:108: FionaDeprecationWarning: Use fiona.Env() instead.\n",
      "  with fiona.drivers():\n",
      "2019-12-06 15:47:39: oggm.workflow: Execute entity task catchment_width_geom on 1 glaciers\n",
      "2019-12-06 15:47:40: oggm.workflow: Execute entity task catchment_width_correction on 1 glaciers\n",
      "2019-12-06 15:47:40: oggm.workflow: Execute entity task process_cru_data on 1 glaciers\n",
      "2019-12-06 15:47:41: oggm.workflow: Execute entity task local_t_star on 1 glaciers\n",
      "2019-12-06 15:47:41: oggm.workflow: Execute entity task mu_star_calibration on 1 glaciers\n",
      "2019-12-06 15:47:41: oggm.workflow: Execute entity task prepare_for_inversion on 1 glaciers\n",
      "2019-12-06 15:47:41: oggm.workflow: Execute entity task mass_conservation_inversion on 1 glaciers\n",
      "2019-12-06 15:47:41: oggm.workflow: Execute entity task filter_inversion_output on 1 glaciers\n",
      "2019-12-06 15:47:41: oggm.workflow: Execute entity task distribute_thickness_per_altitude on 1 glaciers\n",
      "2019-12-06 15:47:41: oggm.workflow: Execute entity task distribute_thickness_per_altitude on 1 glaciers\n"
     ]
    },
    {
     "name": "stdout",
     "output_type": "stream",
     "text": [
      "slope: 0.237744    intercept: 2616.717127   R-squared: 0.989362\n"
     ]
    },
    {
     "name": "stderr",
     "output_type": "stream",
     "text": [
      "2019-12-06 15:47:42: oggm.workflow: Execute entity task apparent_mb_from_linear_mb on 1 glaciers\n",
      "2019-12-06 15:47:42: oggm.workflow: Execute entity task glacier_statistics on 1 glaciers\n"
     ]
    },
    {
     "name": "stdout",
     "output_type": "stream",
     "text": [
      "{'ela_h': 2539.5413371238974, 'grad': 7.11}\n",
      "slope default: 0.237744    intercept: 2616.717127   R-squared: 0.989362\n",
      "slope: 0.140647    intercept: 2539.541337   R-squared: 1.000000\n",
      "<oggm.GlacierDirectory>\n",
      "  RGI id: RGI60-02.02171\n",
      "  Region: 02: Western Canada and US\n",
      "  Subregion: 02-03: N Rocky Mtns                    \n",
      "  Glacier type: Glacier\n",
      "  Terminus type: Land-terminating\n",
      "  Area: 16.884 km2\n",
      "  Lon, Lat: (-116.92973613761615, 50.80689063881644)\n",
      "  Grid (nx, ny): (106, 125)\n",
      "  Grid (dx, dy): (68.0, -68.0)\n",
      "\n",
      "Fantanstic, both arrays have the same shape of:  (106, 87)\n"
     ]
    },
    {
     "name": "stderr",
     "output_type": "stream",
     "text": [
      "2019-12-06 15:47:42: oggm.cfg: Using configuration file: /home/pelto/anaconda2/envs/oggm_env/lib/python3.6/site-packages/oggm/params.cfg\n",
      "2019-12-06 15:47:43: oggm.cfg: Using configuration file: /home/pelto/anaconda2/envs/oggm_env/lib/python3.6/site-packages/oggm/params.cfg\n"
     ]
    },
    {
     "name": "stdout",
     "output_type": "stream",
     "text": [
      "/home/pelto/Desktop/lidar_cbt_analysis/conrad/20160912_conrad_dem1_clip_slave.tif\n"
     ]
    },
    {
     "name": "stderr",
     "output_type": "stream",
     "text": [
      "2019-12-06 15:47:44: oggm.workflow: Execute entity task define_glacier_region on 1 glaciers\n",
      "2019-12-06 15:47:44: oggm.workflow: Multiprocessing: using all available processors (N=8)\n",
      "/home/pelto/anaconda2/envs/oggm_env/lib/python3.6/site-packages/geopandas/io/file.py:108: FionaDeprecationWarning: Use fiona.Env() instead.\n",
      "  with fiona.drivers():\n",
      "2019-12-06 15:47:46: oggm.workflow: Execute entity task glacier_masks on 1 glaciers\n",
      "/home/pelto/anaconda2/envs/oggm_env/lib/python3.6/site-packages/oggm/core/gis.py:505: RuntimeWarning: invalid value encountered in less_equal\n",
      "  topo[topo <= -999.] = np.NaN\n",
      "2019-12-06 15:47:46: oggm.workflow: Execute entity task compute_centerlines on 1 glaciers\n",
      "2019-12-06 15:47:47: oggm.workflow: Execute entity task initialize_flowlines on 1 glaciers\n",
      "2019-12-06 15:47:47: oggm.workflow: Execute entity task compute_downstream_line on 1 glaciers\n",
      "2019-12-06 15:47:47: oggm.workflow: Execute entity task compute_downstream_bedshape on 1 glaciers\n",
      "2019-12-06 15:47:47: oggm.workflow: Execute entity task catchment_area on 1 glaciers\n",
      "2019-12-06 15:47:48: oggm.workflow: Execute entity task catchment_intersections on 1 glaciers\n",
      "/home/pelto/anaconda2/envs/oggm_env/lib/python3.6/site-packages/geopandas/io/file.py:108: FionaDeprecationWarning: Use fiona.Env() instead.\n",
      "  with fiona.drivers():\n",
      "2019-12-06 15:47:48: oggm.workflow: Execute entity task catchment_width_geom on 1 glaciers\n",
      "2019-12-06 15:47:48: oggm.workflow: Execute entity task catchment_width_correction on 1 glaciers\n",
      "2019-12-06 15:47:48: oggm.workflow: Execute entity task process_cru_data on 1 glaciers\n",
      "2019-12-06 15:47:49: oggm.workflow: Execute entity task local_t_star on 1 glaciers\n",
      "2019-12-06 15:47:49: oggm.workflow: Execute entity task mu_star_calibration on 1 glaciers\n",
      "2019-12-06 15:47:49: oggm.workflow: Execute entity task prepare_for_inversion on 1 glaciers\n",
      "2019-12-06 15:47:49: oggm.workflow: Execute entity task mass_conservation_inversion on 1 glaciers\n",
      "2019-12-06 15:47:49: oggm.workflow: Execute entity task filter_inversion_output on 1 glaciers\n",
      "2019-12-06 15:47:49: oggm.workflow: Execute entity task distribute_thickness_per_altitude on 1 glaciers\n",
      "2019-12-06 15:47:50: oggm.workflow: Execute entity task distribute_thickness_per_altitude on 1 glaciers\n"
     ]
    },
    {
     "name": "stdout",
     "output_type": "stream",
     "text": [
      "slope: 0.237744    intercept: 2616.717127   R-squared: 0.989362\n"
     ]
    },
    {
     "name": "stderr",
     "output_type": "stream",
     "text": [
      "2019-12-06 15:47:50: oggm.workflow: Execute entity task apparent_mb_from_linear_mb on 1 glaciers\n",
      "2019-12-06 15:47:50: oggm.workflow: Execute entity task glacier_statistics on 1 glaciers\n"
     ]
    },
    {
     "name": "stdout",
     "output_type": "stream",
     "text": [
      "{'ela_h': 2539.5413371238974, 'grad': 7.11}\n",
      "slope default: 0.237744    intercept: 2616.717127   R-squared: 0.989362\n",
      "slope: 0.140647    intercept: 2539.541337   R-squared: 1.000000\n",
      "<oggm.GlacierDirectory>\n",
      "  RGI id: RGI60-02.02171\n",
      "  Region: 02: Western Canada and US\n",
      "  Subregion: 02-03: N Rocky Mtns                    \n",
      "  Glacier type: Glacier\n",
      "  Terminus type: Land-terminating\n",
      "  Area: 16.884 km2\n",
      "  Lon, Lat: (-116.92973613761615, 50.80689063881644)\n",
      "  Grid (nx, ny): (106, 125)\n",
      "  Grid (dx, dy): (68.0, -68.0)\n",
      "\n",
      "found  6  problem(s) within a total number of data point of:  824  problem share  0.020311545539838674\n",
      "corrected quadratic error is:  3226458.402889242\n",
      "ME: 31.8936624712157\n",
      "MAE: 46.94393620907682\n"
     ]
    },
    {
     "data": {
      "image/png": "[encoded data removed]",
      "text/plain": [
       "<Figure size 432x288 with 4 Axes>"
      ]
     },
     "metadata": {
      "needs_background": "light"
     },
     "output_type": "display_data"
    },
    {
     "name": "stderr",
     "output_type": "stream",
     "text": [
      "2019-12-06 15:47:50: oggm.cfg: Using configuration file: /home/pelto/anaconda2/envs/oggm_env/lib/python3.6/site-packages/oggm/params.cfg\n"
     ]
    },
    {
     "name": "stdout",
     "output_type": "stream",
     "text": [
      "Minimal value is 46.94393620907682 at inversion_glen_a = 7.381e-24\n",
      "obs grid cells count: 824\n",
      "dfb exponent:         0.25\n",
      "smoothing window (m): 101.0\n",
      "smoothing radius (m): 69.0\n"
     ]
    },
    {
     "name": "stderr",
     "output_type": "stream",
     "text": [
      "2019-12-06 15:47:52: oggm.workflow: Execute entity task glacier_masks on 1 glaciers\n",
      "2019-12-06 15:47:52: oggm.workflow: Multiprocessing: using all available processors (N=8)\n",
      "2019-12-06 15:47:52: oggm.workflow: Execute entity task compute_centerlines on 1 glaciers\n",
      "2019-12-06 15:47:53: oggm.workflow: Execute entity task initialize_flowlines on 1 glaciers\n",
      "2019-12-06 15:47:53: oggm.workflow: Execute entity task compute_downstream_line on 1 glaciers\n",
      "2019-12-06 15:47:53: oggm.workflow: Execute entity task compute_downstream_bedshape on 1 glaciers\n",
      "2019-12-06 15:47:53: oggm.workflow: Execute entity task catchment_area on 1 glaciers\n",
      "2019-12-06 15:47:54: oggm.workflow: Execute entity task catchment_intersections on 1 glaciers\n",
      "/home/pelto/anaconda2/envs/oggm_env/lib/python3.6/site-packages/geopandas/io/file.py:108: FionaDeprecationWarning: Use fiona.Env() instead.\n",
      "  with fiona.drivers():\n",
      "2019-12-06 15:47:54: oggm.workflow: Execute entity task catchment_width_geom on 1 glaciers\n",
      "2019-12-06 15:47:54: oggm.workflow: Execute entity task catchment_width_correction on 1 glaciers\n",
      "2019-12-06 15:47:54: oggm.workflow: Execute entity task process_cru_data on 1 glaciers\n",
      "2019-12-06 15:47:55: oggm.workflow: Execute entity task local_t_star on 1 glaciers\n",
      "2019-12-06 15:47:55: oggm.workflow: Execute entity task mu_star_calibration on 1 glaciers\n",
      "2019-12-06 15:47:55: oggm.workflow: Execute entity task prepare_for_inversion on 1 glaciers\n",
      "2019-12-06 15:47:55: oggm.workflow: Execute entity task mass_conservation_inversion on 1 glaciers\n",
      "2019-12-06 15:47:55: oggm.workflow: Execute entity task filter_inversion_output on 1 glaciers\n",
      "2019-12-06 15:47:55: oggm.workflow: Execute entity task distribute_thickness_per_altitude on 1 glaciers\n",
      "2019-12-06 15:47:56: oggm.workflow: Execute entity task distribute_thickness_per_altitude on 1 glaciers\n"
     ]
    },
    {
     "name": "stdout",
     "output_type": "stream",
     "text": [
      "slope: 0.237854    intercept: 2621.998664   R-squared: 0.989877\n"
     ]
    },
    {
     "name": "stderr",
     "output_type": "stream",
     "text": [
      "2019-12-06 15:47:56: oggm.workflow: Execute entity task apparent_mb_from_linear_mb on 1 glaciers\n",
      "2019-12-06 15:47:56: oggm.workflow: Execute entity task glacier_statistics on 1 glaciers\n"
     ]
    },
    {
     "name": "stdout",
     "output_type": "stream",
     "text": [
      "{'ela_h': 2545.680813745039, 'grad': 7.11}\n",
      "slope default: 0.237854    intercept: 2621.998664   R-squared: 0.989877\n",
      "slope: 0.140647    intercept: 2545.680814   R-squared: 1.000000\n",
      "parameter value: 7.381e-24\n",
      "\n",
      "glacier total volume: rgi_id\n",
      "RGI60-02.02171    1.340207\n",
      "Name: inv_volume_km3, dtype: float64 km^3 \n",
      " \n",
      " \n",
      "\n",
      "mean thickness value: 97.84181091915893 m \n",
      "\n",
      "<oggm.GlacierDirectory>\n",
      "  RGI id: RGI60-02.02171\n",
      "  Region: 02: Western Canada and US\n",
      "  Subregion: 02-03: N Rocky Mtns                    \n",
      "  Glacier type: Glacier\n",
      "  Terminus type: Land-terminating\n",
      "  Area: 16.884 km2\n",
      "  Lon, Lat: (-116.92973613761615, 50.80689063881644)\n",
      "  Grid (nx, ny): (106, 125)\n",
      "  Grid (dx, dy): (68.0, -68.0)\n",
      "\n"
     ]
    },
    {
     "name": "stderr",
     "output_type": "stream",
     "text": [
      "2019-12-06 15:47:56: oggm.cfg: Using configuration file: /home/pelto/anaconda2/envs/oggm_env/lib/python3.6/site-packages/oggm/params.cfg\n",
      "2019-12-06 15:47:58: oggm.workflow: Execute entity task glacier_masks on 1 glaciers\n",
      "2019-12-06 15:47:58: oggm.workflow: Multiprocessing: using all available processors (N=8)\n",
      "2019-12-06 15:47:58: oggm.workflow: Execute entity task compute_centerlines on 1 glaciers\n",
      "2019-12-06 15:47:58: oggm.workflow: Execute entity task initialize_flowlines on 1 glaciers\n",
      "2019-12-06 15:47:59: oggm.workflow: Execute entity task compute_downstream_line on 1 glaciers\n",
      "2019-12-06 15:47:59: oggm.workflow: Execute entity task compute_downstream_bedshape on 1 glaciers\n",
      "2019-12-06 15:47:59: oggm.workflow: Execute entity task catchment_area on 1 glaciers\n",
      "2019-12-06 15:48:00: oggm.workflow: Execute entity task catchment_intersections on 1 glaciers\n",
      "/home/pelto/anaconda2/envs/oggm_env/lib/python3.6/site-packages/geopandas/io/file.py:108: FionaDeprecationWarning: Use fiona.Env() instead.\n",
      "  with fiona.drivers():\n",
      "2019-12-06 15:48:00: oggm.workflow: Execute entity task catchment_width_geom on 1 glaciers\n",
      "2019-12-06 15:48:00: oggm.workflow: Execute entity task catchment_width_correction on 1 glaciers\n",
      "2019-12-06 15:48:00: oggm.workflow: Execute entity task process_cru_data on 1 glaciers\n",
      "2019-12-06 15:48:01: oggm.workflow: Execute entity task local_t_star on 1 glaciers\n",
      "2019-12-06 15:48:01: oggm.workflow: Execute entity task mu_star_calibration on 1 glaciers\n",
      "2019-12-06 15:48:01: oggm.workflow: Execute entity task prepare_for_inversion on 1 glaciers\n",
      "2019-12-06 15:48:01: oggm.workflow: Execute entity task mass_conservation_inversion on 1 glaciers\n",
      "2019-12-06 15:48:01: oggm.workflow: Execute entity task filter_inversion_output on 1 glaciers\n",
      "2019-12-06 15:48:01: oggm.workflow: Execute entity task distribute_thickness_per_altitude on 1 glaciers\n",
      "2019-12-06 15:48:01: oggm.workflow: Execute entity task distribute_thickness_per_altitude on 1 glaciers\n"
     ]
    },
    {
     "name": "stdout",
     "output_type": "stream",
     "text": [
      "slope: 0.237854    intercept: 2621.998664   R-squared: 0.989877\n"
     ]
    },
    {
     "name": "stderr",
     "output_type": "stream",
     "text": [
      "2019-12-06 15:48:02: oggm.workflow: Execute entity task apparent_mb_from_linear_mb on 1 glaciers\n",
      "2019-12-06 15:48:02: oggm.workflow: Execute entity task glacier_statistics on 1 glaciers\n",
      "2019-12-06 15:48:02: oggm.cfg: Using configuration file: /home/pelto/anaconda2/envs/oggm_env/lib/python3.6/site-packages/oggm/params.cfg\n"
     ]
    },
    {
     "name": "stdout",
     "output_type": "stream",
     "text": [
      "{'ela_h': 2545.680813745039, 'grad': 7.11}\n",
      "slope default: 0.237854    intercept: 2621.998664   R-squared: 0.989877\n",
      "slope: 0.140647    intercept: 2545.680814   R-squared: 1.000000\n",
      "<oggm.GlacierDirectory>\n",
      "  RGI id: RGI60-02.02171\n",
      "  Region: 02: Western Canada and US\n",
      "  Subregion: 02-03: N Rocky Mtns                    \n",
      "  Glacier type: Glacier\n",
      "  Terminus type: Land-terminating\n",
      "  Area: 16.884 km2\n",
      "  Lon, Lat: (-116.92973613761615, 50.80689063881644)\n",
      "  Grid (nx, ny): (106, 125)\n",
      "  Grid (dx, dy): (68.0, -68.0)\n",
      "\n"
     ]
    },
    {
     "name": "stderr",
     "output_type": "stream",
     "text": [
      "2019-12-06 15:48:03: oggm.cfg: Using configuration file: /home/pelto/anaconda2/envs/oggm_env/lib/python3.6/site-packages/oggm/params.cfg\n"
     ]
    },
    {
     "name": "stdout",
     "output_type": "stream",
     "text": [
      "/home/pelto/Desktop/lidar_cbt_analysis/conrad/20160912_conrad_dem1_clip_slave.tif\n"
     ]
    },
    {
     "name": "stderr",
     "output_type": "stream",
     "text": [
      "2019-12-06 15:48:04: oggm.workflow: Execute entity task define_glacier_region on 1 glaciers\n",
      "2019-12-06 15:48:04: oggm.workflow: Multiprocessing: using all available processors (N=8)\n",
      "/home/pelto/anaconda2/envs/oggm_env/lib/python3.6/site-packages/geopandas/io/file.py:108: FionaDeprecationWarning: Use fiona.Env() instead.\n",
      "  with fiona.drivers():\n",
      "2019-12-06 15:48:06: oggm.workflow: Execute entity task glacier_masks on 1 glaciers\n",
      "/home/pelto/anaconda2/envs/oggm_env/lib/python3.6/site-packages/oggm/core/gis.py:505: RuntimeWarning: invalid value encountered in less_equal\n",
      "  topo[topo <= -999.] = np.NaN\n",
      "2019-12-06 15:48:06: oggm.workflow: Execute entity task compute_centerlines on 1 glaciers\n",
      "2019-12-06 15:48:07: oggm.workflow: Execute entity task initialize_flowlines on 1 glaciers\n",
      "2019-12-06 15:48:07: oggm.workflow: Execute entity task compute_downstream_line on 1 glaciers\n",
      "2019-12-06 15:48:07: oggm.workflow: Execute entity task compute_downstream_bedshape on 1 glaciers\n",
      "2019-12-06 15:48:07: oggm.workflow: Execute entity task catchment_area on 1 glaciers\n",
      "2019-12-06 15:48:08: oggm.workflow: Execute entity task catchment_intersections on 1 glaciers\n",
      "/home/pelto/anaconda2/envs/oggm_env/lib/python3.6/site-packages/geopandas/io/file.py:108: FionaDeprecationWarning: Use fiona.Env() instead.\n",
      "  with fiona.drivers():\n",
      "2019-12-06 15:48:08: oggm.workflow: Execute entity task catchment_width_geom on 1 glaciers\n",
      "2019-12-06 15:48:08: oggm.workflow: Execute entity task catchment_width_correction on 1 glaciers\n",
      "2019-12-06 15:48:08: oggm.workflow: Execute entity task process_cru_data on 1 glaciers\n",
      "2019-12-06 15:48:09: oggm.workflow: Execute entity task local_t_star on 1 glaciers\n",
      "2019-12-06 15:48:09: oggm.workflow: Execute entity task mu_star_calibration on 1 glaciers\n",
      "2019-12-06 15:48:09: oggm.workflow: Execute entity task prepare_for_inversion on 1 glaciers\n",
      "2019-12-06 15:48:09: oggm.workflow: Execute entity task mass_conservation_inversion on 1 glaciers\n",
      "2019-12-06 15:48:09: oggm.workflow: Execute entity task filter_inversion_output on 1 glaciers\n",
      "2019-12-06 15:48:09: oggm.workflow: Execute entity task distribute_thickness_per_altitude on 1 glaciers\n",
      "2019-12-06 15:48:09: oggm.workflow: Execute entity task distribute_thickness_per_altitude on 1 glaciers\n"
     ]
    },
    {
     "name": "stdout",
     "output_type": "stream",
     "text": [
      "slope: 0.237744    intercept: 2616.717127   R-squared: 0.989362\n"
     ]
    },
    {
     "name": "stderr",
     "output_type": "stream",
     "text": [
      "2019-12-06 15:48:10: oggm.workflow: Execute entity task apparent_mb_from_linear_mb on 1 glaciers\n",
      "2019-12-06 15:48:10: oggm.workflow: Execute entity task glacier_statistics on 1 glaciers\n"
     ]
    },
    {
     "name": "stdout",
     "output_type": "stream",
     "text": [
      "{'ela_h': 2539.5413371238974, 'grad': 7.11}\n",
      "slope default: 0.237744    intercept: 2616.717127   R-squared: 0.989362\n",
      "slope: 0.140647    intercept: 2539.541337   R-squared: 1.000000\n",
      "<oggm.GlacierDirectory>\n",
      "  RGI id: RGI60-02.02171\n",
      "  Region: 02: Western Canada and US\n",
      "  Subregion: 02-03: N Rocky Mtns                    \n",
      "  Glacier type: Glacier\n",
      "  Terminus type: Land-terminating\n",
      "  Area: 16.884 km2\n",
      "  Lon, Lat: (-116.92973613761615, 50.80689063881644)\n",
      "  Grid (nx, ny): (106, 125)\n",
      "  Grid (dx, dy): (68.0, -68.0)\n",
      "\n",
      "Fantanstic, both arrays have the same shape of:  (106, 87)\n"
     ]
    },
    {
     "name": "stderr",
     "output_type": "stream",
     "text": [
      "2019-12-06 15:48:10: oggm.cfg: Using configuration file: /home/pelto/anaconda2/envs/oggm_env/lib/python3.6/site-packages/oggm/params.cfg\n",
      "2019-12-06 15:48:11: oggm.cfg: Using configuration file: /home/pelto/anaconda2/envs/oggm_env/lib/python3.6/site-packages/oggm/params.cfg\n"
     ]
    },
    {
     "name": "stdout",
     "output_type": "stream",
     "text": [
      "/home/pelto/Desktop/lidar_cbt_analysis/conrad/20160912_conrad_dem1_clip_slave.tif\n"
     ]
    },
    {
     "name": "stderr",
     "output_type": "stream",
     "text": [
      "2019-12-06 15:48:12: oggm.workflow: Execute entity task define_glacier_region on 1 glaciers\n",
      "2019-12-06 15:48:13: oggm.workflow: Multiprocessing: using all available processors (N=8)\n",
      "/home/pelto/anaconda2/envs/oggm_env/lib/python3.6/site-packages/geopandas/io/file.py:108: FionaDeprecationWarning: Use fiona.Env() instead.\n",
      "  with fiona.drivers():\n",
      "2019-12-06 15:48:15: oggm.workflow: Execute entity task glacier_masks on 1 glaciers\n",
      "/home/pelto/anaconda2/envs/oggm_env/lib/python3.6/site-packages/oggm/core/gis.py:505: RuntimeWarning: invalid value encountered in less_equal\n",
      "  topo[topo <= -999.] = np.NaN\n",
      "2019-12-06 15:48:15: oggm.workflow: Execute entity task compute_centerlines on 1 glaciers\n",
      "2019-12-06 15:48:15: oggm.workflow: Execute entity task initialize_flowlines on 1 glaciers\n",
      "2019-12-06 15:48:15: oggm.workflow: Execute entity task compute_downstream_line on 1 glaciers\n",
      "2019-12-06 15:48:15: oggm.workflow: Execute entity task compute_downstream_bedshape on 1 glaciers\n",
      "2019-12-06 15:48:15: oggm.workflow: Execute entity task catchment_area on 1 glaciers\n",
      "2019-12-06 15:48:16: oggm.workflow: Execute entity task catchment_intersections on 1 glaciers\n",
      "/home/pelto/anaconda2/envs/oggm_env/lib/python3.6/site-packages/geopandas/io/file.py:108: FionaDeprecationWarning: Use fiona.Env() instead.\n",
      "  with fiona.drivers():\n",
      "2019-12-06 15:48:16: oggm.workflow: Execute entity task catchment_width_geom on 1 glaciers\n",
      "2019-12-06 15:48:16: oggm.workflow: Execute entity task catchment_width_correction on 1 glaciers\n",
      "2019-12-06 15:48:16: oggm.workflow: Execute entity task process_cru_data on 1 glaciers\n",
      "2019-12-06 15:48:17: oggm.workflow: Execute entity task local_t_star on 1 glaciers\n",
      "2019-12-06 15:48:17: oggm.workflow: Execute entity task mu_star_calibration on 1 glaciers\n",
      "2019-12-06 15:48:17: oggm.workflow: Execute entity task prepare_for_inversion on 1 glaciers\n",
      "2019-12-06 15:48:17: oggm.workflow: Execute entity task mass_conservation_inversion on 1 glaciers\n",
      "2019-12-06 15:48:17: oggm.workflow: Execute entity task filter_inversion_output on 1 glaciers\n",
      "2019-12-06 15:48:17: oggm.workflow: Execute entity task distribute_thickness_per_altitude on 1 glaciers\n",
      "2019-12-06 15:48:18: oggm.workflow: Execute entity task distribute_thickness_per_altitude on 1 glaciers\n"
     ]
    },
    {
     "name": "stdout",
     "output_type": "stream",
     "text": [
      "slope: 0.237744    intercept: 2616.717127   R-squared: 0.989362\n"
     ]
    },
    {
     "name": "stderr",
     "output_type": "stream",
     "text": [
      "2019-12-06 15:48:18: oggm.workflow: Execute entity task apparent_mb_from_linear_mb on 1 glaciers\n",
      "2019-12-06 15:48:18: oggm.workflow: Execute entity task glacier_statistics on 1 glaciers\n"
     ]
    },
    {
     "name": "stdout",
     "output_type": "stream",
     "text": [
      "{'ela_h': 2539.5413371238974, 'grad': 7.11}\n",
      "slope default: 0.237744    intercept: 2616.717127   R-squared: 0.989362\n",
      "slope: 0.140647    intercept: 2539.541337   R-squared: 1.000000\n",
      "<oggm.GlacierDirectory>\n",
      "  RGI id: RGI60-02.02171\n",
      "  Region: 02: Western Canada and US\n",
      "  Subregion: 02-03: N Rocky Mtns                    \n",
      "  Glacier type: Glacier\n",
      "  Terminus type: Land-terminating\n",
      "  Area: 16.884 km2\n",
      "  Lon, Lat: (-116.92973613761615, 50.80689063881644)\n",
      "  Grid (nx, ny): (106, 125)\n",
      "  Grid (dx, dy): (68.0, -68.0)\n",
      "\n",
      "found  6  problem(s) within a total number of data point of:  824  problem share  0.021495830085136558\n",
      "corrected quadratic error is:  3045015.5266601625\n",
      "ME: 28.86017452628867\n",
      "MAE: 45.84466368017845\n"
     ]
    },
    {
     "data": {
      "image/png": "[encoded data removed]",
      "text/plain": [
       "<Figure size 432x288 with 6 Axes>"
      ]
     },
     "metadata": {
      "needs_background": "light"
     },
     "output_type": "display_data"
    },
    {
     "name": "stderr",
     "output_type": "stream",
     "text": [
      "2019-12-06 15:48:19: oggm.cfg: Using configuration file: /home/pelto/anaconda2/envs/oggm_env/lib/python3.6/site-packages/oggm/params.cfg\n"
     ]
    },
    {
     "name": "stdout",
     "output_type": "stream",
     "text": [
      "Minimal value is 45.84466368017845 at inversion_glen_a = 7.381e-24\n",
      "obs grid cells count: 824\n",
      "dfb exponent:         0.25\n",
      "smoothing window (m): 101.0\n",
      "smoothing radius (m): 51.0\n"
     ]
    },
    {
     "name": "stderr",
     "output_type": "stream",
     "text": [
      "2019-12-06 15:48:21: oggm.workflow: Execute entity task glacier_masks on 1 glaciers\n",
      "2019-12-06 15:48:21: oggm.workflow: Multiprocessing: using all available processors (N=8)\n",
      "2019-12-06 15:48:21: oggm.workflow: Execute entity task compute_centerlines on 1 glaciers\n",
      "2019-12-06 15:48:21: oggm.workflow: Execute entity task initialize_flowlines on 1 glaciers\n",
      "2019-12-06 15:48:21: oggm.workflow: Execute entity task compute_downstream_line on 1 glaciers\n",
      "2019-12-06 15:48:21: oggm.workflow: Execute entity task compute_downstream_bedshape on 1 glaciers\n",
      "2019-12-06 15:48:21: oggm.workflow: Execute entity task catchment_area on 1 glaciers\n",
      "2019-12-06 15:48:22: oggm.workflow: Execute entity task catchment_intersections on 1 glaciers\n",
      "/home/pelto/anaconda2/envs/oggm_env/lib/python3.6/site-packages/geopandas/io/file.py:108: FionaDeprecationWarning: Use fiona.Env() instead.\n",
      "  with fiona.drivers():\n",
      "2019-12-06 15:48:22: oggm.workflow: Execute entity task catchment_width_geom on 1 glaciers\n",
      "2019-12-06 15:48:22: oggm.workflow: Execute entity task catchment_width_correction on 1 glaciers\n",
      "2019-12-06 15:48:22: oggm.workflow: Execute entity task process_cru_data on 1 glaciers\n",
      "2019-12-06 15:48:23: oggm.workflow: Execute entity task local_t_star on 1 glaciers\n",
      "2019-12-06 15:48:23: oggm.workflow: Execute entity task mu_star_calibration on 1 glaciers\n",
      "2019-12-06 15:48:23: oggm.workflow: Execute entity task prepare_for_inversion on 1 glaciers\n",
      "2019-12-06 15:48:23: oggm.workflow: Execute entity task mass_conservation_inversion on 1 glaciers\n",
      "2019-12-06 15:48:23: oggm.workflow: Execute entity task filter_inversion_output on 1 glaciers\n",
      "2019-12-06 15:48:23: oggm.workflow: Execute entity task distribute_thickness_per_altitude on 1 glaciers\n",
      "2019-12-06 15:48:24: oggm.workflow: Execute entity task distribute_thickness_per_altitude on 1 glaciers\n"
     ]
    },
    {
     "name": "stdout",
     "output_type": "stream",
     "text": [
      "slope: 0.237854    intercept: 2621.998664   R-squared: 0.989877\n"
     ]
    },
    {
     "name": "stderr",
     "output_type": "stream",
     "text": [
      "2019-12-06 15:48:24: oggm.workflow: Execute entity task apparent_mb_from_linear_mb on 1 glaciers\n",
      "2019-12-06 15:48:24: oggm.workflow: Execute entity task glacier_statistics on 1 glaciers\n"
     ]
    },
    {
     "name": "stdout",
     "output_type": "stream",
     "text": [
      "{'ela_h': 2545.680813745039, 'grad': 7.11}\n",
      "slope default: 0.237854    intercept: 2621.998664   R-squared: 0.989877\n",
      "slope: 0.140647    intercept: 2545.680814   R-squared: 1.000000\n",
      "parameter value: 7.381e-24\n",
      "\n",
      "glacier total volume: rgi_id\n",
      "RGI60-02.02171    1.340207\n",
      "Name: inv_volume_km3, dtype: float64 km^3 \n",
      " \n",
      " \n",
      "\n",
      "mean thickness value: 97.84181091915893 m \n",
      "\n",
      "<oggm.GlacierDirectory>\n",
      "  RGI id: RGI60-02.02171\n",
      "  Region: 02: Western Canada and US\n",
      "  Subregion: 02-03: N Rocky Mtns                    \n",
      "  Glacier type: Glacier\n",
      "  Terminus type: Land-terminating\n",
      "  Area: 16.884 km2\n",
      "  Lon, Lat: (-116.92973613761615, 50.80689063881644)\n",
      "  Grid (nx, ny): (106, 125)\n",
      "  Grid (dx, dy): (68.0, -68.0)\n",
      "\n"
     ]
    },
    {
     "name": "stderr",
     "output_type": "stream",
     "text": [
      "2019-12-06 15:48:25: oggm.cfg: Using configuration file: /home/pelto/anaconda2/envs/oggm_env/lib/python3.6/site-packages/oggm/params.cfg\n",
      "2019-12-06 15:48:27: oggm.workflow: Execute entity task glacier_masks on 1 glaciers\n",
      "2019-12-06 15:48:27: oggm.workflow: Multiprocessing: using all available processors (N=8)\n",
      "2019-12-06 15:48:27: oggm.workflow: Execute entity task compute_centerlines on 1 glaciers\n",
      "2019-12-06 15:48:27: oggm.workflow: Execute entity task initialize_flowlines on 1 glaciers\n",
      "2019-12-06 15:48:27: oggm.workflow: Execute entity task compute_downstream_line on 1 glaciers\n",
      "2019-12-06 15:48:27: oggm.workflow: Execute entity task compute_downstream_bedshape on 1 glaciers\n",
      "2019-12-06 15:48:27: oggm.workflow: Execute entity task catchment_area on 1 glaciers\n",
      "2019-12-06 15:48:28: oggm.workflow: Execute entity task catchment_intersections on 1 glaciers\n",
      "/home/pelto/anaconda2/envs/oggm_env/lib/python3.6/site-packages/geopandas/io/file.py:108: FionaDeprecationWarning: Use fiona.Env() instead.\n",
      "  with fiona.drivers():\n",
      "2019-12-06 15:48:28: oggm.workflow: Execute entity task catchment_width_geom on 1 glaciers\n",
      "2019-12-06 15:48:28: oggm.workflow: Execute entity task catchment_width_correction on 1 glaciers\n",
      "2019-12-06 15:48:28: oggm.workflow: Execute entity task process_cru_data on 1 glaciers\n",
      "2019-12-06 15:48:29: oggm.workflow: Execute entity task local_t_star on 1 glaciers\n",
      "2019-12-06 15:48:29: oggm.workflow: Execute entity task mu_star_calibration on 1 glaciers\n",
      "2019-12-06 15:48:29: oggm.workflow: Execute entity task prepare_for_inversion on 1 glaciers\n",
      "2019-12-06 15:48:29: oggm.workflow: Execute entity task mass_conservation_inversion on 1 glaciers\n",
      "2019-12-06 15:48:29: oggm.workflow: Execute entity task filter_inversion_output on 1 glaciers\n",
      "2019-12-06 15:48:29: oggm.workflow: Execute entity task distribute_thickness_per_altitude on 1 glaciers\n",
      "2019-12-06 15:48:30: oggm.workflow: Execute entity task distribute_thickness_per_altitude on 1 glaciers\n"
     ]
    },
    {
     "name": "stdout",
     "output_type": "stream",
     "text": [
      "slope: 0.237854    intercept: 2621.998664   R-squared: 0.989877\n"
     ]
    },
    {
     "name": "stderr",
     "output_type": "stream",
     "text": [
      "2019-12-06 15:48:30: oggm.workflow: Execute entity task apparent_mb_from_linear_mb on 1 glaciers\n",
      "2019-12-06 15:48:30: oggm.workflow: Execute entity task glacier_statistics on 1 glaciers\n",
      "2019-12-06 15:48:30: oggm.cfg: Using configuration file: /home/pelto/anaconda2/envs/oggm_env/lib/python3.6/site-packages/oggm/params.cfg\n"
     ]
    },
    {
     "name": "stdout",
     "output_type": "stream",
     "text": [
      "{'ela_h': 2545.680813745039, 'grad': 7.11}\n",
      "slope default: 0.237854    intercept: 2621.998664   R-squared: 0.989877\n",
      "slope: 0.140647    intercept: 2545.680814   R-squared: 1.000000\n",
      "<oggm.GlacierDirectory>\n",
      "  RGI id: RGI60-02.02171\n",
      "  Region: 02: Western Canada and US\n",
      "  Subregion: 02-03: N Rocky Mtns                    \n",
      "  Glacier type: Glacier\n",
      "  Terminus type: Land-terminating\n",
      "  Area: 16.884 km2\n",
      "  Lon, Lat: (-116.92973613761615, 50.80689063881644)\n",
      "  Grid (nx, ny): (106, 125)\n",
      "  Grid (dx, dy): (68.0, -68.0)\n",
      "\n"
     ]
    },
    {
     "name": "stderr",
     "output_type": "stream",
     "text": [
      "2019-12-06 15:48:31: oggm.cfg: Using configuration file: /home/pelto/anaconda2/envs/oggm_env/lib/python3.6/site-packages/oggm/params.cfg\n"
     ]
    },
    {
     "name": "stdout",
     "output_type": "stream",
     "text": [
      "/home/pelto/Desktop/lidar_cbt_analysis/conrad/20160912_conrad_dem1_clip_slave.tif\n"
     ]
    },
    {
     "name": "stderr",
     "output_type": "stream",
     "text": [
      "2019-12-06 15:48:33: oggm.workflow: Execute entity task define_glacier_region on 1 glaciers\n",
      "2019-12-06 15:48:33: oggm.workflow: Multiprocessing: using all available processors (N=8)\n",
      "/home/pelto/anaconda2/envs/oggm_env/lib/python3.6/site-packages/geopandas/io/file.py:108: FionaDeprecationWarning: Use fiona.Env() instead.\n",
      "  with fiona.drivers():\n",
      "2019-12-06 15:48:35: oggm.workflow: Execute entity task glacier_masks on 1 glaciers\n",
      "/home/pelto/anaconda2/envs/oggm_env/lib/python3.6/site-packages/oggm/core/gis.py:505: RuntimeWarning: invalid value encountered in less_equal\n",
      "  topo[topo <= -999.] = np.NaN\n",
      "2019-12-06 15:48:35: oggm.workflow: Execute entity task compute_centerlines on 1 glaciers\n",
      "2019-12-06 15:48:35: oggm.workflow: Execute entity task initialize_flowlines on 1 glaciers\n",
      "2019-12-06 15:48:35: oggm.workflow: Execute entity task compute_downstream_line on 1 glaciers\n",
      "2019-12-06 15:48:35: oggm.workflow: Execute entity task compute_downstream_bedshape on 1 glaciers\n",
      "2019-12-06 15:48:35: oggm.workflow: Execute entity task catchment_area on 1 glaciers\n",
      "2019-12-06 15:48:36: oggm.workflow: Execute entity task catchment_intersections on 1 glaciers\n",
      "/home/pelto/anaconda2/envs/oggm_env/lib/python3.6/site-packages/geopandas/io/file.py:108: FionaDeprecationWarning: Use fiona.Env() instead.\n",
      "  with fiona.drivers():\n",
      "2019-12-06 15:48:36: oggm.workflow: Execute entity task catchment_width_geom on 1 glaciers\n",
      "2019-12-06 15:48:37: oggm.workflow: Execute entity task catchment_width_correction on 1 glaciers\n",
      "2019-12-06 15:48:37: oggm.workflow: Execute entity task process_cru_data on 1 glaciers\n",
      "2019-12-06 15:48:37: oggm.workflow: Execute entity task local_t_star on 1 glaciers\n",
      "2019-12-06 15:48:37: oggm.workflow: Execute entity task mu_star_calibration on 1 glaciers\n",
      "2019-12-06 15:48:37: oggm.workflow: Execute entity task prepare_for_inversion on 1 glaciers\n",
      "2019-12-06 15:48:37: oggm.workflow: Execute entity task mass_conservation_inversion on 1 glaciers\n",
      "2019-12-06 15:48:37: oggm.workflow: Execute entity task filter_inversion_output on 1 glaciers\n",
      "2019-12-06 15:48:37: oggm.workflow: Execute entity task distribute_thickness_per_altitude on 1 glaciers\n",
      "2019-12-06 15:48:38: oggm.workflow: Execute entity task distribute_thickness_per_altitude on 1 glaciers\n"
     ]
    },
    {
     "name": "stdout",
     "output_type": "stream",
     "text": [
      "slope: 0.237744    intercept: 2616.717127   R-squared: 0.989362\n"
     ]
    },
    {
     "name": "stderr",
     "output_type": "stream",
     "text": [
      "2019-12-06 15:48:38: oggm.workflow: Execute entity task apparent_mb_from_linear_mb on 1 glaciers\n",
      "2019-12-06 15:48:38: oggm.workflow: Execute entity task glacier_statistics on 1 glaciers\n"
     ]
    },
    {
     "name": "stdout",
     "output_type": "stream",
     "text": [
      "{'ela_h': 2539.5413371238974, 'grad': 7.11}\n",
      "slope default: 0.237744    intercept: 2616.717127   R-squared: 0.989362\n",
      "slope: 0.140647    intercept: 2539.541337   R-squared: 1.000000\n",
      "<oggm.GlacierDirectory>\n",
      "  RGI id: RGI60-02.02171\n",
      "  Region: 02: Western Canada and US\n",
      "  Subregion: 02-03: N Rocky Mtns                    \n",
      "  Glacier type: Glacier\n",
      "  Terminus type: Land-terminating\n",
      "  Area: 16.884 km2\n",
      "  Lon, Lat: (-116.92973613761615, 50.80689063881644)\n",
      "  Grid (nx, ny): (106, 125)\n",
      "  Grid (dx, dy): (68.0, -68.0)\n",
      "\n",
      "Fantanstic, both arrays have the same shape of:  (106, 87)\n"
     ]
    },
    {
     "name": "stderr",
     "output_type": "stream",
     "text": [
      "2019-12-06 15:48:39: oggm.cfg: Using configuration file: /home/pelto/anaconda2/envs/oggm_env/lib/python3.6/site-packages/oggm/params.cfg\n",
      "2019-12-06 15:48:40: oggm.cfg: Using configuration file: /home/pelto/anaconda2/envs/oggm_env/lib/python3.6/site-packages/oggm/params.cfg\n"
     ]
    },
    {
     "name": "stdout",
     "output_type": "stream",
     "text": [
      "/home/pelto/Desktop/lidar_cbt_analysis/conrad/20160912_conrad_dem1_clip_slave.tif\n"
     ]
    },
    {
     "name": "stderr",
     "output_type": "stream",
     "text": [
      "2019-12-06 15:48:41: oggm.workflow: Execute entity task define_glacier_region on 1 glaciers\n",
      "2019-12-06 15:48:41: oggm.workflow: Multiprocessing: using all available processors (N=8)\n",
      "/home/pelto/anaconda2/envs/oggm_env/lib/python3.6/site-packages/geopandas/io/file.py:108: FionaDeprecationWarning: Use fiona.Env() instead.\n",
      "  with fiona.drivers():\n",
      "2019-12-06 15:48:43: oggm.workflow: Execute entity task glacier_masks on 1 glaciers\n",
      "/home/pelto/anaconda2/envs/oggm_env/lib/python3.6/site-packages/oggm/core/gis.py:505: RuntimeWarning: invalid value encountered in less_equal\n",
      "  topo[topo <= -999.] = np.NaN\n",
      "2019-12-06 15:48:43: oggm.workflow: Execute entity task compute_centerlines on 1 glaciers\n",
      "2019-12-06 15:48:43: oggm.workflow: Execute entity task initialize_flowlines on 1 glaciers\n",
      "2019-12-06 15:48:43: oggm.workflow: Execute entity task compute_downstream_line on 1 glaciers\n",
      "2019-12-06 15:48:43: oggm.workflow: Execute entity task compute_downstream_bedshape on 1 glaciers\n",
      "2019-12-06 15:48:43: oggm.workflow: Execute entity task catchment_area on 1 glaciers\n",
      "2019-12-06 15:48:44: oggm.workflow: Execute entity task catchment_intersections on 1 glaciers\n",
      "/home/pelto/anaconda2/envs/oggm_env/lib/python3.6/site-packages/geopandas/io/file.py:108: FionaDeprecationWarning: Use fiona.Env() instead.\n",
      "  with fiona.drivers():\n",
      "2019-12-06 15:48:45: oggm.workflow: Execute entity task catchment_width_geom on 1 glaciers\n",
      "2019-12-06 15:48:45: oggm.workflow: Execute entity task catchment_width_correction on 1 glaciers\n",
      "2019-12-06 15:48:45: oggm.workflow: Execute entity task process_cru_data on 1 glaciers\n",
      "2019-12-06 15:48:46: oggm.workflow: Execute entity task local_t_star on 1 glaciers\n",
      "2019-12-06 15:48:46: oggm.workflow: Execute entity task mu_star_calibration on 1 glaciers\n",
      "2019-12-06 15:48:46: oggm.workflow: Execute entity task prepare_for_inversion on 1 glaciers\n",
      "2019-12-06 15:48:46: oggm.workflow: Execute entity task mass_conservation_inversion on 1 glaciers\n",
      "2019-12-06 15:48:46: oggm.workflow: Execute entity task filter_inversion_output on 1 glaciers\n",
      "2019-12-06 15:48:46: oggm.workflow: Execute entity task distribute_thickness_per_altitude on 1 glaciers\n",
      "2019-12-06 15:48:46: oggm.workflow: Execute entity task distribute_thickness_per_altitude on 1 glaciers\n"
     ]
    },
    {
     "name": "stdout",
     "output_type": "stream",
     "text": [
      "slope: 0.237744    intercept: 2616.717127   R-squared: 0.989362\n"
     ]
    },
    {
     "name": "stderr",
     "output_type": "stream",
     "text": [
      "2019-12-06 15:48:47: oggm.workflow: Execute entity task apparent_mb_from_linear_mb on 1 glaciers\n",
      "2019-12-06 15:48:47: oggm.workflow: Execute entity task glacier_statistics on 1 glaciers\n"
     ]
    },
    {
     "name": "stdout",
     "output_type": "stream",
     "text": [
      "{'ela_h': 2539.5413371238974, 'grad': 7.11}\n",
      "slope default: 0.237744    intercept: 2616.717127   R-squared: 0.989362\n",
      "slope: 0.140647    intercept: 2539.541337   R-squared: 1.000000\n",
      "<oggm.GlacierDirectory>\n",
      "  RGI id: RGI60-02.02171\n",
      "  Region: 02: Western Canada and US\n",
      "  Subregion: 02-03: N Rocky Mtns                    \n",
      "  Glacier type: Glacier\n",
      "  Terminus type: Land-terminating\n",
      "  Area: 16.884 km2\n",
      "  Lon, Lat: (-116.92973613761615, 50.80689063881644)\n",
      "  Grid (nx, ny): (106, 125)\n",
      "  Grid (dx, dy): (68.0, -68.0)\n",
      "\n",
      "found  6  problem(s) within a total number of data point of:  824  problem share  0.020195432095613815\n",
      "corrected quadratic error is:  3245393.495705147\n",
      "ME: 32.18925293209483\n",
      "MAE: 47.056867455973205\n"
     ]
    },
    {
     "data": {
      "image/png": "[encoded data removed]",
      "text/plain": [
       "<Figure size 432x288 with 6 Axes>"
      ]
     },
     "metadata": {
      "needs_background": "light"
     },
     "output_type": "display_data"
    },
    {
     "name": "stderr",
     "output_type": "stream",
     "text": [
      "2019-12-06 15:48:47: oggm.cfg: Using configuration file: /home/pelto/anaconda2/envs/oggm_env/lib/python3.6/site-packages/oggm/params.cfg\n"
     ]
    },
    {
     "name": "stdout",
     "output_type": "stream",
     "text": [
      "Minimal value is 47.056867455973205 at inversion_glen_a = 7.381e-24\n",
      "obs grid cells count: 824\n",
      "dfb exponent:         0.25\n",
      "smoothing window (m): 101.0\n",
      "smoothing radius (m): 71.0\n"
     ]
    },
    {
     "name": "stderr",
     "output_type": "stream",
     "text": [
      "2019-12-06 15:48:49: oggm.workflow: Execute entity task glacier_masks on 1 glaciers\n",
      "2019-12-06 15:48:49: oggm.workflow: Multiprocessing: using all available processors (N=8)\n",
      "2019-12-06 15:48:50: oggm.workflow: Execute entity task compute_centerlines on 1 glaciers\n",
      "2019-12-06 15:48:50: oggm.workflow: Execute entity task initialize_flowlines on 1 glaciers\n",
      "2019-12-06 15:48:50: oggm.workflow: Execute entity task compute_downstream_line on 1 glaciers\n",
      "2019-12-06 15:48:50: oggm.workflow: Execute entity task compute_downstream_bedshape on 1 glaciers\n",
      "2019-12-06 15:48:50: oggm.workflow: Execute entity task catchment_area on 1 glaciers\n",
      "2019-12-06 15:48:51: oggm.workflow: Execute entity task catchment_intersections on 1 glaciers\n",
      "/home/pelto/anaconda2/envs/oggm_env/lib/python3.6/site-packages/geopandas/io/file.py:108: FionaDeprecationWarning: Use fiona.Env() instead.\n",
      "  with fiona.drivers():\n",
      "2019-12-06 15:48:51: oggm.workflow: Execute entity task catchment_width_geom on 1 glaciers\n",
      "2019-12-06 15:48:51: oggm.workflow: Execute entity task catchment_width_correction on 1 glaciers\n",
      "2019-12-06 15:48:51: oggm.workflow: Execute entity task process_cru_data on 1 glaciers\n",
      "2019-12-06 15:48:52: oggm.workflow: Execute entity task local_t_star on 1 glaciers\n",
      "2019-12-06 15:48:52: oggm.workflow: Execute entity task mu_star_calibration on 1 glaciers\n",
      "2019-12-06 15:48:52: oggm.workflow: Execute entity task prepare_for_inversion on 1 glaciers\n",
      "2019-12-06 15:48:52: oggm.workflow: Execute entity task mass_conservation_inversion on 1 glaciers\n",
      "2019-12-06 15:48:52: oggm.workflow: Execute entity task filter_inversion_output on 1 glaciers\n",
      "2019-12-06 15:48:52: oggm.workflow: Execute entity task distribute_thickness_per_altitude on 1 glaciers\n",
      "2019-12-06 15:48:53: oggm.workflow: Execute entity task distribute_thickness_per_altitude on 1 glaciers\n"
     ]
    },
    {
     "name": "stdout",
     "output_type": "stream",
     "text": [
      "slope: 0.237854    intercept: 2621.998664   R-squared: 0.989877\n"
     ]
    },
    {
     "name": "stderr",
     "output_type": "stream",
     "text": [
      "2019-12-06 15:48:53: oggm.workflow: Execute entity task apparent_mb_from_linear_mb on 1 glaciers\n",
      "2019-12-06 15:48:53: oggm.workflow: Execute entity task glacier_statistics on 1 glaciers\n"
     ]
    },
    {
     "name": "stdout",
     "output_type": "stream",
     "text": [
      "{'ela_h': 2545.680813745039, 'grad': 7.11}\n",
      "slope default: 0.237854    intercept: 2621.998664   R-squared: 0.989877\n",
      "slope: 0.140647    intercept: 2545.680814   R-squared: 1.000000\n",
      "parameter value: 7.381e-24\n",
      "\n",
      "glacier total volume: rgi_id\n",
      "RGI60-02.02171    1.340207\n",
      "Name: inv_volume_km3, dtype: float64 km^3 \n",
      " \n",
      " \n",
      "\n",
      "mean thickness value: 97.84181091915893 m \n",
      "\n",
      "<oggm.GlacierDirectory>\n",
      "  RGI id: RGI60-02.02171\n",
      "  Region: 02: Western Canada and US\n",
      "  Subregion: 02-03: N Rocky Mtns                    \n",
      "  Glacier type: Glacier\n",
      "  Terminus type: Land-terminating\n",
      "  Area: 16.884 km2\n",
      "  Lon, Lat: (-116.92973613761615, 50.80689063881644)\n",
      "  Grid (nx, ny): (106, 125)\n",
      "  Grid (dx, dy): (68.0, -68.0)\n",
      "\n"
     ]
    },
    {
     "name": "stderr",
     "output_type": "stream",
     "text": [
      "2019-12-06 15:48:53: oggm.cfg: Using configuration file: /home/pelto/anaconda2/envs/oggm_env/lib/python3.6/site-packages/oggm/params.cfg\n",
      "2019-12-06 15:48:56: oggm.workflow: Execute entity task glacier_masks on 1 glaciers\n",
      "2019-12-06 15:48:56: oggm.workflow: Multiprocessing: using all available processors (N=8)\n",
      "2019-12-06 15:48:56: oggm.workflow: Execute entity task compute_centerlines on 1 glaciers\n",
      "2019-12-06 15:48:56: oggm.workflow: Execute entity task initialize_flowlines on 1 glaciers\n",
      "2019-12-06 15:48:56: oggm.workflow: Execute entity task compute_downstream_line on 1 glaciers\n",
      "2019-12-06 15:48:56: oggm.workflow: Execute entity task compute_downstream_bedshape on 1 glaciers\n",
      "2019-12-06 15:48:56: oggm.workflow: Execute entity task catchment_area on 1 glaciers\n",
      "2019-12-06 15:48:57: oggm.workflow: Execute entity task catchment_intersections on 1 glaciers\n",
      "/home/pelto/anaconda2/envs/oggm_env/lib/python3.6/site-packages/geopandas/io/file.py:108: FionaDeprecationWarning: Use fiona.Env() instead.\n",
      "  with fiona.drivers():\n",
      "2019-12-06 15:48:57: oggm.workflow: Execute entity task catchment_width_geom on 1 glaciers\n",
      "2019-12-06 15:48:58: oggm.workflow: Execute entity task catchment_width_correction on 1 glaciers\n",
      "2019-12-06 15:48:58: oggm.workflow: Execute entity task process_cru_data on 1 glaciers\n",
      "2019-12-06 15:48:58: oggm.workflow: Execute entity task local_t_star on 1 glaciers\n",
      "2019-12-06 15:48:58: oggm.workflow: Execute entity task mu_star_calibration on 1 glaciers\n",
      "2019-12-06 15:48:58: oggm.workflow: Execute entity task prepare_for_inversion on 1 glaciers\n",
      "2019-12-06 15:48:58: oggm.workflow: Execute entity task mass_conservation_inversion on 1 glaciers\n",
      "2019-12-06 15:48:59: oggm.workflow: Execute entity task filter_inversion_output on 1 glaciers\n",
      "2019-12-06 15:48:59: oggm.workflow: Execute entity task distribute_thickness_per_altitude on 1 glaciers\n",
      "2019-12-06 15:48:59: oggm.workflow: Execute entity task distribute_thickness_per_altitude on 1 glaciers\n"
     ]
    },
    {
     "name": "stdout",
     "output_type": "stream",
     "text": [
      "slope: 0.237854    intercept: 2621.998664   R-squared: 0.989877\n"
     ]
    },
    {
     "name": "stderr",
     "output_type": "stream",
     "text": [
      "2019-12-06 15:48:59: oggm.workflow: Execute entity task apparent_mb_from_linear_mb on 1 glaciers\n",
      "2019-12-06 15:48:59: oggm.workflow: Execute entity task glacier_statistics on 1 glaciers\n"
     ]
    },
    {
     "name": "stdout",
     "output_type": "stream",
     "text": [
      "{'ela_h': 2545.680813745039, 'grad': 7.11}\n",
      "slope default: 0.237854    intercept: 2621.998664   R-squared: 0.989877\n",
      "slope: 0.140647    intercept: 2545.680814   R-squared: 1.000000\n",
      "<oggm.GlacierDirectory>\n",
      "  RGI id: RGI60-02.02171\n",
      "  Region: 02: Western Canada and US\n",
      "  Subregion: 02-03: N Rocky Mtns                    \n",
      "  Glacier type: Glacier\n",
      "  Terminus type: Land-terminating\n",
      "  Area: 16.884 km2\n",
      "  Lon, Lat: (-116.92973613761615, 50.80689063881644)\n",
      "  Grid (nx, ny): (106, 125)\n",
      "  Grid (dx, dy): (68.0, -68.0)\n",
      "\n"
     ]
    },
    {
     "name": "stderr",
     "output_type": "stream",
     "text": [
      "2019-12-06 15:49:00: oggm.cfg: Using configuration file: /home/pelto/anaconda2/envs/oggm_env/lib/python3.6/site-packages/oggm/params.cfg\n",
      "2019-12-06 15:49:01: oggm.cfg: Using configuration file: /home/pelto/anaconda2/envs/oggm_env/lib/python3.6/site-packages/oggm/params.cfg\n"
     ]
    },
    {
     "name": "stdout",
     "output_type": "stream",
     "text": [
      "/home/pelto/Desktop/lidar_cbt_analysis/conrad/20160912_conrad_dem1_clip_slave.tif\n"
     ]
    },
    {
     "name": "stderr",
     "output_type": "stream",
     "text": [
      "2019-12-06 15:49:02: oggm.workflow: Execute entity task define_glacier_region on 1 glaciers\n",
      "2019-12-06 15:49:02: oggm.workflow: Multiprocessing: using all available processors (N=8)\n",
      "/home/pelto/anaconda2/envs/oggm_env/lib/python3.6/site-packages/geopandas/io/file.py:108: FionaDeprecationWarning: Use fiona.Env() instead.\n",
      "  with fiona.drivers():\n",
      "2019-12-06 15:49:04: oggm.workflow: Execute entity task glacier_masks on 1 glaciers\n",
      "/home/pelto/anaconda2/envs/oggm_env/lib/python3.6/site-packages/oggm/core/gis.py:505: RuntimeWarning: invalid value encountered in less_equal\n",
      "  topo[topo <= -999.] = np.NaN\n",
      "2019-12-06 15:49:04: oggm.workflow: Execute entity task compute_centerlines on 1 glaciers\n",
      "2019-12-06 15:49:04: oggm.workflow: Execute entity task initialize_flowlines on 1 glaciers\n",
      "2019-12-06 15:49:04: oggm.workflow: Execute entity task compute_downstream_line on 1 glaciers\n",
      "2019-12-06 15:49:04: oggm.workflow: Execute entity task compute_downstream_bedshape on 1 glaciers\n",
      "2019-12-06 15:49:04: oggm.workflow: Execute entity task catchment_area on 1 glaciers\n",
      "2019-12-06 15:49:05: oggm.workflow: Execute entity task catchment_intersections on 1 glaciers\n",
      "/home/pelto/anaconda2/envs/oggm_env/lib/python3.6/site-packages/geopandas/io/file.py:108: FionaDeprecationWarning: Use fiona.Env() instead.\n",
      "  with fiona.drivers():\n",
      "2019-12-06 15:49:05: oggm.workflow: Execute entity task catchment_width_geom on 1 glaciers\n",
      "2019-12-06 15:49:06: oggm.workflow: Execute entity task catchment_width_correction on 1 glaciers\n",
      "2019-12-06 15:49:06: oggm.workflow: Execute entity task process_cru_data on 1 glaciers\n",
      "2019-12-06 15:49:07: oggm.workflow: Execute entity task local_t_star on 1 glaciers\n",
      "2019-12-06 15:49:07: oggm.workflow: Execute entity task mu_star_calibration on 1 glaciers\n",
      "2019-12-06 15:49:07: oggm.workflow: Execute entity task prepare_for_inversion on 1 glaciers\n",
      "2019-12-06 15:49:07: oggm.workflow: Execute entity task mass_conservation_inversion on 1 glaciers\n",
      "2019-12-06 15:49:07: oggm.workflow: Execute entity task filter_inversion_output on 1 glaciers\n",
      "2019-12-06 15:49:07: oggm.workflow: Execute entity task distribute_thickness_per_altitude on 1 glaciers\n",
      "2019-12-06 15:49:07: oggm.workflow: Execute entity task distribute_thickness_per_altitude on 1 glaciers\n"
     ]
    },
    {
     "name": "stdout",
     "output_type": "stream",
     "text": [
      "slope: 0.237744    intercept: 2616.717127   R-squared: 0.989362\n"
     ]
    },
    {
     "name": "stderr",
     "output_type": "stream",
     "text": [
      "2019-12-06 15:49:08: oggm.workflow: Execute entity task apparent_mb_from_linear_mb on 1 glaciers\n",
      "2019-12-06 15:49:08: oggm.workflow: Execute entity task glacier_statistics on 1 glaciers\n"
     ]
    },
    {
     "name": "stdout",
     "output_type": "stream",
     "text": [
      "{'ela_h': 2539.5413371238974, 'grad': 7.11}\n",
      "slope default: 0.237744    intercept: 2616.717127   R-squared: 0.989362\n",
      "slope: 0.140647    intercept: 2539.541337   R-squared: 1.000000\n",
      "<oggm.GlacierDirectory>\n",
      "  RGI id: RGI60-02.02171\n",
      "  Region: 02: Western Canada and US\n",
      "  Subregion: 02-03: N Rocky Mtns                    \n",
      "  Glacier type: Glacier\n",
      "  Terminus type: Land-terminating\n",
      "  Area: 16.884 km2\n",
      "  Lon, Lat: (-116.92973613761615, 50.80689063881644)\n",
      "  Grid (nx, ny): (106, 125)\n",
      "  Grid (dx, dy): (68.0, -68.0)\n",
      "\n",
      "Fantanstic, both arrays have the same shape of:  (106, 87)\n"
     ]
    },
    {
     "name": "stderr",
     "output_type": "stream",
     "text": [
      "2019-12-06 15:49:08: oggm.cfg: Using configuration file: /home/pelto/anaconda2/envs/oggm_env/lib/python3.6/site-packages/oggm/params.cfg\n",
      "2019-12-06 15:49:09: oggm.cfg: Using configuration file: /home/pelto/anaconda2/envs/oggm_env/lib/python3.6/site-packages/oggm/params.cfg\n"
     ]
    },
    {
     "name": "stdout",
     "output_type": "stream",
     "text": [
      "/home/pelto/Desktop/lidar_cbt_analysis/conrad/20160912_conrad_dem1_clip_slave.tif\n"
     ]
    },
    {
     "name": "stderr",
     "output_type": "stream",
     "text": [
      "2019-12-06 15:49:10: oggm.workflow: Execute entity task define_glacier_region on 1 glaciers\n",
      "2019-12-06 15:49:10: oggm.workflow: Multiprocessing: using all available processors (N=8)\n",
      "/home/pelto/anaconda2/envs/oggm_env/lib/python3.6/site-packages/geopandas/io/file.py:108: FionaDeprecationWarning: Use fiona.Env() instead.\n",
      "  with fiona.drivers():\n",
      "2019-12-06 15:49:13: oggm.workflow: Execute entity task glacier_masks on 1 glaciers\n",
      "/home/pelto/anaconda2/envs/oggm_env/lib/python3.6/site-packages/oggm/core/gis.py:505: RuntimeWarning: invalid value encountered in less_equal\n",
      "  topo[topo <= -999.] = np.NaN\n",
      "2019-12-06 15:49:13: oggm.workflow: Execute entity task compute_centerlines on 1 glaciers\n",
      "2019-12-06 15:49:13: oggm.workflow: Execute entity task initialize_flowlines on 1 glaciers\n",
      "2019-12-06 15:49:13: oggm.workflow: Execute entity task compute_downstream_line on 1 glaciers\n",
      "2019-12-06 15:49:13: oggm.workflow: Execute entity task compute_downstream_bedshape on 1 glaciers\n",
      "2019-12-06 15:49:13: oggm.workflow: Execute entity task catchment_area on 1 glaciers\n",
      "2019-12-06 15:49:14: oggm.workflow: Execute entity task catchment_intersections on 1 glaciers\n",
      "/home/pelto/anaconda2/envs/oggm_env/lib/python3.6/site-packages/geopandas/io/file.py:108: FionaDeprecationWarning: Use fiona.Env() instead.\n",
      "  with fiona.drivers():\n",
      "2019-12-06 15:49:14: oggm.workflow: Execute entity task catchment_width_geom on 1 glaciers\n",
      "2019-12-06 15:49:15: oggm.workflow: Execute entity task catchment_width_correction on 1 glaciers\n",
      "2019-12-06 15:49:15: oggm.workflow: Execute entity task process_cru_data on 1 glaciers\n",
      "2019-12-06 15:49:15: oggm.workflow: Execute entity task local_t_star on 1 glaciers\n",
      "2019-12-06 15:49:15: oggm.workflow: Execute entity task mu_star_calibration on 1 glaciers\n",
      "2019-12-06 15:49:15: oggm.workflow: Execute entity task prepare_for_inversion on 1 glaciers\n",
      "2019-12-06 15:49:15: oggm.workflow: Execute entity task mass_conservation_inversion on 1 glaciers\n",
      "2019-12-06 15:49:15: oggm.workflow: Execute entity task filter_inversion_output on 1 glaciers\n",
      "2019-12-06 15:49:15: oggm.workflow: Execute entity task distribute_thickness_per_altitude on 1 glaciers\n",
      "2019-12-06 15:49:16: oggm.workflow: Execute entity task distribute_thickness_per_altitude on 1 glaciers\n"
     ]
    },
    {
     "name": "stdout",
     "output_type": "stream",
     "text": [
      "slope: 0.237744    intercept: 2616.717127   R-squared: 0.989362\n"
     ]
    },
    {
     "name": "stderr",
     "output_type": "stream",
     "text": [
      "2019-12-06 15:49:16: oggm.workflow: Execute entity task apparent_mb_from_linear_mb on 1 glaciers\n",
      "2019-12-06 15:49:16: oggm.workflow: Execute entity task glacier_statistics on 1 glaciers\n"
     ]
    },
    {
     "name": "stdout",
     "output_type": "stream",
     "text": [
      "{'ela_h': 2539.5413371238974, 'grad': 7.11}\n",
      "slope default: 0.237744    intercept: 2616.717127   R-squared: 0.989362\n",
      "slope: 0.140647    intercept: 2539.541337   R-squared: 1.000000\n",
      "<oggm.GlacierDirectory>\n",
      "  RGI id: RGI60-02.02171\n",
      "  Region: 02: Western Canada and US\n",
      "  Subregion: 02-03: N Rocky Mtns                    \n",
      "  Glacier type: Glacier\n",
      "  Terminus type: Land-terminating\n",
      "  Area: 16.884 km2\n",
      "  Lon, Lat: (-116.92973613761615, 50.80689063881644)\n",
      "  Grid (nx, ny): (106, 125)\n",
      "  Grid (dx, dy): (68.0, -68.0)\n",
      "\n",
      "found  6  problem(s) within a total number of data point of:  824  problem share  0.01875646847802471\n",
      "corrected quadratic error is:  3499506.355364993\n",
      "ME: 35.917798972824244\n",
      "MAE: 48.731976504464754\n"
     ]
    },
    {
     "data": {
      "image/png": "[encoded data removed]",
      "text/plain": [
       "<Figure size 432x288 with 6 Axes>"
      ]
     },
     "metadata": {
      "needs_background": "light"
     },
     "output_type": "display_data"
    },
    {
     "name": "stderr",
     "output_type": "stream",
     "text": [
      "2019-12-06 15:49:17: oggm.cfg: Using configuration file: /home/pelto/anaconda2/envs/oggm_env/lib/python3.6/site-packages/oggm/params.cfg\n"
     ]
    },
    {
     "name": "stdout",
     "output_type": "stream",
     "text": [
      "Minimal value is 48.731976504464754 at inversion_glen_a = 7.381e-24\n",
      "obs grid cells count: 824\n",
      "dfb exponent:         0.25\n",
      "smoothing window (m): 101.0\n",
      "smoothing radius (m): 101.0\n"
     ]
    },
    {
     "name": "stderr",
     "output_type": "stream",
     "text": [
      "2019-12-06 15:49:19: oggm.workflow: Execute entity task glacier_masks on 1 glaciers\n",
      "2019-12-06 15:49:19: oggm.workflow: Multiprocessing: using all available processors (N=8)\n",
      "2019-12-06 15:49:19: oggm.workflow: Execute entity task compute_centerlines on 1 glaciers\n",
      "2019-12-06 15:49:19: oggm.workflow: Execute entity task initialize_flowlines on 1 glaciers\n",
      "2019-12-06 15:49:19: oggm.workflow: Execute entity task compute_downstream_line on 1 glaciers\n",
      "2019-12-06 15:49:19: oggm.workflow: Execute entity task compute_downstream_bedshape on 1 glaciers\n",
      "2019-12-06 15:49:19: oggm.workflow: Execute entity task catchment_area on 1 glaciers\n",
      "2019-12-06 15:49:20: oggm.workflow: Execute entity task catchment_intersections on 1 glaciers\n",
      "/home/pelto/anaconda2/envs/oggm_env/lib/python3.6/site-packages/geopandas/io/file.py:108: FionaDeprecationWarning: Use fiona.Env() instead.\n",
      "  with fiona.drivers():\n",
      "2019-12-06 15:49:21: oggm.workflow: Execute entity task catchment_width_geom on 1 glaciers\n",
      "2019-12-06 15:49:21: oggm.workflow: Execute entity task catchment_width_correction on 1 glaciers\n",
      "2019-12-06 15:49:21: oggm.workflow: Execute entity task process_cru_data on 1 glaciers\n",
      "2019-12-06 15:49:22: oggm.workflow: Execute entity task local_t_star on 1 glaciers\n",
      "2019-12-06 15:49:22: oggm.workflow: Execute entity task mu_star_calibration on 1 glaciers\n",
      "2019-12-06 15:49:22: oggm.workflow: Execute entity task prepare_for_inversion on 1 glaciers\n",
      "2019-12-06 15:49:22: oggm.workflow: Execute entity task mass_conservation_inversion on 1 glaciers\n",
      "2019-12-06 15:49:22: oggm.workflow: Execute entity task filter_inversion_output on 1 glaciers\n",
      "2019-12-06 15:49:22: oggm.workflow: Execute entity task distribute_thickness_per_altitude on 1 glaciers\n",
      "2019-12-06 15:49:22: oggm.workflow: Execute entity task distribute_thickness_per_altitude on 1 glaciers\n"
     ]
    },
    {
     "name": "stdout",
     "output_type": "stream",
     "text": [
      "slope: 0.237854    intercept: 2621.998664   R-squared: 0.989877\n"
     ]
    },
    {
     "name": "stderr",
     "output_type": "stream",
     "text": [
      "2019-12-06 15:49:23: oggm.workflow: Execute entity task apparent_mb_from_linear_mb on 1 glaciers\n",
      "2019-12-06 15:49:23: oggm.workflow: Execute entity task glacier_statistics on 1 glaciers\n"
     ]
    },
    {
     "name": "stdout",
     "output_type": "stream",
     "text": [
      "{'ela_h': 2545.680813745039, 'grad': 7.11}\n",
      "slope default: 0.237854    intercept: 2621.998664   R-squared: 0.989877\n",
      "slope: 0.140647    intercept: 2545.680814   R-squared: 1.000000\n",
      "parameter value: 7.381e-24\n",
      "\n",
      "glacier total volume: rgi_id\n",
      "RGI60-02.02171    1.340207\n",
      "Name: inv_volume_km3, dtype: float64 km^3 \n",
      " \n",
      " \n",
      "\n",
      "mean thickness value: 97.84181091915893 m \n",
      "\n",
      "<oggm.GlacierDirectory>\n",
      "  RGI id: RGI60-02.02171\n",
      "  Region: 02: Western Canada and US\n",
      "  Subregion: 02-03: N Rocky Mtns                    \n",
      "  Glacier type: Glacier\n",
      "  Terminus type: Land-terminating\n",
      "  Area: 16.884 km2\n",
      "  Lon, Lat: (-116.92973613761615, 50.80689063881644)\n",
      "  Grid (nx, ny): (106, 125)\n",
      "  Grid (dx, dy): (68.0, -68.0)\n",
      "\n"
     ]
    },
    {
     "name": "stderr",
     "output_type": "stream",
     "text": [
      "2019-12-06 15:49:23: oggm.cfg: Using configuration file: /home/pelto/anaconda2/envs/oggm_env/lib/python3.6/site-packages/oggm/params.cfg\n",
      "2019-12-06 15:49:25: oggm.workflow: Execute entity task glacier_masks on 1 glaciers\n",
      "2019-12-06 15:49:25: oggm.workflow: Multiprocessing: using all available processors (N=8)\n",
      "2019-12-06 15:49:25: oggm.workflow: Execute entity task compute_centerlines on 1 glaciers\n",
      "2019-12-06 15:49:25: oggm.workflow: Execute entity task initialize_flowlines on 1 glaciers\n",
      "2019-12-06 15:49:25: oggm.workflow: Execute entity task compute_downstream_line on 1 glaciers\n",
      "2019-12-06 15:49:25: oggm.workflow: Execute entity task compute_downstream_bedshape on 1 glaciers\n",
      "2019-12-06 15:49:25: oggm.workflow: Execute entity task catchment_area on 1 glaciers\n",
      "2019-12-06 15:49:26: oggm.workflow: Execute entity task catchment_intersections on 1 glaciers\n",
      "/home/pelto/anaconda2/envs/oggm_env/lib/python3.6/site-packages/geopandas/io/file.py:108: FionaDeprecationWarning: Use fiona.Env() instead.\n",
      "  with fiona.drivers():\n",
      "2019-12-06 15:49:27: oggm.workflow: Execute entity task catchment_width_geom on 1 glaciers\n",
      "2019-12-06 15:49:27: oggm.workflow: Execute entity task catchment_width_correction on 1 glaciers\n",
      "2019-12-06 15:49:27: oggm.workflow: Execute entity task process_cru_data on 1 glaciers\n",
      "2019-12-06 15:49:28: oggm.workflow: Execute entity task local_t_star on 1 glaciers\n",
      "2019-12-06 15:49:28: oggm.workflow: Execute entity task mu_star_calibration on 1 glaciers\n",
      "2019-12-06 15:49:28: oggm.workflow: Execute entity task prepare_for_inversion on 1 glaciers\n",
      "2019-12-06 15:49:28: oggm.workflow: Execute entity task mass_conservation_inversion on 1 glaciers\n",
      "2019-12-06 15:49:28: oggm.workflow: Execute entity task filter_inversion_output on 1 glaciers\n",
      "2019-12-06 15:49:28: oggm.workflow: Execute entity task distribute_thickness_per_altitude on 1 glaciers\n",
      "2019-12-06 15:49:28: oggm.workflow: Execute entity task distribute_thickness_per_altitude on 1 glaciers\n"
     ]
    },
    {
     "name": "stdout",
     "output_type": "stream",
     "text": [
      "slope: 0.237854    intercept: 2621.998664   R-squared: 0.989877\n"
     ]
    },
    {
     "name": "stderr",
     "output_type": "stream",
     "text": [
      "2019-12-06 15:49:29: oggm.workflow: Execute entity task apparent_mb_from_linear_mb on 1 glaciers\n",
      "2019-12-06 15:49:29: oggm.workflow: Execute entity task glacier_statistics on 1 glaciers\n",
      "2019-12-06 15:49:29: oggm.cfg: Using configuration file: /home/pelto/anaconda2/envs/oggm_env/lib/python3.6/site-packages/oggm/params.cfg\n"
     ]
    },
    {
     "name": "stdout",
     "output_type": "stream",
     "text": [
      "{'ela_h': 2545.680813745039, 'grad': 7.11}\n",
      "slope default: 0.237854    intercept: 2621.998664   R-squared: 0.989877\n",
      "slope: 0.140647    intercept: 2545.680814   R-squared: 1.000000\n",
      "<oggm.GlacierDirectory>\n",
      "  RGI id: RGI60-02.02171\n",
      "  Region: 02: Western Canada and US\n",
      "  Subregion: 02-03: N Rocky Mtns                    \n",
      "  Glacier type: Glacier\n",
      "  Terminus type: Land-terminating\n",
      "  Area: 16.884 km2\n",
      "  Lon, Lat: (-116.92973613761615, 50.80689063881644)\n",
      "  Grid (nx, ny): (106, 125)\n",
      "  Grid (dx, dy): (68.0, -68.0)\n",
      "\n"
     ]
    },
    {
     "name": "stderr",
     "output_type": "stream",
     "text": [
      "2019-12-06 15:49:30: oggm.cfg: Using configuration file: /home/pelto/anaconda2/envs/oggm_env/lib/python3.6/site-packages/oggm/params.cfg\n"
     ]
    },
    {
     "name": "stdout",
     "output_type": "stream",
     "text": [
      "/home/pelto/Desktop/lidar_cbt_analysis/conrad/20160912_conrad_dem1_clip_slave.tif\n"
     ]
    },
    {
     "name": "stderr",
     "output_type": "stream",
     "text": [
      "2019-12-06 15:49:31: oggm.workflow: Execute entity task define_glacier_region on 1 glaciers\n",
      "2019-12-06 15:49:31: oggm.workflow: Multiprocessing: using all available processors (N=8)\n",
      "/home/pelto/anaconda2/envs/oggm_env/lib/python3.6/site-packages/geopandas/io/file.py:108: FionaDeprecationWarning: Use fiona.Env() instead.\n",
      "  with fiona.drivers():\n",
      "2019-12-06 15:49:33: oggm.workflow: Execute entity task glacier_masks on 1 glaciers\n",
      "/home/pelto/anaconda2/envs/oggm_env/lib/python3.6/site-packages/oggm/core/gis.py:505: RuntimeWarning: invalid value encountered in less_equal\n",
      "  topo[topo <= -999.] = np.NaN\n",
      "2019-12-06 15:49:33: oggm.workflow: Execute entity task compute_centerlines on 1 glaciers\n",
      "2019-12-06 15:49:34: oggm.workflow: Execute entity task initialize_flowlines on 1 glaciers\n",
      "2019-12-06 15:49:34: oggm.workflow: Execute entity task compute_downstream_line on 1 glaciers\n",
      "2019-12-06 15:49:34: oggm.workflow: Execute entity task compute_downstream_bedshape on 1 glaciers\n",
      "2019-12-06 15:49:34: oggm.workflow: Execute entity task catchment_area on 1 glaciers\n",
      "2019-12-06 15:49:35: oggm.workflow: Execute entity task catchment_intersections on 1 glaciers\n",
      "/home/pelto/anaconda2/envs/oggm_env/lib/python3.6/site-packages/geopandas/io/file.py:108: FionaDeprecationWarning: Use fiona.Env() instead.\n",
      "  with fiona.drivers():\n",
      "2019-12-06 15:49:35: oggm.workflow: Execute entity task catchment_width_geom on 1 glaciers\n",
      "2019-12-06 15:49:35: oggm.workflow: Execute entity task catchment_width_correction on 1 glaciers\n",
      "2019-12-06 15:49:35: oggm.workflow: Execute entity task process_cru_data on 1 glaciers\n",
      "2019-12-06 15:49:36: oggm.workflow: Execute entity task local_t_star on 1 glaciers\n",
      "2019-12-06 15:49:36: oggm.workflow: Execute entity task mu_star_calibration on 1 glaciers\n",
      "2019-12-06 15:49:36: oggm.workflow: Execute entity task prepare_for_inversion on 1 glaciers\n",
      "2019-12-06 15:49:36: oggm.workflow: Execute entity task mass_conservation_inversion on 1 glaciers\n",
      "2019-12-06 15:49:36: oggm.workflow: Execute entity task filter_inversion_output on 1 glaciers\n",
      "2019-12-06 15:49:36: oggm.workflow: Execute entity task distribute_thickness_per_altitude on 1 glaciers\n",
      "2019-12-06 15:49:37: oggm.workflow: Execute entity task distribute_thickness_per_altitude on 1 glaciers\n"
     ]
    },
    {
     "name": "stdout",
     "output_type": "stream",
     "text": [
      "slope: 0.237744    intercept: 2616.717127   R-squared: 0.989362\n"
     ]
    },
    {
     "name": "stderr",
     "output_type": "stream",
     "text": [
      "2019-12-06 15:49:37: oggm.workflow: Execute entity task apparent_mb_from_linear_mb on 1 glaciers\n",
      "2019-12-06 15:49:37: oggm.workflow: Execute entity task glacier_statistics on 1 glaciers\n"
     ]
    },
    {
     "name": "stdout",
     "output_type": "stream",
     "text": [
      "{'ela_h': 2539.5413371238974, 'grad': 7.11}\n",
      "slope default: 0.237744    intercept: 2616.717127   R-squared: 0.989362\n",
      "slope: 0.140647    intercept: 2539.541337   R-squared: 1.000000\n",
      "<oggm.GlacierDirectory>\n",
      "  RGI id: RGI60-02.02171\n",
      "  Region: 02: Western Canada and US\n",
      "  Subregion: 02-03: N Rocky Mtns                    \n",
      "  Glacier type: Glacier\n",
      "  Terminus type: Land-terminating\n",
      "  Area: 16.884 km2\n",
      "  Lon, Lat: (-116.92973613761615, 50.80689063881644)\n",
      "  Grid (nx, ny): (106, 125)\n",
      "  Grid (dx, dy): (68.0, -68.0)\n",
      "\n",
      "Fantanstic, both arrays have the same shape of:  (106, 87)\n"
     ]
    },
    {
     "name": "stderr",
     "output_type": "stream",
     "text": [
      "2019-12-06 15:49:38: oggm.cfg: Using configuration file: /home/pelto/anaconda2/envs/oggm_env/lib/python3.6/site-packages/oggm/params.cfg\n",
      "2019-12-06 15:49:39: oggm.cfg: Using configuration file: /home/pelto/anaconda2/envs/oggm_env/lib/python3.6/site-packages/oggm/params.cfg\n"
     ]
    },
    {
     "name": "stdout",
     "output_type": "stream",
     "text": [
      "/home/pelto/Desktop/lidar_cbt_analysis/conrad/20160912_conrad_dem1_clip_slave.tif\n"
     ]
    },
    {
     "name": "stderr",
     "output_type": "stream",
     "text": [
      "2019-12-06 15:49:40: oggm.workflow: Execute entity task define_glacier_region on 1 glaciers\n",
      "2019-12-06 15:49:40: oggm.workflow: Multiprocessing: using all available processors (N=8)\n",
      "/home/pelto/anaconda2/envs/oggm_env/lib/python3.6/site-packages/geopandas/io/file.py:108: FionaDeprecationWarning: Use fiona.Env() instead.\n",
      "  with fiona.drivers():\n",
      "2019-12-06 15:49:42: oggm.workflow: Execute entity task glacier_masks on 1 glaciers\n",
      "/home/pelto/anaconda2/envs/oggm_env/lib/python3.6/site-packages/oggm/core/gis.py:505: RuntimeWarning: invalid value encountered in less_equal\n",
      "  topo[topo <= -999.] = np.NaN\n",
      "2019-12-06 15:49:42: oggm.workflow: Execute entity task compute_centerlines on 1 glaciers\n",
      "2019-12-06 15:49:42: oggm.workflow: Execute entity task initialize_flowlines on 1 glaciers\n",
      "2019-12-06 15:49:42: oggm.workflow: Execute entity task compute_downstream_line on 1 glaciers\n",
      "2019-12-06 15:49:42: oggm.workflow: Execute entity task compute_downstream_bedshape on 1 glaciers\n",
      "2019-12-06 15:49:42: oggm.workflow: Execute entity task catchment_area on 1 glaciers\n",
      "2019-12-06 15:49:43: oggm.workflow: Execute entity task catchment_intersections on 1 glaciers\n",
      "/home/pelto/anaconda2/envs/oggm_env/lib/python3.6/site-packages/geopandas/io/file.py:108: FionaDeprecationWarning: Use fiona.Env() instead.\n",
      "  with fiona.drivers():\n",
      "2019-12-06 15:49:44: oggm.workflow: Execute entity task catchment_width_geom on 1 glaciers\n",
      "2019-12-06 15:49:44: oggm.workflow: Execute entity task catchment_width_correction on 1 glaciers\n",
      "2019-12-06 15:49:44: oggm.workflow: Execute entity task process_cru_data on 1 glaciers\n",
      "2019-12-06 15:49:45: oggm.workflow: Execute entity task local_t_star on 1 glaciers\n",
      "2019-12-06 15:49:45: oggm.workflow: Execute entity task mu_star_calibration on 1 glaciers\n",
      "2019-12-06 15:49:45: oggm.workflow: Execute entity task prepare_for_inversion on 1 glaciers\n",
      "2019-12-06 15:49:45: oggm.workflow: Execute entity task mass_conservation_inversion on 1 glaciers\n",
      "2019-12-06 15:49:45: oggm.workflow: Execute entity task filter_inversion_output on 1 glaciers\n",
      "2019-12-06 15:49:45: oggm.workflow: Execute entity task distribute_thickness_per_altitude on 1 glaciers\n",
      "2019-12-06 15:49:45: oggm.workflow: Execute entity task distribute_thickness_per_altitude on 1 glaciers\n"
     ]
    },
    {
     "name": "stdout",
     "output_type": "stream",
     "text": [
      "slope: 0.237744    intercept: 2616.717127   R-squared: 0.989362\n"
     ]
    },
    {
     "name": "stderr",
     "output_type": "stream",
     "text": [
      "2019-12-06 15:49:46: oggm.workflow: Execute entity task apparent_mb_from_linear_mb on 1 glaciers\n",
      "2019-12-06 15:49:46: oggm.workflow: Execute entity task glacier_statistics on 1 glaciers\n"
     ]
    },
    {
     "name": "stdout",
     "output_type": "stream",
     "text": [
      "{'ela_h': 2539.5413371238974, 'grad': 7.11}\n",
      "slope default: 0.237744    intercept: 2616.717127   R-squared: 0.989362\n",
      "slope: 0.140647    intercept: 2539.541337   R-squared: 1.000000\n",
      "<oggm.GlacierDirectory>\n",
      "  RGI id: RGI60-02.02171\n",
      "  Region: 02: Western Canada and US\n",
      "  Subregion: 02-03: N Rocky Mtns                    \n",
      "  Glacier type: Glacier\n",
      "  Terminus type: Land-terminating\n",
      "  Area: 16.884 km2\n",
      "  Lon, Lat: (-116.92973613761615, 50.80689063881644)\n",
      "  Grid (nx, ny): (106, 125)\n",
      "  Grid (dx, dy): (68.0, -68.0)\n",
      "\n",
      "found  6  problem(s) within a total number of data point of:  824  problem share  0.01721935585902174\n",
      "corrected quadratic error is:  3817866.5534959203\n",
      "ME: 40.23158989600765\n",
      "MAE: 50.46666160602014\n"
     ]
    },
    {
     "data": {
      "image/png": "[encoded data removed]",
      "text/plain": [
       "<Figure size 432x288 with 6 Axes>"
      ]
     },
     "metadata": {
      "needs_background": "light"
     },
     "output_type": "display_data"
    },
    {
     "name": "stderr",
     "output_type": "stream",
     "text": [
      "2019-12-06 15:49:46: oggm.cfg: Using configuration file: /home/pelto/anaconda2/envs/oggm_env/lib/python3.6/site-packages/oggm/params.cfg\n"
     ]
    },
    {
     "name": "stdout",
     "output_type": "stream",
     "text": [
      "Minimal value is 50.46666160602014 at inversion_glen_a = 7.381e-24\n",
      "obs grid cells count: 824\n",
      "dfb exponent:         0.25\n",
      "smoothing window (m): 101.0\n",
      "smoothing radius (m): 151.0\n"
     ]
    },
    {
     "name": "stderr",
     "output_type": "stream",
     "text": [
      "2019-12-06 15:49:48: oggm.workflow: Execute entity task glacier_masks on 1 glaciers\n",
      "2019-12-06 15:49:48: oggm.workflow: Multiprocessing: using all available processors (N=8)\n",
      "2019-12-06 15:49:49: oggm.workflow: Execute entity task compute_centerlines on 1 glaciers\n",
      "2019-12-06 15:49:49: oggm.workflow: Execute entity task initialize_flowlines on 1 glaciers\n",
      "2019-12-06 15:49:49: oggm.workflow: Execute entity task compute_downstream_line on 1 glaciers\n",
      "2019-12-06 15:49:49: oggm.workflow: Execute entity task compute_downstream_bedshape on 1 glaciers\n",
      "2019-12-06 15:49:49: oggm.workflow: Execute entity task catchment_area on 1 glaciers\n",
      "2019-12-06 15:49:50: oggm.workflow: Execute entity task catchment_intersections on 1 glaciers\n",
      "/home/pelto/anaconda2/envs/oggm_env/lib/python3.6/site-packages/geopandas/io/file.py:108: FionaDeprecationWarning: Use fiona.Env() instead.\n",
      "  with fiona.drivers():\n",
      "2019-12-06 15:49:50: oggm.workflow: Execute entity task catchment_width_geom on 1 glaciers\n",
      "2019-12-06 15:49:50: oggm.workflow: Execute entity task catchment_width_correction on 1 glaciers\n",
      "2019-12-06 15:49:50: oggm.workflow: Execute entity task process_cru_data on 1 glaciers\n",
      "2019-12-06 15:49:51: oggm.workflow: Execute entity task local_t_star on 1 glaciers\n",
      "2019-12-06 15:49:51: oggm.workflow: Execute entity task mu_star_calibration on 1 glaciers\n",
      "2019-12-06 15:49:51: oggm.workflow: Execute entity task prepare_for_inversion on 1 glaciers\n",
      "2019-12-06 15:49:51: oggm.workflow: Execute entity task mass_conservation_inversion on 1 glaciers\n",
      "2019-12-06 15:49:51: oggm.workflow: Execute entity task filter_inversion_output on 1 glaciers\n",
      "2019-12-06 15:49:51: oggm.workflow: Execute entity task distribute_thickness_per_altitude on 1 glaciers\n",
      "2019-12-06 15:49:52: oggm.workflow: Execute entity task distribute_thickness_per_altitude on 1 glaciers\n"
     ]
    },
    {
     "name": "stdout",
     "output_type": "stream",
     "text": [
      "slope: 0.237854    intercept: 2621.998664   R-squared: 0.989877\n"
     ]
    },
    {
     "name": "stderr",
     "output_type": "stream",
     "text": [
      "2019-12-06 15:49:52: oggm.workflow: Execute entity task apparent_mb_from_linear_mb on 1 glaciers\n",
      "2019-12-06 15:49:52: oggm.workflow: Execute entity task glacier_statistics on 1 glaciers\n"
     ]
    },
    {
     "name": "stdout",
     "output_type": "stream",
     "text": [
      "{'ela_h': 2545.680813745039, 'grad': 7.11}\n",
      "slope default: 0.237854    intercept: 2621.998664   R-squared: 0.989877\n",
      "slope: 0.140647    intercept: 2545.680814   R-squared: 1.000000\n",
      "parameter value: 7.381e-24\n",
      "\n",
      "glacier total volume: rgi_id\n",
      "RGI60-02.02171    1.340207\n",
      "Name: inv_volume_km3, dtype: float64 km^3 \n",
      " \n",
      " \n",
      "\n",
      "mean thickness value: 97.84181091915893 m \n",
      "\n",
      "<oggm.GlacierDirectory>\n",
      "  RGI id: RGI60-02.02171\n",
      "  Region: 02: Western Canada and US\n",
      "  Subregion: 02-03: N Rocky Mtns                    \n",
      "  Glacier type: Glacier\n",
      "  Terminus type: Land-terminating\n",
      "  Area: 16.884 km2\n",
      "  Lon, Lat: (-116.92973613761615, 50.80689063881644)\n",
      "  Grid (nx, ny): (106, 125)\n",
      "  Grid (dx, dy): (68.0, -68.0)\n",
      "\n"
     ]
    },
    {
     "name": "stderr",
     "output_type": "stream",
     "text": [
      "2019-12-06 15:49:52: oggm.cfg: Using configuration file: /home/pelto/anaconda2/envs/oggm_env/lib/python3.6/site-packages/oggm/params.cfg\n",
      "2019-12-06 15:49:54: oggm.workflow: Execute entity task glacier_masks on 1 glaciers\n",
      "2019-12-06 15:49:55: oggm.workflow: Multiprocessing: using all available processors (N=8)\n",
      "2019-12-06 15:49:55: oggm.workflow: Execute entity task compute_centerlines on 1 glaciers\n",
      "2019-12-06 15:49:55: oggm.workflow: Execute entity task initialize_flowlines on 1 glaciers\n",
      "2019-12-06 15:49:55: oggm.workflow: Execute entity task compute_downstream_line on 1 glaciers\n",
      "2019-12-06 15:49:55: oggm.workflow: Execute entity task compute_downstream_bedshape on 1 glaciers\n",
      "2019-12-06 15:49:55: oggm.workflow: Execute entity task catchment_area on 1 glaciers\n",
      "2019-12-06 15:49:56: oggm.workflow: Execute entity task catchment_intersections on 1 glaciers\n",
      "/home/pelto/anaconda2/envs/oggm_env/lib/python3.6/site-packages/geopandas/io/file.py:108: FionaDeprecationWarning: Use fiona.Env() instead.\n",
      "  with fiona.drivers():\n",
      "2019-12-06 15:49:56: oggm.workflow: Execute entity task catchment_width_geom on 1 glaciers\n",
      "2019-12-06 15:49:56: oggm.workflow: Execute entity task catchment_width_correction on 1 glaciers\n",
      "2019-12-06 15:49:56: oggm.workflow: Execute entity task process_cru_data on 1 glaciers\n",
      "2019-12-06 15:49:57: oggm.workflow: Execute entity task local_t_star on 1 glaciers\n",
      "2019-12-06 15:49:57: oggm.workflow: Execute entity task mu_star_calibration on 1 glaciers\n",
      "2019-12-06 15:49:57: oggm.workflow: Execute entity task prepare_for_inversion on 1 glaciers\n",
      "2019-12-06 15:49:57: oggm.workflow: Execute entity task mass_conservation_inversion on 1 glaciers\n",
      "2019-12-06 15:49:57: oggm.workflow: Execute entity task filter_inversion_output on 1 glaciers\n",
      "2019-12-06 15:49:57: oggm.workflow: Execute entity task distribute_thickness_per_altitude on 1 glaciers\n",
      "2019-12-06 15:49:58: oggm.workflow: Execute entity task distribute_thickness_per_altitude on 1 glaciers\n"
     ]
    },
    {
     "name": "stdout",
     "output_type": "stream",
     "text": [
      "slope: 0.237854    intercept: 2621.998664   R-squared: 0.989877\n"
     ]
    },
    {
     "name": "stderr",
     "output_type": "stream",
     "text": [
      "2019-12-06 15:49:58: oggm.workflow: Execute entity task apparent_mb_from_linear_mb on 1 glaciers\n",
      "2019-12-06 15:49:58: oggm.workflow: Execute entity task glacier_statistics on 1 glaciers\n",
      "2019-12-06 15:49:58: oggm.cfg: Using configuration file: /home/pelto/anaconda2/envs/oggm_env/lib/python3.6/site-packages/oggm/params.cfg\n"
     ]
    },
    {
     "name": "stdout",
     "output_type": "stream",
     "text": [
      "{'ela_h': 2545.680813745039, 'grad': 7.11}\n",
      "slope default: 0.237854    intercept: 2621.998664   R-squared: 0.989877\n",
      "slope: 0.140647    intercept: 2545.680814   R-squared: 1.000000\n",
      "<oggm.GlacierDirectory>\n",
      "  RGI id: RGI60-02.02171\n",
      "  Region: 02: Western Canada and US\n",
      "  Subregion: 02-03: N Rocky Mtns                    \n",
      "  Glacier type: Glacier\n",
      "  Terminus type: Land-terminating\n",
      "  Area: 16.884 km2\n",
      "  Lon, Lat: (-116.92973613761615, 50.80689063881644)\n",
      "  Grid (nx, ny): (106, 125)\n",
      "  Grid (dx, dy): (68.0, -68.0)\n",
      "\n"
     ]
    },
    {
     "name": "stderr",
     "output_type": "stream",
     "text": [
      "2019-12-06 15:49:59: oggm.cfg: Using configuration file: /home/pelto/anaconda2/envs/oggm_env/lib/python3.6/site-packages/oggm/params.cfg\n"
     ]
    },
    {
     "name": "stdout",
     "output_type": "stream",
     "text": [
      "/home/pelto/Desktop/lidar_cbt_analysis/conrad/20160912_conrad_dem1_clip_slave.tif\n"
     ]
    },
    {
     "name": "stderr",
     "output_type": "stream",
     "text": [
      "2019-12-06 15:50:00: oggm.workflow: Execute entity task define_glacier_region on 1 glaciers\n",
      "2019-12-06 15:50:01: oggm.workflow: Multiprocessing: using all available processors (N=8)\n",
      "/home/pelto/anaconda2/envs/oggm_env/lib/python3.6/site-packages/geopandas/io/file.py:108: FionaDeprecationWarning: Use fiona.Env() instead.\n",
      "  with fiona.drivers():\n",
      "2019-12-06 15:50:03: oggm.workflow: Execute entity task glacier_masks on 1 glaciers\n",
      "/home/pelto/anaconda2/envs/oggm_env/lib/python3.6/site-packages/oggm/core/gis.py:505: RuntimeWarning: invalid value encountered in less_equal\n",
      "  topo[topo <= -999.] = np.NaN\n",
      "2019-12-06 15:50:03: oggm.workflow: Execute entity task compute_centerlines on 1 glaciers\n",
      "2019-12-06 15:50:03: oggm.workflow: Execute entity task initialize_flowlines on 1 glaciers\n",
      "2019-12-06 15:50:03: oggm.workflow: Execute entity task compute_downstream_line on 1 glaciers\n",
      "2019-12-06 15:50:03: oggm.workflow: Execute entity task compute_downstream_bedshape on 1 glaciers\n",
      "2019-12-06 15:50:03: oggm.workflow: Execute entity task catchment_area on 1 glaciers\n",
      "2019-12-06 15:50:04: oggm.workflow: Execute entity task catchment_intersections on 1 glaciers\n",
      "/home/pelto/anaconda2/envs/oggm_env/lib/python3.6/site-packages/geopandas/io/file.py:108: FionaDeprecationWarning: Use fiona.Env() instead.\n",
      "  with fiona.drivers():\n",
      "2019-12-06 15:50:04: oggm.workflow: Execute entity task catchment_width_geom on 1 glaciers\n",
      "2019-12-06 15:50:04: oggm.workflow: Execute entity task catchment_width_correction on 1 glaciers\n",
      "2019-12-06 15:50:04: oggm.workflow: Execute entity task process_cru_data on 1 glaciers\n",
      "2019-12-06 15:50:05: oggm.workflow: Execute entity task local_t_star on 1 glaciers\n",
      "2019-12-06 15:50:05: oggm.workflow: Execute entity task mu_star_calibration on 1 glaciers\n",
      "2019-12-06 15:50:05: oggm.workflow: Execute entity task prepare_for_inversion on 1 glaciers\n",
      "2019-12-06 15:50:05: oggm.workflow: Execute entity task mass_conservation_inversion on 1 glaciers\n",
      "2019-12-06 15:50:05: oggm.workflow: Execute entity task filter_inversion_output on 1 glaciers\n",
      "2019-12-06 15:50:05: oggm.workflow: Execute entity task distribute_thickness_per_altitude on 1 glaciers\n",
      "2019-12-06 15:50:06: oggm.workflow: Execute entity task distribute_thickness_per_altitude on 1 glaciers\n"
     ]
    },
    {
     "name": "stdout",
     "output_type": "stream",
     "text": [
      "slope: 0.237744    intercept: 2616.717127   R-squared: 0.989362\n"
     ]
    },
    {
     "name": "stderr",
     "output_type": "stream",
     "text": [
      "2019-12-06 15:50:06: oggm.workflow: Execute entity task apparent_mb_from_linear_mb on 1 glaciers\n",
      "2019-12-06 15:50:06: oggm.workflow: Execute entity task glacier_statistics on 1 glaciers\n"
     ]
    },
    {
     "name": "stdout",
     "output_type": "stream",
     "text": [
      "{'ela_h': 2539.5413371238974, 'grad': 7.11}\n",
      "slope default: 0.237744    intercept: 2616.717127   R-squared: 0.989362\n",
      "slope: 0.140647    intercept: 2539.541337   R-squared: 1.000000\n",
      "<oggm.GlacierDirectory>\n",
      "  RGI id: RGI60-02.02171\n",
      "  Region: 02: Western Canada and US\n",
      "  Subregion: 02-03: N Rocky Mtns                    \n",
      "  Glacier type: Glacier\n",
      "  Terminus type: Land-terminating\n",
      "  Area: 16.884 km2\n",
      "  Lon, Lat: (-116.92973613761615, 50.80689063881644)\n",
      "  Grid (nx, ny): (106, 125)\n",
      "  Grid (dx, dy): (68.0, -68.0)\n",
      "\n",
      "Fantanstic, both arrays have the same shape of:  (106, 87)\n"
     ]
    },
    {
     "name": "stderr",
     "output_type": "stream",
     "text": [
      "2019-12-06 15:50:07: oggm.cfg: Using configuration file: /home/pelto/anaconda2/envs/oggm_env/lib/python3.6/site-packages/oggm/params.cfg\n",
      "2019-12-06 15:50:08: oggm.cfg: Using configuration file: /home/pelto/anaconda2/envs/oggm_env/lib/python3.6/site-packages/oggm/params.cfg\n"
     ]
    },
    {
     "name": "stdout",
     "output_type": "stream",
     "text": [
      "/home/pelto/Desktop/lidar_cbt_analysis/conrad/20160912_conrad_dem1_clip_slave.tif\n"
     ]
    },
    {
     "name": "stderr",
     "output_type": "stream",
     "text": [
      "2019-12-06 15:50:09: oggm.workflow: Execute entity task define_glacier_region on 1 glaciers\n",
      "2019-12-06 15:50:09: oggm.workflow: Multiprocessing: using all available processors (N=8)\n",
      "/home/pelto/anaconda2/envs/oggm_env/lib/python3.6/site-packages/geopandas/io/file.py:108: FionaDeprecationWarning: Use fiona.Env() instead.\n",
      "  with fiona.drivers():\n",
      "2019-12-06 15:50:11: oggm.workflow: Execute entity task glacier_masks on 1 glaciers\n",
      "/home/pelto/anaconda2/envs/oggm_env/lib/python3.6/site-packages/oggm/core/gis.py:505: RuntimeWarning: invalid value encountered in less_equal\n",
      "  topo[topo <= -999.] = np.NaN\n",
      "2019-12-06 15:50:11: oggm.workflow: Execute entity task compute_centerlines on 1 glaciers\n",
      "2019-12-06 15:50:11: oggm.workflow: Execute entity task initialize_flowlines on 1 glaciers\n",
      "2019-12-06 15:50:11: oggm.workflow: Execute entity task compute_downstream_line on 1 glaciers\n",
      "2019-12-06 15:50:11: oggm.workflow: Execute entity task compute_downstream_bedshape on 1 glaciers\n",
      "2019-12-06 15:50:11: oggm.workflow: Execute entity task catchment_area on 1 glaciers\n",
      "2019-12-06 15:50:12: oggm.workflow: Execute entity task catchment_intersections on 1 glaciers\n",
      "/home/pelto/anaconda2/envs/oggm_env/lib/python3.6/site-packages/geopandas/io/file.py:108: FionaDeprecationWarning: Use fiona.Env() instead.\n",
      "  with fiona.drivers():\n",
      "2019-12-06 15:50:12: oggm.workflow: Execute entity task catchment_width_geom on 1 glaciers\n",
      "2019-12-06 15:50:13: oggm.workflow: Execute entity task catchment_width_correction on 1 glaciers\n",
      "2019-12-06 15:50:13: oggm.workflow: Execute entity task process_cru_data on 1 glaciers\n",
      "2019-12-06 15:50:13: oggm.workflow: Execute entity task local_t_star on 1 glaciers\n",
      "2019-12-06 15:50:13: oggm.workflow: Execute entity task mu_star_calibration on 1 glaciers\n",
      "2019-12-06 15:50:14: oggm.workflow: Execute entity task prepare_for_inversion on 1 glaciers\n",
      "2019-12-06 15:50:14: oggm.workflow: Execute entity task mass_conservation_inversion on 1 glaciers\n",
      "2019-12-06 15:50:14: oggm.workflow: Execute entity task filter_inversion_output on 1 glaciers\n",
      "2019-12-06 15:50:14: oggm.workflow: Execute entity task distribute_thickness_per_altitude on 1 glaciers\n",
      "2019-12-06 15:50:14: oggm.workflow: Execute entity task distribute_thickness_per_altitude on 1 glaciers\n"
     ]
    },
    {
     "name": "stdout",
     "output_type": "stream",
     "text": [
      "slope: 0.237744    intercept: 2616.717127   R-squared: 0.989362\n"
     ]
    },
    {
     "name": "stderr",
     "output_type": "stream",
     "text": [
      "2019-12-06 15:50:14: oggm.workflow: Execute entity task apparent_mb_from_linear_mb on 1 glaciers\n",
      "2019-12-06 15:50:14: oggm.workflow: Execute entity task glacier_statistics on 1 glaciers\n"
     ]
    },
    {
     "name": "stdout",
     "output_type": "stream",
     "text": [
      "{'ela_h': 2539.5413371238974, 'grad': 7.11}\n",
      "slope default: 0.237744    intercept: 2616.717127   R-squared: 0.989362\n",
      "slope: 0.140647    intercept: 2539.541337   R-squared: 1.000000\n",
      "<oggm.GlacierDirectory>\n",
      "  RGI id: RGI60-02.02171\n",
      "  Region: 02: Western Canada and US\n",
      "  Subregion: 02-03: N Rocky Mtns                    \n",
      "  Glacier type: Glacier\n",
      "  Terminus type: Land-terminating\n",
      "  Area: 16.884 km2\n",
      "  Lon, Lat: (-116.92973613761615, 50.80689063881644)\n",
      "  Grid (nx, ny): (106, 125)\n",
      "  Grid (dx, dy): (68.0, -68.0)\n",
      "\n",
      "found  6  problem(s) within a total number of data point of:  824  problem share  0.01626590071317792\n",
      "corrected quadratic error is:  4045578.753848777\n",
      "ME: 43.22348937247563\n",
      "MAE: 51.740619613128956\n"
     ]
    },
    {
     "data": {
      "image/png": "[encoded data removed]",
      "text/plain": [
       "<Figure size 432x288 with 6 Axes>"
      ]
     },
     "metadata": {
      "needs_background": "light"
     },
     "output_type": "display_data"
    },
    {
     "name": "stderr",
     "output_type": "stream",
     "text": [
      "2019-12-06 15:50:15: oggm.cfg: Using configuration file: /home/pelto/anaconda2/envs/oggm_env/lib/python3.6/site-packages/oggm/params.cfg\n"
     ]
    },
    {
     "name": "stdout",
     "output_type": "stream",
     "text": [
      "Minimal value is 51.740619613128956 at inversion_glen_a = 7.381e-24\n",
      "obs grid cells count: 824\n",
      "dfb exponent:         0.25\n",
      "smoothing window (m): 101.0\n",
      "smoothing radius (m): 201.0\n"
     ]
    },
    {
     "name": "stderr",
     "output_type": "stream",
     "text": [
      "2019-12-06 15:50:17: oggm.workflow: Execute entity task glacier_masks on 1 glaciers\n",
      "2019-12-06 15:50:17: oggm.workflow: Multiprocessing: using all available processors (N=8)\n",
      "2019-12-06 15:50:17: oggm.workflow: Execute entity task compute_centerlines on 1 glaciers\n",
      "2019-12-06 15:50:17: oggm.workflow: Execute entity task initialize_flowlines on 1 glaciers\n",
      "2019-12-06 15:50:17: oggm.workflow: Execute entity task compute_downstream_line on 1 glaciers\n",
      "2019-12-06 15:50:17: oggm.workflow: Execute entity task compute_downstream_bedshape on 1 glaciers\n",
      "2019-12-06 15:50:17: oggm.workflow: Execute entity task catchment_area on 1 glaciers\n",
      "2019-12-06 15:50:18: oggm.workflow: Execute entity task catchment_intersections on 1 glaciers\n",
      "/home/pelto/anaconda2/envs/oggm_env/lib/python3.6/site-packages/geopandas/io/file.py:108: FionaDeprecationWarning: Use fiona.Env() instead.\n",
      "  with fiona.drivers():\n",
      "2019-12-06 15:50:18: oggm.workflow: Execute entity task catchment_width_geom on 1 glaciers\n",
      "2019-12-06 15:50:19: oggm.workflow: Execute entity task catchment_width_correction on 1 glaciers\n",
      "2019-12-06 15:50:19: oggm.workflow: Execute entity task process_cru_data on 1 glaciers\n",
      "2019-12-06 15:50:20: oggm.workflow: Execute entity task local_t_star on 1 glaciers\n",
      "2019-12-06 15:50:20: oggm.workflow: Execute entity task mu_star_calibration on 1 glaciers\n",
      "2019-12-06 15:50:20: oggm.workflow: Execute entity task prepare_for_inversion on 1 glaciers\n",
      "2019-12-06 15:50:20: oggm.workflow: Execute entity task mass_conservation_inversion on 1 glaciers\n",
      "2019-12-06 15:50:20: oggm.workflow: Execute entity task filter_inversion_output on 1 glaciers\n",
      "2019-12-06 15:50:20: oggm.workflow: Execute entity task distribute_thickness_per_altitude on 1 glaciers\n",
      "2019-12-06 15:50:20: oggm.workflow: Execute entity task distribute_thickness_per_altitude on 1 glaciers\n"
     ]
    },
    {
     "name": "stdout",
     "output_type": "stream",
     "text": [
      "slope: 0.237854    intercept: 2621.998664   R-squared: 0.989877\n"
     ]
    },
    {
     "name": "stderr",
     "output_type": "stream",
     "text": [
      "2019-12-06 15:50:21: oggm.workflow: Execute entity task apparent_mb_from_linear_mb on 1 glaciers\n",
      "2019-12-06 15:50:21: oggm.workflow: Execute entity task glacier_statistics on 1 glaciers\n"
     ]
    },
    {
     "name": "stdout",
     "output_type": "stream",
     "text": [
      "{'ela_h': 2545.680813745039, 'grad': 7.11}\n",
      "slope default: 0.237854    intercept: 2621.998664   R-squared: 0.989877\n",
      "slope: 0.140647    intercept: 2545.680814   R-squared: 1.000000\n",
      "parameter value: 7.381e-24\n",
      "\n",
      "glacier total volume: rgi_id\n",
      "RGI60-02.02171    1.340207\n",
      "Name: inv_volume_km3, dtype: float64 km^3 \n",
      " \n",
      " \n",
      "\n",
      "mean thickness value: 97.84181091915893 m \n",
      "\n",
      "<oggm.GlacierDirectory>\n",
      "  RGI id: RGI60-02.02171\n",
      "  Region: 02: Western Canada and US\n",
      "  Subregion: 02-03: N Rocky Mtns                    \n",
      "  Glacier type: Glacier\n",
      "  Terminus type: Land-terminating\n",
      "  Area: 16.884 km2\n",
      "  Lon, Lat: (-116.92973613761615, 50.80689063881644)\n",
      "  Grid (nx, ny): (106, 125)\n",
      "  Grid (dx, dy): (68.0, -68.0)\n",
      "\n"
     ]
    },
    {
     "name": "stderr",
     "output_type": "stream",
     "text": [
      "2019-12-06 15:50:21: oggm.cfg: Using configuration file: /home/pelto/anaconda2/envs/oggm_env/lib/python3.6/site-packages/oggm/params.cfg\n",
      "2019-12-06 15:50:23: oggm.workflow: Execute entity task glacier_masks on 1 glaciers\n",
      "2019-12-06 15:50:23: oggm.workflow: Multiprocessing: using all available processors (N=8)\n",
      "2019-12-06 15:50:23: oggm.workflow: Execute entity task compute_centerlines on 1 glaciers\n",
      "2019-12-06 15:50:23: oggm.workflow: Execute entity task initialize_flowlines on 1 glaciers\n",
      "2019-12-06 15:50:23: oggm.workflow: Execute entity task compute_downstream_line on 1 glaciers\n",
      "2019-12-06 15:50:23: oggm.workflow: Execute entity task compute_downstream_bedshape on 1 glaciers\n",
      "2019-12-06 15:50:23: oggm.workflow: Execute entity task catchment_area on 1 glaciers\n",
      "2019-12-06 15:50:24: oggm.workflow: Execute entity task catchment_intersections on 1 glaciers\n",
      "/home/pelto/anaconda2/envs/oggm_env/lib/python3.6/site-packages/geopandas/io/file.py:108: FionaDeprecationWarning: Use fiona.Env() instead.\n",
      "  with fiona.drivers():\n",
      "2019-12-06 15:50:24: oggm.workflow: Execute entity task catchment_width_geom on 1 glaciers\n",
      "2019-12-06 15:50:25: oggm.workflow: Execute entity task catchment_width_correction on 1 glaciers\n",
      "2019-12-06 15:50:25: oggm.workflow: Execute entity task process_cru_data on 1 glaciers\n",
      "2019-12-06 15:50:26: oggm.workflow: Execute entity task local_t_star on 1 glaciers\n",
      "2019-12-06 15:50:26: oggm.workflow: Execute entity task mu_star_calibration on 1 glaciers\n",
      "2019-12-06 15:50:26: oggm.workflow: Execute entity task prepare_for_inversion on 1 glaciers\n",
      "2019-12-06 15:50:26: oggm.workflow: Execute entity task mass_conservation_inversion on 1 glaciers\n",
      "2019-12-06 15:50:26: oggm.workflow: Execute entity task filter_inversion_output on 1 glaciers\n",
      "2019-12-06 15:50:26: oggm.workflow: Execute entity task distribute_thickness_per_altitude on 1 glaciers\n",
      "2019-12-06 15:50:26: oggm.workflow: Execute entity task distribute_thickness_per_altitude on 1 glaciers\n"
     ]
    },
    {
     "name": "stdout",
     "output_type": "stream",
     "text": [
      "slope: 0.237854    intercept: 2621.998664   R-squared: 0.989877\n"
     ]
    },
    {
     "name": "stderr",
     "output_type": "stream",
     "text": [
      "2019-12-06 15:50:27: oggm.workflow: Execute entity task apparent_mb_from_linear_mb on 1 glaciers\n",
      "2019-12-06 15:50:27: oggm.workflow: Execute entity task glacier_statistics on 1 glaciers\n",
      "2019-12-06 15:50:27: oggm.cfg: Using configuration file: /home/pelto/anaconda2/envs/oggm_env/lib/python3.6/site-packages/oggm/params.cfg\n"
     ]
    },
    {
     "name": "stdout",
     "output_type": "stream",
     "text": [
      "{'ela_h': 2545.680813745039, 'grad': 7.11}\n",
      "slope default: 0.237854    intercept: 2621.998664   R-squared: 0.989877\n",
      "slope: 0.140647    intercept: 2545.680814   R-squared: 1.000000\n",
      "<oggm.GlacierDirectory>\n",
      "  RGI id: RGI60-02.02171\n",
      "  Region: 02: Western Canada and US\n",
      "  Subregion: 02-03: N Rocky Mtns                    \n",
      "  Glacier type: Glacier\n",
      "  Terminus type: Land-terminating\n",
      "  Area: 16.884 km2\n",
      "  Lon, Lat: (-116.92973613761615, 50.80689063881644)\n",
      "  Grid (nx, ny): (106, 125)\n",
      "  Grid (dx, dy): (68.0, -68.0)\n",
      "\n"
     ]
    },
    {
     "name": "stderr",
     "output_type": "stream",
     "text": [
      "2019-12-06 15:50:28: oggm.cfg: Using configuration file: /home/pelto/anaconda2/envs/oggm_env/lib/python3.6/site-packages/oggm/params.cfg\n"
     ]
    },
    {
     "name": "stdout",
     "output_type": "stream",
     "text": [
      "/home/pelto/Desktop/lidar_cbt_analysis/conrad/20160912_conrad_dem1_clip_slave.tif\n"
     ]
    },
    {
     "name": "stderr",
     "output_type": "stream",
     "text": [
      "2019-12-06 15:50:29: oggm.workflow: Execute entity task define_glacier_region on 1 glaciers\n",
      "2019-12-06 15:50:29: oggm.workflow: Multiprocessing: using all available processors (N=8)\n",
      "/home/pelto/anaconda2/envs/oggm_env/lib/python3.6/site-packages/geopandas/io/file.py:108: FionaDeprecationWarning: Use fiona.Env() instead.\n",
      "  with fiona.drivers():\n",
      "2019-12-06 15:50:31: oggm.workflow: Execute entity task glacier_masks on 1 glaciers\n",
      "/home/pelto/anaconda2/envs/oggm_env/lib/python3.6/site-packages/oggm/core/gis.py:505: RuntimeWarning: invalid value encountered in less_equal\n",
      "  topo[topo <= -999.] = np.NaN\n",
      "2019-12-06 15:50:31: oggm.workflow: Execute entity task compute_centerlines on 1 glaciers\n",
      "2019-12-06 15:50:31: oggm.workflow: Execute entity task initialize_flowlines on 1 glaciers\n",
      "2019-12-06 15:50:31: oggm.workflow: Execute entity task compute_downstream_line on 1 glaciers\n",
      "2019-12-06 15:50:31: oggm.workflow: Execute entity task compute_downstream_bedshape on 1 glaciers\n",
      "2019-12-06 15:50:31: oggm.workflow: Execute entity task catchment_area on 1 glaciers\n",
      "2019-12-06 15:50:32: oggm.workflow: Execute entity task catchment_intersections on 1 glaciers\n",
      "/home/pelto/anaconda2/envs/oggm_env/lib/python3.6/site-packages/geopandas/io/file.py:108: FionaDeprecationWarning: Use fiona.Env() instead.\n",
      "  with fiona.drivers():\n",
      "2019-12-06 15:50:32: oggm.workflow: Execute entity task catchment_width_geom on 1 glaciers\n",
      "2019-12-06 15:50:33: oggm.workflow: Execute entity task catchment_width_correction on 1 glaciers\n",
      "2019-12-06 15:50:33: oggm.workflow: Execute entity task process_cru_data on 1 glaciers\n",
      "2019-12-06 15:50:34: oggm.workflow: Execute entity task local_t_star on 1 glaciers\n",
      "2019-12-06 15:50:34: oggm.workflow: Execute entity task mu_star_calibration on 1 glaciers\n",
      "2019-12-06 15:50:34: oggm.workflow: Execute entity task prepare_for_inversion on 1 glaciers\n",
      "2019-12-06 15:50:34: oggm.workflow: Execute entity task mass_conservation_inversion on 1 glaciers\n",
      "2019-12-06 15:50:34: oggm.workflow: Execute entity task filter_inversion_output on 1 glaciers\n",
      "2019-12-06 15:50:34: oggm.workflow: Execute entity task distribute_thickness_per_altitude on 1 glaciers\n",
      "2019-12-06 15:50:34: oggm.workflow: Execute entity task distribute_thickness_per_altitude on 1 glaciers\n"
     ]
    },
    {
     "name": "stdout",
     "output_type": "stream",
     "text": [
      "slope: 0.237744    intercept: 2616.717127   R-squared: 0.989362\n"
     ]
    },
    {
     "name": "stderr",
     "output_type": "stream",
     "text": [
      "2019-12-06 15:50:35: oggm.workflow: Execute entity task apparent_mb_from_linear_mb on 1 glaciers\n",
      "2019-12-06 15:50:35: oggm.workflow: Execute entity task glacier_statistics on 1 glaciers\n"
     ]
    },
    {
     "name": "stdout",
     "output_type": "stream",
     "text": [
      "{'ela_h': 2539.5413371238974, 'grad': 7.11}\n",
      "slope default: 0.237744    intercept: 2616.717127   R-squared: 0.989362\n",
      "slope: 0.140647    intercept: 2539.541337   R-squared: 1.000000\n",
      "<oggm.GlacierDirectory>\n",
      "  RGI id: RGI60-02.02171\n",
      "  Region: 02: Western Canada and US\n",
      "  Subregion: 02-03: N Rocky Mtns                    \n",
      "  Glacier type: Glacier\n",
      "  Terminus type: Land-terminating\n",
      "  Area: 16.884 km2\n",
      "  Lon, Lat: (-116.92973613761615, 50.80689063881644)\n",
      "  Grid (nx, ny): (106, 125)\n",
      "  Grid (dx, dy): (68.0, -68.0)\n",
      "\n",
      "Fantanstic, both arrays have the same shape of:  (106, 87)\n"
     ]
    },
    {
     "name": "stderr",
     "output_type": "stream",
     "text": [
      "2019-12-06 15:50:35: oggm.cfg: Using configuration file: /home/pelto/anaconda2/envs/oggm_env/lib/python3.6/site-packages/oggm/params.cfg\n",
      "2019-12-06 15:50:36: oggm.cfg: Using configuration file: /home/pelto/anaconda2/envs/oggm_env/lib/python3.6/site-packages/oggm/params.cfg\n"
     ]
    },
    {
     "name": "stdout",
     "output_type": "stream",
     "text": [
      "/home/pelto/Desktop/lidar_cbt_analysis/conrad/20160912_conrad_dem1_clip_slave.tif\n"
     ]
    },
    {
     "name": "stderr",
     "output_type": "stream",
     "text": [
      "2019-12-06 15:50:37: oggm.workflow: Execute entity task define_glacier_region on 1 glaciers\n",
      "2019-12-06 15:50:37: oggm.workflow: Multiprocessing: using all available processors (N=8)\n",
      "/home/pelto/anaconda2/envs/oggm_env/lib/python3.6/site-packages/geopandas/io/file.py:108: FionaDeprecationWarning: Use fiona.Env() instead.\n",
      "  with fiona.drivers():\n",
      "2019-12-06 15:50:39: oggm.workflow: Execute entity task glacier_masks on 1 glaciers\n",
      "/home/pelto/anaconda2/envs/oggm_env/lib/python3.6/site-packages/oggm/core/gis.py:505: RuntimeWarning: invalid value encountered in less_equal\n",
      "  topo[topo <= -999.] = np.NaN\n",
      "2019-12-06 15:50:40: oggm.workflow: Execute entity task compute_centerlines on 1 glaciers\n",
      "2019-12-06 15:50:40: oggm.workflow: Execute entity task initialize_flowlines on 1 glaciers\n",
      "2019-12-06 15:50:40: oggm.workflow: Execute entity task compute_downstream_line on 1 glaciers\n",
      "2019-12-06 15:50:40: oggm.workflow: Execute entity task compute_downstream_bedshape on 1 glaciers\n",
      "2019-12-06 15:50:40: oggm.workflow: Execute entity task catchment_area on 1 glaciers\n",
      "2019-12-06 15:50:41: oggm.workflow: Execute entity task catchment_intersections on 1 glaciers\n",
      "/home/pelto/anaconda2/envs/oggm_env/lib/python3.6/site-packages/geopandas/io/file.py:108: FionaDeprecationWarning: Use fiona.Env() instead.\n",
      "  with fiona.drivers():\n",
      "2019-12-06 15:50:41: oggm.workflow: Execute entity task catchment_width_geom on 1 glaciers\n",
      "2019-12-06 15:50:41: oggm.workflow: Execute entity task catchment_width_correction on 1 glaciers\n",
      "2019-12-06 15:50:41: oggm.workflow: Execute entity task process_cru_data on 1 glaciers\n",
      "2019-12-06 15:50:42: oggm.workflow: Execute entity task local_t_star on 1 glaciers\n",
      "2019-12-06 15:50:42: oggm.workflow: Execute entity task mu_star_calibration on 1 glaciers\n",
      "2019-12-06 15:50:42: oggm.workflow: Execute entity task prepare_for_inversion on 1 glaciers\n",
      "2019-12-06 15:50:42: oggm.workflow: Execute entity task mass_conservation_inversion on 1 glaciers\n",
      "2019-12-06 15:50:42: oggm.workflow: Execute entity task filter_inversion_output on 1 glaciers\n",
      "2019-12-06 15:50:42: oggm.workflow: Execute entity task distribute_thickness_per_altitude on 1 glaciers\n",
      "2019-12-06 15:50:43: oggm.workflow: Execute entity task distribute_thickness_per_altitude on 1 glaciers\n"
     ]
    },
    {
     "name": "stdout",
     "output_type": "stream",
     "text": [
      "slope: 0.237744    intercept: 2616.717127   R-squared: 0.989362\n"
     ]
    },
    {
     "name": "stderr",
     "output_type": "stream",
     "text": [
      "2019-12-06 15:50:43: oggm.workflow: Execute entity task apparent_mb_from_linear_mb on 1 glaciers\n",
      "2019-12-06 15:50:43: oggm.workflow: Execute entity task glacier_statistics on 1 glaciers\n"
     ]
    },
    {
     "name": "stdout",
     "output_type": "stream",
     "text": [
      "{'ela_h': 2539.5413371238974, 'grad': 7.11}\n",
      "slope default: 0.237744    intercept: 2616.717127   R-squared: 0.989362\n",
      "slope: 0.140647    intercept: 2539.541337   R-squared: 1.000000\n",
      "<oggm.GlacierDirectory>\n",
      "  RGI id: RGI60-02.02171\n",
      "  Region: 02: Western Canada and US\n",
      "  Subregion: 02-03: N Rocky Mtns                    \n",
      "  Glacier type: Glacier\n",
      "  Terminus type: Land-terminating\n",
      "  Area: 16.884 km2\n",
      "  Lon, Lat: (-116.92973613761615, 50.80689063881644)\n",
      "  Grid (nx, ny): (106, 125)\n",
      "  Grid (dx, dy): (68.0, -68.0)\n",
      "\n",
      "found  6  problem(s) within a total number of data point of:  824  problem share  0.015618255931207694\n",
      "corrected quadratic error is:  4216111.297417761\n",
      "ME: 45.451420362713264\n",
      "MAE: 52.95542956324457\n"
     ]
    },
    {
     "data": {
      "image/png": "[encoded data removed]",
      "text/plain": [
       "<Figure size 432x288 with 6 Axes>"
      ]
     },
     "metadata": {
      "needs_background": "light"
     },
     "output_type": "display_data"
    },
    {
     "name": "stderr",
     "output_type": "stream",
     "text": [
      "2019-12-06 15:50:44: oggm.cfg: Using configuration file: /home/pelto/anaconda2/envs/oggm_env/lib/python3.6/site-packages/oggm/params.cfg\n"
     ]
    },
    {
     "name": "stdout",
     "output_type": "stream",
     "text": [
      "Minimal value is 52.95542956324457 at inversion_glen_a = 7.381e-24\n",
      "obs grid cells count: 824\n",
      "dfb exponent:         0.25\n",
      "smoothing window (m): 101.0\n",
      "smoothing radius (m): 251.0\n"
     ]
    },
    {
     "name": "stderr",
     "output_type": "stream",
     "text": [
      "2019-12-06 15:50:46: oggm.workflow: Execute entity task glacier_masks on 1 glaciers\n",
      "2019-12-06 15:50:46: oggm.workflow: Multiprocessing: using all available processors (N=8)\n",
      "2019-12-06 15:50:46: oggm.workflow: Execute entity task compute_centerlines on 1 glaciers\n",
      "2019-12-06 15:50:46: oggm.workflow: Execute entity task initialize_flowlines on 1 glaciers\n",
      "2019-12-06 15:50:46: oggm.workflow: Execute entity task compute_downstream_line on 1 glaciers\n",
      "2019-12-06 15:50:46: oggm.workflow: Execute entity task compute_downstream_bedshape on 1 glaciers\n",
      "2019-12-06 15:50:46: oggm.workflow: Execute entity task catchment_area on 1 glaciers\n",
      "2019-12-06 15:50:47: oggm.workflow: Execute entity task catchment_intersections on 1 glaciers\n",
      "/home/pelto/anaconda2/envs/oggm_env/lib/python3.6/site-packages/geopandas/io/file.py:108: FionaDeprecationWarning: Use fiona.Env() instead.\n",
      "  with fiona.drivers():\n",
      "2019-12-06 15:50:47: oggm.workflow: Execute entity task catchment_width_geom on 1 glaciers\n",
      "2019-12-06 15:50:47: oggm.workflow: Execute entity task catchment_width_correction on 1 glaciers\n",
      "2019-12-06 15:50:47: oggm.workflow: Execute entity task process_cru_data on 1 glaciers\n",
      "2019-12-06 15:50:48: oggm.workflow: Execute entity task local_t_star on 1 glaciers\n",
      "2019-12-06 15:50:48: oggm.workflow: Execute entity task mu_star_calibration on 1 glaciers\n",
      "2019-12-06 15:50:48: oggm.workflow: Execute entity task prepare_for_inversion on 1 glaciers\n",
      "2019-12-06 15:50:48: oggm.workflow: Execute entity task mass_conservation_inversion on 1 glaciers\n",
      "2019-12-06 15:50:48: oggm.workflow: Execute entity task filter_inversion_output on 1 glaciers\n",
      "2019-12-06 15:50:48: oggm.workflow: Execute entity task distribute_thickness_per_altitude on 1 glaciers\n",
      "2019-12-06 15:50:49: oggm.workflow: Execute entity task distribute_thickness_per_altitude on 1 glaciers\n"
     ]
    },
    {
     "name": "stdout",
     "output_type": "stream",
     "text": [
      "slope: 0.237854    intercept: 2621.998664   R-squared: 0.989877\n"
     ]
    },
    {
     "name": "stderr",
     "output_type": "stream",
     "text": [
      "2019-12-06 15:50:49: oggm.workflow: Execute entity task apparent_mb_from_linear_mb on 1 glaciers\n",
      "2019-12-06 15:50:49: oggm.workflow: Execute entity task glacier_statistics on 1 glaciers\n"
     ]
    },
    {
     "name": "stdout",
     "output_type": "stream",
     "text": [
      "{'ela_h': 2545.680813745039, 'grad': 7.11}\n",
      "slope default: 0.237854    intercept: 2621.998664   R-squared: 0.989877\n",
      "slope: 0.140647    intercept: 2545.680814   R-squared: 1.000000\n",
      "parameter value: 7.381e-24\n",
      "\n",
      "glacier total volume: rgi_id\n",
      "RGI60-02.02171    1.340207\n",
      "Name: inv_volume_km3, dtype: float64 km^3 \n",
      " \n",
      " \n",
      "\n",
      "mean thickness value: 97.84181091915893 m \n",
      "\n",
      "<oggm.GlacierDirectory>\n",
      "  RGI id: RGI60-02.02171\n",
      "  Region: 02: Western Canada and US\n",
      "  Subregion: 02-03: N Rocky Mtns                    \n",
      "  Glacier type: Glacier\n",
      "  Terminus type: Land-terminating\n",
      "  Area: 16.884 km2\n",
      "  Lon, Lat: (-116.92973613761615, 50.80689063881644)\n",
      "  Grid (nx, ny): (106, 125)\n",
      "  Grid (dx, dy): (68.0, -68.0)\n",
      "\n"
     ]
    },
    {
     "data": {
      "text/plain": [
       "[46.94393620907682,\n",
       " 45.84466368017845,\n",
       " 47.056867455973205,\n",
       " 48.731976504464754,\n",
       " 50.46666160602014,\n",
       " 51.740619613128956,\n",
       " 52.95542956324457]"
      ]
     },
     "execution_count": 108,
     "metadata": {},
     "output_type": "execute_result"
    },
    {
     "data": {
      "image/png": "[encoded data removed]",
      "text/plain": [
       "<Figure size 432x288 with 3 Axes>"
      ]
     },
     "metadata": {
      "needs_background": "light"
     },
     "output_type": "display_data"
    }
   ],
   "source": [
    "for i in sr:\n",
    "    SR=sr[count]\n",
    "#     sw=dx[num]+1.\n",
    "    def new_mb_grad_corr_dem(num, dem, glacier, name, parameter, best, use_dem_corr):\n",
    "        \"\"\"\n",
    "        :param num: number of selected glacier\n",
    "        :param dem: list with dem file names\n",
    "        :param glacier: the list with the glacier names\n",
    "        :param name: name of the parameter to be modified\n",
    "        :param parameter: value of the parameter to be modified\n",
    "        :param best: if TRUE, an extra save with prefix 'best' will be created\n",
    "        :param use_dem_correction: if TRUE, a Lidar DEM correction will be used\n",
    "        :type num: int\n",
    "        :type dem: str list\n",
    "        :type glacier: str list\n",
    "        :type name: str \n",
    "        :type parameter: float\n",
    "        :type best: boolean\n",
    "        :type use_dem_correction: boolean\n",
    "        :returns: distributed thickness\n",
    "        :rtype: 2D float array\n",
    "        \"\"\"\n",
    "        # Initialize OGGM and set up the run parameters --> Read the configuration file containing the run’s parameters.\n",
    "        cfg.initialize(logging_level='WORKFLOW')\n",
    "\n",
    "        #num determines which gdir and gradient to use, refer to list below to select desired site\n",
    "        grad = [6.84, 9.8, 7.11, 7.95, 10.84, 6.01, 7.92] # mm w.e. m-1\n",
    "\n",
    "\n",
    "        # Get the RGI glaciers for the run.\n",
    "        rgi_list = ['RGI60-02.00147', 'RGI60-02.01857', 'RGI60-02.02171', 'RGI60-02.03411', 'RGI60-02.03688', 'RGI60-02.04264', 'RGI60-02.07780']\n",
    "        rgidf = utils.get_rgi_glacier_entities([rgi_list[num]])\n",
    "\n",
    "\n",
    "        ############################################################# here the DEM correction happens #########################################################\n",
    "\n",
    "        if(use_dem_corr==True):\n",
    "\n",
    "            custom_dem_path = '/home/pelto/Desktop/lidar_cbt_analysis/' + dem[num] #glacier_lower[num]\n",
    "            print(custom_dem_path)\n",
    "            WORKING_DIR2 = utils.gettempdir(glacier[num] + '_SR_lidar_dem') # Let's make a working directory for this DEM \n",
    "            utils.mkdir(WORKING_DIR2, reset=True)\n",
    "            cfg.initialize(logging_level='WORKFLOW')\n",
    "            cfg.PATHS['working_dir'] = WORKING_DIR2\n",
    "\n",
    "            cfg.PATHS['dem_file'] = custom_dem_path\n",
    "            rgidf['DEM_SOURCE'] = 'USER'\n",
    "            cfg.PARAMS['use_intersects'] = True\n",
    "\n",
    "            cfg.PARAMS['smooth_window'] = sw\n",
    "    #         cfg.PARAMS['grid_dx_method'] = 'fixed'\n",
    "    #         cfg.PARAMS['fixed_dx'] = dx[num]\n",
    "            if glacier[num] == 'Nordic' or 'Washmawapta':\n",
    "                cfg.PARAMS['use_intersects'] = False\n",
    "\n",
    "    #         gdirs = workflow.init_glacier_regions(rgidf)\n",
    "            cfg.PARAMS['use_rgi_area'] = False\n",
    "\n",
    "        else:\n",
    "            cfg.PARAMS['use_intersects'] = True\n",
    "            if glacier[num] == 'Nordic' or 'Washmawapta':\n",
    "                cfg.PARAMS['use_intersects'] = False\n",
    "            cfg.PARAMS['border'] = 10\n",
    "            cfg.PATHS['working_dir'] = utils.get_temp_dir('_SR_thick_srtm' + glacier[num])\n",
    "            cfg.PARAMS['use_rgi_area'] = False\n",
    "            cfg.PARAMS[name] = parameter\n",
    "            cfg.PARAMS['smooth_window'] = sw\n",
    "\n",
    "        ###########################################################################################################################\n",
    "\n",
    "        cfg.PARAMS[name] = parameter\n",
    "        cfg.PARAMS['border'] = 10\n",
    "\n",
    "        temporarily = [rgi_list[num]]\n",
    "        rgidf = utils.get_rgi_glacier_entities(temporarily)#[rgi_list[num]]) !!!!!!!!!!!!!!!!!!!!!!!!!!!!!!!!!!!!!!!!!!!!!!!!!!!!!!!!!!!!!!!!!!!!!!!!!!!!!!!!!!!!!\n",
    "        gdirs = workflow.init_glacier_regions(rgidf)\n",
    "        workflow.gis_prepro_tasks(gdirs)\n",
    "        workflow.climate_tasks(gdirs)\n",
    "        workflow.inversion_tasks(gdirs)\n",
    "        workflow.execute_entity_task(tasks.distribute_thickness_per_altitude, gdirs, smooth_radius=SR, \n",
    "                                     dis_from_border_exp=dfb);\n",
    "\n",
    "        gdir = gdirs[0]\n",
    "        tasks.init_present_time_glacier(gdir) ##This updates the mode_flowlines file and creates a stand-alone numerical glacier ready to run.\n",
    "\n",
    "        # Print the standard MB gradient from OGGM default\n",
    "        from oggm.core.massbalance import ConstantMassBalance, MultipleFlowlineMassBalance\n",
    "        # gdir = gdirs[num]\n",
    "\n",
    "        mb_mod = MultipleFlowlineMassBalance(gdir, use_inversion_flowlines=True, mb_model_class=ConstantMassBalance)\n",
    "        z, w, mb_on_z = mb_mod.get_annual_mb_on_flowlines()\n",
    "        mb_on_z *=  cfg.PARAMS['ice_density'] * cfg.SEC_IN_YEAR\n",
    "\n",
    "        # grad_line = np.polyfit(mb_on_z,z,2)\n",
    "        from scipy import stats \n",
    "        slope, intercept, r_value, p_value, std_err = stats.linregress(mb_on_z, z)\n",
    "        print(\"slope: %f    intercept: %f\" % (slope, intercept), \"  R-squared: %f\" % r_value**2)\n",
    "\n",
    "        # See the result of the inversion\n",
    "        workflow.execute_entity_task(tasks.distribute_thickness_per_altitude, gdirs, smooth_radius=SR,\n",
    "                                     dis_from_border_exp=dfb);\n",
    "\n",
    "        ds_default = xr.open_dataset(gdir.get_filepath('gridded_data')).load()\n",
    "        ds_default.close() # I have the strange feeling that xarray sometimes won't re-read overwitten files (and we will overwrite it later)\n",
    "\n",
    "        ds_default = xr.open_dataset(gdir.get_filepath('gridded_data')).load()\n",
    "        ds_default.close() # I have the strange feeling that xarray sometimes won't re-read overwitten files (and we will overwrite it later)\n",
    "\n",
    "\n",
    "        # Let's apply a linear MB instead\n",
    "        from oggm.core.climate import apparent_mb_from_linear_mb\n",
    "\n",
    "\n",
    "        workflow.execute_entity_task(tasks.apparent_mb_from_linear_mb, gdir, mb_gradient=grad[num]);\n",
    "\n",
    "        from oggm.core.massbalance import LinearMassBalance\n",
    "\n",
    "        params = gdir.read_pickle('linear_mb_params')\n",
    "        print(params)\n",
    "\n",
    "        l_mb_mod = LinearMassBalance(params['ela_h'], grad=params['grad'])\n",
    "        l_mb_on_z = l_mb_mod.get_annual_mb(z) * cfg.PARAMS['ice_density'] * cfg.SEC_IN_YEAR\n",
    "\n",
    "        slope, intercept, r_value, p_value, std_err = stats.linregress(mb_on_z, z)\n",
    "        print(\"slope default: %f    intercept: %f\" % (slope, intercept), \"  R-squared: %f\" % r_value**2)\n",
    "        slope, intercept, r_value, p_value, std_err = stats.linregress(l_mb_on_z, z)\n",
    "        print(\"slope: %f    intercept: %f\" % (slope, intercept), \"  R-squared: %f\" % r_value**2)\n",
    "\n",
    "        ds_new = xr.open_dataset(gdir.get_filepath('gridded_data')).load()\n",
    "        ds_new.close() \n",
    "\n",
    "\n",
    "        ########### gather more detailed information about the glacier ##############\n",
    "        df  = utils.compile_glacier_statistics(gdirs, inversion_only=True)\n",
    "        volume=df['inv_volume_km3']\n",
    "\n",
    "        mfl=gdir.read_pickle('model_flowlines')\n",
    "        thickness= mfl[-1].surface_h - mfl[-1].bed_h\n",
    "        thickness=thickness[thickness>0].mean()\n",
    "\n",
    "        ############## write it into txt file: #################\n",
    "\n",
    "        if(best):\n",
    "            file= open(products+'best_dem_corr_run_of_'+glacier[num]+'_with_modified_' + name + '.txt', mode='w')\n",
    "            print('parameter value: '+str(parameter)+'\\n')\n",
    "            print('glacier total volume: '+str(volume)+' km^3 \\n \\n \\n')\n",
    "            print('mean thickness value: '+str(thickness)+' m \\n')\n",
    "        else:\n",
    "            file= open(products+'dem_corr_run_of_'+glacier[num]+'_with_modified_' + name+'.txt', mode='w')\n",
    "\n",
    "        file.writelines(['Run of the DEM corrected model on ' + glacier[num]+' on ', str(datetime.datetime.now()), '\\n'])\n",
    "        file.write('parameter modified: '+name+'\\n')\n",
    "        file.write('parameter value: '+str(parameter)+'\\n')\n",
    "        file.write('glacier total volume: '+str(volume)+' km^3 \\n \\n \\n')\n",
    "        file.write('mean thickness value: '+str(thickness)+' m \\n')\n",
    "    #     file.write('Minimal value is '+str(np.min(to_plot[1]))+ ' at ' + parameter_name+' = ' +str(np.round(to_plot[0][x],decimals=28)))\n",
    "        file.close()\n",
    "        ##########################################################\n",
    "        print(gdir)\n",
    "        return ds_new.distributed_thickness\n",
    "\n",
    "    ## Comparing DEM-corrected model with non-DEM-corrected model:\n",
    "\n",
    "#     - first we run the 'new_mb_grad' function\n",
    "#     - then we run the 'new_mb_grad_corr_dem' function\n",
    "#     - and then we subtract the thickness maps and can see where the usage of Lidar data actually impacted the outcome of the model\n",
    "\n",
    "    # run the model without DEM correction\n",
    "    new_mb_gradient= new_mb_grad_corr_dem(num, dem, glacier, 'ice_density', 900, False, False)\n",
    "\n",
    "    # plot it as a map\n",
    "    new_mb_gradient.plot()\n",
    "    plt.title(glacier[num]+' standard settings thickness map')\n",
    "    # and save it\n",
    "    plt.savefig('/home/pelto/Desktop/ice_thick/products'+'standard_map_'+ glacier[num]+'.png', dpi=100)\n",
    "\n",
    "    # replace 'nan' by  0\n",
    "    new_mb_gradient=new_mb_gradient.fillna(0)\n",
    "\n",
    "    if glacier[num]=='Washmawapta':\n",
    "        # make a copy for comparison reasons later on\n",
    "        new_mb_gradient_corr_dem=new_mb_gradient\n",
    "\n",
    "    # run the model with DEM correction\n",
    "    new_mb_gradient_corr_dem = new_mb_grad_corr_dem(num, dem, glacier, 'ice_density', 900, False, True)\n",
    "\n",
    "    # plot it as a map\n",
    "    new_mb_gradient_corr_dem.plot()\n",
    "    plt.title(glacier[num]+' DEM corrected Thickness map')\n",
    "\n",
    "    # and save it\n",
    "    plt.savefig(products+'dem_corr_standard_map_'+ glacier[num]+'.png', dpi=100)\n",
    "\n",
    "    # replace 'nan' by  0\n",
    "    new_mb_gradient_corr_dem=new_mb_gradient_corr_dem.fillna(0)\n",
    "\n",
    "    # make a copy for comparison reasons later on\n",
    "    new_mb_gradient_corr_dem_copy=new_mb_gradient_corr_dem\n",
    "\n",
    "    # the actual differencing and plotting\n",
    "    (new_mb_gradient_corr_dem-new_mb_gradient).plot()\n",
    "\n",
    "    # label it, save it\n",
    "    plt.title(glacier[num]+' Difference DEM corrected tickness less standard DEM')\n",
    "    plt.savefig(products+'difference_dem_correction_'+ glacier[num]+'.png', dpi=100)\n",
    "\n",
    "    ## Parameter optimization\n",
    "\n",
    "#     We want to run the Model with different values for a certain parameter. Therefore we define a few functions that will iterate over a sequenze of paramter values and allow us to compare the outcome to the observation data by displaying their respective squared residuals\n",
    "\n",
    "    def run_with_parameter(num,dem, glacier, name, parameter):\n",
    "        \"\"\"\n",
    "        :param num: number of selected glacier\n",
    "        :param dem: list with dem file names\n",
    "        :param glacier: the list with the glacier names\n",
    "        :param name: name of the parameter to be modified\n",
    "        :param parameter: value of the parameter to be modified\n",
    "        :type num: int\n",
    "        :type dem: str list\n",
    "        :type glacier: str list\n",
    "        :type name: str \n",
    "        :type parameter: float\n",
    "        :returns: distributed thickness\n",
    "        :rtype: 2D float array\n",
    "        \"\"\"\n",
    "\n",
    "        # just to be 100% sure, we are setting the most common parameters to their presettings in order to only vary the desired parameter\n",
    "        cfg.PARAMS['smooth_window'] = sw\n",
    "        cfg.PARAMS['ice_density'] = 900\n",
    "        cfg.PARAMS['trapezoid_lambdas'] = 0.2\n",
    "        cfg.PARAMS['mixed_min_shape'] = 0.001\n",
    "        cfg.PARAMS['downstream_min_shape'] = 0.0001\n",
    "        cfg.PARAMS['mu_star_halfperiod'] = 15\n",
    "        cfg.PARAMS['tstar_search_glacierwide'] = False\n",
    "        cfg.PARAMS['border'] = 10\n",
    "        cfg.PARAMS['glen_a'] = 2.4e-24\n",
    "        cfg.PARAMS['inversion_glen_a'] = 2.4e-24\n",
    "        cfg.PARAMS['default_parabolic_bedshape'] = 0.003\n",
    "        cfg.PARAMS['use_shape_factor_for_fluxbasedmodel'] = ''\n",
    "\n",
    "        #change the parameter (not sure, whether it has any effect here...)\n",
    "        cfg.PARAMS[name] = parameter\n",
    "\n",
    "        # run the model (in this case with DEM correction)\n",
    "        outcome=new_mb_grad_corr_dem(num, dem, glacier, name, parameter, False, True).fillna(0)\n",
    "\n",
    "        #return the thickness distribution\n",
    "        return outcome\n",
    "\n",
    "    ## Definitions\n",
    "\n",
    "\n",
    "    # deletes the rows and lines that do only carry zeros for the sake of getting the right resolution \n",
    "    # in order to rasterize the observation data to the same resolution and getting perfectly fitting arrays\n",
    "    def delete_nodata(data):\n",
    "        \"\"\"\n",
    "        :param data: distributed thickness with 'nan' or '0' in it\n",
    "        :type data: 2D floar array\n",
    "        :returns: distributed thickness\n",
    "        :rtype: 2D float array\n",
    "        \"\"\"\n",
    "\n",
    "        # get a numpy array out of it\n",
    "        data=data.values\n",
    "\n",
    "        #get the spots were actual values are\n",
    "        coordinates=np.nonzero(data)\n",
    "\n",
    "        # create a fresh array of the minimal shape to contain all non-zero values\n",
    "        result=np.zeros(((1+np.max(coordinates[0])-np.min(coordinates[0])) ,(1+np.max(coordinates[1])-np.min(coordinates[1]))))\n",
    "\n",
    "        # fill it with the values\n",
    "        for i in range(0, len(coordinates[0])):\n",
    "            result[coordinates[0][i]-np.min(coordinates[0])][coordinates[1][i]-np.min(coordinates[1])]=data[coordinates[0][i]][coordinates[1][i]]\n",
    "\n",
    "        # flip it and rotate it by pi\n",
    "        return np.flip(np.rot90(result,2))\n",
    "\n",
    "    # a simple function to open the observation data and return it as an array\n",
    "    def read_obs_data(path):\n",
    "        \"\"\"\n",
    "        :param path: distributed thickness with 'nan' or '0' in it\n",
    "        :type path: str\n",
    "        :returns: measurement points as an array\n",
    "        :rtype: 2D float array\n",
    "        \"\"\"\n",
    "        src_obs = gdal.Open(path)\n",
    "        return src_obs.ReadAsArray()\n",
    "\n",
    "    ## Data Import\n",
    "\n",
    "    # We open the observation data for the respective glacier and print out the shape and compare it with the shape of the OGGM:\n",
    "\n",
    "    obs_data = read_obs_data('/home/pelto/oggm_runs/OGGM/MONSTER_project/MONSTER/obs_data_' + glacier[num] + '.tif')\n",
    "\n",
    "    if obs_data.shape == delete_nodata(new_mb_gradient_corr_dem).shape:\n",
    "        print('Fantanstic, both arrays have the same shape of: ' ,obs_data.shape )\n",
    "    else:\n",
    "        print('Oh, Oh! Something went wrong because the observation data has the shape ' ,obs_data.shape , ' and the OGGM out put has a shape of: ' ,delete_nodata(new_mb_gradient_corr_dem).shape )\n",
    "\n",
    "\n",
    "\n",
    "    # Layover-Control\n",
    "\n",
    "#     This is a checking tool for adjusting the orientation of the observation data with respect to the model shapefile (in order to make it fit, we had to flip and rotate it in the 'delete_nodata' function). The resolution is not great but is should give an optical feedback on the fit. \n",
    "\n",
    "    # run the delete_nodata function on one of the recent outputs and save it in a temporay variable\n",
    "    temp=delete_nodata(new_mb_gradient_corr_dem)\n",
    "\n",
    "    # get its shape\n",
    "    h,w = temp.shape\n",
    "\n",
    "    # create a new array with zeros and of same size\n",
    "    data = np.zeros((h, w, 3), dtype=np.uint8)\n",
    "\n",
    "    # and get the data point coordinates\n",
    "    nonzero=np.nonzero(temp)\n",
    "\n",
    "    # run through the OGGM output and write into the array as RED color code\n",
    "    for i in range(0,len(nonzero[0])):\n",
    "        data[nonzero[0][i]][nonzero[1][i]]= [temp[nonzero[0][i]][nonzero[1][i]], 0, 0]\n",
    "\n",
    "    # run through the observation data and write into the array as GREEN color code\n",
    "    for i in range(0,len(np.nonzero(obs_data)[0])):\n",
    "        data[np.nonzero(obs_data)[0][i]][np.nonzero(obs_data)[1][i]]= [0, obs_data[np.nonzero(obs_data)[0][i]][np.nonzero(obs_data)[1][i]], 0]\n",
    "\n",
    "    # save and show\n",
    "    img = imagery.fromarray(data, 'RGB')\n",
    "    img.save(products+ 'overlay_test_'+ glacier[num]+ '.png')\n",
    "\n",
    "    from IPython.display import Image\n",
    "    Image(filename=products+'overlay_test_'+ glacier[num]+ '.png', width=400) \n",
    "\n",
    " \n",
    "    def quadratic_errors(obs_data, mesharray):\n",
    "        \"\"\"\n",
    "        :param obs_data: array with measured values on respective spots\n",
    "        :param mesharray: distributed thickness of the model output (should have same shape as obs_data)\n",
    "        :type obs_data: 2D float array\n",
    "        :type mesharray: 2D float array\n",
    "        :returns: quadrativc error (problems corrected)\n",
    "        :rtype: float\n",
    "        \"\"\"\n",
    "\n",
    "        # counts number of \"problematic\" pixels\n",
    "        count=0\n",
    "\n",
    "        # coordinates of the data points\n",
    "        coordinates=np.nonzero(obs_data)\n",
    "\n",
    "        # accumulated 'problematic pixel' quadratic error\n",
    "        problems=0\n",
    "        prob=0 #problems per grid cell summed\n",
    "        # total accumulated quadratic error\n",
    "        err=0\n",
    "        ME=0\n",
    "        MAE=0\n",
    "\n",
    "        # we go through all the measured points and accumulate the squared differences to the OGGM at that point\n",
    "        for i in range(0,len(coordinates[0])):\n",
    "\n",
    "            # if however, the OGGM shows a thickness of zero there, this seems to be a \"problematic\" pixel \n",
    "            if mesharray[coordinates[0][i]][coordinates[1][i]]==0:\n",
    "\n",
    "                # add to problems share\n",
    "                problems=problems+obs_data[coordinates[0][i]][coordinates[1][i]]**2\n",
    "                prob=(prob+obs_data[coordinates[0][i]][coordinates[1][i]])\n",
    "\n",
    "                # increment problem number\n",
    "                count=count+1\n",
    "\n",
    "            # add squared difference\n",
    "            err=err+(obs_data[coordinates[0][i]][coordinates[1][i]]-mesharray[coordinates[0][i]][coordinates[1][i]])**2\n",
    "\n",
    "            ##add mean error and mean absolute error\n",
    "            ME=ME+(obs_data[coordinates[0][i]][coordinates[1][i]]-mesharray[coordinates[0][i]][coordinates[1][i]])\n",
    "            MAE=MAE+(np.abs((obs_data[coordinates[0][i]][coordinates[1][i]]-mesharray[coordinates[0][i]][coordinates[1][i]])))\n",
    "\n",
    "        # print of details on \"problematic\" pixels\n",
    "        print('found ', count , ' problem(s) within a total number of data point of: ', len(coordinates[0]), ' problem share ', problems/err,)\n",
    "\n",
    "        ME_final = (ME)/(np.count_nonzero(obs_data))\n",
    "        MAE_final = (MAE)/(np.count_nonzero(obs_data))\n",
    "        problems_per = prob / (np.count_nonzero(obs_data)) ##quite small or zero at all sites, but worth evaluating\n",
    "\n",
    "        print('corrected quadratic error is: ', err-problems)\n",
    "        print('ME:', ME_final-problems_per)\n",
    "        print('MAE:', MAE_final-problems_per)\n",
    "\n",
    "        return (MAE_final-problems_per) ##only return MEA for now\n",
    "\n",
    "        # a function that runs the (DEM-corrected) OGGM and uses the quadratic_errors function to return the quadratic errors\n",
    "    def master_analysis(name, parameter, obs_data, glacier, num):\n",
    "        \"\"\"\n",
    "        :param name: name of the parameter to be modified\n",
    "        :param parameter: value of the parameter to be modified\n",
    "        :param obs_data: measured data points\n",
    "        :param glacier: the list with the glacier names\n",
    "        :param num: number of selected glacier\n",
    "        :type name: str\n",
    "        :type parameter: float\n",
    "        :type obs_data: 2D float array\n",
    "        :type glacier: str list\n",
    "        :type num: int\n",
    "        :returns: quadratic errors\n",
    "        :rtype: float\n",
    "        \"\"\"\n",
    "        quadmesh= run_with_parameter(num, dem, glacier, name, parameter)\n",
    "        mesharray = delete_nodata(quadmesh)\n",
    "\n",
    "        return quadratic_errors(obs_data, mesharray)\n",
    "\n",
    "    # this function takes in the name of the parameter that is to be modified and a float list of the values for whose the OGGM is \n",
    "    # to be run and the quadratic errors to be calculated. It returns an array with those values and their respective quadratic errors\n",
    "    def optimize(name, values, obs_data, glacier, num):\n",
    "        \"\"\"\n",
    "        :param name: name of the parameter to be modified\n",
    "        :param values: values of the parameter to be modified\n",
    "        :param obs_data: measured data points\n",
    "        :param glacier: the list with the glacier names\n",
    "        :param num: number of selected glacier\n",
    "        :type name: str\n",
    "        :type values: float list\n",
    "        :type obs_data: 2D float array\n",
    "        :type glacier: str list\n",
    "        :type num: int\n",
    "        :returns: [values, quad_errors]\n",
    "        :rtype: float array\n",
    "        \"\"\"\n",
    "\n",
    "        # here we store the original parameter value\n",
    "        temp= cfg.PARAMS[name]\n",
    "\n",
    "        #an array to store the quadratic errors in\n",
    "        quad_errors=[]\n",
    "        for i in range(0,len(values)):\n",
    "            quad_errors.append(master_analysis(name, values[i], obs_data, glacier, num))\n",
    "\n",
    "        # and here we reset it to the default value\n",
    "        cfg.PARAMS[name] = temp\n",
    "\n",
    "        return [values, quad_errors]\n",
    "\n",
    "    ## Enter the parameter, interval and number of points that you want to get the quadratic error from \n",
    "\n",
    "#     The parameter intervall will be a linearly spaced sequence from min_value to max_value with number_of_steps steps.\n",
    "\n",
    "#     Also, choose, whether you prefer to run the iteration with the DEM correction. In the most cases it is strongly recommended to do so.\n",
    "    \n",
    "\n",
    "    \n",
    "    parameter_name='inversion_glen_a'\n",
    "    max_value= best_value\n",
    "    min_value= best_value\n",
    "    number_of_steps=1 #10\n",
    "\n",
    "    use_dem_correction=True\n",
    "\n",
    "    ## The actual iteration takes place here\n",
    "\n",
    "#     %%capture supresses the output, which is quite annoying if the OGGM runs several dozen times. But if you want to watch it work, go for it and delete that line.\n",
    "\n",
    "#     Apart from that, we basically run the optimize function\n",
    "\n",
    "#     %%capture\n",
    "    to_plot=optimize(parameter_name,np.linspace(min_value, max_value, number_of_steps), obs_data ,glacier, num)\n",
    "\n",
    "#     Now, we plot the quadratic errors as a function of the parameter values. We also print out the minimum.\n",
    "\n",
    "    from matplotlib import rcParams\n",
    "    rcParams['axes.titlepad'] = 30\n",
    "    plt.plot(to_plot[0],to_plot[1],linestyle='--', marker='o', color='b')\n",
    "    plt.xlabel('value of '+parameter_name)\n",
    "    plt.ylabel('pointwise accumulated quadratic discrepancies [m²]')\n",
    "    plt.title('Quadratic errors of depth in dependence of ' +parameter_name)\n",
    "\n",
    "    # save it\n",
    "    plt.savefig(products+'quadratic_errors_'+parameter_name+'_from_'+str(min_value)+'_to_'+str(max_value)+'_'+ glacier[num]+'.png', dpi=100)\n",
    "\n",
    "    plt.show()\n",
    "\n",
    "    #small minimum function\n",
    "    x=0\n",
    "    for i in range(0,len(to_plot[1])):\n",
    "        if to_plot[1][i]==np.min(to_plot[1]):\n",
    "            x=i\n",
    "\n",
    "    # print out\n",
    "    print('Minimal value is '+str(np.min(to_plot[1]))+ ' at ' + parameter_name+' = ' +str(np.round(to_plot[0][x],decimals=28)))\n",
    "\n",
    "    file= open(products+'best_dem_corr_run_of_'+glacier[num]+ '_quad_errors' + '_smooth_window_' + str(sw) +'.txt', mode='w') #str(sw)\n",
    "\n",
    "    file.write('Minimal value is '+str(np.min(to_plot[1]))+ ' at ' + parameter_name+' = ' +str(np.round(to_plot[0][x],decimals=28)))\n",
    "    file.close()\n",
    "    \n",
    "    \n",
    "    errors=np.min(to_plot[1])\n",
    "    errors_list.append(errors)\n",
    "   \n",
    "\n",
    "    print('obs grid cells count:', np.count_nonzero(obs_data))\n",
    "    print('dfb exponent:        ', dfb)\n",
    "    print('smoothing window (m):', sw)\n",
    "    print('smoothing radius (m):', sr[count])\n",
    "\n",
    "    ## Deep analysis of best parameter value\n",
    "\n",
    "#     Enter the value of the given Paramter, that yields a minimum in quadratic errors\n",
    "\n",
    "    # take the minimum from above\n",
    "    # best_value=to_plot[0][x]\n",
    "    # best_value\n",
    "    # select it manually\n",
    "\n",
    "\n",
    "#     Now, we run the model with the best parameter value to create seperate saves and a deep analysis\n",
    "\n",
    "    best_model= new_mb_grad_corr_dem(num, dem, glacier, parameter_name, best_value, True, False)\n",
    "\n",
    "    best_model.plot()\n",
    "    plt.title(glacier[num]+' best approximation thickness map ' + parameter_name + ' = ' +str(best_value))\n",
    "    plt.savefig(products+'dem_corr_best_map_'+ glacier[num]+'.png', dpi=100)\n",
    "    #best_model=new_mb_gradient_corr_dem.fillna(0)\n",
    "\n",
    "    # plot and save\n",
    "    (best_model-new_mb_gradient_corr_dem_copy).plot(cmap='RdBu', vmin=-100, vmax=100)\n",
    "    plt.title(glacier[num]+' Difference '+ parameter_name+ ' corrected less uncorrected thickness map (both DEM corrected)')\n",
    "    plt.savefig(products+'difference_'+ parameter_name + '_corrected_vs_uncorrected_'+ glacier[num]+'.png', dpi=100)\n",
    "    count+=1\n",
    "    \n",
    "errors_list"
   ]
  },
  {
   "cell_type": "code",
   "execution_count": 109,
   "metadata": {},
   "outputs": [
    {
     "data": {
      "text/plain": [
       "[46.94393620907682,\n",
       " 45.84466368017845,\n",
       " 47.056867455973205,\n",
       " 48.731976504464754,\n",
       " 50.46666160602014,\n",
       " 51.740619613128956,\n",
       " 52.95542956324457]"
      ]
     },
     "execution_count": 109,
     "metadata": {},
     "output_type": "execute_result"
    }
   ],
   "source": [
    "errors_list[:8]\n"
   ]
  },
  {
   "cell_type": "code",
   "execution_count": 110,
   "metadata": {},
   "outputs": [],
   "source": [
    "out_df = pd.DataFrame()\n",
    "out_df['errors'] = errors_list\n",
    "out_df['sr'] = sr\n",
    "out_df['error_per_point'] = out_df['errors'] / float(obs_num[num])\n",
    "out_df['err_m'] = np.sqrt(out_df['error_per_point'])\n",
    "out_df['perc_err'] = out_df['err_m'] / thick[num] * 100. \n",
    "# out_df.to_csv(products + glacier[num] + '_SR_errors' + str(best_value) + '.csv')\n",
    "# out_df"
   ]
  },
  {
   "cell_type": "code",
   "execution_count": 111,
   "metadata": {},
   "outputs": [
    {
     "data": {
      "text/html": [
       "<div>\n",
       "<style scoped>\n",
       "    .dataframe tbody tr th:only-of-type {\n",
       "        vertical-align: middle;\n",
       "    }\n",
       "\n",
       "    .dataframe tbody tr th {\n",
       "        vertical-align: top;\n",
       "    }\n",
       "\n",
       "    .dataframe thead th {\n",
       "        text-align: right;\n",
       "    }\n",
       "</style>\n",
       "<table border=\"1\" class=\"dataframe\">\n",
       "  <thead>\n",
       "    <tr style=\"text-align: right;\">\n",
       "      <th></th>\n",
       "      <th>errors</th>\n",
       "      <th>sr</th>\n",
       "      <th>error_per_point</th>\n",
       "      <th>err_m</th>\n",
       "      <th>perc_err</th>\n",
       "    </tr>\n",
       "  </thead>\n",
       "  <tbody>\n",
       "    <tr>\n",
       "      <th>0</th>\n",
       "      <td>46.943936</td>\n",
       "      <td>69.0</td>\n",
       "      <td>0.056971</td>\n",
       "      <td>0.238686</td>\n",
       "      <td>0.239404</td>\n",
       "    </tr>\n",
       "    <tr>\n",
       "      <th>1</th>\n",
       "      <td>45.844664</td>\n",
       "      <td>51.0</td>\n",
       "      <td>0.055637</td>\n",
       "      <td>0.235874</td>\n",
       "      <td>0.236584</td>\n",
       "    </tr>\n",
       "    <tr>\n",
       "      <th>2</th>\n",
       "      <td>47.056867</td>\n",
       "      <td>71.0</td>\n",
       "      <td>0.057108</td>\n",
       "      <td>0.238972</td>\n",
       "      <td>0.239692</td>\n",
       "    </tr>\n",
       "    <tr>\n",
       "      <th>3</th>\n",
       "      <td>48.731977</td>\n",
       "      <td>101.0</td>\n",
       "      <td>0.059141</td>\n",
       "      <td>0.243189</td>\n",
       "      <td>0.243920</td>\n",
       "    </tr>\n",
       "    <tr>\n",
       "      <th>4</th>\n",
       "      <td>50.466662</td>\n",
       "      <td>151.0</td>\n",
       "      <td>0.061246</td>\n",
       "      <td>0.247479</td>\n",
       "      <td>0.248224</td>\n",
       "    </tr>\n",
       "  </tbody>\n",
       "</table>\n",
       "</div>"
      ],
      "text/plain": [
       "      errors     sr  error_per_point     err_m  perc_err\n",
       "0  46.943936   69.0         0.056971  0.238686  0.239404\n",
       "1  45.844664   51.0         0.055637  0.235874  0.236584\n",
       "2  47.056867   71.0         0.057108  0.238972  0.239692\n",
       "3  48.731977  101.0         0.059141  0.243189  0.243920\n",
       "4  50.466662  151.0         0.061246  0.247479  0.248224"
      ]
     },
     "execution_count": 111,
     "metadata": {},
     "output_type": "execute_result"
    }
   ],
   "source": [
    "out_df[:5]"
   ]
  },
  {
   "cell_type": "code",
   "execution_count": 112,
   "metadata": {},
   "outputs": [
    {
     "data": {
      "text/plain": [
       "[<matplotlib.lines.Line2D at 0x7f2ab087fb00>]"
      ]
     },
     "execution_count": 112,
     "metadata": {},
     "output_type": "execute_result"
    },
    {
     "data": {
      "image/png": "[encoded data removed]",
      "text/plain": [
       "<Figure size 432x288 with 1 Axes>"
      ]
     },
     "metadata": {
      "needs_background": "light"
     },
     "output_type": "display_data"
    }
   ],
   "source": [
    "plt.plot(out_df['sr'], out_df['perc_err'], marker='o', color='limegreen')"
   ]
  },
  {
   "cell_type": "code",
   "execution_count": 113,
   "metadata": {},
   "outputs": [],
   "source": [
    "# out_df = pd.read_csv('/home/pelto/oggm_runs/products_opt/Conrad/Conrad_DFB_errors.csv')"
   ]
  },
  {
   "cell_type": "code",
   "execution_count": 114,
   "metadata": {},
   "outputs": [
    {
     "name": "stdout",
     "output_type": "stream",
     "text": [
      "Conrad Minimal value is 45.84466368017845 at SR = 51.0\n"
     ]
    }
   ],
   "source": [
    "#small minimum function\n",
    "x=0\n",
    "for i in range(0,len(out_df['errors'])):\n",
    "    if out_df['errors'][i]==np.min(out_df['errors']):\n",
    "        x=i\n",
    "print(glacier[num] + ' Minimal value is '+str(np.min(out_df['errors']))+ ' at SR' + ' = ' +str(np.round(out_df['sr'][x],decimals=2)))"
   ]
  },
  {
   "cell_type": "code",
   "execution_count": null,
   "metadata": {},
   "outputs": [],
   "source": []
  }
 ],
 "metadata": {
  "kernelspec": {
   "display_name": "Python 3",
   "language": "python",
   "name": "python3"
  },
  "language_info": {
   "codemirror_mode": {
    "name": "ipython",
    "version": 3
   },
   "file_extension": ".py",
   "mimetype": "text/x-python",
   "name": "python",
   "nbconvert_exporter": "python",
   "pygments_lexer": "ipython3",
   "version": "3.6.8"
  }
 },
 "nbformat": 4,
 "nbformat_minor": 4
}
