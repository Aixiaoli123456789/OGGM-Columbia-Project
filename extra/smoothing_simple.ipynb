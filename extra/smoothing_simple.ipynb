{
 "cells": [
  {
   "cell_type": "markdown",
   "metadata": {},
   "source": [
    "##### This notebook \n",
    "\n",
    "## Imports"
   ]
  },
  {
   "cell_type": "code",
   "execution_count": 1,
   "metadata": {},
   "outputs": [],
   "source": [
    "%matplotlib inline\n",
    "import numpy as np\n",
    "import xarray as xr\n",
    "import geopandas as gpd\n",
    "import matplotlib.pyplot as plt\n",
    "from oggm import utils, workflow, tasks, graphics\n",
    "\n",
    "import os\n",
    "import pandas as pd\n",
    "import salem\n",
    "import xarray as xr\n",
    "import oggm\n",
    "from oggm.workflow import execute_entity_task, gis_prepro_tasks, climate_tasks\n",
    "\n",
    "import oggm.cfg as cfg # could that cause problems?\n",
    "import gdal\n",
    "from PIL import Image as imagery\n",
    "import datetime"
   ]
  },
  {
   "cell_type": "markdown",
   "metadata": {},
   "source": [
    "## Select the glacier by setting num to:\n",
    "\n",
    "- 0 for Kokanee\n",
    "- 1 for Haig\n",
    "- 2 for Conrad\n",
    "- 3 for W. Washmawapta (no DEM correction available)\n",
    "- 4 for Illecillewaet (not supported in this version of the script due to shapefile reasons)\n",
    "- 5 for Nordic (not supported in this version of the script due to shapefile reasons)\n",
    "- 6 for Zillmer\n"
   ]
  },
  {
   "cell_type": "code",
   "execution_count": 2,
   "metadata": {},
   "outputs": [
    {
     "name": "stdout",
     "output_type": "stream",
     "text": [
      "You selected:  Conrad\n"
     ]
    }
   ],
   "source": [
    "# Here the num variable is set:\n",
    "num=2\n",
    "\n",
    "# sw = 201. # smoothing window  size in meters (default = 251 m)\n",
    "\n",
    "# fl_smooth = 1 # pixel size of the gaussian smoothing\n",
    "\n",
    "# dfb = 0.25 # the exponent of the distance from border mask default=0.25\n",
    "\n",
    "# # smoothing radius, Default is to use cfg.PARAMS[‘smooth_window’] (i.e. a size in meters). Set to zero to suppress smoothing.\n",
    "# sr = 0 # default is sw / gdir.grid.dx  # so in pixels\n",
    "\n",
    "# A list with all the glacier names\n",
    "glacier = ['Kokanee', 'Haig', 'Conrad', 'Washmawapta', 'Illecillewaet', 'Nordic', 'Zillmer']\n",
    "\n",
    "# Just confirm that the correct one is selected for this run of the script\n",
    "print('You selected: ' , glacier[num])"
   ]
  },
  {
   "cell_type": "markdown",
   "metadata": {},
   "source": [
    "### File names settings"
   ]
  },
  {
   "cell_type": "code",
   "execution_count": 3,
   "metadata": {},
   "outputs": [],
   "source": [
    "# list with the names in the Randolf Glacier invetory (according to the glacier names above)\n",
    "rgi_list = ['RGI60-02.00147', 'RGI60-02.01857', 'RGI60-02.02171', 'RGI60-02.03411', 'RGI60-02.03688', 'RGI60-02.04264', 'RGI60-02.07780']\n",
    "\n",
    "# list with the names Lidar data (according to the glacier names above)\n",
    "dem = ['kokanee/20160913_kokanee_dem1_clip_slave.tif', 'haig/20150912_haig_dem_master_clip.tif', 'conrad/20160912_conrad_dem1_clip_slave.tif', 'not_assigned', \n",
    "       'illecillewaet/170917_illecillewaet_dem1_clip_slave.tif', 'nordic/20170927_nordic_dem1_clip_slave.tif', 'zillmer/160914_zillmer_dem2.tif']\n",
    "\n",
    "#products_directory (where the graphs and some numbers are saved for later usage)\n",
    "products= '/home/pelto/oggm_runs/products_opt/test/' # + glacier[num] + '/'"
   ]
  },
  {
   "cell_type": "markdown",
   "metadata": {},
   "source": [
    "## A function to run the OGGM using mass-balance correction and (if wished) the Lidar-DEM \n",
    "\n",
    "This is also a function that runs the OGGM on the selected glacier and returns a thickness map for it. It uses the mass-balance correction.\n",
    "\n",
    "In difference to the function above, this version does not use the SRTM DEM to run it but the more precise Lidar DEM which yields results closer to reality.\n"
   ]
  },
  {
   "cell_type": "code",
   "execution_count": 6,
   "metadata": {},
   "outputs": [],
   "source": [
    "dx = [29, 32, 68, 23, 49, 36, 46]\n",
    "thick_list = []\n",
    "count = 0\n",
    "\n",
    "def new_mb_grad_corr_dem(num, dem, glacier, name, parameter, best, use_dem_corr):\n",
    "    \"\"\"\n",
    "    :param num: number of selected glacier\n",
    "    :param dem: list with dem file names\n",
    "    :param glacier: the list with the glacier names\n",
    "    :param name: name of the parameter to be modified\n",
    "    :param parameter: value of the parameter to be modified\n",
    "    :param best: if TRUE, an extra save with prefix 'best' will be created\n",
    "    :param use_dem_correction: if TRUE, a Lidar DEM correction will be used\n",
    "    :type num: int\n",
    "    :type dem: str list\n",
    "    :type glacier: str list\n",
    "    :type name: str \n",
    "    :type parameter: float\n",
    "    :type best: boolean\n",
    "    :type use_dem_correction: boolean\n",
    "    :returns: distributed thickness\n",
    "    :rtype: 2D float array\n",
    "    \"\"\" \n",
    "    count = 0   \n",
    "    for i in np.arange(dx[num], 251., 10):\n",
    "\n",
    "        # Initialize OGGM and set up the run parameters --> Read the configuration file containing the run’s parameters.\n",
    "        cfg.initialize(logging_level='WORKFLOW')\n",
    "\n",
    "        #num determines which gdir and gradient to use, refer to list below to select desired site\n",
    "        grad = [6.84, 9.8, 7.11, 7.95, 10.84, 6.01, 7.92] # mm w.e. m-1\n",
    "\n",
    "        sw =  np.arange(dx[num], 251., 10) # smoothing window  size in meters (default = 251 m)\n",
    "        sw = sw[count]\n",
    "        # Get the RGI glaciers for the run.\n",
    "        rgi_list = ['RGI60-02.00147', 'RGI60-02.01857', 'RGI60-02.02171', 'RGI60-02.03411', 'RGI60-02.03688', 'RGI60-02.04264', 'RGI60-02.07780']\n",
    "        rgidf = utils.get_rgi_glacier_entities(rgi_list)\n",
    "\n",
    "\n",
    "        ############################################################# here the DEM correction happens #########################################################\n",
    "\n",
    "        # if(use_dem_corr==True):\n",
    "\n",
    "        custom_dem_path = '/home/pelto/Desktop/lidar_cbt_analysis/' + dem[num]\n",
    "\n",
    "        #     WORKING_DIR2 = utils.gettempdir(glacier[num] + '_lidar_dem_smoothing') # Let's make a working directory for this DEM \n",
    "        #     utils.mkdir(WORKING_DIR2, reset=True)\n",
    "        #     cfg.initialize(logging_level='WORKFLOW')\n",
    "        #     cfg.PATHS['working_dir'] = WORKING_DIR2\n",
    "\n",
    "        cfg.PATHS['dem_file'] = custom_dem_path\n",
    "        rgidf['DEM_SOURCE'] = 'USER'\n",
    "\n",
    "        cfg.PARAMS['smooth_window'] = sw\n",
    "        #     #cfg.PARAMS['grid_dx_method'] = 'fixed'\n",
    "        #     #cfg.PARAMS['fixed_dx'] = dx\n",
    "        #     if glacier[num] == 'Nordic':\n",
    "        #         cfg.PARAMS['use_intersects'] = False\n",
    "        #     gdirs = workflow.init_glacier_regions(rgidf)\n",
    "        #     cfg.PARAMS['use_rgi_area'] = False\n",
    "\n",
    "        cfg.PARAMS['use_intersects'] = True\n",
    "        cfg.PARAMS['border'] = 10\n",
    "        cfg.PATHS['working_dir'] = utils.get_temp_dir('smoothing' + glacier[num])\n",
    "        cfg.PARAMS['use_rgi_area'] = False\n",
    "        # cfg.PARAMS[name] = parameter\n",
    "\n",
    "        ###########################################################################################################################\n",
    "\n",
    "        # cfg.PARAMS[name] = parameter\n",
    "        cfg.PARAMS['border'] = 10\n",
    "        #     cfg.PARAMS['flowline_height_smooth'] = fl_smooth\n",
    "\n",
    "\n",
    "        temporarily = [rgi_list[num]]\n",
    "        rgidf = utils.get_rgi_glacier_entities(temporarily)#[rgi_list[num]]) !!!!!!!!!!!!!!!!!!\n",
    "        gdirs = workflow.init_glacier_regions(rgidf)\n",
    "        workflow.gis_prepro_tasks(gdirs)\n",
    "        workflow.climate_tasks(gdirs)\n",
    "        workflow.inversion_tasks(gdirs)\n",
    "        workflow.execute_entity_task(tasks.distribute_thickness_per_altitude, gdirs); #smooth_radius=sr, , dis_from_border_exp=dfb\n",
    "        gdir = gdirs[0]    \n",
    "        tasks.init_present_time_glacier(gdir) ##This updates the mode_flowlines file and creates a stand-alone numerical glacier ready to run.\n",
    "\n",
    "        # Print the standard MB gradient from OGGM default\n",
    "        from oggm.core.massbalance import ConstantMassBalance, MultipleFlowlineMassBalance\n",
    "        # gdir = gdirs[num]\n",
    "\n",
    "        mb_mod = MultipleFlowlineMassBalance(gdir, use_inversion_flowlines=True, mb_model_class=ConstantMassBalance)\n",
    "        z, w, mb_on_z = mb_mod.get_annual_mb_on_flowlines()\n",
    "        mb_on_z *=  cfg.PARAMS['ice_density'] * cfg.SEC_IN_YEAR\n",
    "\n",
    "        # grad_line = np.polyfit(mb_on_z,z,2)\n",
    "        from scipy import stats \n",
    "        slope, intercept, r_value, p_value, std_err = stats.linregress(mb_on_z, z)\n",
    "        print(\"slope: %f    intercept: %f\" % (slope, intercept), \"  R-squared: %f\" % r_value**2)\n",
    "\n",
    "        # See the result of the inversion\n",
    "        workflow.execute_entity_task(tasks.distribute_thickness_per_altitude, gdirs); #smooth_radius=sr, dis_from_border_exp=dfb\n",
    "\n",
    "        ds_default = xr.open_dataset(gdir.get_filepath('gridded_data')).load()\n",
    "        ds_default.close() # I have the strange feeling that xarray sometimes won't re-read overwitten files (and we will overwrite it later)\n",
    "\n",
    "        ds_default = xr.open_dataset(gdir.get_filepath('gridded_data')).load()\n",
    "        ds_default.close() # I have the strange feeling that xarray sometimes won't re-read overwitten files (and we will overwrite it later)\n",
    "\n",
    "\n",
    "        # Let's apply a linear MB instead\n",
    "        from oggm.core.climate import apparent_mb_from_linear_mb\n",
    "\n",
    "\n",
    "        workflow.execute_entity_task(tasks.apparent_mb_from_linear_mb, gdir, mb_gradient=grad[num]);\n",
    "\n",
    "        from oggm.core.massbalance import LinearMassBalance\n",
    "\n",
    "        params = gdir.read_pickle('linear_mb_params')\n",
    "        print(params)\n",
    "\n",
    "        l_mb_mod = LinearMassBalance(params['ela_h'], grad=params['grad'])\n",
    "        l_mb_on_z = l_mb_mod.get_annual_mb(z) * cfg.PARAMS['ice_density'] * cfg.SEC_IN_YEAR\n",
    "\n",
    "        slope, intercept, r_value, p_value, std_err = stats.linregress(mb_on_z, z)\n",
    "        print(\"slope default: %f    intercept: %f\" % (slope, intercept), \"  R-squared: %f\" % r_value**2)\n",
    "        slope, intercept, r_value, p_value, std_err = stats.linregress(l_mb_on_z, z)\n",
    "        print(\"slope: %f    intercept: %f\" % (slope, intercept), \"  R-squared: %f\" % r_value**2)\n",
    "\n",
    "        ds_new = xr.open_dataset(gdir.get_filepath('gridded_data')).load()\n",
    "        ds_new.close() \n",
    "\n",
    "\n",
    "        ########### gather more detailed information about the glacier ##############\n",
    "        df  = utils.compile_glacier_statistics(gdirs, inversion_only=True)\n",
    "        volume=df['inv_volume_km3']\n",
    "\n",
    "        mfl=gdir.read_pickle('model_flowlines')\n",
    "        thickness= mfl[-1].surface_h - mfl[-1].bed_h\n",
    "        thickness=thickness[thickness>0].mean()\n",
    "\n",
    "        thick_list.append(thickness)\n",
    "        count=count+1\n",
    "    return ds_new, gdir, thick_list\n",
    "\n",
    "        ############## write it into txt file: #################\n",
    "\n",
    "        # if(best):\n",
    "        #     file= open(products+'best_dem_corr_run_of_'+ glacier[num]+'_with_modified_' + name+'.txt', mode='w')\n",
    "        #     # else:\n",
    "        #     file= open(products+'dem_corr_run_of_'+glacier[num]+'_with_modified_' +'.txt', mode='w')\n",
    "\n",
    "        #     file.writelines(['Run of the DEM corrected model on ' + glacier[num]+' on ', str(datetime.datetime.now()), '\\n'])\n",
    "        #     # file.write('parameter modified: '+name+'\\n')\n",
    "        #     # file.write('parameter value: '+str(parameter)+'\\n')\n",
    "        #     file.write('glacier total volume: '+str(volume)+' km^3 \\n \\n \\n')\n",
    "        #     file.write('mean thickness value: '+str(thickness)+' m \\n')\n",
    "        #     file.close()\n",
    "        ##########################################################\n",
    "\n",
    "        # return ds_new, gdir\n",
    "        #ds_new.distributed_thickness"
   ]
  },
  {
   "cell_type": "code",
   "execution_count": null,
   "metadata": {},
   "outputs": [],
   "source": [
    "print(thick_list)\n",
    "print(np.arange(dx[num], 251., 10))\n",
    "smooth = np.arange(dx[num], 251., 10)"
   ]
  },
  {
   "cell_type": "code",
   "execution_count": null,
   "metadata": {},
   "outputs": [],
   "source": [
    "plt.scatter(thick_list, smooth)"
   ]
  },
  {
   "cell_type": "markdown",
   "metadata": {},
   "source": [
    "## Comparing DEM-corrected model with non-DEM-corrected model:\n",
    "\n",
    "- first we run the 'new_mb_grad' function\n",
    "- then we run the 'new_mb_grad_corr_dem' function\n",
    "- and then we subtract the thickness maps and can see where the usage of Lidar data actually impacted the outcome of the model"
   ]
  },
  {
   "cell_type": "code",
   "execution_count": null,
   "metadata": {},
   "outputs": [],
   "source": [
    "# # run the model without DEM correction\n",
    "# new_mb_gradient = new_mb_grad_corr_dem(num, dem, glacier, 'ice_density', 900, False, False)\n",
    "\n",
    "# # plot it as a map\n",
    "# new_mb_gradient_thick = new_mb_gradient[0].distributed_thickness\n",
    "# new_mb_gradient_thick.plot()\n",
    "# plt.title(glacier[num]+' standard settings thickness map')\n",
    "# # and save it\n",
    "# plt.savefig('/home/pelto/Desktop/ice_thick/products'+'standard_map_'+ glacier[num]+'.png', dpi=100)\n",
    "\n",
    "# # replace 'nan' by  0\n",
    "# new_mb_gradient_thick=new_mb_gradient_thick.fillna(0)\n",
    "\n",
    "# if glacier[num]=='Washmawapta':\n",
    "#     # make a copy for comparison reasons later on\n",
    "#     new_mb_gradient_corr_dem=new_mb_gradient_thick"
   ]
  },
  {
   "cell_type": "code",
   "execution_count": 7,
   "metadata": {},
   "outputs": [
    {
     "name": "stderr",
     "output_type": "stream",
     "text": [
      "2019-11-18 09:58:58: oggm.cfg: Using configuration file: /home/pelto/anaconda2/envs/oggm_env/lib/python3.6/site-packages/oggm/params.cfg\n",
      "2019-11-18 09:59:00: oggm.workflow: Execute entity task glacier_masks on 1 glaciers\n",
      "2019-11-18 09:59:00: oggm.workflow: Multiprocessing: using all available processors (N=8)\n",
      "2019-11-18 09:59:01: oggm.workflow: Execute entity task compute_centerlines on 1 glaciers\n",
      "2019-11-18 09:59:01: oggm.workflow: Execute entity task initialize_flowlines on 1 glaciers\n",
      "2019-11-18 09:59:01: oggm.workflow: Execute entity task compute_downstream_line on 1 glaciers\n",
      "2019-11-18 09:59:01: oggm.workflow: Execute entity task compute_downstream_bedshape on 1 glaciers\n",
      "2019-11-18 09:59:01: oggm.workflow: Execute entity task catchment_area on 1 glaciers\n",
      "2019-11-18 09:59:02: oggm.workflow: Execute entity task catchment_intersections on 1 glaciers\n",
      "/home/pelto/anaconda2/envs/oggm_env/lib/python3.6/site-packages/geopandas/io/file.py:108: FionaDeprecationWarning: Use fiona.Env() instead.\n",
      "  with fiona.drivers():\n",
      "2019-11-18 09:59:02: oggm.workflow: Execute entity task catchment_width_geom on 1 glaciers\n",
      "2019-11-18 09:59:02: oggm.workflow: Execute entity task catchment_width_correction on 1 glaciers\n",
      "2019-11-18 09:59:02: oggm.workflow: Execute entity task process_cru_data on 1 glaciers\n",
      "2019-11-18 09:59:03: oggm.workflow: Execute entity task local_t_star on 1 glaciers\n",
      "2019-11-18 09:59:03: oggm.workflow: Execute entity task mu_star_calibration on 1 glaciers\n",
      "2019-11-18 09:59:03: oggm.workflow: Execute entity task prepare_for_inversion on 1 glaciers\n",
      "2019-11-18 09:59:03: oggm.workflow: Execute entity task mass_conservation_inversion on 1 glaciers\n",
      "2019-11-18 09:59:03: oggm.workflow: Execute entity task filter_inversion_output on 1 glaciers\n",
      "2019-11-18 09:59:03: oggm.workflow: Execute entity task distribute_thickness_per_altitude on 1 glaciers\n",
      "2019-11-18 09:59:04: oggm.workflow: Execute entity task distribute_thickness_per_altitude on 1 glaciers\n"
     ]
    },
    {
     "name": "stdout",
     "output_type": "stream",
     "text": [
      "slope: 0.237357    intercept: 2623.494608   R-squared: 0.990999\n"
     ]
    },
    {
     "name": "stderr",
     "output_type": "stream",
     "text": [
      "2019-11-18 09:59:04: oggm.workflow: Execute entity task apparent_mb_from_linear_mb on 1 glaciers\n",
      "2019-11-18 09:59:04: oggm.workflow: Execute entity task glacier_statistics on 1 glaciers\n",
      "2019-11-18 09:59:04: oggm.cfg: Using configuration file: /home/pelto/anaconda2/envs/oggm_env/lib/python3.6/site-packages/oggm/params.cfg\n"
     ]
    },
    {
     "name": "stdout",
     "output_type": "stream",
     "text": [
      "{'ela_h': 2547.652908743149, 'grad': 7.11}\n",
      "slope default: 0.237357    intercept: 2623.494608   R-squared: 0.990999\n",
      "slope: 0.140647    intercept: 2547.652909   R-squared: 1.000000\n"
     ]
    },
    {
     "name": "stderr",
     "output_type": "stream",
     "text": [
      "2019-11-18 09:59:06: oggm.workflow: Execute entity task glacier_masks on 1 glaciers\n",
      "2019-11-18 09:59:06: oggm.workflow: Multiprocessing: using all available processors (N=8)\n",
      "2019-11-18 09:59:07: oggm.workflow: Execute entity task compute_centerlines on 1 glaciers\n",
      "2019-11-18 09:59:07: oggm.workflow: Execute entity task initialize_flowlines on 1 glaciers\n",
      "2019-11-18 09:59:07: oggm.workflow: Execute entity task compute_downstream_line on 1 glaciers\n",
      "2019-11-18 09:59:07: oggm.workflow: Execute entity task compute_downstream_bedshape on 1 glaciers\n",
      "2019-11-18 09:59:07: oggm.workflow: Execute entity task catchment_area on 1 glaciers\n",
      "2019-11-18 09:59:08: oggm.workflow: Execute entity task catchment_intersections on 1 glaciers\n",
      "/home/pelto/anaconda2/envs/oggm_env/lib/python3.6/site-packages/geopandas/io/file.py:108: FionaDeprecationWarning: Use fiona.Env() instead.\n",
      "  with fiona.drivers():\n",
      "2019-11-18 09:59:08: oggm.workflow: Execute entity task catchment_width_geom on 1 glaciers\n",
      "2019-11-18 09:59:08: oggm.workflow: Execute entity task catchment_width_correction on 1 glaciers\n",
      "2019-11-18 09:59:09: oggm.workflow: Execute entity task process_cru_data on 1 glaciers\n",
      "2019-11-18 09:59:09: oggm.workflow: Execute entity task local_t_star on 1 glaciers\n",
      "2019-11-18 09:59:09: oggm.workflow: Execute entity task mu_star_calibration on 1 glaciers\n",
      "2019-11-18 09:59:09: oggm.workflow: Execute entity task prepare_for_inversion on 1 glaciers\n",
      "2019-11-18 09:59:09: oggm.workflow: Execute entity task mass_conservation_inversion on 1 glaciers\n",
      "2019-11-18 09:59:09: oggm.workflow: Execute entity task filter_inversion_output on 1 glaciers\n",
      "2019-11-18 09:59:09: oggm.workflow: Execute entity task distribute_thickness_per_altitude on 1 glaciers\n",
      "2019-11-18 09:59:10: oggm.workflow: Execute entity task distribute_thickness_per_altitude on 1 glaciers\n"
     ]
    },
    {
     "name": "stdout",
     "output_type": "stream",
     "text": [
      "slope: 0.237357    intercept: 2623.494608   R-squared: 0.990999\n"
     ]
    },
    {
     "name": "stderr",
     "output_type": "stream",
     "text": [
      "2019-11-18 09:59:10: oggm.workflow: Execute entity task apparent_mb_from_linear_mb on 1 glaciers\n",
      "2019-11-18 09:59:10: oggm.workflow: Execute entity task glacier_statistics on 1 glaciers\n",
      "2019-11-18 09:59:10: oggm.cfg: Using configuration file: /home/pelto/anaconda2/envs/oggm_env/lib/python3.6/site-packages/oggm/params.cfg\n"
     ]
    },
    {
     "name": "stdout",
     "output_type": "stream",
     "text": [
      "{'ela_h': 2547.652908743149, 'grad': 7.11}\n",
      "slope default: 0.237357    intercept: 2623.494608   R-squared: 0.990999\n",
      "slope: 0.140647    intercept: 2547.652909   R-squared: 1.000000\n"
     ]
    },
    {
     "name": "stderr",
     "output_type": "stream",
     "text": [
      "2019-11-18 09:59:13: oggm.workflow: Execute entity task glacier_masks on 1 glaciers\n",
      "2019-11-18 09:59:13: oggm.workflow: Multiprocessing: using all available processors (N=8)\n",
      "2019-11-18 09:59:13: oggm.workflow: Execute entity task compute_centerlines on 1 glaciers\n",
      "2019-11-18 09:59:13: oggm.workflow: Execute entity task initialize_flowlines on 1 glaciers\n",
      "2019-11-18 09:59:13: oggm.workflow: Execute entity task compute_downstream_line on 1 glaciers\n",
      "2019-11-18 09:59:13: oggm.workflow: Execute entity task compute_downstream_bedshape on 1 glaciers\n",
      "2019-11-18 09:59:13: oggm.workflow: Execute entity task catchment_area on 1 glaciers\n",
      "2019-11-18 09:59:14: oggm.workflow: Execute entity task catchment_intersections on 1 glaciers\n",
      "/home/pelto/anaconda2/envs/oggm_env/lib/python3.6/site-packages/geopandas/io/file.py:108: FionaDeprecationWarning: Use fiona.Env() instead.\n",
      "  with fiona.drivers():\n",
      "2019-11-18 09:59:14: oggm.workflow: Execute entity task catchment_width_geom on 1 glaciers\n",
      "2019-11-18 09:59:15: oggm.workflow: Execute entity task catchment_width_correction on 1 glaciers\n",
      "2019-11-18 09:59:15: oggm.workflow: Execute entity task process_cru_data on 1 glaciers\n",
      "2019-11-18 09:59:15: oggm.workflow: Execute entity task local_t_star on 1 glaciers\n",
      "2019-11-18 09:59:15: oggm.workflow: Execute entity task mu_star_calibration on 1 glaciers\n",
      "2019-11-18 09:59:15: oggm.workflow: Execute entity task prepare_for_inversion on 1 glaciers\n",
      "2019-11-18 09:59:15: oggm.workflow: Execute entity task mass_conservation_inversion on 1 glaciers\n",
      "2019-11-18 09:59:16: oggm.workflow: Execute entity task filter_inversion_output on 1 glaciers\n",
      "2019-11-18 09:59:16: oggm.workflow: Execute entity task distribute_thickness_per_altitude on 1 glaciers\n",
      "2019-11-18 09:59:16: oggm.workflow: Execute entity task distribute_thickness_per_altitude on 1 glaciers\n"
     ]
    },
    {
     "name": "stdout",
     "output_type": "stream",
     "text": [
      "slope: 0.237357    intercept: 2623.494608   R-squared: 0.990999\n"
     ]
    },
    {
     "name": "stderr",
     "output_type": "stream",
     "text": [
      "2019-11-18 09:59:16: oggm.workflow: Execute entity task apparent_mb_from_linear_mb on 1 glaciers\n",
      "2019-11-18 09:59:16: oggm.workflow: Execute entity task glacier_statistics on 1 glaciers\n",
      "2019-11-18 09:59:17: oggm.cfg: Using configuration file: /home/pelto/anaconda2/envs/oggm_env/lib/python3.6/site-packages/oggm/params.cfg\n"
     ]
    },
    {
     "name": "stdout",
     "output_type": "stream",
     "text": [
      "{'ela_h': 2547.652908743149, 'grad': 7.11}\n",
      "slope default: 0.237357    intercept: 2623.494608   R-squared: 0.990999\n",
      "slope: 0.140647    intercept: 2547.652909   R-squared: 1.000000\n"
     ]
    },
    {
     "name": "stderr",
     "output_type": "stream",
     "text": [
      "2019-11-18 09:59:19: oggm.workflow: Execute entity task glacier_masks on 1 glaciers\n",
      "2019-11-18 09:59:19: oggm.workflow: Multiprocessing: using all available processors (N=8)\n",
      "2019-11-18 09:59:19: oggm.workflow: Execute entity task compute_centerlines on 1 glaciers\n",
      "2019-11-18 09:59:19: oggm.workflow: Execute entity task initialize_flowlines on 1 glaciers\n",
      "2019-11-18 09:59:19: oggm.workflow: Execute entity task compute_downstream_line on 1 glaciers\n",
      "2019-11-18 09:59:19: oggm.workflow: Execute entity task compute_downstream_bedshape on 1 glaciers\n",
      "2019-11-18 09:59:19: oggm.workflow: Execute entity task catchment_area on 1 glaciers\n",
      "2019-11-18 09:59:20: oggm.workflow: Execute entity task catchment_intersections on 1 glaciers\n",
      "/home/pelto/anaconda2/envs/oggm_env/lib/python3.6/site-packages/geopandas/io/file.py:108: FionaDeprecationWarning: Use fiona.Env() instead.\n",
      "  with fiona.drivers():\n",
      "2019-11-18 09:59:20: oggm.workflow: Execute entity task catchment_width_geom on 1 glaciers\n",
      "2019-11-18 09:59:21: oggm.workflow: Execute entity task catchment_width_correction on 1 glaciers\n",
      "2019-11-18 09:59:21: oggm.workflow: Execute entity task process_cru_data on 1 glaciers\n",
      "2019-11-18 09:59:22: oggm.workflow: Execute entity task local_t_star on 1 glaciers\n",
      "2019-11-18 09:59:22: oggm.workflow: Execute entity task mu_star_calibration on 1 glaciers\n",
      "2019-11-18 09:59:22: oggm.workflow: Execute entity task prepare_for_inversion on 1 glaciers\n",
      "2019-11-18 09:59:22: oggm.workflow: Execute entity task mass_conservation_inversion on 1 glaciers\n",
      "2019-11-18 09:59:22: oggm.workflow: Execute entity task filter_inversion_output on 1 glaciers\n",
      "2019-11-18 09:59:22: oggm.workflow: Execute entity task distribute_thickness_per_altitude on 1 glaciers\n",
      "2019-11-18 09:59:22: oggm.workflow: Execute entity task distribute_thickness_per_altitude on 1 glaciers\n"
     ]
    },
    {
     "name": "stdout",
     "output_type": "stream",
     "text": [
      "slope: 0.237357    intercept: 2623.494608   R-squared: 0.990999\n"
     ]
    },
    {
     "name": "stderr",
     "output_type": "stream",
     "text": [
      "2019-11-18 09:59:23: oggm.workflow: Execute entity task apparent_mb_from_linear_mb on 1 glaciers\n",
      "2019-11-18 09:59:23: oggm.workflow: Execute entity task glacier_statistics on 1 glaciers\n",
      "2019-11-18 09:59:23: oggm.cfg: Using configuration file: /home/pelto/anaconda2/envs/oggm_env/lib/python3.6/site-packages/oggm/params.cfg\n"
     ]
    },
    {
     "name": "stdout",
     "output_type": "stream",
     "text": [
      "{'ela_h': 2547.652908743149, 'grad': 7.11}\n",
      "slope default: 0.237357    intercept: 2623.494608   R-squared: 0.990999\n",
      "slope: 0.140647    intercept: 2547.652909   R-squared: 1.000000\n"
     ]
    },
    {
     "name": "stderr",
     "output_type": "stream",
     "text": [
      "2019-11-18 09:59:25: oggm.workflow: Execute entity task glacier_masks on 1 glaciers\n",
      "2019-11-18 09:59:25: oggm.workflow: Multiprocessing: using all available processors (N=8)\n",
      "2019-11-18 09:59:25: oggm.workflow: Execute entity task compute_centerlines on 1 glaciers\n",
      "2019-11-18 09:59:25: oggm.workflow: Execute entity task initialize_flowlines on 1 glaciers\n",
      "2019-11-18 09:59:25: oggm.workflow: Execute entity task compute_downstream_line on 1 glaciers\n",
      "2019-11-18 09:59:25: oggm.workflow: Execute entity task compute_downstream_bedshape on 1 glaciers\n",
      "2019-11-18 09:59:25: oggm.workflow: Execute entity task catchment_area on 1 glaciers\n",
      "2019-11-18 09:59:26: oggm.workflow: Execute entity task catchment_intersections on 1 glaciers\n",
      "/home/pelto/anaconda2/envs/oggm_env/lib/python3.6/site-packages/geopandas/io/file.py:108: FionaDeprecationWarning: Use fiona.Env() instead.\n",
      "  with fiona.drivers():\n",
      "2019-11-18 09:59:27: oggm.workflow: Execute entity task catchment_width_geom on 1 glaciers\n",
      "2019-11-18 09:59:27: oggm.workflow: Execute entity task catchment_width_correction on 1 glaciers\n",
      "2019-11-18 09:59:27: oggm.workflow: Execute entity task process_cru_data on 1 glaciers\n",
      "2019-11-18 09:59:28: oggm.workflow: Execute entity task local_t_star on 1 glaciers\n",
      "2019-11-18 09:59:28: oggm.workflow: Execute entity task mu_star_calibration on 1 glaciers\n",
      "2019-11-18 09:59:28: oggm.workflow: Execute entity task prepare_for_inversion on 1 glaciers\n",
      "2019-11-18 09:59:28: oggm.workflow: Execute entity task mass_conservation_inversion on 1 glaciers\n",
      "2019-11-18 09:59:28: oggm.workflow: Execute entity task filter_inversion_output on 1 glaciers\n",
      "2019-11-18 09:59:28: oggm.workflow: Execute entity task distribute_thickness_per_altitude on 1 glaciers\n",
      "2019-11-18 09:59:28: oggm.workflow: Execute entity task distribute_thickness_per_altitude on 1 glaciers\n"
     ]
    },
    {
     "name": "stdout",
     "output_type": "stream",
     "text": [
      "slope: 0.237357    intercept: 2623.494608   R-squared: 0.990999\n"
     ]
    },
    {
     "name": "stderr",
     "output_type": "stream",
     "text": [
      "2019-11-18 09:59:29: oggm.workflow: Execute entity task apparent_mb_from_linear_mb on 1 glaciers\n",
      "2019-11-18 09:59:29: oggm.workflow: Execute entity task glacier_statistics on 1 glaciers\n",
      "2019-11-18 09:59:29: oggm.cfg: Using configuration file: /home/pelto/anaconda2/envs/oggm_env/lib/python3.6/site-packages/oggm/params.cfg\n"
     ]
    },
    {
     "name": "stdout",
     "output_type": "stream",
     "text": [
      "{'ela_h': 2547.652908743149, 'grad': 7.11}\n",
      "slope default: 0.237357    intercept: 2623.494608   R-squared: 0.990999\n",
      "slope: 0.140647    intercept: 2547.652909   R-squared: 1.000000\n"
     ]
    },
    {
     "name": "stderr",
     "output_type": "stream",
     "text": [
      "2019-11-18 09:59:31: oggm.workflow: Execute entity task glacier_masks on 1 glaciers\n",
      "2019-11-18 09:59:31: oggm.workflow: Multiprocessing: using all available processors (N=8)\n",
      "2019-11-18 09:59:32: oggm.workflow: Execute entity task compute_centerlines on 1 glaciers\n",
      "2019-11-18 09:59:32: oggm.workflow: Execute entity task initialize_flowlines on 1 glaciers\n",
      "2019-11-18 09:59:32: oggm.workflow: Execute entity task compute_downstream_line on 1 glaciers\n",
      "2019-11-18 09:59:32: oggm.workflow: Execute entity task compute_downstream_bedshape on 1 glaciers\n",
      "2019-11-18 09:59:32: oggm.workflow: Execute entity task catchment_area on 1 glaciers\n",
      "2019-11-18 09:59:33: oggm.workflow: Execute entity task catchment_intersections on 1 glaciers\n",
      "/home/pelto/anaconda2/envs/oggm_env/lib/python3.6/site-packages/geopandas/io/file.py:108: FionaDeprecationWarning: Use fiona.Env() instead.\n",
      "  with fiona.drivers():\n",
      "2019-11-18 09:59:33: oggm.workflow: Execute entity task catchment_width_geom on 1 glaciers\n",
      "2019-11-18 09:59:33: oggm.workflow: Execute entity task catchment_width_correction on 1 glaciers\n",
      "2019-11-18 09:59:33: oggm.workflow: Execute entity task process_cru_data on 1 glaciers\n",
      "2019-11-18 09:59:34: oggm.workflow: Execute entity task local_t_star on 1 glaciers\n",
      "2019-11-18 09:59:34: oggm.workflow: Execute entity task mu_star_calibration on 1 glaciers\n",
      "2019-11-18 09:59:34: oggm.workflow: Execute entity task prepare_for_inversion on 1 glaciers\n",
      "2019-11-18 09:59:34: oggm.workflow: Execute entity task mass_conservation_inversion on 1 glaciers\n",
      "2019-11-18 09:59:34: oggm.workflow: Execute entity task filter_inversion_output on 1 glaciers\n",
      "2019-11-18 09:59:34: oggm.workflow: Execute entity task distribute_thickness_per_altitude on 1 glaciers\n",
      "2019-11-18 09:59:35: oggm.workflow: Execute entity task distribute_thickness_per_altitude on 1 glaciers\n"
     ]
    },
    {
     "name": "stdout",
     "output_type": "stream",
     "text": [
      "slope: 0.237357    intercept: 2623.494608   R-squared: 0.990999\n"
     ]
    },
    {
     "name": "stderr",
     "output_type": "stream",
     "text": [
      "2019-11-18 09:59:35: oggm.workflow: Execute entity task apparent_mb_from_linear_mb on 1 glaciers\n",
      "2019-11-18 09:59:35: oggm.workflow: Execute entity task glacier_statistics on 1 glaciers\n",
      "2019-11-18 09:59:35: oggm.cfg: Using configuration file: /home/pelto/anaconda2/envs/oggm_env/lib/python3.6/site-packages/oggm/params.cfg\n"
     ]
    },
    {
     "name": "stdout",
     "output_type": "stream",
     "text": [
      "{'ela_h': 2547.652908743149, 'grad': 7.11}\n",
      "slope default: 0.237357    intercept: 2623.494608   R-squared: 0.990999\n",
      "slope: 0.140647    intercept: 2547.652909   R-squared: 1.000000\n"
     ]
    },
    {
     "name": "stderr",
     "output_type": "stream",
     "text": [
      "2019-11-18 09:59:38: oggm.workflow: Execute entity task glacier_masks on 1 glaciers\n",
      "2019-11-18 09:59:38: oggm.workflow: Multiprocessing: using all available processors (N=8)\n",
      "2019-11-18 09:59:38: oggm.workflow: Execute entity task compute_centerlines on 1 glaciers\n",
      "2019-11-18 09:59:38: oggm.workflow: Execute entity task initialize_flowlines on 1 glaciers\n",
      "2019-11-18 09:59:38: oggm.workflow: Execute entity task compute_downstream_line on 1 glaciers\n",
      "2019-11-18 09:59:38: oggm.workflow: Execute entity task compute_downstream_bedshape on 1 glaciers\n",
      "2019-11-18 09:59:38: oggm.workflow: Execute entity task catchment_area on 1 glaciers\n",
      "2019-11-18 09:59:39: oggm.workflow: Execute entity task catchment_intersections on 1 glaciers\n",
      "/home/pelto/anaconda2/envs/oggm_env/lib/python3.6/site-packages/geopandas/io/file.py:108: FionaDeprecationWarning: Use fiona.Env() instead.\n",
      "  with fiona.drivers():\n",
      "2019-11-18 09:59:39: oggm.workflow: Execute entity task catchment_width_geom on 1 glaciers\n",
      "2019-11-18 09:59:40: oggm.workflow: Execute entity task catchment_width_correction on 1 glaciers\n",
      "2019-11-18 09:59:40: oggm.workflow: Execute entity task process_cru_data on 1 glaciers\n",
      "2019-11-18 09:59:40: oggm.workflow: Execute entity task local_t_star on 1 glaciers\n",
      "2019-11-18 09:59:40: oggm.workflow: Execute entity task mu_star_calibration on 1 glaciers\n",
      "2019-11-18 09:59:41: oggm.workflow: Execute entity task prepare_for_inversion on 1 glaciers\n",
      "2019-11-18 09:59:41: oggm.workflow: Execute entity task mass_conservation_inversion on 1 glaciers\n",
      "2019-11-18 09:59:41: oggm.workflow: Execute entity task filter_inversion_output on 1 glaciers\n",
      "2019-11-18 09:59:41: oggm.workflow: Execute entity task distribute_thickness_per_altitude on 1 glaciers\n",
      "2019-11-18 09:59:41: oggm.workflow: Execute entity task distribute_thickness_per_altitude on 1 glaciers\n"
     ]
    },
    {
     "name": "stdout",
     "output_type": "stream",
     "text": [
      "slope: 0.237357    intercept: 2623.494608   R-squared: 0.990999\n"
     ]
    },
    {
     "name": "stderr",
     "output_type": "stream",
     "text": [
      "2019-11-18 09:59:42: oggm.workflow: Execute entity task apparent_mb_from_linear_mb on 1 glaciers\n",
      "2019-11-18 09:59:42: oggm.workflow: Execute entity task glacier_statistics on 1 glaciers\n",
      "2019-11-18 09:59:42: oggm.cfg: Using configuration file: /home/pelto/anaconda2/envs/oggm_env/lib/python3.6/site-packages/oggm/params.cfg\n"
     ]
    },
    {
     "name": "stdout",
     "output_type": "stream",
     "text": [
      "{'ela_h': 2547.652908743149, 'grad': 7.11}\n",
      "slope default: 0.237357    intercept: 2623.494608   R-squared: 0.990999\n",
      "slope: 0.140647    intercept: 2547.652909   R-squared: 1.000000\n"
     ]
    },
    {
     "name": "stderr",
     "output_type": "stream",
     "text": [
      "2019-11-18 09:59:44: oggm.workflow: Execute entity task glacier_masks on 1 glaciers\n",
      "2019-11-18 09:59:44: oggm.workflow: Multiprocessing: using all available processors (N=8)\n",
      "2019-11-18 09:59:44: oggm.workflow: Execute entity task compute_centerlines on 1 glaciers\n",
      "2019-11-18 09:59:44: oggm.workflow: Execute entity task initialize_flowlines on 1 glaciers\n",
      "2019-11-18 09:59:44: oggm.workflow: Execute entity task compute_downstream_line on 1 glaciers\n",
      "2019-11-18 09:59:44: oggm.workflow: Execute entity task compute_downstream_bedshape on 1 glaciers\n",
      "2019-11-18 09:59:44: oggm.workflow: Execute entity task catchment_area on 1 glaciers\n",
      "2019-11-18 09:59:45: oggm.workflow: Execute entity task catchment_intersections on 1 glaciers\n",
      "/home/pelto/anaconda2/envs/oggm_env/lib/python3.6/site-packages/geopandas/io/file.py:108: FionaDeprecationWarning: Use fiona.Env() instead.\n",
      "  with fiona.drivers():\n",
      "2019-11-18 09:59:45: oggm.workflow: Execute entity task catchment_width_geom on 1 glaciers\n",
      "2019-11-18 09:59:46: oggm.workflow: Execute entity task catchment_width_correction on 1 glaciers\n",
      "2019-11-18 09:59:46: oggm.workflow: Execute entity task process_cru_data on 1 glaciers\n",
      "2019-11-18 09:59:47: oggm.workflow: Execute entity task local_t_star on 1 glaciers\n",
      "2019-11-18 09:59:47: oggm.workflow: Execute entity task mu_star_calibration on 1 glaciers\n",
      "2019-11-18 09:59:47: oggm.workflow: Execute entity task prepare_for_inversion on 1 glaciers\n",
      "2019-11-18 09:59:47: oggm.workflow: Execute entity task mass_conservation_inversion on 1 glaciers\n",
      "2019-11-18 09:59:47: oggm.workflow: Execute entity task filter_inversion_output on 1 glaciers\n",
      "2019-11-18 09:59:47: oggm.workflow: Execute entity task distribute_thickness_per_altitude on 1 glaciers\n",
      "2019-11-18 09:59:47: oggm.workflow: Execute entity task distribute_thickness_per_altitude on 1 glaciers\n"
     ]
    },
    {
     "name": "stdout",
     "output_type": "stream",
     "text": [
      "slope: 0.237357    intercept: 2623.494608   R-squared: 0.990999\n"
     ]
    },
    {
     "name": "stderr",
     "output_type": "stream",
     "text": [
      "2019-11-18 09:59:48: oggm.workflow: Execute entity task apparent_mb_from_linear_mb on 1 glaciers\n",
      "2019-11-18 09:59:48: oggm.workflow: Execute entity task glacier_statistics on 1 glaciers\n",
      "2019-11-18 09:59:48: oggm.cfg: Using configuration file: /home/pelto/anaconda2/envs/oggm_env/lib/python3.6/site-packages/oggm/params.cfg\n"
     ]
    },
    {
     "name": "stdout",
     "output_type": "stream",
     "text": [
      "{'ela_h': 2547.652908743149, 'grad': 7.11}\n",
      "slope default: 0.237357    intercept: 2623.494608   R-squared: 0.990999\n",
      "slope: 0.140647    intercept: 2547.652909   R-squared: 1.000000\n"
     ]
    },
    {
     "name": "stderr",
     "output_type": "stream",
     "text": [
      "2019-11-18 09:59:50: oggm.workflow: Execute entity task glacier_masks on 1 glaciers\n",
      "2019-11-18 09:59:50: oggm.workflow: Multiprocessing: using all available processors (N=8)\n",
      "2019-11-18 09:59:50: oggm.workflow: Execute entity task compute_centerlines on 1 glaciers\n",
      "2019-11-18 09:59:50: oggm.workflow: Execute entity task initialize_flowlines on 1 glaciers\n",
      "2019-11-18 09:59:50: oggm.workflow: Execute entity task compute_downstream_line on 1 glaciers\n",
      "2019-11-18 09:59:50: oggm.workflow: Execute entity task compute_downstream_bedshape on 1 glaciers\n",
      "2019-11-18 09:59:51: oggm.workflow: Execute entity task catchment_area on 1 glaciers\n",
      "2019-11-18 09:59:52: oggm.workflow: Execute entity task catchment_intersections on 1 glaciers\n",
      "/home/pelto/anaconda2/envs/oggm_env/lib/python3.6/site-packages/geopandas/io/file.py:108: FionaDeprecationWarning: Use fiona.Env() instead.\n",
      "  with fiona.drivers():\n",
      "2019-11-18 09:59:52: oggm.workflow: Execute entity task catchment_width_geom on 1 glaciers\n",
      "2019-11-18 09:59:52: oggm.workflow: Execute entity task catchment_width_correction on 1 glaciers\n",
      "2019-11-18 09:59:52: oggm.workflow: Execute entity task process_cru_data on 1 glaciers\n",
      "2019-11-18 09:59:53: oggm.workflow: Execute entity task local_t_star on 1 glaciers\n",
      "2019-11-18 09:59:53: oggm.workflow: Execute entity task mu_star_calibration on 1 glaciers\n",
      "2019-11-18 09:59:53: oggm.workflow: Execute entity task prepare_for_inversion on 1 glaciers\n",
      "2019-11-18 09:59:53: oggm.workflow: Execute entity task mass_conservation_inversion on 1 glaciers\n",
      "2019-11-18 09:59:53: oggm.workflow: Execute entity task filter_inversion_output on 1 glaciers\n",
      "2019-11-18 09:59:53: oggm.workflow: Execute entity task distribute_thickness_per_altitude on 1 glaciers\n",
      "2019-11-18 09:59:54: oggm.workflow: Execute entity task distribute_thickness_per_altitude on 1 glaciers\n"
     ]
    },
    {
     "name": "stdout",
     "output_type": "stream",
     "text": [
      "slope: 0.237357    intercept: 2623.494608   R-squared: 0.990999\n"
     ]
    },
    {
     "name": "stderr",
     "output_type": "stream",
     "text": [
      "2019-11-18 09:59:54: oggm.workflow: Execute entity task apparent_mb_from_linear_mb on 1 glaciers\n",
      "2019-11-18 09:59:54: oggm.workflow: Execute entity task glacier_statistics on 1 glaciers\n",
      "2019-11-18 09:59:54: oggm.cfg: Using configuration file: /home/pelto/anaconda2/envs/oggm_env/lib/python3.6/site-packages/oggm/params.cfg\n"
     ]
    },
    {
     "name": "stdout",
     "output_type": "stream",
     "text": [
      "{'ela_h': 2547.652908743149, 'grad': 7.11}\n",
      "slope default: 0.237357    intercept: 2623.494608   R-squared: 0.990999\n",
      "slope: 0.140647    intercept: 2547.652909   R-squared: 1.000000\n"
     ]
    },
    {
     "name": "stderr",
     "output_type": "stream",
     "text": [
      "2019-11-18 09:59:56: oggm.workflow: Execute entity task glacier_masks on 1 glaciers\n",
      "2019-11-18 09:59:56: oggm.workflow: Multiprocessing: using all available processors (N=8)\n",
      "2019-11-18 09:59:57: oggm.workflow: Execute entity task compute_centerlines on 1 glaciers\n",
      "2019-11-18 09:59:57: oggm.workflow: Execute entity task initialize_flowlines on 1 glaciers\n",
      "2019-11-18 09:59:57: oggm.workflow: Execute entity task compute_downstream_line on 1 glaciers\n",
      "2019-11-18 09:59:57: oggm.workflow: Execute entity task compute_downstream_bedshape on 1 glaciers\n",
      "2019-11-18 09:59:57: oggm.workflow: Execute entity task catchment_area on 1 glaciers\n",
      "2019-11-18 09:59:58: oggm.workflow: Execute entity task catchment_intersections on 1 glaciers\n",
      "/home/pelto/anaconda2/envs/oggm_env/lib/python3.6/site-packages/geopandas/io/file.py:108: FionaDeprecationWarning: Use fiona.Env() instead.\n",
      "  with fiona.drivers():\n",
      "2019-11-18 09:59:58: oggm.workflow: Execute entity task catchment_width_geom on 1 glaciers\n",
      "2019-11-18 09:59:58: oggm.workflow: Execute entity task catchment_width_correction on 1 glaciers\n",
      "2019-11-18 09:59:59: oggm.workflow: Execute entity task process_cru_data on 1 glaciers\n",
      "2019-11-18 09:59:59: oggm.workflow: Execute entity task local_t_star on 1 glaciers\n",
      "2019-11-18 09:59:59: oggm.workflow: Execute entity task mu_star_calibration on 1 glaciers\n",
      "2019-11-18 09:59:59: oggm.workflow: Execute entity task prepare_for_inversion on 1 glaciers\n",
      "2019-11-18 09:59:59: oggm.workflow: Execute entity task mass_conservation_inversion on 1 glaciers\n",
      "2019-11-18 10:00:00: oggm.workflow: Execute entity task filter_inversion_output on 1 glaciers\n",
      "2019-11-18 10:00:00: oggm.workflow: Execute entity task distribute_thickness_per_altitude on 1 glaciers\n",
      "2019-11-18 10:00:00: oggm.workflow: Execute entity task distribute_thickness_per_altitude on 1 glaciers\n"
     ]
    },
    {
     "name": "stdout",
     "output_type": "stream",
     "text": [
      "slope: 0.237357    intercept: 2623.494608   R-squared: 0.990999\n"
     ]
    },
    {
     "name": "stderr",
     "output_type": "stream",
     "text": [
      "2019-11-18 10:00:00: oggm.workflow: Execute entity task apparent_mb_from_linear_mb on 1 glaciers\n",
      "2019-11-18 10:00:00: oggm.workflow: Execute entity task glacier_statistics on 1 glaciers\n",
      "2019-11-18 10:00:01: oggm.cfg: Using configuration file: /home/pelto/anaconda2/envs/oggm_env/lib/python3.6/site-packages/oggm/params.cfg\n"
     ]
    },
    {
     "name": "stdout",
     "output_type": "stream",
     "text": [
      "{'ela_h': 2547.652908743149, 'grad': 7.11}\n",
      "slope default: 0.237357    intercept: 2623.494608   R-squared: 0.990999\n",
      "slope: 0.140647    intercept: 2547.652909   R-squared: 1.000000\n"
     ]
    },
    {
     "name": "stderr",
     "output_type": "stream",
     "text": [
      "2019-11-18 10:00:03: oggm.workflow: Execute entity task glacier_masks on 1 glaciers\n",
      "2019-11-18 10:00:03: oggm.workflow: Multiprocessing: using all available processors (N=8)\n",
      "2019-11-18 10:00:03: oggm.workflow: Execute entity task compute_centerlines on 1 glaciers\n",
      "2019-11-18 10:00:03: oggm.workflow: Execute entity task initialize_flowlines on 1 glaciers\n",
      "2019-11-18 10:00:03: oggm.workflow: Execute entity task compute_downstream_line on 1 glaciers\n",
      "2019-11-18 10:00:03: oggm.workflow: Execute entity task compute_downstream_bedshape on 1 glaciers\n",
      "2019-11-18 10:00:03: oggm.workflow: Execute entity task catchment_area on 1 glaciers\n",
      "2019-11-18 10:00:04: oggm.workflow: Execute entity task catchment_intersections on 1 glaciers\n",
      "/home/pelto/anaconda2/envs/oggm_env/lib/python3.6/site-packages/geopandas/io/file.py:108: FionaDeprecationWarning: Use fiona.Env() instead.\n",
      "  with fiona.drivers():\n",
      "2019-11-18 10:00:04: oggm.workflow: Execute entity task catchment_width_geom on 1 glaciers\n",
      "2019-11-18 10:00:05: oggm.workflow: Execute entity task catchment_width_correction on 1 glaciers\n",
      "2019-11-18 10:00:05: oggm.workflow: Execute entity task process_cru_data on 1 glaciers\n",
      "2019-11-18 10:00:06: oggm.workflow: Execute entity task local_t_star on 1 glaciers\n",
      "2019-11-18 10:00:06: oggm.workflow: Execute entity task mu_star_calibration on 1 glaciers\n",
      "2019-11-18 10:00:06: oggm.workflow: Execute entity task prepare_for_inversion on 1 glaciers\n",
      "2019-11-18 10:00:06: oggm.workflow: Execute entity task mass_conservation_inversion on 1 glaciers\n",
      "2019-11-18 10:00:06: oggm.workflow: Execute entity task filter_inversion_output on 1 glaciers\n",
      "2019-11-18 10:00:06: oggm.workflow: Execute entity task distribute_thickness_per_altitude on 1 glaciers\n",
      "2019-11-18 10:00:06: oggm.workflow: Execute entity task distribute_thickness_per_altitude on 1 glaciers\n"
     ]
    },
    {
     "name": "stdout",
     "output_type": "stream",
     "text": [
      "slope: 0.237357    intercept: 2623.494608   R-squared: 0.990999\n"
     ]
    },
    {
     "name": "stderr",
     "output_type": "stream",
     "text": [
      "2019-11-18 10:00:07: oggm.workflow: Execute entity task apparent_mb_from_linear_mb on 1 glaciers\n",
      "2019-11-18 10:00:07: oggm.workflow: Execute entity task glacier_statistics on 1 glaciers\n",
      "2019-11-18 10:00:07: oggm.cfg: Using configuration file: /home/pelto/anaconda2/envs/oggm_env/lib/python3.6/site-packages/oggm/params.cfg\n"
     ]
    },
    {
     "name": "stdout",
     "output_type": "stream",
     "text": [
      "{'ela_h': 2547.652908743149, 'grad': 7.11}\n",
      "slope default: 0.237357    intercept: 2623.494608   R-squared: 0.990999\n",
      "slope: 0.140647    intercept: 2547.652909   R-squared: 1.000000\n"
     ]
    },
    {
     "name": "stderr",
     "output_type": "stream",
     "text": [
      "2019-11-18 10:00:09: oggm.workflow: Execute entity task glacier_masks on 1 glaciers\n",
      "2019-11-18 10:00:09: oggm.workflow: Multiprocessing: using all available processors (N=8)\n",
      "2019-11-18 10:00:09: oggm.workflow: Execute entity task compute_centerlines on 1 glaciers\n",
      "2019-11-18 10:00:09: oggm.workflow: Execute entity task initialize_flowlines on 1 glaciers\n",
      "2019-11-18 10:00:09: oggm.workflow: Execute entity task compute_downstream_line on 1 glaciers\n",
      "2019-11-18 10:00:09: oggm.workflow: Execute entity task compute_downstream_bedshape on 1 glaciers\n",
      "2019-11-18 10:00:10: oggm.workflow: Execute entity task catchment_area on 1 glaciers\n",
      "2019-11-18 10:00:11: oggm.workflow: Execute entity task catchment_intersections on 1 glaciers\n",
      "/home/pelto/anaconda2/envs/oggm_env/lib/python3.6/site-packages/geopandas/io/file.py:108: FionaDeprecationWarning: Use fiona.Env() instead.\n",
      "  with fiona.drivers():\n",
      "2019-11-18 10:00:11: oggm.workflow: Execute entity task catchment_width_geom on 1 glaciers\n",
      "2019-11-18 10:00:11: oggm.workflow: Execute entity task catchment_width_correction on 1 glaciers\n",
      "2019-11-18 10:00:11: oggm.workflow: Execute entity task process_cru_data on 1 glaciers\n",
      "2019-11-18 10:00:12: oggm.workflow: Execute entity task local_t_star on 1 glaciers\n",
      "2019-11-18 10:00:12: oggm.workflow: Execute entity task mu_star_calibration on 1 glaciers\n",
      "2019-11-18 10:00:12: oggm.workflow: Execute entity task prepare_for_inversion on 1 glaciers\n",
      "2019-11-18 10:00:12: oggm.workflow: Execute entity task mass_conservation_inversion on 1 glaciers\n",
      "2019-11-18 10:00:12: oggm.workflow: Execute entity task filter_inversion_output on 1 glaciers\n",
      "2019-11-18 10:00:12: oggm.workflow: Execute entity task distribute_thickness_per_altitude on 1 glaciers\n",
      "2019-11-18 10:00:12: oggm.workflow: Execute entity task distribute_thickness_per_altitude on 1 glaciers\n"
     ]
    },
    {
     "name": "stdout",
     "output_type": "stream",
     "text": [
      "slope: 0.237357    intercept: 2623.494608   R-squared: 0.990999\n"
     ]
    },
    {
     "name": "stderr",
     "output_type": "stream",
     "text": [
      "2019-11-18 10:00:13: oggm.workflow: Execute entity task apparent_mb_from_linear_mb on 1 glaciers\n",
      "2019-11-18 10:00:13: oggm.workflow: Execute entity task glacier_statistics on 1 glaciers\n",
      "2019-11-18 10:00:13: oggm.cfg: Using configuration file: /home/pelto/anaconda2/envs/oggm_env/lib/python3.6/site-packages/oggm/params.cfg\n"
     ]
    },
    {
     "name": "stdout",
     "output_type": "stream",
     "text": [
      "{'ela_h': 2547.652908743149, 'grad': 7.11}\n",
      "slope default: 0.237357    intercept: 2623.494608   R-squared: 0.990999\n",
      "slope: 0.140647    intercept: 2547.652909   R-squared: 1.000000\n"
     ]
    },
    {
     "name": "stderr",
     "output_type": "stream",
     "text": [
      "2019-11-18 10:00:15: oggm.workflow: Execute entity task glacier_masks on 1 glaciers\n",
      "2019-11-18 10:00:15: oggm.workflow: Multiprocessing: using all available processors (N=8)\n",
      "2019-11-18 10:00:15: oggm.workflow: Execute entity task compute_centerlines on 1 glaciers\n",
      "2019-11-18 10:00:15: oggm.workflow: Execute entity task initialize_flowlines on 1 glaciers\n",
      "2019-11-18 10:00:16: oggm.workflow: Execute entity task compute_downstream_line on 1 glaciers\n",
      "2019-11-18 10:00:16: oggm.workflow: Execute entity task compute_downstream_bedshape on 1 glaciers\n",
      "2019-11-18 10:00:16: oggm.workflow: Execute entity task catchment_area on 1 glaciers\n",
      "2019-11-18 10:00:17: oggm.workflow: Execute entity task catchment_intersections on 1 glaciers\n",
      "/home/pelto/anaconda2/envs/oggm_env/lib/python3.6/site-packages/geopandas/io/file.py:108: FionaDeprecationWarning: Use fiona.Env() instead.\n",
      "  with fiona.drivers():\n",
      "2019-11-18 10:00:17: oggm.workflow: Execute entity task catchment_width_geom on 1 glaciers\n",
      "2019-11-18 10:00:17: oggm.workflow: Execute entity task catchment_width_correction on 1 glaciers\n",
      "2019-11-18 10:00:18: oggm.workflow: Execute entity task process_cru_data on 1 glaciers\n",
      "2019-11-18 10:00:18: oggm.workflow: Execute entity task local_t_star on 1 glaciers\n",
      "2019-11-18 10:00:18: oggm.workflow: Execute entity task mu_star_calibration on 1 glaciers\n",
      "2019-11-18 10:00:18: oggm.workflow: Execute entity task prepare_for_inversion on 1 glaciers\n",
      "2019-11-18 10:00:18: oggm.workflow: Execute entity task mass_conservation_inversion on 1 glaciers\n",
      "2019-11-18 10:00:19: oggm.workflow: Execute entity task filter_inversion_output on 1 glaciers\n",
      "2019-11-18 10:00:19: oggm.workflow: Execute entity task distribute_thickness_per_altitude on 1 glaciers\n",
      "2019-11-18 10:00:19: oggm.workflow: Execute entity task distribute_thickness_per_altitude on 1 glaciers\n"
     ]
    },
    {
     "name": "stdout",
     "output_type": "stream",
     "text": [
      "slope: 0.237357    intercept: 2623.494608   R-squared: 0.990999\n"
     ]
    },
    {
     "name": "stderr",
     "output_type": "stream",
     "text": [
      "2019-11-18 10:00:19: oggm.workflow: Execute entity task apparent_mb_from_linear_mb on 1 glaciers\n",
      "2019-11-18 10:00:19: oggm.workflow: Execute entity task glacier_statistics on 1 glaciers\n",
      "2019-11-18 10:00:20: oggm.cfg: Using configuration file: /home/pelto/anaconda2/envs/oggm_env/lib/python3.6/site-packages/oggm/params.cfg\n"
     ]
    },
    {
     "name": "stdout",
     "output_type": "stream",
     "text": [
      "{'ela_h': 2547.652908743149, 'grad': 7.11}\n",
      "slope default: 0.237357    intercept: 2623.494608   R-squared: 0.990999\n",
      "slope: 0.140647    intercept: 2547.652909   R-squared: 1.000000\n"
     ]
    },
    {
     "name": "stderr",
     "output_type": "stream",
     "text": [
      "2019-11-18 10:00:22: oggm.workflow: Execute entity task glacier_masks on 1 glaciers\n",
      "2019-11-18 10:00:22: oggm.workflow: Multiprocessing: using all available processors (N=8)\n",
      "2019-11-18 10:00:22: oggm.workflow: Execute entity task compute_centerlines on 1 glaciers\n",
      "2019-11-18 10:00:22: oggm.workflow: Execute entity task initialize_flowlines on 1 glaciers\n",
      "2019-11-18 10:00:22: oggm.workflow: Execute entity task compute_downstream_line on 1 glaciers\n",
      "2019-11-18 10:00:22: oggm.workflow: Execute entity task compute_downstream_bedshape on 1 glaciers\n",
      "2019-11-18 10:00:22: oggm.workflow: Execute entity task catchment_area on 1 glaciers\n",
      "2019-11-18 10:00:23: oggm.workflow: Execute entity task catchment_intersections on 1 glaciers\n",
      "/home/pelto/anaconda2/envs/oggm_env/lib/python3.6/site-packages/geopandas/io/file.py:108: FionaDeprecationWarning: Use fiona.Env() instead.\n",
      "  with fiona.drivers():\n",
      "2019-11-18 10:00:23: oggm.workflow: Execute entity task catchment_width_geom on 1 glaciers\n",
      "2019-11-18 10:00:24: oggm.workflow: Execute entity task catchment_width_correction on 1 glaciers\n",
      "2019-11-18 10:00:24: oggm.workflow: Execute entity task process_cru_data on 1 glaciers\n",
      "2019-11-18 10:00:24: oggm.workflow: Execute entity task local_t_star on 1 glaciers\n",
      "2019-11-18 10:00:24: oggm.workflow: Execute entity task mu_star_calibration on 1 glaciers\n",
      "2019-11-18 10:00:24: oggm.workflow: Execute entity task prepare_for_inversion on 1 glaciers\n",
      "2019-11-18 10:00:24: oggm.workflow: Execute entity task mass_conservation_inversion on 1 glaciers\n",
      "2019-11-18 10:00:25: oggm.workflow: Execute entity task filter_inversion_output on 1 glaciers\n",
      "2019-11-18 10:00:25: oggm.workflow: Execute entity task distribute_thickness_per_altitude on 1 glaciers\n",
      "2019-11-18 10:00:25: oggm.workflow: Execute entity task distribute_thickness_per_altitude on 1 glaciers\n"
     ]
    },
    {
     "name": "stdout",
     "output_type": "stream",
     "text": [
      "slope: 0.237357    intercept: 2623.494608   R-squared: 0.990999\n"
     ]
    },
    {
     "name": "stderr",
     "output_type": "stream",
     "text": [
      "2019-11-18 10:00:25: oggm.workflow: Execute entity task apparent_mb_from_linear_mb on 1 glaciers\n",
      "2019-11-18 10:00:25: oggm.workflow: Execute entity task glacier_statistics on 1 glaciers\n",
      "2019-11-18 10:00:26: oggm.cfg: Using configuration file: /home/pelto/anaconda2/envs/oggm_env/lib/python3.6/site-packages/oggm/params.cfg\n"
     ]
    },
    {
     "name": "stdout",
     "output_type": "stream",
     "text": [
      "{'ela_h': 2547.652908743149, 'grad': 7.11}\n",
      "slope default: 0.237357    intercept: 2623.494608   R-squared: 0.990999\n",
      "slope: 0.140647    intercept: 2547.652909   R-squared: 1.000000\n"
     ]
    },
    {
     "name": "stderr",
     "output_type": "stream",
     "text": [
      "2019-11-18 10:00:28: oggm.workflow: Execute entity task glacier_masks on 1 glaciers\n",
      "2019-11-18 10:00:28: oggm.workflow: Multiprocessing: using all available processors (N=8)\n",
      "2019-11-18 10:00:28: oggm.workflow: Execute entity task compute_centerlines on 1 glaciers\n",
      "2019-11-18 10:00:28: oggm.workflow: Execute entity task initialize_flowlines on 1 glaciers\n",
      "2019-11-18 10:00:28: oggm.workflow: Execute entity task compute_downstream_line on 1 glaciers\n",
      "2019-11-18 10:00:28: oggm.workflow: Execute entity task compute_downstream_bedshape on 1 glaciers\n",
      "2019-11-18 10:00:28: oggm.workflow: Execute entity task catchment_area on 1 glaciers\n",
      "2019-11-18 10:00:29: oggm.workflow: Execute entity task catchment_intersections on 1 glaciers\n",
      "/home/pelto/anaconda2/envs/oggm_env/lib/python3.6/site-packages/geopandas/io/file.py:108: FionaDeprecationWarning: Use fiona.Env() instead.\n",
      "  with fiona.drivers():\n",
      "2019-11-18 10:00:29: oggm.workflow: Execute entity task catchment_width_geom on 1 glaciers\n",
      "2019-11-18 10:00:30: oggm.workflow: Execute entity task catchment_width_correction on 1 glaciers\n",
      "2019-11-18 10:00:30: oggm.workflow: Execute entity task process_cru_data on 1 glaciers\n",
      "2019-11-18 10:00:30: oggm.workflow: Execute entity task local_t_star on 1 glaciers\n",
      "2019-11-18 10:00:30: oggm.workflow: Execute entity task mu_star_calibration on 1 glaciers\n",
      "2019-11-18 10:00:31: oggm.workflow: Execute entity task prepare_for_inversion on 1 glaciers\n",
      "2019-11-18 10:00:31: oggm.workflow: Execute entity task mass_conservation_inversion on 1 glaciers\n",
      "2019-11-18 10:00:31: oggm.workflow: Execute entity task filter_inversion_output on 1 glaciers\n",
      "2019-11-18 10:00:31: oggm.workflow: Execute entity task distribute_thickness_per_altitude on 1 glaciers\n",
      "2019-11-18 10:00:31: oggm.workflow: Execute entity task distribute_thickness_per_altitude on 1 glaciers\n"
     ]
    },
    {
     "name": "stdout",
     "output_type": "stream",
     "text": [
      "slope: 0.237357    intercept: 2623.494608   R-squared: 0.990999\n"
     ]
    },
    {
     "name": "stderr",
     "output_type": "stream",
     "text": [
      "2019-11-18 10:00:32: oggm.workflow: Execute entity task apparent_mb_from_linear_mb on 1 glaciers\n",
      "2019-11-18 10:00:32: oggm.workflow: Execute entity task glacier_statistics on 1 glaciers\n",
      "2019-11-18 10:00:32: oggm.cfg: Using configuration file: /home/pelto/anaconda2/envs/oggm_env/lib/python3.6/site-packages/oggm/params.cfg\n"
     ]
    },
    {
     "name": "stdout",
     "output_type": "stream",
     "text": [
      "{'ela_h': 2547.652908743149, 'grad': 7.11}\n",
      "slope default: 0.237357    intercept: 2623.494608   R-squared: 0.990999\n",
      "slope: 0.140647    intercept: 2547.652909   R-squared: 1.000000\n"
     ]
    },
    {
     "name": "stderr",
     "output_type": "stream",
     "text": [
      "2019-11-18 10:00:34: oggm.workflow: Execute entity task glacier_masks on 1 glaciers\n",
      "2019-11-18 10:00:34: oggm.workflow: Multiprocessing: using all available processors (N=8)\n",
      "2019-11-18 10:00:34: oggm.workflow: Execute entity task compute_centerlines on 1 glaciers\n",
      "2019-11-18 10:00:34: oggm.workflow: Execute entity task initialize_flowlines on 1 glaciers\n",
      "2019-11-18 10:00:34: oggm.workflow: Execute entity task compute_downstream_line on 1 glaciers\n",
      "2019-11-18 10:00:34: oggm.workflow: Execute entity task compute_downstream_bedshape on 1 glaciers\n",
      "2019-11-18 10:00:34: oggm.workflow: Execute entity task catchment_area on 1 glaciers\n",
      "2019-11-18 10:00:35: oggm.workflow: Execute entity task catchment_intersections on 1 glaciers\n",
      "/home/pelto/anaconda2/envs/oggm_env/lib/python3.6/site-packages/geopandas/io/file.py:108: FionaDeprecationWarning: Use fiona.Env() instead.\n",
      "  with fiona.drivers():\n",
      "2019-11-18 10:00:35: oggm.workflow: Execute entity task catchment_width_geom on 1 glaciers\n",
      "2019-11-18 10:00:36: oggm.workflow: Execute entity task catchment_width_correction on 1 glaciers\n",
      "2019-11-18 10:00:36: oggm.workflow: Execute entity task process_cru_data on 1 glaciers\n",
      "2019-11-18 10:00:37: oggm.workflow: Execute entity task local_t_star on 1 glaciers\n",
      "2019-11-18 10:00:37: oggm.workflow: Execute entity task mu_star_calibration on 1 glaciers\n",
      "2019-11-18 10:00:37: oggm.workflow: Execute entity task prepare_for_inversion on 1 glaciers\n",
      "2019-11-18 10:00:37: oggm.workflow: Execute entity task mass_conservation_inversion on 1 glaciers\n",
      "2019-11-18 10:00:37: oggm.workflow: Execute entity task filter_inversion_output on 1 glaciers\n",
      "2019-11-18 10:00:37: oggm.workflow: Execute entity task distribute_thickness_per_altitude on 1 glaciers\n",
      "2019-11-18 10:00:37: oggm.workflow: Execute entity task distribute_thickness_per_altitude on 1 glaciers\n"
     ]
    },
    {
     "name": "stdout",
     "output_type": "stream",
     "text": [
      "slope: 0.237357    intercept: 2623.494608   R-squared: 0.990999\n"
     ]
    },
    {
     "name": "stderr",
     "output_type": "stream",
     "text": [
      "2019-11-18 10:00:38: oggm.workflow: Execute entity task apparent_mb_from_linear_mb on 1 glaciers\n",
      "2019-11-18 10:00:38: oggm.workflow: Execute entity task glacier_statistics on 1 glaciers\n",
      "2019-11-18 10:00:38: oggm.cfg: Using configuration file: /home/pelto/anaconda2/envs/oggm_env/lib/python3.6/site-packages/oggm/params.cfg\n"
     ]
    },
    {
     "name": "stdout",
     "output_type": "stream",
     "text": [
      "{'ela_h': 2547.652908743149, 'grad': 7.11}\n",
      "slope default: 0.237357    intercept: 2623.494608   R-squared: 0.990999\n",
      "slope: 0.140647    intercept: 2547.652909   R-squared: 1.000000\n"
     ]
    },
    {
     "name": "stderr",
     "output_type": "stream",
     "text": [
      "2019-11-18 10:00:40: oggm.workflow: Execute entity task glacier_masks on 1 glaciers\n",
      "2019-11-18 10:00:40: oggm.workflow: Multiprocessing: using all available processors (N=8)\n",
      "2019-11-18 10:00:40: oggm.workflow: Execute entity task compute_centerlines on 1 glaciers\n",
      "2019-11-18 10:00:40: oggm.workflow: Execute entity task initialize_flowlines on 1 glaciers\n",
      "2019-11-18 10:00:40: oggm.workflow: Execute entity task compute_downstream_line on 1 glaciers\n",
      "2019-11-18 10:00:40: oggm.workflow: Execute entity task compute_downstream_bedshape on 1 glaciers\n",
      "2019-11-18 10:00:40: oggm.workflow: Execute entity task catchment_area on 1 glaciers\n",
      "2019-11-18 10:00:41: oggm.workflow: Execute entity task catchment_intersections on 1 glaciers\n",
      "/home/pelto/anaconda2/envs/oggm_env/lib/python3.6/site-packages/geopandas/io/file.py:108: FionaDeprecationWarning: Use fiona.Env() instead.\n",
      "  with fiona.drivers():\n",
      "2019-11-18 10:00:41: oggm.workflow: Execute entity task catchment_width_geom on 1 glaciers\n",
      "2019-11-18 10:00:42: oggm.workflow: Execute entity task catchment_width_correction on 1 glaciers\n",
      "2019-11-18 10:00:42: oggm.workflow: Execute entity task process_cru_data on 1 glaciers\n",
      "2019-11-18 10:00:43: oggm.workflow: Execute entity task local_t_star on 1 glaciers\n",
      "2019-11-18 10:00:43: oggm.workflow: Execute entity task mu_star_calibration on 1 glaciers\n",
      "2019-11-18 10:00:43: oggm.workflow: Execute entity task prepare_for_inversion on 1 glaciers\n",
      "2019-11-18 10:00:43: oggm.workflow: Execute entity task mass_conservation_inversion on 1 glaciers\n",
      "2019-11-18 10:00:43: oggm.workflow: Execute entity task filter_inversion_output on 1 glaciers\n",
      "2019-11-18 10:00:43: oggm.workflow: Execute entity task distribute_thickness_per_altitude on 1 glaciers\n",
      "2019-11-18 10:00:43: oggm.workflow: Execute entity task distribute_thickness_per_altitude on 1 glaciers\n"
     ]
    },
    {
     "name": "stdout",
     "output_type": "stream",
     "text": [
      "slope: 0.237357    intercept: 2623.494608   R-squared: 0.990999\n"
     ]
    },
    {
     "name": "stderr",
     "output_type": "stream",
     "text": [
      "2019-11-18 10:00:44: oggm.workflow: Execute entity task apparent_mb_from_linear_mb on 1 glaciers\n",
      "2019-11-18 10:00:44: oggm.workflow: Execute entity task glacier_statistics on 1 glaciers\n",
      "2019-11-18 10:00:44: oggm.cfg: Using configuration file: /home/pelto/anaconda2/envs/oggm_env/lib/python3.6/site-packages/oggm/params.cfg\n"
     ]
    },
    {
     "name": "stdout",
     "output_type": "stream",
     "text": [
      "{'ela_h': 2547.652908743149, 'grad': 7.11}\n",
      "slope default: 0.237357    intercept: 2623.494608   R-squared: 0.990999\n",
      "slope: 0.140647    intercept: 2547.652909   R-squared: 1.000000\n"
     ]
    },
    {
     "name": "stderr",
     "output_type": "stream",
     "text": [
      "2019-11-18 10:00:46: oggm.workflow: Execute entity task glacier_masks on 1 glaciers\n",
      "2019-11-18 10:00:46: oggm.workflow: Multiprocessing: using all available processors (N=8)\n",
      "2019-11-18 10:00:46: oggm.workflow: Execute entity task compute_centerlines on 1 glaciers\n",
      "2019-11-18 10:00:46: oggm.workflow: Execute entity task initialize_flowlines on 1 glaciers\n",
      "2019-11-18 10:00:46: oggm.workflow: Execute entity task compute_downstream_line on 1 glaciers\n",
      "2019-11-18 10:00:46: oggm.workflow: Execute entity task compute_downstream_bedshape on 1 glaciers\n",
      "2019-11-18 10:00:47: oggm.workflow: Execute entity task catchment_area on 1 glaciers\n",
      "2019-11-18 10:00:48: oggm.workflow: Execute entity task catchment_intersections on 1 glaciers\n",
      "/home/pelto/anaconda2/envs/oggm_env/lib/python3.6/site-packages/geopandas/io/file.py:108: FionaDeprecationWarning: Use fiona.Env() instead.\n",
      "  with fiona.drivers():\n",
      "2019-11-18 10:00:48: oggm.workflow: Execute entity task catchment_width_geom on 1 glaciers\n",
      "2019-11-18 10:00:48: oggm.workflow: Execute entity task catchment_width_correction on 1 glaciers\n",
      "2019-11-18 10:00:48: oggm.workflow: Execute entity task process_cru_data on 1 glaciers\n",
      "2019-11-18 10:00:49: oggm.workflow: Execute entity task local_t_star on 1 glaciers\n",
      "2019-11-18 10:00:49: oggm.workflow: Execute entity task mu_star_calibration on 1 glaciers\n",
      "2019-11-18 10:00:49: oggm.workflow: Execute entity task prepare_for_inversion on 1 glaciers\n",
      "2019-11-18 10:00:49: oggm.workflow: Execute entity task mass_conservation_inversion on 1 glaciers\n",
      "2019-11-18 10:00:49: oggm.workflow: Execute entity task filter_inversion_output on 1 glaciers\n",
      "2019-11-18 10:00:49: oggm.workflow: Execute entity task distribute_thickness_per_altitude on 1 glaciers\n",
      "2019-11-18 10:00:50: oggm.workflow: Execute entity task distribute_thickness_per_altitude on 1 glaciers\n"
     ]
    },
    {
     "name": "stdout",
     "output_type": "stream",
     "text": [
      "slope: 0.237357    intercept: 2623.494608   R-squared: 0.990999\n"
     ]
    },
    {
     "name": "stderr",
     "output_type": "stream",
     "text": [
      "2019-11-18 10:00:50: oggm.workflow: Execute entity task apparent_mb_from_linear_mb on 1 glaciers\n",
      "2019-11-18 10:00:50: oggm.workflow: Execute entity task glacier_statistics on 1 glaciers\n",
      "2019-11-18 10:00:50: oggm.cfg: Using configuration file: /home/pelto/anaconda2/envs/oggm_env/lib/python3.6/site-packages/oggm/params.cfg\n"
     ]
    },
    {
     "name": "stdout",
     "output_type": "stream",
     "text": [
      "{'ela_h': 2547.652908743149, 'grad': 7.11}\n",
      "slope default: 0.237357    intercept: 2623.494608   R-squared: 0.990999\n",
      "slope: 0.140647    intercept: 2547.652909   R-squared: 1.000000\n"
     ]
    },
    {
     "name": "stderr",
     "output_type": "stream",
     "text": [
      "2019-11-18 10:00:52: oggm.workflow: Execute entity task glacier_masks on 1 glaciers\n",
      "2019-11-18 10:00:52: oggm.workflow: Multiprocessing: using all available processors (N=8)\n",
      "2019-11-18 10:00:53: oggm.workflow: Execute entity task compute_centerlines on 1 glaciers\n",
      "2019-11-18 10:00:53: oggm.workflow: Execute entity task initialize_flowlines on 1 glaciers\n",
      "2019-11-18 10:00:53: oggm.workflow: Execute entity task compute_downstream_line on 1 glaciers\n",
      "2019-11-18 10:00:53: oggm.workflow: Execute entity task compute_downstream_bedshape on 1 glaciers\n",
      "2019-11-18 10:00:53: oggm.workflow: Execute entity task catchment_area on 1 glaciers\n",
      "2019-11-18 10:00:54: oggm.workflow: Execute entity task catchment_intersections on 1 glaciers\n",
      "/home/pelto/anaconda2/envs/oggm_env/lib/python3.6/site-packages/geopandas/io/file.py:108: FionaDeprecationWarning: Use fiona.Env() instead.\n",
      "  with fiona.drivers():\n",
      "2019-11-18 10:00:54: oggm.workflow: Execute entity task catchment_width_geom on 1 glaciers\n",
      "2019-11-18 10:00:54: oggm.workflow: Execute entity task catchment_width_correction on 1 glaciers\n",
      "2019-11-18 10:00:54: oggm.workflow: Execute entity task process_cru_data on 1 glaciers\n",
      "2019-11-18 10:00:55: oggm.workflow: Execute entity task local_t_star on 1 glaciers\n",
      "2019-11-18 10:00:55: oggm.workflow: Execute entity task mu_star_calibration on 1 glaciers\n",
      "2019-11-18 10:00:55: oggm.workflow: Execute entity task prepare_for_inversion on 1 glaciers\n",
      "2019-11-18 10:00:55: oggm.workflow: Execute entity task mass_conservation_inversion on 1 glaciers\n",
      "2019-11-18 10:00:55: oggm.workflow: Execute entity task filter_inversion_output on 1 glaciers\n",
      "2019-11-18 10:00:55: oggm.workflow: Execute entity task distribute_thickness_per_altitude on 1 glaciers\n",
      "2019-11-18 10:00:56: oggm.workflow: Execute entity task distribute_thickness_per_altitude on 1 glaciers\n"
     ]
    },
    {
     "name": "stdout",
     "output_type": "stream",
     "text": [
      "slope: 0.237357    intercept: 2623.494608   R-squared: 0.990999\n"
     ]
    },
    {
     "name": "stderr",
     "output_type": "stream",
     "text": [
      "2019-11-18 10:00:56: oggm.workflow: Execute entity task apparent_mb_from_linear_mb on 1 glaciers\n",
      "2019-11-18 10:00:56: oggm.workflow: Execute entity task glacier_statistics on 1 glaciers\n"
     ]
    },
    {
     "name": "stdout",
     "output_type": "stream",
     "text": [
      "{'ela_h': 2547.652908743149, 'grad': 7.11}\n",
      "slope default: 0.237357    intercept: 2623.494608   R-squared: 0.990999\n",
      "slope: 0.140647    intercept: 2547.652909   R-squared: 1.000000\n"
     ]
    },
    {
     "data": {
      "image/png": "[encoded data removed]",
      "text/plain": [
       "<Figure size 432x288 with 2 Axes>"
      ]
     },
     "metadata": {
      "needs_background": "light"
     },
     "output_type": "display_data"
    }
   ],
   "source": [
    "# run the model with DEM correction\n",
    "new_mb_gradient_corr_dem = new_mb_grad_corr_dem(num, dem, glacier, 'ice_density', 900, False, True)\n",
    "# will fail with HDF error if ds_new.close() isn't run\n",
    "\n",
    "new_mb_gradient_corr_dem_thick = new_mb_gradient_corr_dem[0].distributed_thickness\n",
    "# plot it as a map\n",
    "new_mb_gradient_corr_dem_thick.plot()\n",
    "plt.title(glacier[num]+' DEM corrected Thickness map')\n",
    "\n",
    "# and save it\n",
    "plt.savefig(products+'dem_corr_standard_map_'+ glacier[num]+'.png', dpi=100)\n",
    "\n",
    "# replace 'nan' by  0\n",
    "new_mb_gradient_corr_dem_thick=new_mb_gradient_corr_dem_thick.fillna(0)\n",
    "\n",
    "# make a copy for comparison reasons later on\n",
    "new_mb_gradient_corr_dem_copy = new_mb_gradient_corr_dem_thick"
   ]
  },
  {
   "cell_type": "code",
   "execution_count": null,
   "metadata": {},
   "outputs": [],
   "source": [
    "print(thick_list)\n",
    "print(np.arange(dx[num], 251., 10))\n",
    "smooth = np.arange(dx[num], 251., 10)"
   ]
  },
  {
   "cell_type": "code",
   "execution_count": null,
   "metadata": {},
   "outputs": [],
   "source": [
    "# # the actual differencing and plotting\n",
    "# (new_mb_gradient_corr_dem_thick-new_mb_gradient_thick).plot()\n",
    "\n",
    "# # label it, save it\n",
    "# plt.title(glacier[num]+' Difference DEM corrected thickness less standard DEM')\n",
    "# plt.savefig(products+'difference_dem_correction_'+ glacier[num]+'.png', dpi=100)"
   ]
  },
  {
   "cell_type": "markdown",
   "metadata": {},
   "source": [
    "## Parameter optimization\n",
    "\n",
    "We want to run the Model with different values for a certain parameter. Therefore we define a few functions that will iterate over a sequenze of paramter values and allow us to compare the outcome to the observation data by displaying their respective squared residuals"
   ]
  },
  {
   "cell_type": "code",
   "execution_count": 8,
   "metadata": {},
   "outputs": [],
   "source": [
    "def run_with_parameter(num,dem, glacier, name, parameter):\n",
    "    \"\"\"\n",
    "    :param num: number of selected glacier\n",
    "    :param dem: list with dem file names\n",
    "    :param glacier: the list with the glacier names\n",
    "    :param name: name of the parameter to be modified\n",
    "    :param parameter: value of the parameter to be modified\n",
    "    :type num: int\n",
    "    :type dem: str list\n",
    "    :type glacier: str list\n",
    "    :type name: str \n",
    "    :type parameter: float\n",
    "    :returns: distributed thickness\n",
    "    :rtype: 2D float array\n",
    "    \"\"\"\n",
    "    \n",
    "    # just to be 100% sure, we are setting the most common parameters to their presettings in order to only vary the desired parameter\n",
    "    \n",
    "    cfg.PARAMS['ice_density'] = 900\n",
    "    cfg.PARAMS['trapezoid_lambdas'] = 0.2\n",
    "    cfg.PARAMS['mixed_min_shape'] = 0.001\n",
    "    cfg.PARAMS['downstream_min_shape'] = 0.0001\n",
    "    cfg.PARAMS['mu_star_halfperiod'] = 15\n",
    "    cfg.PARAMS['tstar_search_glacierwide'] = False\n",
    "    cfg.PARAMS['border'] = 10\n",
    "    cfg.PARAMS['glen_a'] = 2.4e-24\n",
    "    cfg.PARAMS['inversion_glen_a'] = 2.4e-24\n",
    "    cfg.PARAMS['default_parabolic_bedshape'] = 0.003\n",
    "    cfg.PARAMS['use_shape_factor_for_fluxbasedmodel'] = ''\n",
    "    \n",
    "    #change the parameter (not sure, whether it has any effect here...)\n",
    "    cfg.PARAMS[name] = parameter\n",
    "\n",
    "    # run the model (in this case with DEM correction)\n",
    "    outcome=new_mb_grad_corr_dem(num, dem, glacier, name, parameter, False, use_dem_correction)[0].distributed_thickness.fillna(0)\n",
    "    #return the thickness distribution\n",
    "    return outcome"
   ]
  },
  {
   "cell_type": "markdown",
   "metadata": {},
   "source": [
    "## Definitions"
   ]
  },
  {
   "cell_type": "code",
   "execution_count": 9,
   "metadata": {},
   "outputs": [],
   "source": [
    "\n",
    "# deletes the rows and lines that do only carry zeros for the sake of getting the right resolution \n",
    "# in order to rasterize the observation data to the same resolution and getting perfectly fitting arrays\n",
    "def delete_nodata(data):\n",
    "    \"\"\"\n",
    "    :param data: distributed thickness with 'nan' or '0' in it\n",
    "    :type data: 2D floar array\n",
    "    :returns: distributed thickness\n",
    "    :rtype: 2D float array\n",
    "    \"\"\"\n",
    "    \n",
    "    # get a numpy array out of it\n",
    "    data=data.values\n",
    "\n",
    "    #get the spots were actual values are\n",
    "    coordinates=np.nonzero(data)\n",
    "    \n",
    "    # create a fresh array of the minimal shape to contain all non-zero values\n",
    "    result=np.zeros(((1+np.max(coordinates[0])-np.min(coordinates[0])) ,(1+np.max(coordinates[1])-np.min(coordinates[1]))))\n",
    "\n",
    "    # fill it with the values\n",
    "    for i in range(0, len(coordinates[0])):\n",
    "        result[coordinates[0][i]-np.min(coordinates[0])][coordinates[1][i]-np.min(coordinates[1])]=data[coordinates[0][i]][coordinates[1][i]]\n",
    "    \n",
    "    # flip it and rotate it by pi\n",
    "    return np.flip(np.rot90(result,2))"
   ]
  },
  {
   "cell_type": "code",
   "execution_count": 10,
   "metadata": {},
   "outputs": [],
   "source": [
    "# a simple function to open the observation data and return it as an array\n",
    "def read_obs_data(path):\n",
    "    \"\"\"\n",
    "    :param path: distributed thickness with 'nan' or '0' in it\n",
    "    :type path: str\n",
    "    :returns: measurement points as an array\n",
    "    :rtype: 2D float array\n",
    "    \"\"\"\n",
    "    src_obs = gdal.Open(path)\n",
    "    return src_obs.ReadAsArray()"
   ]
  },
  {
   "cell_type": "markdown",
   "metadata": {},
   "source": [
    "## Data Import"
   ]
  },
  {
   "cell_type": "code",
   "execution_count": 11,
   "metadata": {},
   "outputs": [
    {
     "name": "stdout",
     "output_type": "stream",
     "text": [
      "Fantanstic, both arrays have the same shape of:  (106, 87)\n"
     ]
    }
   ],
   "source": [
    "# We open the observation data for the respective glacier and print out the shape and compare it with the shape of the OGGM:\n",
    "\n",
    "obs_data = read_obs_data('/home/pelto/oggm_runs/OGGM/MONSTER_project/MONSTER/obs_data_' + glacier[num] + '.tif')\n",
    "\n",
    "if obs_data.shape == delete_nodata(new_mb_gradient_corr_dem_thick).shape:\n",
    "    print('Fantanstic, both arrays have the same shape of: ' ,obs_data.shape )\n",
    "else:\n",
    "    print('Oh, Oh! Something went wrong because the observation data has the shape ' ,obs_data.shape , ' and the OGGM out put has a shape of: ' ,delete_nodata(new_mb_gradient_corr_dem).shape )\n",
    "\n"
   ]
  },
  {
   "cell_type": "markdown",
   "metadata": {},
   "source": [
    "# Layover-Control\n",
    "\n",
    "This is a checking tool for adjusting the orientation of the observation data with respect to the model shapefile (in order to make it fit, we had to flip and rotate it in the 'delete_nodata' function). The resolution is not great but is should give an optical feedback on the fit. "
   ]
  },
  {
   "cell_type": "code",
   "execution_count": 12,
   "metadata": {},
   "outputs": [
    {
     "ename": "ValueError",
     "evalue": "Cannot embed the 'tif' image format",
     "output_type": "error",
     "traceback": [
      "\u001b[0;31m---------------------------------------------------------------------------\u001b[0m",
      "\u001b[0;31mValueError\u001b[0m                                Traceback (most recent call last)",
      "\u001b[0;32m<ipython-input-12-7638636a7950>\u001b[0m in \u001b[0;36m<module>\u001b[0;34m\u001b[0m\n\u001b[1;32m     24\u001b[0m \u001b[0;34m\u001b[0m\u001b[0m\n\u001b[1;32m     25\u001b[0m \u001b[0;32mfrom\u001b[0m \u001b[0mIPython\u001b[0m\u001b[0;34m.\u001b[0m\u001b[0mdisplay\u001b[0m \u001b[0;32mimport\u001b[0m \u001b[0mImage\u001b[0m\u001b[0;34m\u001b[0m\u001b[0;34m\u001b[0m\u001b[0m\n\u001b[0;32m---> 26\u001b[0;31m \u001b[0mImage\u001b[0m\u001b[0;34m(\u001b[0m\u001b[0mfilename\u001b[0m\u001b[0;34m=\u001b[0m\u001b[0mproducts\u001b[0m\u001b[0;34m+\u001b[0m\u001b[0;34m'overlay_test_'\u001b[0m\u001b[0;34m+\u001b[0m \u001b[0mglacier\u001b[0m\u001b[0;34m[\u001b[0m\u001b[0mnum\u001b[0m\u001b[0;34m]\u001b[0m\u001b[0;34m+\u001b[0m \u001b[0;34m'.tif'\u001b[0m\u001b[0;34m,\u001b[0m \u001b[0mwidth\u001b[0m\u001b[0;34m=\u001b[0m\u001b[0;36m400\u001b[0m\u001b[0;34m)\u001b[0m\u001b[0;34m\u001b[0m\u001b[0;34m\u001b[0m\u001b[0m\n\u001b[0m",
      "\u001b[0;32m~/anaconda2/envs/oggm_env/lib/python3.6/site-packages/IPython/core/display.py\u001b[0m in \u001b[0;36m__init__\u001b[0;34m(self, data, url, filename, format, embed, width, height, retina, unconfined, metadata)\u001b[0m\n\u001b[1;32m   1175\u001b[0m \u001b[0;34m\u001b[0m\u001b[0m\n\u001b[1;32m   1176\u001b[0m         \u001b[0;32mif\u001b[0m \u001b[0mself\u001b[0m\u001b[0;34m.\u001b[0m\u001b[0membed\u001b[0m \u001b[0;32mand\u001b[0m \u001b[0mself\u001b[0m\u001b[0;34m.\u001b[0m\u001b[0mformat\u001b[0m \u001b[0;32mnot\u001b[0m \u001b[0;32min\u001b[0m \u001b[0mself\u001b[0m\u001b[0;34m.\u001b[0m\u001b[0m_ACCEPTABLE_EMBEDDINGS\u001b[0m\u001b[0;34m:\u001b[0m\u001b[0;34m\u001b[0m\u001b[0;34m\u001b[0m\u001b[0m\n\u001b[0;32m-> 1177\u001b[0;31m             \u001b[0;32mraise\u001b[0m \u001b[0mValueError\u001b[0m\u001b[0;34m(\u001b[0m\u001b[0;34m\"Cannot embed the '%s' image format\"\u001b[0m \u001b[0;34m%\u001b[0m \u001b[0;34m(\u001b[0m\u001b[0mself\u001b[0m\u001b[0;34m.\u001b[0m\u001b[0mformat\u001b[0m\u001b[0;34m)\u001b[0m\u001b[0;34m)\u001b[0m\u001b[0;34m\u001b[0m\u001b[0;34m\u001b[0m\u001b[0m\n\u001b[0m\u001b[1;32m   1178\u001b[0m         \u001b[0;32mif\u001b[0m \u001b[0mself\u001b[0m\u001b[0;34m.\u001b[0m\u001b[0membed\u001b[0m\u001b[0;34m:\u001b[0m\u001b[0;34m\u001b[0m\u001b[0;34m\u001b[0m\u001b[0m\n\u001b[1;32m   1179\u001b[0m             \u001b[0mself\u001b[0m\u001b[0;34m.\u001b[0m\u001b[0m_mimetype\u001b[0m \u001b[0;34m=\u001b[0m \u001b[0mself\u001b[0m\u001b[0;34m.\u001b[0m\u001b[0m_MIMETYPES\u001b[0m\u001b[0;34m.\u001b[0m\u001b[0mget\u001b[0m\u001b[0;34m(\u001b[0m\u001b[0mself\u001b[0m\u001b[0;34m.\u001b[0m\u001b[0mformat\u001b[0m\u001b[0;34m)\u001b[0m\u001b[0;34m\u001b[0m\u001b[0;34m\u001b[0m\u001b[0m\n",
      "\u001b[0;31mValueError\u001b[0m: Cannot embed the 'tif' image format"
     ]
    }
   ],
   "source": [
    "# run the delete_nodata function on one of the recent outputs and save it in a temporay variable\n",
    "temp=delete_nodata(new_mb_gradient_corr_dem_thick)\n",
    "\n",
    "# get its shape\n",
    "h,w = temp.shape\n",
    "\n",
    "# create a new array with zeros and of same size\n",
    "data = np.zeros((h, w, 3), dtype=np.uint8)\n",
    "\n",
    "# and get the data point coordinates\n",
    "nonzero=np.nonzero(temp)\n",
    "\n",
    "# run through the OGGM output and write into the array as RED color code\n",
    "for i in range(0,len(nonzero[0])):\n",
    "    data[nonzero[0][i]][nonzero[1][i]]= [temp[nonzero[0][i]][nonzero[1][i]], 0, 0]\n",
    "    \n",
    "# run through the observation data and write into the array as GREEN color code\n",
    "for i in range(0,len(np.nonzero(obs_data)[0])):\n",
    "    data[np.nonzero(obs_data)[0][i]][np.nonzero(obs_data)[1][i]]= [0, obs_data[np.nonzero(obs_data)[0][i]][np.nonzero(obs_data)[1][i]], 0]\n",
    "    \n",
    "# save and show\n",
    "img = imagery.fromarray(data, 'RGB')\n",
    "img.save(products+ 'overlay_test_'+ glacier[num]+ '.tif')\n",
    "\n",
    "from IPython.display import Image\n",
    "Image(filename=products+'overlay_test_'+ glacier[num]+ '.tif', width=400) "
   ]
  },
  {
   "cell_type": "markdown",
   "metadata": {},
   "source": [
    "## Quadratic Error\n",
    "\n",
    "\n",
    "We want a function that gives us the accumulated quadratic residuals of the observation data compared to the OGGM output. Because we may have very few points that are assigned a measurement but do not locate on the OGGM glacier, we have to do a little extra: We count those pixels, print their share on the entire quadratic errors and subtract their errors from the result in order not to confuse the optimization process later on. However, their share usually is below 1-2% - their impact therefore limited. This is only done for checking and consistency reasons"
   ]
  },
  {
   "cell_type": "code",
   "execution_count": null,
   "metadata": {},
   "outputs": [],
   "source": [
    "def quadratic_errors(obs_data, mesharray):\n",
    "    \"\"\"\n",
    "    :param obs_data: array with measured values on respective spots\n",
    "    :param mesharray: distributed thickness of the model output (should have same shape as obs_data)\n",
    "    :type obs_data: 2D float array\n",
    "    :type mesharray: 2D float array\n",
    "    :returns: quadrativc error (problems corrected)\n",
    "    :rtype: float\n",
    "    \"\"\"\n",
    "    \n",
    "    # counts number of \"problematic\" pixels\n",
    "    count=0\n",
    "    \n",
    "    # coordinates of the data points\n",
    "    coordinates=np.nonzero(obs_data)\n",
    "    \n",
    "    # accumulated 'problematic pixel' quadratic error\n",
    "    problems=0\n",
    "    \n",
    "    # total accumulated quadratic error\n",
    "    err=0\n",
    "\n",
    "    # we go through all the measured points and accumulate the squared differences to the OGGM at that point\n",
    "    for i in range(0,len(coordinates[0])):\n",
    "        \n",
    "        # if however, the OGGM shows a thickness of zero there, this seems to be a \"problematic\" pixel \n",
    "        if mesharray[coordinates[0][i]][coordinates[1][i]]==0:\n",
    "            \n",
    "            # add to problems share\n",
    "            problems=problems+obs_data[coordinates[0][i]][coordinates[1][i]]**2\n",
    "            \n",
    "            # increment problem number\n",
    "            count=count+1\n",
    "        \n",
    "        # add squared difference\n",
    "        err=err+(obs_data[coordinates[0][i]][coordinates[1][i]]-mesharray[coordinates[0][i]][coordinates[1][i]])**2\n",
    "   \n",
    "    # outprint of details on \"problematic\" pixels\n",
    "    print('found ', count , ' problem(s) within a total number of data point of: ', len(coordinates[0]), ' problem share ', problems/err,)\n",
    "    \n",
    "    print('corrected quadratic error is: ', err-problems)\n",
    "    return (err-problems)"
   ]
  },
  {
   "cell_type": "code",
   "execution_count": null,
   "metadata": {},
   "outputs": [],
   "source": [
    "# a function that runs the (DEM-corrected) OGGM and uses the quadratic_errors function to return the quadratic errors\n",
    "def master_analysis(name, parameter, obs_data, glacier, num):\n",
    "    \"\"\"\n",
    "    :param name: name of the parameter to be modified\n",
    "    :param parameter: value of the parameter to be modified\n",
    "    :param obs_data: measured data points\n",
    "    :param glacier: the list with the glacier names\n",
    "    :param num: number of selected glacier\n",
    "    :type name: str\n",
    "    :type parameter: float\n",
    "    :type obs_data: 2D float array\n",
    "    :type glacier: str list\n",
    "    :type num: int\n",
    "    :returns: quadratic errors\n",
    "    :rtype: float\n",
    "    \"\"\"\n",
    "    quadmesh= run_with_parameter(num, dem, glacier, name, parameter)\n",
    "    mesharray = delete_nodata(quadmesh)\n",
    "    \n",
    "    return quadratic_errors(obs_data, mesharray)\n",
    "\n",
    "# this function takes in the name of the parameter that is to be modified and a float list of the values for whose the OGGM is \n",
    "# to be run and the quadratic errors to be calculated. It returns an array with those values and their respective quadratic errors\n",
    "def optimize(name, values, obs_data, glacier, num):\n",
    "    \"\"\"\n",
    "    :param name: name of the parameter to be modified\n",
    "    :param values: values of the parameter to be modified\n",
    "    :param obs_data: measured data points\n",
    "    :param glacier: the list with the glacier names\n",
    "    :param num: number of selected glacier\n",
    "    :type name: str\n",
    "    :type values: float list\n",
    "    :type obs_data: 2D float array\n",
    "    :type glacier: str list\n",
    "    :type num: int\n",
    "    :returns: [values, quad_errors]\n",
    "    :rtype: float array\n",
    "    \"\"\"\n",
    "    \n",
    "    # here we store the original parameter value\n",
    "    temp= cfg.PARAMS[name]\n",
    "    \n",
    "    #an array to store the quadratic errors in\n",
    "    quad_errors=[]\n",
    "    for i in range(0,len(values)):\n",
    "        quad_errors.append(master_analysis(name, values[i], obs_data, glacier, num))\n",
    "        \n",
    "    # and here we reset it to the default value\n",
    "    cfg.PARAMS[name] = temp\n",
    "    \n",
    "    return [values, quad_errors]"
   ]
  },
  {
   "cell_type": "markdown",
   "metadata": {},
   "source": [
    "## Enter the parameter, interval and number of points that you want to get the quadratic error from \n",
    "\n",
    "The parameter intervall will be a linearly spaced sequence from min_value to max_value with number_of_steps steps.\n",
    "\n",
    "Also, choose, whether you prefer to run the iteration with the DEM correction. In the most cases it is strongly recommended to do so."
   ]
  },
  {
   "cell_type": "code",
   "execution_count": null,
   "metadata": {},
   "outputs": [],
   "source": [
    "parameter_name='inversion_glen_a'\n",
    "max_value=0.1e-24\n",
    "min_value=54e-24\n",
    "number_of_steps=10\n",
    "\n",
    "use_dem_correction=True"
   ]
  },
  {
   "cell_type": "markdown",
   "metadata": {},
   "source": [
    "## The actual iteration takes place here\n",
    "\n",
    "%%capture supresses the output, which is quite annoying if the OGGM runs several dozen times. But if you want to watch it work, go for it and delete that line.\n",
    "\n",
    "Apart from that, we basically run the optimize function"
   ]
  },
  {
   "cell_type": "code",
   "execution_count": null,
   "metadata": {},
   "outputs": [],
   "source": [
    "%%capture\n",
    "to_plot=optimize(parameter_name,np.linspace(min_value, max_value, number_of_steps), obs_data ,glacier, num)"
   ]
  },
  {
   "cell_type": "markdown",
   "metadata": {},
   "source": [
    "Now, we plot the quadratic errors as a function of the parameter values. We also print out the minimum."
   ]
  },
  {
   "cell_type": "code",
   "execution_count": null,
   "metadata": {},
   "outputs": [],
   "source": [
    "from matplotlib import rcParams\n",
    "rcParams['axes.titlepad'] = 30\n",
    "plt.plot(to_plot[0],to_plot[1],linestyle='--', marker='o', color='b')\n",
    "plt.xlabel('value of '+parameter_name)\n",
    "plt.ylabel('pointwise accumulated quadratic discrepancies [m²]')\n",
    "plt.title('Quadratic errors of depth in dependence of ' +parameter_name)\n",
    " \n",
    "# save it\n",
    "plt.savefig(products+'quadratic_errors_'+parameter_name+'_from_'+str(min_value)+'_to_'+str(max_value)+'_'+ glacier[num]+'.png', dpi=100)\n",
    "\n",
    "plt.show()\n",
    "\n",
    "#small minimum function\n",
    "x=0\n",
    "for i in range(0,len(to_plot[1])):\n",
    "    if to_plot[1][i]==np.min(to_plot[1]):\n",
    "        x=i\n",
    "\n",
    "# print out\n",
    "print('Minimal value is '+str(np.min(to_plot[1]))+ ' at ' + parameter_name+' = ' +str(np.round(to_plot[0][x],decimals=28)))"
   ]
  },
  {
   "cell_type": "markdown",
   "metadata": {},
   "source": [
    "## Deep analysis of best parameter value\n",
    "\n",
    "Enter the value of the given Paramter, that yields a minimum in quadratic errors"
   ]
  },
  {
   "cell_type": "code",
   "execution_count": null,
   "metadata": {},
   "outputs": [],
   "source": [
    "# take the minimum from above\n",
    "best_value=to_plot[1][x]\n",
    "\n",
    "# select it manually\n",
    "best_value = 6.740e-24, 0.774e-24, 8.095e-24, 0.142e-24, 4.050e-24, 0.130e-24, 3.810e-24  \n",
    "best_value = best_value[num]"
   ]
  },
  {
   "cell_type": "markdown",
   "metadata": {},
   "source": [
    "Now, we run the model with the best parameter value to create seperate saves and a deep analysis"
   ]
  },
  {
   "cell_type": "code",
   "execution_count": null,
   "metadata": {},
   "outputs": [],
   "source": [
    "best_model = new_mb_grad_corr_dem(num, dem, glacier, parameter_name, best_value, True, False) \n",
    "#will fail with HDF error if ds_new.close() isn't run\n",
    "\n",
    "best_dist_thick = best_model[0].distributed_thickness\n",
    "best_dist_thick.plot()\n",
    "plt.title(glacier[num]+' best approximation thickness map ' + parameter_name + ' = ' +str(best_value))\n",
    "plt.savefig(products+'dem_corr_best_map_'+ glacier[num]+'.png', dpi=100)\n",
    "#best_model=new_mb_gradient_corr_dem.fillna(0)"
   ]
  },
  {
   "cell_type": "code",
   "execution_count": null,
   "metadata": {},
   "outputs": [],
   "source": [
    "# plot and save\n",
    "(best_dist_thick-new_mb_gradient_corr_dem_copy).plot(cmap='RdBu', vmin=-100, vmax=100)\n",
    "plt.title(glacier[num]+' Difference '+ parameter_name+ ' corrected less uncorrected thickness map (both DEM corrected)')\n",
    "plt.savefig(products+'difference_'+ parameter_name + '_corrected_vs_uncorrected_'+ glacier[num]+'.png', dpi=100)"
   ]
  },
  {
   "cell_type": "markdown",
   "metadata": {},
   "source": [
    "## Save binned thickness"
   ]
  },
  {
   "cell_type": "code",
   "execution_count": null,
   "metadata": {},
   "outputs": [],
   "source": [
    "def binned_thickness(file_location):\n",
    "    dem = best_model[0]['topo']\n",
    "    thick = best_model[0]['distributed_thickness']\n",
    "\n",
    "    # convert 2-d elevation and SWE arrays to 1-D vectors using ravel function\n",
    "    Zvec = np.ravel(dem)\n",
    "    Depthvec = np.ravel(thick)\n",
    "    # Velvec = np.ravel(vel)\n",
    "\n",
    "    bins = range(1400,3700,100)#(1400,3700,10) \n",
    "\n",
    "    df = pd.DataFrame({\"Z\":Zvec,\"Depth\":Depthvec})\n",
    "\n",
    "    # classify the elevation data into 100 metre bins and add to the data frame \n",
    "    df['Zbins'] = pd.cut(df['Z'], bins, labels= np.arange(1450, 3650, 100))#(1405, 3695, 10))  #\n",
    "\n",
    "    ## get some statistics from the data\n",
    "    ## this will be series which can be a pain to work with \n",
    "    ## so convert to dataframes\n",
    "    mean = df.groupby(by='Zbins')['Depth'].mean()\n",
    "    iqr    = df.groupby(by='Zbins')['Depth'].quantile(0.75) - df.groupby(by='Zbins')['Depth'].quantile(0.25)\n",
    "    count  = df.groupby(by='Zbins')['Depth'].count()\n",
    "\n",
    "    ## remove any values that are less than 100 values\n",
    "    ## these are series not pandas dataframes\n",
    "\n",
    "    ## convert series to pandas data frames instead of series\n",
    "\n",
    "    mean = mean.to_frame() \n",
    "    iqr    = iqr.to_frame()\n",
    "    count  = count.to_frame()\n",
    "\n",
    "    ## Make combine data frame\n",
    "\n",
    "    mean['iqr']   = iqr\n",
    "    mean['count'] = count\n",
    "\n",
    "    # ## remove any rows where count is below set threshold\n",
    "    # mean[mean['count'] < n_min] = np.nan\n",
    "\n",
    "    mean = mean.dropna()\n",
    "\n",
    "    ## reset index to make Zbins a column rather than an index\n",
    "    mean          = mean.reset_index()\n",
    "    mean['Zbins'] = mean['Zbins'].tolist()\n",
    "\n",
    "    # ## returns data frame \n",
    "    # return mean \n",
    "    mean.to_csv(file_location)"
   ]
  },
  {
   "cell_type": "code",
   "execution_count": null,
   "metadata": {},
   "outputs": [],
   "source": [
    "binned_thickness('/home/pelto/Desktop/ice_flux/' + glacier[num] + '_optimized_thickness_binned.csv')"
   ]
  },
  {
   "cell_type": "code",
   "execution_count": null,
   "metadata": {},
   "outputs": [],
   "source": [
    "def distance_along_glacier(nx, map_dx):\n",
    "    \"\"\"Calculates the distance along the glacier in km.\n",
    "    Parameters\n",
    "    ----------\n",
    "    nx : int\n",
    "        number of grid points\n",
    "    map_dx : int\n",
    "        grid point spacing\n",
    "    Returns\n",
    "    -------\n",
    "    ndarray\n",
    "        distance along the glacier in km.\n",
    "    \"\"\"\n",
    "    return np.linspace(0, nx, nx) * map_dx * 1e-3"
   ]
  },
  {
   "cell_type": "markdown",
   "metadata": {},
   "source": [
    "## Plot profile glacier bed and surface"
   ]
  },
  {
   "cell_type": "code",
   "execution_count": null,
   "metadata": {},
   "outputs": [],
   "source": [
    "def plot_profiles(): \n",
    "    gdir = best_model[1]\n",
    "    mfl=gdir.read_pickle('model_flowlines')\n",
    "    bed_h = mfl[-1].bed_h\n",
    "    surface_h = mfl[-1].surface_h\n",
    "    length_m = mfl[-1].length_m\n",
    "\n",
    "    nx = len(bed_h)\n",
    "    # length_m\n",
    "    map_dx = int(gdir.grid.dx * cfg.PARAMS['flowline_dx'])\n",
    "    # calculate the corresponding distance along the glacier (from the top)\n",
    "    dist_along_glacier = distance_along_glacier(nx, map_dx) # in km \n",
    "\n",
    "    size = 4\n",
    "    fig, ax = plt.subplots(figsize=[size*2,size])\n",
    "    ax.plot(dist_along_glacier, surface_h, label='Glacier surface', color='#9ecae1', linewidth=1, alpha=0.8)\n",
    "    ax.plot(dist_along_glacier, bed_h,  label='Bed', color='k', linewidth=1, alpha=0.8)\n",
    "    ax.set_xlabel('Distance along glacier (km)')\n",
    "    ax.set_ylabel('Elevation [m a.s.l.]')\n",
    "    # ax.set_title(gdir.rgi_id)\n",
    "    # ax.grid(True)\n",
    "    # ax.legend();\n",
    "    plt.tight_layout(pad=0.5)\n",
    "    fig.savefig(products + glacier[num] + str(size) + 'in_profile.tiff', dpi=300)"
   ]
  },
  {
   "cell_type": "code",
   "execution_count": null,
   "metadata": {},
   "outputs": [],
   "source": [
    "plot_profiles()"
   ]
  },
  {
   "cell_type": "markdown",
   "metadata": {},
   "source": [
    "## Export NetCDF of ice thickness data"
   ]
  },
  {
   "cell_type": "code",
   "execution_count": null,
   "metadata": {},
   "outputs": [],
   "source": [
    "best_model[0].to_netcdf(products + glacier[num] + '_optimized.nc')"
   ]
  },
  {
   "cell_type": "code",
   "execution_count": null,
   "metadata": {},
   "outputs": [],
   "source": [
    "best_model[1]"
   ]
  },
  {
   "cell_type": "code",
   "execution_count": null,
   "metadata": {},
   "outputs": [],
   "source": []
  }
 ],
 "metadata": {
  "kernelspec": {
   "display_name": "Python 3",
   "language": "python",
   "name": "python3"
  },
  "language_info": {
   "codemirror_mode": {
    "name": "ipython",
    "version": 3
   },
   "file_extension": ".py",
   "mimetype": "text/x-python",
   "name": "python",
   "nbconvert_exporter": "python",
   "pygments_lexer": "ipython3",
   "version": "3.6.8"
  }
 },
 "nbformat": 4,
 "nbformat_minor": 4
}
