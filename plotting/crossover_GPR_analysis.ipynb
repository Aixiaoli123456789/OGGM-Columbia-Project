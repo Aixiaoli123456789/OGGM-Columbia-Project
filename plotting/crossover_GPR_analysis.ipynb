{
 "cells": [
  {
   "cell_type": "code",
   "execution_count": 21,
   "metadata": {},
   "outputs": [],
   "source": [
    "import matplotlib.pyplot as plt\n",
    "from matplotlib import pylab\n",
    "import numpy as np\n",
    "import pandas as pd\n",
    "from scipy import stats\n",
    "import pylab\n",
    "import matplotlib.ticker as ticker"
   ]
  },
  {
   "cell_type": "code",
   "execution_count": 24,
   "metadata": {},
   "outputs": [
    {
     "data": {
      "text/html": [
       "<div>\n",
       "<style scoped>\n",
       "    .dataframe tbody tr th:only-of-type {\n",
       "        vertical-align: middle;\n",
       "    }\n",
       "\n",
       "    .dataframe tbody tr th {\n",
       "        vertical-align: top;\n",
       "    }\n",
       "\n",
       "    .dataframe thead th {\n",
       "        text-align: right;\n",
       "    }\n",
       "</style>\n",
       "<table border=\"1\" class=\"dataframe\">\n",
       "  <thead>\n",
       "    <tr style=\"text-align: right;\">\n",
       "      <th></th>\n",
       "      <th>a</th>\n",
       "      <th>b</th>\n",
       "      <th>glacier</th>\n",
       "      <th>diff</th>\n",
       "      <th>P_diff</th>\n",
       "      <th>mean_ab</th>\n",
       "      <th>P_thick</th>\n",
       "    </tr>\n",
       "  </thead>\n",
       "  <tbody>\n",
       "    <tr>\n",
       "      <th>0</th>\n",
       "      <td>56.10</td>\n",
       "      <td>59.50</td>\n",
       "      <td>Conrad</td>\n",
       "      <td>3.40</td>\n",
       "      <td>5.88</td>\n",
       "      <td>57.800</td>\n",
       "      <td>0.06</td>\n",
       "    </tr>\n",
       "    <tr>\n",
       "      <th>1</th>\n",
       "      <td>69.00</td>\n",
       "      <td>70.30</td>\n",
       "      <td>Conrad</td>\n",
       "      <td>1.30</td>\n",
       "      <td>1.87</td>\n",
       "      <td>69.650</td>\n",
       "      <td>0.02</td>\n",
       "    </tr>\n",
       "    <tr>\n",
       "      <th>2</th>\n",
       "      <td>77.75</td>\n",
       "      <td>77.76</td>\n",
       "      <td>Conrad</td>\n",
       "      <td>0.01</td>\n",
       "      <td>0.01</td>\n",
       "      <td>77.755</td>\n",
       "      <td>0.00</td>\n",
       "    </tr>\n",
       "    <tr>\n",
       "      <th>3</th>\n",
       "      <td>43.20</td>\n",
       "      <td>47.90</td>\n",
       "      <td>Conrad</td>\n",
       "      <td>4.70</td>\n",
       "      <td>10.32</td>\n",
       "      <td>45.550</td>\n",
       "      <td>0.10</td>\n",
       "    </tr>\n",
       "    <tr>\n",
       "      <th>4</th>\n",
       "      <td>59.50</td>\n",
       "      <td>61.50</td>\n",
       "      <td>Conrad</td>\n",
       "      <td>2.00</td>\n",
       "      <td>3.31</td>\n",
       "      <td>60.500</td>\n",
       "      <td>0.03</td>\n",
       "    </tr>\n",
       "  </tbody>\n",
       "</table>\n",
       "</div>"
      ],
      "text/plain": [
       "       a      b glacier  diff  P_diff  mean_ab  P_thick\n",
       "0  56.10  59.50  Conrad  3.40    5.88   57.800     0.06\n",
       "1  69.00  70.30  Conrad  1.30    1.87   69.650     0.02\n",
       "2  77.75  77.76  Conrad  0.01    0.01   77.755     0.00\n",
       "3  43.20  47.90  Conrad  4.70   10.32   45.550     0.10\n",
       "4  59.50  61.50  Conrad  2.00    3.31   60.500     0.03"
      ]
     },
     "execution_count": 24,
     "metadata": {},
     "output_type": "execute_result"
    }
   ],
   "source": [
    "dt = pd.read_csv('/home/pelto/Desktop/ice_thick/crossover_analysis_ice_thick.csv')\n",
    "dt['diff'] = abs(dt.a - dt.b)\n",
    "dt['P_diff'] = np.round(abs(dt.a - dt.b)/((dt.a + dt.b)/2)*100,2)\n",
    "dt['mean_ab'] = (dt.a + dt.b) /2\n",
    "dt['P_thick'] = np.round((dt['diff']/ dt.mean_ab),2)\n",
    "\n",
    "# if you want to take a look at what is read, remove comment of:\n",
    "dt[:5]"
   ]
  },
  {
   "cell_type": "code",
   "execution_count": 25,
   "metadata": {},
   "outputs": [],
   "source": [
    "glacier = ['Zillmer', 'Nordic', 'Illecillewaet', 'W. Wash', 'Haig', 'Conrad', 'Kokanee']"
   ]
  },
  {
   "cell_type": "code",
   "execution_count": 26,
   "metadata": {},
   "outputs": [],
   "source": [
    "# import seaborn as sns; sns.set()\n",
    "# import matplotlib.pyplot as plt\n",
    "# fmri = sns.load_dataset(\"fmri\")\n",
    "# ax = sns.lineplot(x=\"timepoint\", y=\"signal\", data=fmri)\n",
    "# fmri"
   ]
  },
  {
   "cell_type": "code",
   "execution_count": 27,
   "metadata": {},
   "outputs": [
    {
     "data": {
      "image/png": "[encoded data removed]",
      "text/plain": [
       "<Figure size 240.48x240.48 with 1 Axes>"
      ]
     },
     "metadata": {
      "needs_background": "light"
     },
     "output_type": "display_data"
    }
   ],
   "source": [
    "# for name in glacier:\n",
    "#     V=dt[dt.glacier==name]\n",
    "#     print\n",
    "\n",
    "\n",
    "\n",
    "plt.figure(figsize=(3.34,3.34))\n",
    "plt.plot(np.arange(0, 290), np.arange(0, 290), 'k--', linewidth=0.5, zorder=1)\n",
    "# plt.plot(np.arange(0, 290), np.arange(0, 290), 'k--', linewidth=0.5, zorder=1)\n",
    "plt.xlim(0,290)\n",
    "plt.ylim(0,290)\n",
    "plt.scatter(dt.a, dt.b, s=10, edgecolor='#3182bd', facecolor='#a6bddb', linewidth=0.7)#, zorder=3)\n",
    "plt.xlabel('Ice thickness obs. a (m)')\n",
    "plt.ylabel('Ice thickness obs. b (m)')\n",
    "# plt.legend(loc=2)\n",
    "plt.grid(linestyle=':', linewidth=0.35, color='gray', alpha=0.5, zorder=0)\n",
    "plt.tight_layout(pad=0.2)\n",
    "plt.savefig('/home/pelto/Desktop/ice_thick/JoG/crossover_analysis.pdf', dpi=300)\n",
    "plt.show()\n",
    "\n"
   ]
  },
  {
   "cell_type": "code",
   "execution_count": 28,
   "metadata": {},
   "outputs": [
    {
     "name": "stdout",
     "output_type": "stream",
     "text": [
      "mean %: 0.05167883211678824\n",
      "median %: 0.03\n",
      "std %: 0.05800176002212361\n",
      "mean (m): 5.247262773722632\n",
      "median (m): 3.3750000000000107\n",
      "std (m): 5.5468137067146435\n"
     ]
    }
   ],
   "source": [
    "print('mean %:', dt.P_thick.mean())\n",
    "print('median %:', dt.P_thick.median())\n",
    "print('std %:', dt.P_thick.std())\n",
    "\n",
    "print('mean (m):', dt['diff'].mean())\n",
    "print('median (m):', dt['diff'].median())\n",
    "print('std (m):', dt['diff'].std())"
   ]
  },
  {
   "cell_type": "code",
   "execution_count": 7,
   "metadata": {},
   "outputs": [
    {
     "data": {
      "text/plain": [
       "<bound method DataFrame.diff of           a       b  glacier   diff  P_diff\n",
       "0     56.10   59.50   Conrad   3.40    5.88\n",
       "1     69.00   70.30   Conrad   1.30    1.87\n",
       "2     77.75   77.76   Conrad   0.01    0.01\n",
       "3     43.20   47.90   Conrad   4.70   10.32\n",
       "4     59.50   61.50   Conrad   2.00    3.31\n",
       "5    112.10  108.80   Conrad   3.30    2.99\n",
       "6    150.50  149.80   Conrad   0.70    0.47\n",
       "7     71.00   77.76   Conrad   6.76    9.09\n",
       "8     79.10   77.80   Conrad   1.30    1.66\n",
       "9     80.45   74.40   Conrad   6.05    7.81\n",
       "10    91.93   97.98   Conrad   6.05    6.37\n",
       "11    84.50   91.25   Conrad   6.75    7.68\n",
       "12   159.25  153.90   Conrad   5.35    3.42\n",
       "13   142.00  135.00   Conrad   7.00    5.05\n",
       "14   157.20  155.22   Conrad   1.98    1.27\n",
       "15   144.40  146.40   Conrad   2.00    1.38\n",
       "16   138.00  141.00   Conrad   3.00    2.15\n",
       "17   133.70  135.00   Conrad   1.30    0.97\n",
       "18   124.00  127.00   Conrad   3.00    2.39\n",
       "19   110.80  106.10   Conrad   4.70    4.33\n",
       "20   113.50  107.40   Conrad   6.10    5.52\n",
       "21   137.00  133.00   Conrad   4.00    2.96\n",
       "22    84.50   97.65   Conrad  13.15   14.44\n",
       "23   101.35  103.70   Conrad   2.35    2.29\n",
       "24   121.00  122.00   Conrad   1.00    0.82\n",
       "25    83.15   89.90   Conrad   6.75    7.80\n",
       "26   155.20  162.96   Conrad   7.76    4.88\n",
       "27   190.20  204.32   Conrad  14.12    7.16\n",
       "28   218.44  221.13   Conrad   2.69    1.22\n",
       "29   162.60  176.10   Conrad  13.50    7.97\n",
       "..      ...     ...      ...    ...     ...\n",
       "244   69.00   69.00  Kokanee   0.00    0.00\n",
       "245   45.25   42.50  Kokanee   2.75    6.27\n",
       "246   43.20   41.80  Kokanee   1.40    3.29\n",
       "247   41.15   42.50  Kokanee   1.35    3.23\n",
       "248   54.80   54.10   Nordic   0.70    1.29\n",
       "249   60.90   60.20   Nordic   0.70    1.16\n",
       "250   62.20   50.00   Nordic  12.20   21.75\n",
       "251   39.10   43.20   Nordic   4.10    9.96\n",
       "252   39.10   51.40   Nordic  12.30   27.18\n",
       "253   88.50   85.86   Nordic   2.64    3.03\n",
       "254   73.00   74.40   Nordic   1.40    1.90\n",
       "255   25.30   22.50   Nordic   2.80   11.72\n",
       "256   21.76   22.47   Nordic   0.71    3.21\n",
       "257   30.20   27.40   Nordic   2.80    9.72\n",
       "258   69.70   66.25   Nordic   3.45    5.08\n",
       "259   68.30   69.65   Nordic   1.35    1.96\n",
       "260   35.70   35.00   Nordic   0.70    1.98\n",
       "261   28.80   24.60   Nordic   4.20   15.73\n",
       "262   26.00   26.00   Nordic   0.00    0.00\n",
       "263   49.30   43.90   Nordic   5.40   11.59\n",
       "264   52.00   47.30   Nordic   4.70    9.47\n",
       "265   43.90   42.50   Nordic   1.40    3.24\n",
       "266   49.30   48.60   Nordic   0.70    1.43\n",
       "267   51.40   50.70   Nordic   0.70    1.37\n",
       "268   45.25   40.50   Nordic   4.75   11.08\n",
       "269   52.00   50.70   Nordic   1.30    2.53\n",
       "270   49.30   49.30   Nordic   0.00    0.00\n",
       "271   50.70   49.30   Nordic   1.40    2.80\n",
       "272   48.60   47.30   Nordic   1.30    2.71\n",
       "273   49.30   43.90   Nordic   5.40   11.59\n",
       "\n",
       "[274 rows x 5 columns]>"
      ]
     },
     "execution_count": 7,
     "metadata": {},
     "output_type": "execute_result"
    }
   ],
   "source": [
    "dt.diff\n"
   ]
  },
  {
   "cell_type": "code",
   "execution_count": null,
   "metadata": {},
   "outputs": [],
   "source": []
  }
 ],
 "metadata": {
  "kernelspec": {
   "display_name": "Python 3",
   "language": "python",
   "name": "python3"
  },
  "language_info": {
   "codemirror_mode": {
    "name": "ipython",
    "version": 3
   },
   "file_extension": ".py",
   "mimetype": "text/x-python",
   "name": "python",
   "nbconvert_exporter": "python",
   "pygments_lexer": "ipython3",
   "version": "3.6.8"
  }
 },
 "nbformat": 4,
 "nbformat_minor": 2
}
