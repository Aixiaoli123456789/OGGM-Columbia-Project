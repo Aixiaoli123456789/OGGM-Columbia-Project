{
 "cells": [
  {
   "cell_type": "markdown",
   "metadata": {},
   "source": [
    "# Boxplot of ice thickness observations and gridded model output"
   ]
  },
  {
   "cell_type": "code",
   "execution_count": 1,
   "metadata": {},
   "outputs": [],
   "source": [
    "#Ben Pelto June 20 2019\n",
    "\n",
    "import seaborn as sns\n",
    "import pandas as pd\n",
    "import pickle \n",
    "# from PIL import Image\n",
    "import numpy as np\n",
    "import xarray as xr\n",
    "import matplotlib.pyplot as plt\n",
    "from matplotlib import pylab"
   ]
  },
  {
   "cell_type": "code",
   "execution_count": 2,
   "metadata": {},
   "outputs": [],
   "source": [
    "# path = '/home/pelto/'\n",
    "\n",
    "path = '/home/pelto/GIS/GPR/ComparisonData/'\n",
    "path2 = '/home/pelto/oggm_runs/products_opt/'\n",
    "data = pd.read_csv(path + 'all_comp_final.csv')\n",
    "# dc =  xr.open_dataset(path2 + 'Conrad/' + 'Conrad_optimized.nc')\n",
    "# nor_h_25 = Image.open(path + 'nordic_h_25m_gpr_locs_srtm_corr.tif')\n",
    "# nor_gpr_25 = Image.open(path + 'nordic_gpr_final_25m_test.tif')\n",
    "# nor_c_200 = Image.open(path + 'nordic_c_200m_gpr_locs_srtm_corr.tif')"
   ]
  },
  {
   "cell_type": "code",
   "execution_count": 3,
   "metadata": {},
   "outputs": [
    {
     "data": {
      "text/html": [
       "<div>\n",
       "<style scoped>\n",
       "    .dataframe tbody tr th:only-of-type {\n",
       "        vertical-align: middle;\n",
       "    }\n",
       "\n",
       "    .dataframe tbody tr th {\n",
       "        vertical-align: top;\n",
       "    }\n",
       "\n",
       "    .dataframe thead th {\n",
       "        text-align: right;\n",
       "    }\n",
       "</style>\n",
       "<table border=\"1\" class=\"dataframe\">\n",
       "  <thead>\n",
       "    <tr style=\"text-align: right;\">\n",
       "      <th></th>\n",
       "      <th>E</th>\n",
       "      <th>N</th>\n",
       "      <th>Z</th>\n",
       "      <th>glacier</th>\n",
       "      <th>source</th>\n",
       "      <th>resolution</th>\n",
       "    </tr>\n",
       "  </thead>\n",
       "  <tbody>\n",
       "    <tr>\n",
       "      <th>0</th>\n",
       "      <td>451413.14631</td>\n",
       "      <td>5.698616e+06</td>\n",
       "      <td>8.752930</td>\n",
       "      <td>Nordic</td>\n",
       "      <td>Clarke</td>\n",
       "      <td>200</td>\n",
       "    </tr>\n",
       "    <tr>\n",
       "      <th>1</th>\n",
       "      <td>451613.14631</td>\n",
       "      <td>5.698616e+06</td>\n",
       "      <td>6.357178</td>\n",
       "      <td>Nordic</td>\n",
       "      <td>Clarke</td>\n",
       "      <td>200</td>\n",
       "    </tr>\n",
       "    <tr>\n",
       "      <th>2</th>\n",
       "      <td>450813.14631</td>\n",
       "      <td>5.698416e+06</td>\n",
       "      <td>34.104736</td>\n",
       "      <td>Nordic</td>\n",
       "      <td>Clarke</td>\n",
       "      <td>200</td>\n",
       "    </tr>\n",
       "    <tr>\n",
       "      <th>3</th>\n",
       "      <td>451213.14631</td>\n",
       "      <td>5.698416e+06</td>\n",
       "      <td>45.496094</td>\n",
       "      <td>Nordic</td>\n",
       "      <td>Clarke</td>\n",
       "      <td>200</td>\n",
       "    </tr>\n",
       "    <tr>\n",
       "      <th>4</th>\n",
       "      <td>451413.14631</td>\n",
       "      <td>5.698416e+06</td>\n",
       "      <td>34.597656</td>\n",
       "      <td>Nordic</td>\n",
       "      <td>Clarke</td>\n",
       "      <td>200</td>\n",
       "    </tr>\n",
       "  </tbody>\n",
       "</table>\n",
       "</div>"
      ],
      "text/plain": [
       "              E             N          Z glacier  source  resolution\n",
       "0  451413.14631  5.698616e+06   8.752930  Nordic  Clarke         200\n",
       "1  451613.14631  5.698616e+06   6.357178  Nordic  Clarke         200\n",
       "2  450813.14631  5.698416e+06  34.104736  Nordic  Clarke         200\n",
       "3  451213.14631  5.698416e+06  45.496094  Nordic  Clarke         200\n",
       "4  451413.14631  5.698416e+06  34.597656  Nordic  Clarke         200"
      ]
     },
     "execution_count": 3,
     "metadata": {},
     "output_type": "execute_result"
    }
   ],
   "source": [
    "data[:5]"
   ]
  },
  {
   "cell_type": "markdown",
   "metadata": {},
   "source": [
    "This will loop through each glacier's optimized.nc file, open the array, pulls out each distributed thickness (each value in that array) and put it in a table along with the glacier name and source (which I am calling optimized). You can do this for your other dataset you want to add as well, just change the source name! "
   ]
  },
  {
   "cell_type": "code",
   "execution_count": 4,
   "metadata": {},
   "outputs": [
    {
     "name": "stderr",
     "output_type": "stream",
     "text": [
      "/home/pelto/anaconda2/envs/oggm_pub/lib/python3.7/site-packages/ipykernel_launcher.py:16: RuntimeWarning: invalid value encountered in greater\n",
      "  app.launch_new_instance()\n"
     ]
    }
   ],
   "source": [
    "glacier= [\"Zillmer\", \"Nordic\",\"Illecillewaet\", \"Washmawapta\", \"Haig\", \"Conrad\", \"Kokanee\"]\n",
    "glacier_abb = [\"Zillmer\", \"Nordic\",\"Illec.\", \"W. Wash.\", \"Haig\", \"Conrad\", \"Kokanee\"]\n",
    "count = 0\n",
    "for G in glacier: \n",
    "    #open file by glacier name\n",
    "    infile = open(path2 + '%s/'%G + '%s_optimized_gprlocs.pkl'%G,'rb')\n",
    "#     infile2 = open(path2 + '%s/'%G + '%s_regional_gprlocs.pkl'%G,'rb')\n",
    "    dc = pickle.load(infile)\n",
    "#     dc2 = pickle.load(infile2)\n",
    "  \n",
    "    #remove distriubuted thickness array\n",
    "    K=np.array(dc)#.distributed_thickness)\n",
    "#     K2=K=np.array(dc2)\n",
    "    \n",
    "    #find where there are values in this array\n",
    "    IDX= np.ma.where(K > 0, )\n",
    "#     IDX2= np.ma.where(K2 > 0, )\n",
    "    \n",
    "    # pull out each value and save it in the dataframe called data\n",
    "    for i in np.arange(0,len(IDX[0])):\n",
    "        V=K[IDX[0][i]][IDX[1][i]]\n",
    "        \n",
    "#     for i in np.arange(0,len(IDX2[0])):\n",
    "#         V2=K2[IDX2[0][i]][IDX2[1][i]]\n",
    "    \n",
    "        data=data.append({'Z': V,'glacier':glacier_abb[count],'source':'Optimized'},ignore_index=True)\n",
    "#         data=data.append({'Z': V2,'glacier':glacier_abb[count],'source':'Regional'},ignore_index=True)\n",
    "\n",
    "    count+=1"
   ]
  },
  {
   "cell_type": "code",
   "execution_count": 5,
   "metadata": {},
   "outputs": [
    {
     "name": "stderr",
     "output_type": "stream",
     "text": [
      "/home/pelto/anaconda2/envs/oggm_pub/lib/python3.7/site-packages/ipykernel_launcher.py:11: RuntimeWarning: invalid value encountered in greater\n",
      "  # This is added back by InteractiveShellApp.init_path()\n"
     ]
    }
   ],
   "source": [
    "count = 0\n",
    "for G in glacier: \n",
    "    #open file by glacier name\n",
    "    infile2 = open(path2 + '%s/'%G + '%s_regional_gprlocs.pkl'%G,'rb')\n",
    "    dc2 = pickle.load(infile2)\n",
    "        \n",
    "    #remove distriubuted thickness array\n",
    "    K2=K=np.array(dc2)\n",
    "\n",
    "    #find where there are values in this array\n",
    "    IDX2= np.ma.where(K2 > 0, )\n",
    "    \n",
    "    # pull out each value and save it in the dataframe called data\n",
    "    for i in np.arange(0,len(IDX2[0])):\n",
    "        V2=K2[IDX2[0][i]][IDX2[1][i]]\n",
    "    \n",
    "        data=data.append({'Z': V2,'glacier':glacier_abb[count],'source':'Regional'},ignore_index=True)\n",
    "\n",
    "    count+=1"
   ]
  },
  {
   "cell_type": "code",
   "execution_count": 6,
   "metadata": {
    "scrolled": true
   },
   "outputs": [
    {
     "data": {
      "image/png": "[encoded data removed]",
      "text/plain": [
       "<Figure size 504x252 with 1 Axes>"
      ]
     },
     "metadata": {
      "needs_background": "light"
     },
     "output_type": "display_data"
    }
   ],
   "source": [
    "font = {'family' : 'Arial', 'weight' : 'normal', 'size'   : 8}\n",
    "\n",
    "plt.rc('font', **font)\n",
    "pylab.rcParams['xtick.major.pad']='1.'\n",
    "pylab.rcParams['ytick.major.pad']='1.'\n",
    "\n",
    "fig, ax = plt.subplots(figsize=(7, 3.5)) #(10, 8))\n",
    "\n",
    "# sns.set(style=\"ticks\", font='arial', fontsize=8)#, font_scale=1.5)\n",
    "\n",
    "colors = ['#bdc9e1', '#74a9cf', '#0570b0', '#cb181d', '#88419d', '#8c6bb1'] #, '#8c96c6']\n",
    "\n",
    "ax = sns.boxplot(x=data.glacier, y=data.Z, hue=data.source, palette=colors, hue_order= ['Clarke', 'Huss', \n",
    "            'Farinotti', 'Obs.', 'Optimized', 'Regional'], order=[\"Zillmer\", \"Nordic\",\"Illec.\", \"W. Wash.\", \"Haig\",\n",
    "                \"Conrad\", \"Kokanee\"], saturation=0.7, linewidth=1.25, fliersize=1)\n",
    "ds=data.source\n",
    "# ax.legend((ds.Clarke'], ds['Huss'], ds['Farinotti'], ds['Obs.'], ds['optimized'], ds['Optimized']),('Clarke 2013', 'Huss 2012', 'Farinotti 2019', 'Obs.', 'Optimized', 'Basin'), ncol = 3, loc = 'best') \n",
    "\n",
    "\n",
    "leg = ax.legend(ncol = 2, loc = 2) \n",
    "new_labels = ['Clarke et al. (2013)', 'Huss and Farinotti (2012)', 'Farinotti et al. (2019)', 'Observed', \n",
    "              'OGGM glacier-specific calibration', 'OGGM Columbia Basin']\n",
    "for t, l in zip(leg.texts, new_labels): t.set_text(l)\n",
    "ax.set(xlabel='', ylabel='Ice thickness (m)')\n",
    "# plt.tight_layout()\n",
    "fig.subplots_adjust(bottom=0.06, top=0.98, left=0.065, right=0.99)\n",
    "plt.savefig('/home/pelto/Desktop/ice_thick/JoG/' + 'ice_thickness_boxplot_opt_3p5in-tallNEW.pdf', dpi=300)\n",
    "plt.show()"
   ]
  },
  {
   "cell_type": "code",
   "execution_count": null,
   "metadata": {},
   "outputs": [],
   "source": []
  }
 ],
 "metadata": {
  "kernelspec": {
   "display_name": "Python 3",
   "language": "python",
   "name": "python3"
  },
  "language_info": {
   "codemirror_mode": {
    "name": "ipython",
    "version": 3
   },
   "file_extension": ".py",
   "mimetype": "text/x-python",
   "name": "python",
   "nbconvert_exporter": "python",
   "pygments_lexer": "ipython3",
   "version": "3.7.6"
  }
 },
 "nbformat": 4,
 "nbformat_minor": 2
}
