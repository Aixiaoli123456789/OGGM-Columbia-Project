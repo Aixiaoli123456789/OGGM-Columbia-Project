{
 "cells": [
  {
   "cell_type": "markdown",
   "metadata": {},
   "source": [
    "# Plot distance from border exponent against error"
   ]
  },
  {
   "cell_type": "code",
   "execution_count": 19,
   "metadata": {},
   "outputs": [],
   "source": [
    "##Ben Pelto Nov. 2019\n",
    "import matplotlib.pyplot as plt\n",
    "import numpy as np\n",
    "import pandas as pd\n",
    "import matplotlib.ticker as ticker\n",
    "\n",
    "path = '/home/pelto/Desktop/ice_thick/'\n",
    "f_in = 'dfb_all_BV_A.csv' \n",
    "\n",
    "data = pd.read_csv(path + f_in)\n",
    "\n",
    "# markers = ('o', 's', 'D', '^', 'v', 'p', 'D') #MUST be equal to # of glaciers\n",
    "# colors = ['#8dd3c7','#ffffb3','#bebada','#fb8072','#80b1d3','#fdb462', '#b3de69'] #MUST be equal to # of glaciers"
   ]
  },
  {
   "cell_type": "code",
   "execution_count": 20,
   "metadata": {},
   "outputs": [
    {
     "data": {
      "text/html": [
       "<div>\n",
       "<style scoped>\n",
       "    .dataframe tbody tr th:only-of-type {\n",
       "        vertical-align: middle;\n",
       "    }\n",
       "\n",
       "    .dataframe tbody tr th {\n",
       "        vertical-align: top;\n",
       "    }\n",
       "\n",
       "    .dataframe thead th {\n",
       "        text-align: right;\n",
       "    }\n",
       "</style>\n",
       "<table border=\"1\" class=\"dataframe\">\n",
       "  <thead>\n",
       "    <tr style=\"text-align: right;\">\n",
       "      <th></th>\n",
       "      <th>glacier</th>\n",
       "      <th>errors</th>\n",
       "      <th>dfb</th>\n",
       "      <th>error_per_point</th>\n",
       "      <th>err_m</th>\n",
       "      <th>perc_err</th>\n",
       "      <th>MEA</th>\n",
       "    </tr>\n",
       "  </thead>\n",
       "  <tbody>\n",
       "    <tr>\n",
       "      <th>0</th>\n",
       "      <td>Kokanee</td>\n",
       "      <td>131973.0</td>\n",
       "      <td>0.00</td>\n",
       "      <td>298.582273</td>\n",
       "      <td>17.279533</td>\n",
       "      <td>35.924186</td>\n",
       "      <td>13.592397</td>\n",
       "    </tr>\n",
       "    <tr>\n",
       "      <th>1</th>\n",
       "      <td>Kokanee</td>\n",
       "      <td>97368.0</td>\n",
       "      <td>0.05</td>\n",
       "      <td>220.290715</td>\n",
       "      <td>14.842194</td>\n",
       "      <td>30.856952</td>\n",
       "      <td>11.609532</td>\n",
       "    </tr>\n",
       "    <tr>\n",
       "      <th>2</th>\n",
       "      <td>Kokanee</td>\n",
       "      <td>87779.0</td>\n",
       "      <td>0.10</td>\n",
       "      <td>198.595286</td>\n",
       "      <td>14.092384</td>\n",
       "      <td>29.298096</td>\n",
       "      <td>10.965793</td>\n",
       "    </tr>\n",
       "    <tr>\n",
       "      <th>3</th>\n",
       "      <td>Kokanee</td>\n",
       "      <td>80093.0</td>\n",
       "      <td>0.15</td>\n",
       "      <td>181.206094</td>\n",
       "      <td>13.461281</td>\n",
       "      <td>27.986032</td>\n",
       "      <td>10.468547</td>\n",
       "    </tr>\n",
       "    <tr>\n",
       "      <th>4</th>\n",
       "      <td>Kokanee</td>\n",
       "      <td>74311.0</td>\n",
       "      <td>0.20</td>\n",
       "      <td>168.125423</td>\n",
       "      <td>12.966319</td>\n",
       "      <td>26.957004</td>\n",
       "      <td>10.150448</td>\n",
       "    </tr>\n",
       "  </tbody>\n",
       "</table>\n",
       "</div>"
      ],
      "text/plain": [
       "   glacier    errors   dfb  error_per_point      err_m   perc_err        MEA\n",
       "0  Kokanee  131973.0  0.00       298.582273  17.279533  35.924186  13.592397\n",
       "1  Kokanee   97368.0  0.05       220.290715  14.842194  30.856952  11.609532\n",
       "2  Kokanee   87779.0  0.10       198.595286  14.092384  29.298096  10.965793\n",
       "3  Kokanee   80093.0  0.15       181.206094  13.461281  27.986032  10.468547\n",
       "4  Kokanee   74311.0  0.20       168.125423  12.966319  26.957004  10.150448"
      ]
     },
     "execution_count": 20,
     "metadata": {},
     "output_type": "execute_result"
    }
   ],
   "source": [
    "data[:5]"
   ]
  },
  {
   "cell_type": "code",
   "execution_count": 23,
   "metadata": {},
   "outputs": [
    {
     "name": "stderr",
     "output_type": "stream",
     "text": [
      "/home/pelto/anaconda2/envs/oggm_env/lib/python3.6/site-packages/ipykernel_launcher.py:24: SettingWithCopyWarning: \n",
      "A value is trying to be set on a copy of a slice from a DataFrame\n",
      "\n",
      "See the caveats in the documentation: http://pandas.pydata.org/pandas-docs/stable/indexing.html#indexing-view-versus-copy\n"
     ]
    },
    {
     "data": {
      "image/png": "[encoded data removed]",
      "text/plain": [
       "<Figure size 432x240.48 with 8 Axes>"
      ]
     },
     "metadata": {
      "needs_background": "light"
     },
     "output_type": "display_data"
    }
   ],
   "source": [
    "font = {'family' : 'Arial',\n",
    "        'weight' : 'normal',\n",
    "        'size'   : 8}\n",
    "\n",
    "plt.rc('font', **font)\n",
    "\n",
    "# xmax=170\n",
    "# ymax=170\n",
    "\n",
    "# Create plot\n",
    "fig, axarr = plt.subplots(2,4, sharex=True, sharey=False, figsize=(6,3.34))#3.34, 3.34))\n",
    "# ax = fig.add_subplot(1, 1, 1) \n",
    "j, k = 0, 0\n",
    "markers = ('o', 's', 'D', '^', 'v', 'p', 'D')\n",
    "colors = ['#8dd3c7','#ffffb3','#bebada','#fb8072','#80b1d3','#fdb462', '#b3de69']\n",
    "letter = ['a', 'b', 'c', 'd', 'e', 'f', 'g']\n",
    "order = ['Zillmer', 'Nordic', 'Illecillewaet', 'W.Wash', 'Haig', 'Conrad', 'Kokanee']\n",
    "################\n",
    "count=0\n",
    "\n",
    "for name in order:\n",
    "    V=data[data.glacier==name]\n",
    "#     print(data.glacier)\n",
    "    V['dfb'][V['dfb'] > 0.5] = np.nan\n",
    "    \n",
    "    axarr[j,k].plot(V['dfb'], V['MEA'], alpha=0.95, c=colors[count], markeredgecolor='k', \n",
    "                marker=markers[count], label=name, markersize='5', linewidth=3.)\n",
    "    \n",
    "#     axarr[1,0].set_ylabel('Error per grid cell (%)')#'Accum. quadratic errors (m)')\n",
    "    axarr[j,k].grid(linestyle=':', linewidth=1.0, color='gray', alpha=0.8, zorder=100)\n",
    "#     if count == 4 or count == 6:\n",
    "#         axarr[j,k].text(0.05, 0.05, letter[count], transform=axarr[j,k].transAxes,  fontweight='bold', fontsize=10)\n",
    "#     else:\n",
    "    axarr[j,k].text(0.85, 0.05, letter[count], transform=axarr[j,k].transAxes,  fontweight='bold', fontsize=10)\n",
    "    axarr[0,3].axis('off')\n",
    "    if count == 1 or count == 6:\n",
    "        axarr[j,k].yaxis.set_major_locator(ticker.MultipleLocator(1))\n",
    "    elif count == 4 or count == 5:\n",
    "        axarr[j,k].yaxis.set_major_locator(ticker.MultipleLocator(4))\n",
    "    else:\n",
    "        axarr[j,k].yaxis.set_major_locator(ticker.MultipleLocator(2))\n",
    "    \n",
    "    \n",
    "#     axarr[j,k].set_yticks(np.arange(20,70,5))       #np.min(V['perc_err']), np.max(V['perc_err']), 5)\n",
    "#     axarr[j,k].set_ylim(np.min(V['perc_err']), np.max(V['perc_err']))\n",
    "    count+=1\n",
    "    \n",
    "    k += 1\n",
    "\n",
    "    if count == 3: #changed to 2, 1 worked for 2x2 panel plot\n",
    "        j += 1\n",
    "        k = 0\n",
    "        \n",
    "# plt.legend(loc='best')\n",
    "\n",
    "fig.subplots_adjust(bottom=0.1, top=0.98, hspace=0.1, left=0.075, right=0.99, wspace=0.25)#left=0.07, right=0.9,wspace=0.05, \n",
    "fig.text(0.01, 0.65, 'Mean absolute error (%)', rotation=90)\n",
    "fig.text(0.37, 0.01, 'Distance from border exponent (m)')\n",
    "# plt.tight_layout(pad=0.6)\n",
    "plt.savefig(path + 'JoG/DFB_MEA_scatter_BV_A.pdf', dpi=300)\n",
    "plt.show()"
   ]
  },
  {
   "cell_type": "code",
   "execution_count": null,
   "metadata": {},
   "outputs": [],
   "source": []
  }
 ],
 "metadata": {
  "kernelspec": {
   "display_name": "Python 3",
   "language": "python",
   "name": "python3"
  },
  "language_info": {
   "codemirror_mode": {
    "name": "ipython",
    "version": 3
   },
   "file_extension": ".py",
   "mimetype": "text/x-python",
   "name": "python",
   "nbconvert_exporter": "python",
   "pygments_lexer": "ipython3",
   "version": "3.6.8"
  }
 },
 "nbformat": 4,
 "nbformat_minor": 2
}
