{
 "cells": [
  {
   "cell_type": "code",
   "execution_count": 1,
   "metadata": {},
   "outputs": [],
   "source": [
    "##Ben Pelto Nov. 2019\n",
    "import matplotlib.pyplot as plt\n",
    "import numpy as np\n",
    "import pandas as pd\n",
    "\n",
    "path = '/home/pelto/Desktop/ice_thick/'\n",
    "f_in = 'smooth_window.csv' \n",
    "\n",
    "data = pd.read_csv(path + f_in)\n",
    "\n",
    "# markers = ('o', 's', 'D', '^', 'v', 'p', 'D') #MUST be equal to # of glaciers\n",
    "# colors = ['#8dd3c7','#ffffb3','#bebada','#fb8072','#80b1d3','#fdb462', '#b3de69'] #MUST be equal to # of glaciers"
   ]
  },
  {
   "cell_type": "code",
   "execution_count": 2,
   "metadata": {},
   "outputs": [
    {
     "data": {
      "text/html": [
       "<div>\n",
       "<style scoped>\n",
       "    .dataframe tbody tr th:only-of-type {\n",
       "        vertical-align: middle;\n",
       "    }\n",
       "\n",
       "    .dataframe tbody tr th {\n",
       "        vertical-align: top;\n",
       "    }\n",
       "\n",
       "    .dataframe thead th {\n",
       "        text-align: right;\n",
       "    }\n",
       "</style>\n",
       "<table border=\"1\" class=\"dataframe\">\n",
       "  <thead>\n",
       "    <tr style=\"text-align: right;\">\n",
       "      <th></th>\n",
       "      <th>glacier</th>\n",
       "      <th>sw</th>\n",
       "      <th>glen a</th>\n",
       "      <th>thick</th>\n",
       "      <th>vol</th>\n",
       "      <th>quad_errors</th>\n",
       "      <th>n_obs</th>\n",
       "      <th>normal</th>\n",
       "      <th>errors_pp</th>\n",
       "      <th>err_m</th>\n",
       "      <th>perc_err</th>\n",
       "    </tr>\n",
       "  </thead>\n",
       "  <tbody>\n",
       "    <tr>\n",
       "      <th>0</th>\n",
       "      <td>Conrad</td>\n",
       "      <td>71</td>\n",
       "      <td>7.055</td>\n",
       "      <td>99.74</td>\n",
       "      <td>1.326</td>\n",
       "      <td>2805976</td>\n",
       "      <td>824</td>\n",
       "      <td>1.000000</td>\n",
       "      <td>3405</td>\n",
       "      <td>58.4</td>\n",
       "      <td>58.5</td>\n",
       "    </tr>\n",
       "    <tr>\n",
       "      <th>1</th>\n",
       "      <td>Conrad</td>\n",
       "      <td>101</td>\n",
       "      <td>7.055</td>\n",
       "      <td>99.90</td>\n",
       "      <td>1.328</td>\n",
       "      <td>2805976</td>\n",
       "      <td>824</td>\n",
       "      <td>1.000000</td>\n",
       "      <td>3405</td>\n",
       "      <td>58.4</td>\n",
       "      <td>58.4</td>\n",
       "    </tr>\n",
       "    <tr>\n",
       "      <th>2</th>\n",
       "      <td>Conrad</td>\n",
       "      <td>151</td>\n",
       "      <td>6.444</td>\n",
       "      <td>101.39</td>\n",
       "      <td>1.348</td>\n",
       "      <td>2735637</td>\n",
       "      <td>824</td>\n",
       "      <td>0.974932</td>\n",
       "      <td>3320</td>\n",
       "      <td>57.6</td>\n",
       "      <td>56.8</td>\n",
       "    </tr>\n",
       "    <tr>\n",
       "      <th>3</th>\n",
       "      <td>Conrad</td>\n",
       "      <td>201</td>\n",
       "      <td>6.166</td>\n",
       "      <td>103.38</td>\n",
       "      <td>1.362</td>\n",
       "      <td>2692524</td>\n",
       "      <td>824</td>\n",
       "      <td>0.959568</td>\n",
       "      <td>3268</td>\n",
       "      <td>57.2</td>\n",
       "      <td>55.3</td>\n",
       "    </tr>\n",
       "    <tr>\n",
       "      <th>4</th>\n",
       "      <td>Conrad</td>\n",
       "      <td>251</td>\n",
       "      <td>5.833</td>\n",
       "      <td>104.54</td>\n",
       "      <td>1.378</td>\n",
       "      <td>2661988</td>\n",
       "      <td>824</td>\n",
       "      <td>0.948685</td>\n",
       "      <td>3231</td>\n",
       "      <td>56.8</td>\n",
       "      <td>54.4</td>\n",
       "    </tr>\n",
       "  </tbody>\n",
       "</table>\n",
       "</div>"
      ],
      "text/plain": [
       "  glacier   sw  glen a   thick    vol  quad_errors  n_obs    normal  \\\n",
       "0  Conrad   71   7.055   99.74  1.326      2805976    824  1.000000   \n",
       "1  Conrad  101   7.055   99.90  1.328      2805976    824  1.000000   \n",
       "2  Conrad  151   6.444  101.39  1.348      2735637    824  0.974932   \n",
       "3  Conrad  201   6.166  103.38  1.362      2692524    824  0.959568   \n",
       "4  Conrad  251   5.833  104.54  1.378      2661988    824  0.948685   \n",
       "\n",
       "   errors_pp  err_m  perc_err  \n",
       "0       3405   58.4      58.5  \n",
       "1       3405   58.4      58.4  \n",
       "2       3320   57.6      56.8  \n",
       "3       3268   57.2      55.3  \n",
       "4       3231   56.8      54.4  "
      ]
     },
     "execution_count": 2,
     "metadata": {},
     "output_type": "execute_result"
    }
   ],
   "source": [
    "data[:5]"
   ]
  },
  {
   "cell_type": "markdown",
   "metadata": {},
   "source": [
    "# Single plot: model obs grad versus model default grad (flowline)"
   ]
  },
  {
   "cell_type": "code",
   "execution_count": 4,
   "metadata": {},
   "outputs": [
    {
     "data": {
      "image/png": "[encoded data removed]",
      "text/plain": [
       "<Figure size 504x504 with 1 Axes>"
      ]
     },
     "metadata": {
      "needs_background": "light"
     },
     "output_type": "display_data"
    }
   ],
   "source": [
    "font = {'family' : 'Arial',\n",
    "        'weight' : 'normal',\n",
    "        'size'   : 8}\n",
    "\n",
    "plt.rc('font', **font)\n",
    "\n",
    "# xmax=170\n",
    "# ymax=170\n",
    "\n",
    "# Create plot\n",
    "fig = plt.figure(figsize=(7,7))#3.34, 3.34))\n",
    "ax = fig.add_subplot(1, 1, 1) \n",
    "\n",
    "markers = ('o', 's', 'D', '^', 'v', 'p', 'D')\n",
    "colors = ['#8dd3c7','#ffffb3','#bebada','#fb8072','#80b1d3','#fdb462', '#b3de69']\n",
    "################\n",
    "count=0\n",
    "for name in np.unique(data['glacier']):\n",
    "    V=data[data.glacier==name]\n",
    "\n",
    "    ax.plot(V['sw'], V['perc_err'], alpha=0.95, c=colors[count], markeredgecolor='k', \n",
    "                marker=markers[count], label=name, markersize='9', linewidth=3.)\n",
    "    count+=1\n",
    "\n",
    "# for x, y, marker, color in zip(data['sw'], data['quad_errors'], data['marker'], data['color']):\n",
    "#     ax.plot(x, y, alpha=0.25, c=color, markeredgecolor='k', marker=marker, label=None, markersize='8')\n",
    "\n",
    "# for x, y, marker in zip(data['ALS_Ba590'], data['obs_Ba'],\n",
    "#                                     data['ALS_errorBa'], data['obs_error_ba'], markers):\n",
    "#     ax.errorbar(x, y, xerr=xerr, yerr=yerr, alpha=0.45, c='grey', ecolor='k', elinewidth=0.5,\n",
    "#                 marker=marker, markersize='8')\n",
    "\n",
    "## only plot first occurrence of site names\n",
    "## bale out after n = 6\n",
    "# z = 1\n",
    "# for x, y, site, marker, color in zip(data['sw'], data['quad_errors'], data['glacier'], data['marker'], data['color']):\n",
    "#     ax.plot(x, y, marker=marker, color=color, alpha=0.25, label=site)\n",
    "#     z += 1\n",
    "#     if z >= 8:\n",
    "#         break\n",
    "\n",
    "################\n",
    "# plt.plot(np.arange(0, xmax), np.arange(0, ymax), '--', c='k', alpha=0.75, linewidth=1)\n",
    "\n",
    "# # for x, y, marker in zip(data['Ice_thickness_Obs_grad'], data['Ice_thickness_model_grad'], markers):\n",
    "# #     ax.plot(x,y, alpha=1.0, c='red', marker=marker, label=None, markersize='8')\n",
    "    \n",
    "# z = 1\n",
    "\n",
    "# for x, y, site, marker, colors in zip(data['thick'], data['quad_errors'], \n",
    "#                               data['glacier'], markers, colors):\n",
    "#     ax.plot(x,y, alpha=1.0, c=colors, marker=marker, label=site, markersize='8', markeredgecolor='k')\n",
    "#     z += 1\n",
    "#     if z >= 8: ## must be one greater than num. of points\n",
    "#         break\n",
    "# #     ax.errorbar(x, y, xerr=xerr, yerr=yerr, alpha=0.75, c='red', ecolor='k', elinewidth=0.5,\n",
    "# #                 marker=marker, label=None, markersize='8')\n",
    "\n",
    "\n",
    "# for x, y, site, marker in zip(data['Ice_thickness_Obs_grad'], data['Ice_thickness_model_grad'], data['name'], markers):\n",
    "                                                                                    \n",
    "# #     ax.errorbar(x, y, marker=marker, color='grey', alpha=0.5, label=site, elinewidth=0.25)\n",
    "#     z += 1\n",
    "#     if z >= 7:\n",
    "#         break\n",
    "        \n",
    "plt.legend(loc='upper left', bbox_to_anchor=(0.01, 0.5), ncol=3)\n",
    "\n",
    "# # plt.xlim(0,xmax)\n",
    "# # plt.ylim(0,ymax)\n",
    "# plt.xticks(np.arange(0, xmax, 25))\n",
    "# plt.yticks(np.arange(0, ymax, 25))\n",
    "plt.grid(linestyle=':', linewidth=1.5, color='gray', alpha=0.9, zorder=100)\n",
    "\n",
    "plt.xlabel('Smoothing window (m)')\n",
    "plt.ylabel('Error per grid cell (%)')#'Accum. quadratic errors (m)')\n",
    "plt.tight_layout(pad=0.6)\n",
    "plt.savefig(path + 'JoG/smooth_window_quad_errors_scatter.pdf', dpi=300)\n",
    "plt.show()"
   ]
  },
  {
   "cell_type": "code",
   "execution_count": 12,
   "metadata": {},
   "outputs": [
    {
     "data": {
      "text/plain": [
       "35.542857142857144"
      ]
     },
     "execution_count": 12,
     "metadata": {},
     "output_type": "execute_result"
    }
   ],
   "source": [
    "d_200 = np.average(data[data['sw'] == 201]['perc_err'])\n",
    "d_200"
   ]
  },
  {
   "cell_type": "code",
   "execution_count": 13,
   "metadata": {},
   "outputs": [
    {
     "data": {
      "text/plain": [
       "35.34285714285714"
      ]
     },
     "execution_count": 13,
     "metadata": {},
     "output_type": "execute_result"
    }
   ],
   "source": [
    "d_250 = np.average(data[data['sw'] == 251]['perc_err'])\n",
    "d_250"
   ]
  },
  {
   "cell_type": "code",
   "execution_count": 14,
   "metadata": {},
   "outputs": [
    {
     "data": {
      "text/plain": [
       "35.871428571428574"
      ]
     },
     "execution_count": 14,
     "metadata": {},
     "output_type": "execute_result"
    }
   ],
   "source": [
    "d_150 = np.average(data[data['sw'] == 151]['perc_err'])\n",
    "d_150"
   ]
  },
  {
   "cell_type": "markdown",
   "metadata": {},
   "source": [
    "# 3-panel plot: \n",
    "   - model grad vs obs grad (flowline)\n",
    "   - observations vs obs grad (gpr locations)\n",
    "   - observations vs model grad (gpr locations)"
   ]
  },
  {
   "cell_type": "code",
   "execution_count": null,
   "metadata": {},
   "outputs": [],
   "source": [
    "font = {'family' : 'Arial',\n",
    "        'weight' : 'normal',\n",
    "        'size'   : 8}\n",
    "\n",
    "plt.rc('font', **font)\n",
    "\n",
    "xmax=180\n",
    "ymax=180\n",
    "\n",
    "# Create plot\n",
    "axes = np.arange(1,3,1)\n",
    "fig, axes = plt.subplots(1, 3, figsize=(7, 3.34), sharey=True)\n",
    "\n",
    "letter = 'a', 'b', 'c'\n",
    "for n in range(3):\n",
    "    axes[n].plot(np.arange(0, xmax), np.arange(0, ymax), '--', c='k', alpha=0.75, linewidth=1)\n",
    "    axes[n].text(162,8, letter[n], fontweight='bold', fontsize=10)\n",
    "    axes[n].set_xlim(0,xmax)\n",
    "    axes[n].set_ylim(0,ymax)\n",
    "    axes[n].set_xticks(np.arange(0, xmax, 25))\n",
    "    axes[n].set_yticks(np.arange(0, ymax, 25))\n",
    "    axes[n].grid(linestyle=':', linewidth=1, color='gray', alpha=1.0, zorder=100)\n",
    "\n",
    "### model obs grad versus model default grad (flowline)\n",
    "  \n",
    "z = 1\n",
    "\n",
    "for x, y, site, marker, colors in zip(data['Ice_thickness_Obs_grad'], data['Ice_thickness_model_grad'], \n",
    "                              data['Glacier'], markers, colors):\n",
    "    axes[0].plot(x,y, alpha=1.0, c=colors, marker=marker, label=site, markersize='8', markeredgecolor='k')\n",
    "    z += 1\n",
    "    if z >= 8: ## must be one greater than num. of points\n",
    "        break\n",
    "        \n",
    "markers = ('o', 's', 'D', '^', 'v', 'p', 'D') \n",
    "colors = ['#8dd3c7','#ffffb3','#bebada','#fb8072','#80b1d3','#fdb462', '#b3de69'] \n",
    "\n",
    "\n",
    "#model obs grad versus observations (gprlocs)\n",
    "  \n",
    "z = 1\n",
    "\n",
    "for x, y, site, marker, colors in zip(data['Observed'], data['Ice_thickness_Obs_grad_gprlocs'], \n",
    "                              data['Glacier'], markers, colors):\n",
    "    axes[2].plot(x,y, alpha=1.0, c=colors, marker=marker, label=site, markersize='8', markeredgecolor='k')\n",
    "    z += 1\n",
    "    if z >= 8:\n",
    "        break\n",
    "\n",
    "markers = ('o', 's', 'D', '^', 'v', 'p', 'D') \n",
    "colors = ['#8dd3c7','#ffffb3','#bebada','#fb8072','#80b1d3','#fdb462', '#b3de69'] \n",
    "\n",
    "### model grad versus observations (gprlocs)\n",
    "z = 1\n",
    "\n",
    "for x, y, site, marker, colors in zip(data['Observed'], data['Ice_thickness_model_grad_gprlocs'], \n",
    "                              data['Glacier'], markers, colors):\n",
    "    axes[1].plot(x,y, alpha=1.0, c=colors, marker=marker, label=site, markersize='8', markeredgecolor='k')\n",
    "    z += 1\n",
    "    if z >= 8:\n",
    "        break\n",
    "        \n",
    "axes[0].legend(loc=2)\n",
    "\n",
    "axes[0].set_xlabel('Modeled ice thickness obs. grad. (m)')\n",
    "axes[0].set_ylabel('Modeled ice thickness model grad. (m)')\n",
    "axes[2].set_xlabel('Observed ice thickness (m)')\n",
    "axes[2].set_ylabel('Modeled ice thickness obs. grad. (m)')\n",
    "axes[1].set_xlabel('Observed ice thickness (m)')\n",
    "axes[1].set_ylabel('Modeled ice thickness model grad. (m)')\n",
    "\n",
    "plt.tight_layout(pad=0.5)\n",
    "plt.savefig(path + 'JoG/obs_model_ice_thick_scatter_3panel.pdf', dpi=300)\n",
    "plt.show()"
   ]
  },
  {
   "cell_type": "code",
   "execution_count": null,
   "metadata": {},
   "outputs": [],
   "source": []
  },
  {
   "cell_type": "code",
   "execution_count": null,
   "metadata": {},
   "outputs": [],
   "source": []
  }
 ],
 "metadata": {
  "kernelspec": {
   "display_name": "Python 3",
   "language": "python",
   "name": "python3"
  },
  "language_info": {
   "codemirror_mode": {
    "name": "ipython",
    "version": 3
   },
   "file_extension": ".py",
   "mimetype": "text/x-python",
   "name": "python",
   "nbconvert_exporter": "python",
   "pygments_lexer": "ipython3",
   "version": "3.6.8"
  }
 },
 "nbformat": 4,
 "nbformat_minor": 2
}
