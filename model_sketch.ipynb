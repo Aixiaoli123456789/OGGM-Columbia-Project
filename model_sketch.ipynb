{
 "cells": [
  {
   "cell_type": "markdown",
   "metadata": {},
   "source": [
    "# OGGM workflow"
   ]
  },
  {
   "cell_type": "markdown",
   "metadata": {},
   "source": [
    "# 1. Get rgi entities:\n",
    "    Get a list of glacier putlines selected from their RGI IDs\n",
    "## 2. Initialize glacier regions:\n",
    "    Initializes a list of glacier directories for the run\n",
    "## 3. GIS prepro tasks [tasks link](https://docs.oggm.org/en/latest/api.html#entity-tasks)\n",
    "    Runs all flowline pre processing tasks including:\n",
    "#### Glacier masks: Makes a gridded mask of the glacier outlines and topography.\n",
    "This function fills holes in the source DEM and produces smoothed gridded topography and glacier outline arrays. These are the ones which will later be used to determine bed and surface height.\n",
    "#### Compute centerlines: Compute the centerlines following Kienholz et al., (2014).\n",
    "They are then sorted according to the modified Strahler number. Calculates routes along the topography and makes a shapely Linestring object from them.\n",
    "#### Initialize flowlines: Computes more physical Inversion Flowlines from geometrical Centerlines\n",
    "This interpolates the centerlines on a regular spacing (i.e. not the grid’s (i, j) indices. Cuts out the tail of the tributaries to make more realistic junctions. Also checks for low and negative slopes and corrects them by interpolation.\n",
    "#### Compute downstream bedshape: The bedshape obtained by fitting a parabola to the line’s normals\n",
    "Also computes the downstream’s altitude.\n",
    "#### Catchment Area: Compute the catchment areas of each tributary line.\n",
    "The idea is to compute the route of lowest cost for any point on the glacier to rejoin a centerline. These routes are then put together if they belong to the same centerline, thus creating “catchment areas” for each centerline.\n",
    "#### Catchment_intersections: Computes the intersections between the catchments.\n",
    "A glacier usually consists of several flowlines and each flowline has a distinct catchment area. This function calculates the intersections between these areas.\n",
    "#### Catchment width geometry: Computes geometrical catchment widths for each point of the flowlines.\n",
    "#### Catchment width correction: Corrects for NaNs and inconsistencies in the geometrical widths.\n",
    "Interpolates missing values, ensures consistency of the surface-area distribution AND with the geometrical area of the glacier polygon, avoiding errors due to gridded representation.\n",
    "## 4. Climate tasks\n",
    "#### Process CRU data: Processes and writes the CRU baseline climate data for this glacier.\n",
    "Interpolates the CRU TS data to the high-resolution CL2 climatologies (provided with OGGM) and writes everything to a NetCDF file.\n",
    "#### Local t*: Compute the local t* and associated glacier-wide mu*.\n",
    "Note: the glacier wide mu* is here just for indication. It might be different from the flowlines’ mu* in some cases.\n",
    "#### Mu* calibration: Compute the flowlines’ mu* and the associated apparent mass-balance.\n",
    "If low lying tributaries have a non-physically consistent Mass-balance this function will either filter them out or calibrate each flowline with a specific mu*. The latter is default and recommended.\n",
    "## 5. Inversion tasks\n",
    "#### Prepare for inversion: Prepares the data needed for the inversion\n",
    "Mostly the mass flux and slope angle, the rest (width, height) was already computed. It is then stored in a list of dicts in order to be faster.\n",
    "- #Flux needs to be in [m3 s-1] (*ice* velocity * surface)\n",
    "- #fl.flux is given in kg m-2 yr-1, rho in kg m-3, so this should be it:\n",
    "- rho = cfg.PARAMS['ice_density']\n",
    "- flux = fl.flux * (gdir.grid.dx**2) / cfg.SEC_IN_YEAR / rho\n",
    "#### Mass conservation inversion: Compute the glacier thickness along the flowlines\n",
    "More or less following Farinotti et al., (2009).\n",
    "#### Filter inversion output: Filters the last few grid point whilst conserving total volume.\n",
    "The last few grid points sometimes are noisy or can have a negative slope. This function filters them while conserving the total volume.\n"
   ]
  },
  {
   "cell_type": "code",
   "execution_count": null,
   "metadata": {},
   "outputs": [],
   "source": []
  },
  {
   "cell_type": "code",
   "execution_count": null,
   "metadata": {},
   "outputs": [],
   "source": []
  }
 ],
 "metadata": {
  "kernelspec": {
   "display_name": "Python 3",
   "language": "python",
   "name": "python3"
  },
  "language_info": {
   "codemirror_mode": {
    "name": "ipython",
    "version": 3
   },
   "file_extension": ".py",
   "mimetype": "text/x-python",
   "name": "python",
   "nbconvert_exporter": "python",
   "pygments_lexer": "ipython3",
   "version": "3.6.8"
  }
 },
 "nbformat": 4,
 "nbformat_minor": 2
}
