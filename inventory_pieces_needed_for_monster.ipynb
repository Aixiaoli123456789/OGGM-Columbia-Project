{
 "cells": [
  {
   "cell_type": "code",
   "execution_count": 1,
   "metadata": {},
   "outputs": [
    {
     "name": "stderr",
     "output_type": "stream",
     "text": [
      "2019-10-04 13:25:58: oggm.cfg: Using configuration file: /home/pelto/anaconda2/envs/oggm_env/lib/python3.6/site-packages/oggm/params.cfg\n"
     ]
    }
   ],
   "source": [
    "%matplotlib inline\n",
    "import numpy as np\n",
    "import pandas as pd\n",
    "import geopandas as gpd\n",
    "import matplotlib.pyplot as plt\n",
    "import xarray as xr\n",
    "\n",
    "import oggm\n",
    "import os\n",
    "from oggm import cfg, utils, workflow, tasks, graphics\n",
    "from oggm.core import inversion\n",
    "cfg.initialize(logging_level='WORKFLOW')\n",
    "products_dir = '/home/pelto/Desktop/ice_thick/'"
   ]
  },
  {
   "cell_type": "markdown",
   "metadata": {},
   "source": [
    "# Nordic"
   ]
  },
  {
   "cell_type": "code",
   "execution_count": null,
   "metadata": {},
   "outputs": [],
   "source": [
    "utils.get_rgi_dir(version='61')\n",
    "\n",
    "sh = utils.get_rgi_region_file('02', version='61')\n",
    "\n",
    "gdf = gpd.read_file(sh)\n",
    "# gdf.head()\n",
    "\n",
    "# OGGM set-up\n",
    "cfg.PATHS['working_dir'] = utils.gettempdir(dirname='nordic_intersects', reset=True)\n",
    "cfg.PARAMS['border'] = 10\n",
    "\n",
    "# Get the geometry and plot it\n",
    "gl = utils.get_rgi_glacier_entities(['RGI60-02.04264'], version='61') ##unless I put the version here it doesn't call V61\n",
    "# gl.plot(edgecolor='k');\n",
    "\n",
    "# We simulate the case where we only have the geometry, nothing else\n",
    "divides = gpd.read_file('/home/pelto/GIS/outlines/nordic_divided_2014.shp') #utils.get_demo_file('divides_alps.shp'))\n",
    "divides = divides.loc[divides.RGIId == 'RGI60-02.04264'][['geometry']]\n",
    "# divides\n",
    "\n",
    "template = pd.concat([gl]*2, ignore_index=True)\n",
    "# template\n",
    "\n",
    "# Attributes\n",
    "template['RGIId'] = ['RGI60-02.04264', 'RGI60-02.04264_d02']\n",
    "template['Name'] = ['Nordic', 'Escargot']\n",
    "# Geometries\n",
    "template['geometry'] = divides['geometry'].values\n",
    "# Center point\n",
    "for i, geom in template[['geometry']].iterrows():\n",
    "    cenlon, cenlat = geom.geometry.centroid.xy\n",
    "    template.loc[i, 'CenLon'] = cenlon\n",
    "    template.loc[i, 'CenLat'] = cenlat\n",
    "# This is important to properly georeference the file\n",
    "import salem\n",
    "template.crs = salem.wgs84.srs\n",
    "\n",
    "# Attributes\n",
    "template['RGIId'] = ['RGI60-02.04264', 'RGI60-02.04264_d02']\n",
    "template['Name'] = ['Nordic', 'Escargot']\n",
    "# Geometries\n",
    "template['geometry'] = divides['geometry'].values\n",
    "# Center point\n",
    "for i, geom in template[['geometry']].iterrows():\n",
    "    cenlon, cenlat = geom.geometry.centroid.xy\n",
    "    template.loc[i, 'CenLon'] = cenlon\n",
    "    template.loc[i, 'CenLat'] = cenlat\n",
    "# This is important to properly georeference the file\n",
    "import salem\n",
    "template.crs = salem.wgs84.srs\n",
    "\n",
    "nord_new_shape_path = os.path.join(cfg.PATHS['working_dir'], 'nordic_divided.shp')\n",
    "template.to_file(nord_new_shape_path)\n",
    "\n",
    "intersects_wna = gpd.read_file(utils.get_rgi_intersects_region_file('02'))\n",
    "intersects_nord = intersects_wna.loc[(intersects_wna.RGIId_1 == 'RGI60-02.04264') | (intersects_wna.RGIId_2 == 'RGI60-02.04264')]\n",
    "# intersects_nord\n",
    "\n",
    "from rgitools.funcs import compute_intersects\n",
    "new_intersects = compute_intersects(template)  #for_intersects  ##removed as no adjacent glacier at Nordic\n",
    "\n",
    "nord_intersects_path = os.path.join(cfg.PATHS['working_dir'], 'nordic_divided_intersects.shp')\n",
    "new_intersects.to_file(nord_intersects_path)\n",
    "\n",
    "# This is important! We tell OGGM to recompute the glacier area for us\n",
    "cfg.PARAMS['use_rgi_area'] = False\n",
    "# This is the default anyway, but we set it here to be sure\n",
    "cfg.PARAMS['use_intersects'] = True\n",
    "\n",
    "# This is important!\n",
    "cfg.set_intersects_db(nord_intersects_path)\n",
    "# nord_intersects_path\n",
    "\n",
    "rgidf = gpd.read_file(nord_new_shape_path)\n",
    "# rgidf\n",
    "\n",
    "gdirs = workflow.init_glacier_regions(rgidf, reset=True, force=True)"
   ]
  },
  {
   "cell_type": "markdown",
   "metadata": {},
   "source": [
    "# Illecillewaet"
   ]
  },
  {
   "cell_type": "code",
   "execution_count": null,
   "metadata": {},
   "outputs": [],
   "source": [
    "sh = gpd.read_file('/home/pelto/GIS/outlines/illec_divided_2016.shp') #nordic_divided_2014.shp') #utils.get_demo_file('divides_alps.shp'))\n",
    "sh\n",
    "\n",
    "# OGGM set-up\n",
    "cfg.PATHS['working_dir'] = utils.gettempdir(dirname='illec_intersects', reset=True) #'nordic_intersects'\n",
    "cfg.PARAMS['border'] = 10\n",
    "\n",
    "divides = gpd.read_file('/home/pelto/GIS/outlines/illec_divided_2016.shp')\n",
    "\n",
    "illec_new_shape_path = os.path.join(cfg.PATHS['working_dir'], 'illec_divided.shp')\n",
    "divides.to_file(illec_new_shape_path) #template for Nordic, divides for Illec\n",
    "\n",
    "from rgitools.funcs import compute_intersects\n",
    "new_intersects = compute_intersects(divides)  #for_intersects  ##removed as no adjacent glacier at Nordic\n",
    "\n",
    "illec_intersects_path = os.path.join(cfg.PATHS['working_dir'], 'illec_divided_intersects.shp')\n",
    "new_intersects.to_file(illec_intersects_path)\n",
    "\n",
    "# This is important! We tell OGGM to recompute the glacier area for us\n",
    "cfg.PARAMS['use_rgi_area'] = False\n",
    "# This is the default anyway, but we set it here to be sure\n",
    "cfg.PARAMS['use_intersects'] = True\n",
    "\n",
    "# This is important!\n",
    "cfg.set_intersects_db(illec_intersects_path)\n",
    "illec_intersects_path\n",
    "\n",
    "# This is important again - standard OGGM \n",
    "rgidf = gpd.read_file(illec_new_shape_path)\n",
    "rgidf\n",
    "\n",
    "gdirs = workflow.init_glacier_regions(rgidf, reset=True, force=True)"
   ]
  },
  {
   "cell_type": "code",
   "execution_count": null,
   "metadata": {},
   "outputs": [],
   "source": []
  }
 ],
 "metadata": {
  "kernelspec": {
   "display_name": "Python 3",
   "language": "python",
   "name": "python3"
  },
  "language_info": {
   "codemirror_mode": {
    "name": "ipython",
    "version": 3
   },
   "file_extension": ".py",
   "mimetype": "text/x-python",
   "name": "python",
   "nbconvert_exporter": "python",
   "pygments_lexer": "ipython3",
   "version": "3.6.8"
  }
 },
 "nbformat": 4,
 "nbformat_minor": 2
}
